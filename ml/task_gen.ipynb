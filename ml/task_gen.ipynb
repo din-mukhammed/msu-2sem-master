{
 "cells": [
  {
   "cell_type": "code",
   "execution_count": 1,
   "id": "lightweight-passing",
   "metadata": {},
   "outputs": [
    {
     "output_type": "execute_result",
     "data": {
      "text/plain": [
       "{'mail': 'dimash.r53@gmail.com',\n",
       " 'id': 3374841886,\n",
       " 'type': 'regression',\n",
       " 'dataset': {'name': 'Boston Housing Data Set',\n",
       "  'url': 'https://scikit-learn.org/stable/modules/generated/sklearn.datasets.load_boston.html#sklearn.datasets.load_boston'},\n",
       " 'method': ['Надарая-Ватсона', 'Нейронная сеть (Перцептрон)']}"
      ]
     },
     "metadata": {},
     "execution_count": 1
    }
   ],
   "source": [
    "from zlib import crc32\n",
    "import numpy as np\n",
    "\n",
    "types = ['regression', 'classification']\n",
    "datasets = {'regression': [{'name': 'Servo Data Set',\n",
    "                            'url': 'https://archive.ics.uci.edu/ml/datasets/Servo'}, \n",
    "                           {'name': 'Forest Fires Data Set',\n",
    "                            'url': 'https://archive.ics.uci.edu/ml/datasets/Forest+Fires'},\n",
    "                           {'name': 'Boston Housing Data Set',\n",
    "                            'url': 'https://scikit-learn.org/stable/modules/generated/sklearn.datasets.load_boston.html#sklearn.datasets.load_boston'}, \n",
    "                           {'name': 'Diabetes Data Set',\n",
    "                            'url': 'https://scikit-learn.org/stable/modules/generated/sklearn.datasets.load_diabetes.html#sklearn.datasets.load_diabetes'}],\n",
    "            'classification': [{'name': 'Spambase Data Set',\n",
    "                                'url': 'https://archive.ics.uci.edu/ml/datasets/Spambase'}, \n",
    "                               {'name': 'Wine Data Set',\n",
    "                                'url': 'https://scikit-learn.org/stable/modules/generated/sklearn.datasets.load_wine.html#sklearn.datasets.load_wine'}, \n",
    "                               {'name': 'Breast Cancer Data Set',\n",
    "                                'url': 'https://scikit-learn.org/stable/modules/generated/sklearn.datasets.load_breast_cancer.html#sklearn.datasets.load_breast_cancer'}, \n",
    "                               {'name': 'MNIST',\n",
    "                                'url': 'http://yann.lecun.com/exdb/mnist/'}]}\n",
    "methods = {'regression': ['Линейная регрессия', \n",
    "                          'Нейронная сеть (Перцептрон)', \n",
    "                          'Надарая-Ватсона',\n",
    "                          'SVR'],\n",
    "           'classification': ['Логистическая регрессия', \n",
    "                              'Нейронная сеть (Перцептрон)', \n",
    "                              'k-ближайших соседей',\n",
    "                              'Метод потенциальных функций',\n",
    "                              'Метод парзеновского окна', \n",
    "                              'SVM']}\n",
    "task = dict()\n",
    "task['mail'] = input(prompt='Enter your mail: ')\n",
    "task['id'] = crc32(task['mail'].encode('utf-8'))\n",
    "np.random.seed(task['id'])\n",
    "task['type'] = np.random.choice(types)\n",
    "task['dataset'] = np.random.choice(datasets[task['type']])\n",
    "task['method'] = np.random.choice(methods[task['type']], size=2, replace=False).tolist()\n",
    "\n",
    "task"
   ]
  },
  {
   "cell_type": "code",
   "execution_count": null,
   "id": "statutory-notion",
   "metadata": {},
   "outputs": [],
   "source": []
  }
 ],
 "metadata": {
  "kernelspec": {
   "name": "python394jvsc74a57bd0aee8b7b246df8f9039afb4144a1f6fd8d2ca17a180786b69acc140d282b71a49",
   "display_name": "Python 3.9.4 64-bit"
  },
  "language_info": {
   "codemirror_mode": {
    "name": "ipython",
    "version": 3
   },
   "file_extension": ".py",
   "mimetype": "text/x-python",
   "name": "python",
   "nbconvert_exporter": "python",
   "pygments_lexer": "ipython3",
   "version": "3.9.4"
  },
  "metadata": {
   "interpreter": {
    "hash": "aee8b7b246df8f9039afb4144a1f6fd8d2ca17a180786b69acc140d282b71a49"
   }
  }
 },
 "nbformat": 4,
 "nbformat_minor": 5
}