{
 "cells": [
  {
   "cell_type": "code",
   "execution_count": 1,
   "metadata": {},
   "outputs": [],
   "source": [
    "import requests\n",
    "from bs4 import BeautifulSoup\n",
    "import json"
   ]
  },
  {
   "cell_type": "code",
   "execution_count": 2,
   "metadata": {},
   "outputs": [],
   "source": [
    "class GetDataFromCitilink:\n",
    "    def __init__(self, url):\n",
    "        self.data = {}\n",
    "        self.url = url\n",
    "        page = requests.get(self.url)\n",
    "        self.soup = BeautifulSoup(page.content, 'html.parser')\n",
    "        \n",
    "    def get_data(self):\n",
    "        title = self.soup.find_all('h1')[0].text.strip().split()\n",
    "        name = ' '.join(title[2:])\n",
    "        self.data['Название'] = name\n",
    "        results = self.soup.find(id='content')\n",
    "        if results is None:\n",
    "            return {}\n",
    "        full_specs = results.find_all('div', class_='SpecificationsFull')\n",
    "        for specs in full_specs:\n",
    "            spec = specs.find('div', class_='Specifications')\n",
    "            if spec is None:\n",
    "                continue\n",
    "            for res in spec:\n",
    "                x = res.find('div', class_ = 'Specifications__column Specifications__column_name')\n",
    "                y = res.find('div', class_ = 'Specifications__column Specifications__column_value')\n",
    "                if x is None or y is None:\n",
    "                    continue\n",
    "                key, val = x.text.replace('\\n', '').strip(), y.text.replace('\\n', '').strip() \n",
    "                self.data[key] = val\n",
    "        return self.data"
   ]
  },
  {
   "cell_type": "code",
   "execution_count": 3,
   "metadata": {},
   "outputs": [],
   "source": [
    "urls, objs, features, output = [], [], [], []"
   ]
  },
  {
   "cell_type": "code",
   "execution_count": 4,
   "metadata": {},
   "outputs": [],
   "source": [
    "with open('data_citilink.txt', 'r') as file:\n",
    "    lines = file.readlines()\n",
    "    for line in lines:\n",
    "        line = line.replace('\\n', '')\n",
    "        urls.append(line)"
   ]
  },
  {
   "cell_type": "code",
   "execution_count": 5,
   "metadata": {},
   "outputs": [],
   "source": [
    "for url in urls:\n",
    "    obj = GetDataFromCitilink(url)\n",
    "    objs.append(obj.get_data())"
   ]
  },
  {
   "cell_type": "code",
   "execution_count": 6,
   "metadata": {},
   "outputs": [],
   "source": [
    "for obj in objs:\n",
    "    features.append(set(obj.keys()))"
   ]
  },
  {
   "cell_type": "code",
   "execution_count": 7,
   "metadata": {},
   "outputs": [],
   "source": [
    "main_features = features[0]\n",
    "for feature in features:\n",
    "    main_features &= feature\n"
   ]
  },
  {
   "cell_type": "code",
   "execution_count": 8,
   "metadata": {},
   "outputs": [],
   "source": [
    "for obj in objs:\n",
    "    obj_copy = obj.copy()\n",
    "    for obj_feature in obj:\n",
    "        if obj_feature not in main_features:\n",
    "            del obj_copy[obj_feature]\n",
    "    output.append(obj_copy)"
   ]
  },
  {
   "cell_type": "code",
   "execution_count": 9,
   "metadata": {},
   "outputs": [],
   "source": [
    "with open('citilink.json', 'w') as out_file:\n",
    "    for x in output:\n",
    "        json_obj = json.dumps(x, ensure_ascii=False, indent=2)\n",
    "        out_file.write(json_obj + '\\n')"
   ]
  },
  {
   "cell_type": "code",
   "execution_count": 70,
   "metadata": {},
   "outputs": [],
   "source": [
    "class GetDataFromPleer:\n",
    "    def __init__(self, url):\n",
    "        self.data = {}\n",
    "        self.url = url\n",
    "        hdr = {'User-Agent': 'Mozilla/5.0 (Windows NT 10.0; Win64; x64) AppleWebKit/537.36 (KHTML, like Gecko) Chrome/89.0.4389.90 Safari/537.36'}\n",
    "        req = Request(url_dns, headers=hdr)\n",
    "        page = urlopen(req).read()\n",
    "        self.soup = BeautifulSoup(page, 'html.parser')\n",
    "    def get_data(self):\n",
    "        name = self.soup.find('div', class_ = 'item_link h3').text.split()\n",
    "        name = ' '.join(name[1:])\n",
    "        right = name.find('[')\n",
    "        name = name[:right-1]\n",
    "        self.data['Название'] = name\n",
    "        info = my_soup.find('div', class_ = 'text3')\n",
    "        for x in info.find_all('li'):\n",
    "            item = x.text.split(':')\n",
    "            if len(item) != 2:\n",
    "                continue\n",
    "            self.data[item[0]] = item[1][1:]\n",
    "        return self.data"
   ]
  },
  {
   "cell_type": "code",
   "execution_count": 71,
   "metadata": {},
   "outputs": [],
   "source": [
    "url_dns = 'https://www.pleer.ru/product_725728_AMD_Ryzen_5_3500X_3600MHzAM4L2L3_35840Kb_100_000000158_OEM.html#desc'\n"
   ]
  },
  {
   "cell_type": "code",
   "execution_count": 72,
   "metadata": {},
   "outputs": [],
   "source": [
    "from urllib.request import Request, urlopen"
   ]
  },
  {
   "cell_type": "code",
   "execution_count": 73,
   "metadata": {},
   "outputs": [],
   "source": [
    "pleer_obj = GetDataFromPleer(url_dns)"
   ]
  },
  {
   "cell_type": "code",
   "execution_count": 74,
   "metadata": {},
   "outputs": [
    {
     "data": {
      "text/plain": [
       "{'Название': 'AMD Ryzen 5 3500X (3600MHz/AM4/L2+L3 35840Kb) 100-000000158 OEM',\n",
       " 'Число ядер ЦП': '6',\n",
       " 'Число потоков': '6',\n",
       " 'Базовая частота': '3.6G ГГц',\n",
       " 'Макс. частота': 'До 4.1 ГГц',\n",
       " 'Объем кэш-памяти первого уровня': '384КБ',\n",
       " 'Объем кэш-памяти второго уровня': '3МБ',\n",
       " 'Объем кэш-памяти третьего уровня': '32МБ',\n",
       " 'Техпроцесс': 'TSMC 7нм FinFET',\n",
       " 'Сокет': 'AM4',\n",
       " 'Версия PCI Express': 'PCIe 4.0 x16',\n",
       " 'Тепловыделение': '65 Вт',\n",
       " 'Макс. температура': '95°C',\n",
       " 'Память': '3200 МГц',\n",
       " 'Тип памяти': 'DDR4',\n",
       " 'Каналы памяти': '2',\n",
       " 'Встроенное графическое ядро': 'нет',\n",
       " 'Основа': 'Семейство продуктов AMD Ryzen™ Processors',\n",
       " 'Линейка продуктов': 'AMD Ryzen™ 5 Desktop Processors',\n",
       " 'Платформа': 'Настольный ПК'}"
      ]
     },
     "execution_count": 74,
     "metadata": {},
     "output_type": "execute_result"
    }
   ],
   "source": [
    "pleer_obj.get_data()"
   ]
  },
  {
   "cell_type": "code",
   "execution_count": 32,
   "metadata": {},
   "outputs": [
    {
     "data": {
      "text/plain": [
       "'Процессор AMD Ryzen 5 3500X (3600MHz/AM4/L2+L3 35840Kb) 100-000000158 OEM [Перейти в каталог этих товаров]'"
      ]
     },
     "execution_count": 32,
     "metadata": {},
     "output_type": "execute_result"
    }
   ],
   "source": [
    "my_soup.find('div', class_ = 'item_link h3').text"
   ]
  },
  {
   "cell_type": "code",
   "execution_count": 36,
   "metadata": {},
   "outputs": [
    {
     "ename": "TypeError",
     "evalue": "'str' object cannot be interpreted as an integer",
     "output_type": "error",
     "traceback": [
      "\u001b[1;31m---------------------------------------------------------------------------\u001b[0m",
      "\u001b[1;31mTypeError\u001b[0m                                 Traceback (most recent call last)",
      "\u001b[1;32m<ipython-input-36-49d04b2ee946>\u001b[0m in \u001b[0;36m<module>\u001b[1;34m\u001b[0m\n\u001b[0;32m      1\u001b[0m \u001b[0mtxt\u001b[0m \u001b[1;33m=\u001b[0m \u001b[0mmy_soup\u001b[0m\u001b[1;33m.\u001b[0m\u001b[0mfind\u001b[0m\u001b[1;33m(\u001b[0m\u001b[1;34m'div'\u001b[0m\u001b[1;33m,\u001b[0m \u001b[0mclass_\u001b[0m \u001b[1;33m=\u001b[0m \u001b[1;34m'text3'\u001b[0m\u001b[1;33m)\u001b[0m\u001b[1;33m\u001b[0m\u001b[1;33m\u001b[0m\u001b[0m\n\u001b[0;32m      2\u001b[0m \u001b[1;32mfor\u001b[0m \u001b[0mul\u001b[0m \u001b[1;32min\u001b[0m \u001b[0mtxt\u001b[0m\u001b[1;33m.\u001b[0m\u001b[0mfind_all\u001b[0m\u001b[1;33m(\u001b[0m\u001b[1;34m'li'\u001b[0m\u001b[1;33m)\u001b[0m\u001b[1;33m:\u001b[0m\u001b[1;33m\u001b[0m\u001b[1;33m\u001b[0m\u001b[0m\n\u001b[1;32m----> 3\u001b[1;33m     \u001b[0mprint\u001b[0m\u001b[1;33m(\u001b[0m\u001b[0mul\u001b[0m\u001b[1;33m.\u001b[0m\u001b[0mtext\u001b[0m\u001b[1;33m.\u001b[0m\u001b[0msplit\u001b[0m\u001b[1;33m(\u001b[0m\u001b[1;34m':'\u001b[0m\u001b[1;33m,\u001b[0m \u001b[1;34m'.'\u001b[0m\u001b[1;33m)\u001b[0m\u001b[1;33m)\u001b[0m\u001b[1;33m\u001b[0m\u001b[1;33m\u001b[0m\u001b[0m\n\u001b[0m",
      "\u001b[1;31mTypeError\u001b[0m: 'str' object cannot be interpreted as an integer"
     ]
    }
   ],
   "source": [
    "txt = my_soup.find('div', class_ = 'text3')\n",
    "for ul in txt.find_all('li'):\n",
    "    print(ul.text.split(':'))\n"
   ]
  },
  {
   "cell_type": "code",
   "execution_count": 22,
   "metadata": {},
   "outputs": [
    {
     "name": "stdout",
     "output_type": "stream",
     "text": [
      "None\n"
     ]
    }
   ],
   "source": [
    "dns_obj.get_data()"
   ]
  }
 ],
 "metadata": {
  "kernelspec": {
   "display_name": "Python 3",
   "language": "python",
   "name": "python3"
  },
  "language_info": {
   "codemirror_mode": {
    "name": "ipython",
    "version": 3
   },
   "file_extension": ".py",
   "mimetype": "text/x-python",
   "name": "python",
   "nbconvert_exporter": "python",
   "pygments_lexer": "ipython3",
   "version": "3.8.5"
  }
 },
 "nbformat": 4,
 "nbformat_minor": 4
}
