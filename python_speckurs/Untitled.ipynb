{
 "cells": [
  {
   "cell_type": "code",
   "execution_count": 1,
   "metadata": {},
   "outputs": [],
   "source": [
    "import numpy as np"
   ]
  },
  {
   "cell_type": "code",
   "execution_count": 2,
   "metadata": {},
   "outputs": [
    {
     "name": "stdout",
     "output_type": "stream",
     "text": [
      " a = [ 1  2  3  4  5  6  7  8  9 10] \n",
      " b = 55 \n",
      " c = [ 1  3  6 10 15 21 28 36 45 55] \n",
      " d = 3628800 \n",
      " e = [      1       2       6      24     120     720    5040   40320  362880\n",
      " 3628800] \n"
     ]
    }
   ],
   "source": [
    "a = np.arange(1 ,11)\n",
    "b = np.add.reduce(a)\n",
    "c = np.add.accumulate(a)\n",
    "d = np.multiply.reduce(a)\n",
    "e = np.multiply.accumulate(a)\n",
    "print (\" a = {} \".format(a)); print (\" b = {} \".format(b));\n",
    "print (\" c = {} \".format(c)); print (\" d = {} \".format(d));\n",
    "print (\" e = {} \".format(e))\n"
   ]
  },
  {
   "cell_type": "code",
   "execution_count": 3,
   "metadata": {},
   "outputs": [
    {
     "name": "stdout",
     "output_type": "stream",
     "text": [
      " a = [[  1   2   3]\n",
      " [ 10  20  30]\n",
      " [100 200 300]] \n",
      " b = [111 222 333] \n",
      " c = [  6  60 600] \n",
      " d = [111 222 333] \n"
     ]
    }
   ],
   "source": [
    "a = np.array([[1,2,3],[10,20,30],[100,200,300]])\n",
    "b = np.add.reduce(a,0)\n",
    "c = np.add.reduce(a,1)\n",
    "d = np.add.reduce(a)\n",
    "print (\" a = {} \".format(a)); print (\" b = {} \".format(b));\n",
    "print (\" c = {} \".format(c)); print (\" d = {} \".format(d))\n",
    "\n"
   ]
  },
  {
   "cell_type": "code",
   "execution_count": 4,
   "metadata": {},
   "outputs": [
    {
     "name": "stdout",
     "output_type": "stream",
     "text": [
      " a = [[  1   2   3]\n",
      " [ 10  20  30]\n",
      " [100 200 300]] \n",
      " b = [111 222 333] \n",
      " c = [  6  60 600] \n",
      " d = [111 222 333] \n",
      " a = [ 1  2  3  4  5  6  7  8  9 10] \n",
      " b = [[  1   2   3]\n",
      " [ 10  20  30]\n",
      " [100 200 300]] \n",
      " c = 10 \n",
      " d = 1 \n",
      " e = [100 200 300] \n",
      " f = [1 2 3] \n",
      " g = [  3  30 300] \n",
      " h = [  1  10 100] \n",
      " i = 300 \n",
      " j = 1 \n"
     ]
    }
   ],
   "source": [
    "a = np.array([[1,2,3],[10,20,30],[100,200,300]])\n",
    "b = np.add.reduce(a,0)\n",
    "c = np.add.reduce(a,1)\n",
    "d = np.add.reduce(a)\n",
    "print (\" a = {} \".format(a)); print (\" b = {} \".format(b));\n",
    "print (\" c = {} \".format(c)); print (\" d = {} \".format(d))\n",
    "a = np.array ([1,2,3,4,5,6,7,8,9,10])\n",
    "b = np.array ([[1,2,3],[10,20,30],[100,200,300]])\n",
    "c = a.max()\n",
    "d = a.min()\n",
    "e = np.max(b,0)\n",
    "f = np.min(b,0)\n",
    "g = np.max(b,1)\n",
    "h = np.min(b,1)\n",
    "i = np.max(b)\n",
    "j = np.min(b)\n",
    "print (\" a = {} \".format(a)); print (\" b = {} \".format(b));\n",
    "print (\" c = {} \".format(c)); print (\" d = {} \".format(d));\n",
    "print (\" e = {} \".format(e)); print (\" f = {} \".format(f));\n",
    "print (\" g = {} \".format(g)); print (\" h = {} \".format(h));\n",
    "print (\" i = {} \".format(i)); print (\" j = {} \".format(j));\n"
   ]
  },
  {
   "cell_type": "code",
   "execution_count": null,
   "metadata": {},
   "outputs": [],
   "source": []
  }
 ],
 "metadata": {
  "kernelspec": {
   "display_name": "Python 3",
   "language": "python",
   "name": "python3"
  },
  "language_info": {
   "codemirror_mode": {
    "name": "ipython",
    "version": 3
   },
   "file_extension": ".py",
   "mimetype": "text/x-python",
   "name": "python",
   "nbconvert_exporter": "python",
   "pygments_lexer": "ipython3",
   "version": "3.8.5"
  }
 },
 "nbformat": 4,
 "nbformat_minor": 4
}
