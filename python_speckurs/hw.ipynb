{
 "cells": [
  {
   "cell_type": "markdown",
   "metadata": {},
   "source": [
    "## Камбаров Динмухаммед"
   ]
  },
  {
   "cell_type": "markdown",
   "metadata": {},
   "source": [
    "Реализуйте сортировки: пузырьковую, пирамидальную и быструю.\n",
    " \n",
    "Каждую сначала на чистом Python, а потом ускоряя как с помощью распараллеливания, так и jit-компиляторов.\n",
    " \n",
    "Оцените зависимость времени выполнения от размера массива данных.\n",
    " \n",
    "Проведите сравнение времени выполнения на одинаковых наборах данных."
   ]
  },
  {
   "cell_type": "code",
   "execution_count": 1,
   "metadata": {},
   "outputs": [],
   "source": [
    "import numpy as np\n",
    "from numba import jit\n",
    "import numba as nb\n",
    "import os\n",
    "from numba.typed import List\n",
    "from threading import Thread\n",
    "import threading\n",
    "import time\n",
    "import random, time, sys\n",
    "from multiprocessing import Pool, Process, Pipe, cpu_count\n",
    "from itertools import chain\n",
    "import pandas as pd \n",
    "\n",
    "MAX_NUM = 1000000\n"
   ]
  },
  {
   "cell_type": "code",
   "execution_count": 2,
   "metadata": {},
   "outputs": [],
   "source": [
    "def is_sorted(X):\n",
    "    if len(X) <= 1:\n",
    "        return True\n",
    "    for i in range(1, len(X)):\n",
    "        if X[i] < X[i - 1]:\n",
    "            return False\n",
    "    return True"
   ]
  },
  {
   "cell_type": "code",
   "execution_count": 3,
   "metadata": {},
   "outputs": [],
   "source": [
    "def generate_random_array(N):\n",
    "    return [random.randint(0, MAX_NUM) for i in range(N)]"
   ]
  },
  {
   "source": [
    "# Bubble Sort"
   ],
   "cell_type": "markdown",
   "metadata": {}
  },
  {
   "cell_type": "code",
   "execution_count": 4,
   "metadata": {},
   "outputs": [],
   "source": [
    "def bubblesort(X):\n",
    "    n = len(X)\n",
    "    for i in range(n - 1):\n",
    "        for j in range(i + 1, n):\n",
    "            if X[i] > X[j]:\n",
    "                X[i], X[j] = X[j], X[i]\n",
    "    return X\n",
    "        "
   ]
  },
  {
   "cell_type": "code",
   "execution_count": 5,
   "metadata": {},
   "outputs": [],
   "source": [
    "@jit(nopython = True)\n",
    "def bubblesort_jit(X):\n",
    "    n = len(X)\n",
    "    for i in range(n - 1):\n",
    "        for j in range(i + 1, n):\n",
    "            if X[i] > X[j]:\n",
    "                X[i], X[j] = X[j], X[i]\n",
    "    return X"
   ]
  },
  {
   "source": [
    "#### К сожалению, я не смог найти способ распараллелить пузырьковую сортировку"
   ],
   "cell_type": "markdown",
   "metadata": {}
  },
  {
   "source": [
    "# Quick Sort"
   ],
   "cell_type": "markdown",
   "metadata": {}
  },
  {
   "cell_type": "code",
   "execution_count": 6,
   "metadata": {},
   "outputs": [],
   "source": [
    "def partition(arr, low, high):\n",
    "    i = (low-1)         # index of smaller element\n",
    "    pivot = arr[high]     # pivot\n",
    "  \n",
    "    for j in range(low, high):\n",
    "  \n",
    "        # If current element is smaller than or\n",
    "        # equal to pivot\n",
    "        if arr[j] <= pivot:\n",
    "  \n",
    "            # increment index of smaller element\n",
    "            i = i+1\n",
    "            arr[i], arr[j] = arr[j], arr[i]\n",
    "  \n",
    "    arr[i+1], arr[high] = arr[high], arr[i+1]\n",
    "    return (i+1)\n",
    "\n",
    "def qsort(arr, low, high):\n",
    "    if len(arr) == 1:\n",
    "        return arr\n",
    "    if low < high:\n",
    "  \n",
    "        # pi is partitioning index, arr[p] is now\n",
    "        # at right place\n",
    "        pi = partition(arr, low, high)\n",
    "  \n",
    "        # Separately sort elements before\n",
    "        # partition and after partition\n",
    "        qsort(arr, low, pi-1)\n",
    "        qsort(arr, pi+1, high)\n",
    "    return arr\n",
    "\n",
    "def quicksort(arr):\n",
    "    return qsort(arr, 0, len(arr) - 1)"
   ]
  },
  {
   "cell_type": "code",
   "execution_count": 7,
   "metadata": {},
   "outputs": [],
   "source": [
    "@jit( nopython=True )\n",
    "def partition_jit(arr, low, high):\n",
    "    i = (low-1)         # index of smaller element\n",
    "    pivot = arr[high]     # pivot\n",
    "  \n",
    "    for j in range(low, high):\n",
    "  \n",
    "        # If current element is smaller than or\n",
    "        # equal to pivot\n",
    "        if arr[j] <= pivot:\n",
    "  \n",
    "            # increment index of smaller element\n",
    "            i = i+1\n",
    "            arr[i], arr[j] = arr[j], arr[i]\n",
    "  \n",
    "    arr[i+1], arr[high] = arr[high], arr[i+1]\n",
    "    return (i+1)\n",
    "\n",
    "@jit(nopython=True)\n",
    "def qsort_jit(arr, low, high):\n",
    "    if len(arr) == 1:\n",
    "        return arr\n",
    "    if low < high:\n",
    "  \n",
    "        # pi is partitioning index, arr[p] is now\n",
    "        # at right place\n",
    "        pi = partition_jit(arr, low, high)\n",
    "  \n",
    "        # Separately sort elements before\n",
    "        # partition and after partition\n",
    "        qsort_jit(arr, low, pi-1)\n",
    "        qsort_jit(arr, pi+1, high)\n",
    "    return arr\n",
    "    \n",
    "@jit(nopython=True) \n",
    "def quicksort_jit(arr):\n",
    "    return qsort_jit(arr, 0, len(arr) - 1)"
   ]
  },
  {
   "cell_type": "code",
   "execution_count": 8,
   "metadata": {},
   "outputs": [],
   "source": [
    "def qsort_parallel(X,left,right):\n",
    "    i = left\n",
    "    j = right\n",
    "    pivot = X[(left + right)//2]\n",
    "    temp = 0\n",
    "    while(i <= j):\n",
    "         while(pivot > X[i]):\n",
    "             i += 1\n",
    "         while(pivot < X[j]):\n",
    "             j -= 1\n",
    "         if(i <= j):\n",
    "             X[i], X[j] = X[j], X[i]\n",
    "             i += 1\n",
    "             j -= 1\n",
    "\n",
    "    lthread = None\n",
    "    rthread = None\n",
    "\n",
    "    if (left < j):\n",
    "        lthread = Thread(target = lambda: qsort_parallel(X,left,j))\n",
    "        lthread.start()\n",
    "\n",
    "    if (i < right):\n",
    "        rthread = Thread(target=lambda: qsort_parallel(X,i,right))\n",
    "        rthread.start()\n",
    "\n",
    "    if lthread is not None: lthread.join()\n",
    "    if rthread is not None: rthread.join()\n",
    "    return X\n",
    "\n",
    "def quicksort_parallel(arr):\n",
    "    return qsort_parallel(arr, 0, len(arr) - 1)"
   ]
  },
  {
   "source": [
    "# Heap Sort"
   ],
   "cell_type": "markdown",
   "metadata": {}
  },
  {
   "cell_type": "code",
   "execution_count": 9,
   "metadata": {},
   "outputs": [],
   "source": [
    "def heapify(X, n, i):\n",
    "    largest = i\n",
    "    l = 2 * i + 1     # left = 2*i + 1\n",
    "    r = 2 * i + 2     # right = 2*i + 2\n",
    "  \n",
    "    if l < n and X[i] < X[l]:\n",
    "        largest = l\n",
    "  \n",
    "    if r < n and X[largest] < X[r]:\n",
    "        largest = r\n",
    "  \n",
    "    if largest != i:\n",
    "        X[i], X[largest] = X[largest], X[i]\n",
    "        heapify(X, n, largest)\n",
    "        \n",
    "def heap_sort(X):\n",
    "    n = len(X)\n",
    "    # Build a maxheap.\n",
    "    # Since last parent will be at ((n//2)-1) we can start at that location.\n",
    "    for i in range(n // 2 - 1, -1, -1):\n",
    "        heapify(X, n, i)\n",
    "  \n",
    "    # One by one extract elements\n",
    "    for i in range(n-1, 0, -1):\n",
    "        X[i], X[0] = X[0], X[i]   # swap\n",
    "        heapify(X, i, 0)\n",
    "    return X"
   ]
  },
  {
   "cell_type": "code",
   "execution_count": 10,
   "metadata": {},
   "outputs": [],
   "source": [
    "@jit(nopython=True)\n",
    "def heapify_jit(X, n, i):\n",
    "    largest = i\n",
    "    l = 2 * i + 1     # left = 2*i + 1\n",
    "    r = 2 * i + 2     # right = 2*i + 2\n",
    "  \n",
    "    if l < n and X[i] < X[l]:\n",
    "        largest = l\n",
    "  \n",
    "    if r < n and X[largest] < X[r]:\n",
    "        largest = r\n",
    "  \n",
    "    if largest != i:\n",
    "        X[i], X[largest] = X[largest], X[i]\n",
    "        heapify_jit(X, n, largest)\n",
    "\n",
    "@jit(nopython=True)  \n",
    "def heap_sort_jit(X):\n",
    "    n = len(X)\n",
    "  \n",
    "    # Build a maxheap.\n",
    "    for i in range(n // 2 - 1, -1, -1):\n",
    "        heapify_jit(X, n, i)\n",
    "    # Extract to the end of the array and heapify\n",
    "    for i in range(n-1, 0, -1):\n",
    "        X[i], X[0] = X[0], X[i]   \n",
    "        heapify_jit(X, i, 0)\n",
    "    return X"
   ]
  },
  {
   "cell_type": "code",
   "execution_count": 11,
   "metadata": {},
   "outputs": [],
   "source": [
    "def merge(arrs):\n",
    "    n = len(arrs)\n",
    "    pointers = [0] * n\n",
    "    ans = []\n",
    "    while True:\n",
    "        min_ind, min_elem = -1, MAX_NUM\n",
    "        for i, pointer in enumerate(pointers):\n",
    "            if pointer < len(arrs[i]) and min_elem > arrs[i][pointer]:\n",
    "                min_elem, min_ind = arrs[i][pointer], i\n",
    "        if min_ind == -1:\n",
    "            break\n",
    "        ans.append(min_elem)\n",
    "        pointers[min_ind] += 1\n",
    "    return ans"
   ]
  },
  {
   "cell_type": "code",
   "execution_count": 12,
   "metadata": {},
   "outputs": [],
   "source": [
    "import hsort\n",
    "def heapsort_parallel(X, num_procs = cpu_count()):\n",
    "    n = len(X)\n",
    "    part, r = divmod(n, num_procs)\n",
    "    out = None\n",
    "    with Pool(processes=num_procs) as pool:\n",
    "            sub_arrs = [X[part * id : part * (id + 1)] for id in range(num_procs)]\n",
    "            if r != 0:\n",
    "                sub_arrs.append(X[n - r : n])\n",
    "            return merge(pool.map(func=hsort.heap_sort, iterable=sub_arrs))"
   ]
  },
  {
   "source": [
    "# Compare algorithms"
   ],
   "cell_type": "markdown",
   "metadata": {}
  },
  {
   "cell_type": "code",
   "execution_count": 13,
   "metadata": {},
   "outputs": [],
   "source": [
    "arr_sizes = [100, 1000, 10000]"
   ]
  },
  {
   "cell_type": "code",
   "execution_count": 14,
   "metadata": {},
   "outputs": [],
   "source": [
    "algos = {\n",
    "    \"bubblesort\" : [bubblesort, bubblesort_jit],\n",
    "    \"heapsort\"   : [heap_sort, heap_sort_jit, heapsort_parallel],\n",
    "    \"quicksort\"  : [quicksort, quicksort_jit, quicksort_parallel]\n",
    "}"
   ]
  },
  {
   "cell_type": "code",
   "execution_count": 15,
   "metadata": {},
   "outputs": [],
   "source": [
    "import time\n",
    "def measure_time(sort_fun, arr):\n",
    "    start = time.time()\n",
    "    arr = sort_fun(arr)\n",
    "    end = time.time()\n",
    "    print(\"SORTED\" if is_sorted(arr) else \"NOT SORTED\")\n",
    "    print(f\">>> Execution time of {sort_fun.__name__}: {end - start} s\")\n",
    "    return (end - start) * 1000"
   ]
  },
  {
   "cell_type": "code",
   "execution_count": 16,
   "metadata": {},
   "outputs": [],
   "source": [
    "results = {\n",
    "    \"bubblesort\" : [[] for i in range(len(arr_sizes))],\n",
    "    \"heapsort\"   : [[] for i in range(len(arr_sizes))],\n",
    "    \"quicksort\"  : [[] for i in range(len(arr_sizes))],\n",
    "}"
   ]
  },
  {
   "cell_type": "code",
   "execution_count": 17,
   "metadata": {},
   "outputs": [
    {
     "output_type": "stream",
     "name": "stdout",
     "text": [
      "SORTED\n",
      ">>> Execution time of bubblesort: 0.0008492469787597656 s\n",
      "SORTED\n",
      ">>> Execution time of bubblesort_jit: 0.3081169128417969 s\n",
      "SORTED\n",
      ">>> Execution time of heap_sort: 0.0002560615539550781 s\n",
      "SORTED\n",
      ">>> Execution time of heap_sort_jit: 0.43648672103881836 s\n",
      "SORTED\n",
      ">>> Execution time of heapsort_parallel: 0.15256595611572266 s\n",
      "SORTED\n",
      ">>> Execution time of quicksort: 0.00014901161193847656 s\n",
      "SORTED\n",
      ">>> Execution time of quicksort_jit: 0.7494900226593018 s\n",
      "SORTED\n",
      ">>> Execution time of quicksort_parallel: 0.009073257446289062 s\n",
      "SORTED\n",
      ">>> Execution time of bubblesort: 0.061316728591918945 s\n",
      "SORTED\n",
      ">>> Execution time of bubblesort_jit: 0.032083988189697266 s\n",
      "SORTED\n",
      ">>> Execution time of heap_sort: 0.0038309097290039062 s\n",
      "SORTED\n",
      ">>> Execution time of heap_sort_jit: 0.001650094985961914 s\n",
      "SORTED\n",
      ">>> Execution time of heapsort_parallel: 0.14925599098205566 s\n",
      "SORTED\n",
      ">>> Execution time of quicksort: 0.0022079944610595703 s\n",
      "SORTED\n",
      ">>> Execution time of quicksort_jit: 0.0007338523864746094 s\n",
      "SORTED\n",
      ">>> Execution time of quicksort_parallel: 0.0784311294555664 s\n",
      "SORTED\n",
      ">>> Execution time of bubblesort: 5.979614019393921 s\n",
      "SORTED\n",
      ">>> Execution time of bubblesort_jit: 3.2436718940734863 s\n",
      "SORTED\n",
      ">>> Execution time of heap_sort: 0.08030080795288086 s\n",
      "SORTED\n",
      ">>> Execution time of heap_sort_jit: 0.020121097564697266 s\n",
      "SORTED\n",
      ">>> Execution time of heapsort_parallel: 0.26002001762390137 s\n",
      "SORTED\n",
      ">>> Execution time of quicksort: 0.03631997108459473 s\n",
      "SORTED\n",
      ">>> Execution time of quicksort_jit: 0.010640859603881836 s\n",
      "SORTED\n",
      ">>> Execution time of quicksort_parallel: 15.37317681312561 s\n"
     ]
    }
   ],
   "source": [
    "for ind, arr_size in enumerate(arr_sizes):\n",
    "    arr = generate_random_array(arr_size)\n",
    "    for fun_name in algos.keys():\n",
    "        for sort_fun in algos[fun_name]:\n",
    "            arr_cp = arr.copy()\n",
    "            if 'jit' in sort_fun.__name__:\n",
    "                arr_list = List()\n",
    "                for x in arr:\n",
    "                    arr_list.append(x)\n",
    "                res = measure_time(sort_fun, arr_list)\n",
    "            else:\n",
    "                res = measure_time(sort_fun, arr_cp)\n",
    "            results[fun_name][ind].append(res)\n"
   ]
  },
  {
   "cell_type": "code",
   "execution_count": 18,
   "metadata": {},
   "outputs": [],
   "source": [
    "cols = ['bubblesort', 'bubblesort JIT', 'heapsort', 'heapsort JIT', 'heapsort PARALLEL', 'quicksort', 'quicksort JIT', 'quicksort PARALLEL']\n",
    "\n",
    "df = pd.DataFrame(columns=cols, index=arr_sizes)"
   ]
  },
  {
   "cell_type": "code",
   "execution_count": 19,
   "metadata": {},
   "outputs": [],
   "source": [
    "names = {\n",
    "    'bubblesort' : ['bubblesort', 'bubblesort JIT'],\n",
    "    'heapsort'   : ['heapsort', 'heapsort JIT', 'heapsort PARALLEL'],\n",
    "    'quicksort'  : ['quicksort', 'quicksort JIT', 'quicksort PARALLEL']\n",
    "}"
   ]
  },
  {
   "cell_type": "code",
   "execution_count": 20,
   "metadata": {},
   "outputs": [],
   "source": [
    "for fun_name in results.keys():\n",
    "    i = 0\n",
    "    sort_names = names[fun_name]\n",
    "    for i, result in enumerate(results[fun_name]):\n",
    "        for j, res in enumerate(result):\n",
    "            df[sort_names[j]][arr_sizes[i]] = res"
   ]
  },
  {
   "source": [
    "#### Для наглядности время возвращаемое из функции measure time умноженно на 1000"
   ],
   "cell_type": "markdown",
   "metadata": {}
  },
  {
   "cell_type": "code",
   "execution_count": 21,
   "metadata": {},
   "outputs": [
    {
     "output_type": "execute_result",
     "data": {
      "text/plain": [
       "        bubblesort bubblesort JIT   heapsort heapsort JIT heapsort PARALLEL  \\\n",
       "100       0.849247     308.116913   0.256062   436.486721        152.565956   \n",
       "1000     61.316729      32.083988    3.83091     1.650095        149.255991   \n",
       "10000  5979.614019    3243.671894  80.300808    20.121098        260.020018   \n",
       "\n",
       "       quicksort quicksort JIT quicksort PARALLEL  \n",
       "100     0.149012    749.490023           9.073257  \n",
       "1000    2.207994      0.733852          78.431129  \n",
       "10000  36.319971      10.64086       15373.176813  "
      ],
      "text/html": "<div>\n<style scoped>\n    .dataframe tbody tr th:only-of-type {\n        vertical-align: middle;\n    }\n\n    .dataframe tbody tr th {\n        vertical-align: top;\n    }\n\n    .dataframe thead th {\n        text-align: right;\n    }\n</style>\n<table border=\"1\" class=\"dataframe\">\n  <thead>\n    <tr style=\"text-align: right;\">\n      <th></th>\n      <th>bubblesort</th>\n      <th>bubblesort JIT</th>\n      <th>heapsort</th>\n      <th>heapsort JIT</th>\n      <th>heapsort PARALLEL</th>\n      <th>quicksort</th>\n      <th>quicksort JIT</th>\n      <th>quicksort PARALLEL</th>\n    </tr>\n  </thead>\n  <tbody>\n    <tr>\n      <th>100</th>\n      <td>0.849247</td>\n      <td>308.116913</td>\n      <td>0.256062</td>\n      <td>436.486721</td>\n      <td>152.565956</td>\n      <td>0.149012</td>\n      <td>749.490023</td>\n      <td>9.073257</td>\n    </tr>\n    <tr>\n      <th>1000</th>\n      <td>61.316729</td>\n      <td>32.083988</td>\n      <td>3.83091</td>\n      <td>1.650095</td>\n      <td>149.255991</td>\n      <td>2.207994</td>\n      <td>0.733852</td>\n      <td>78.431129</td>\n    </tr>\n    <tr>\n      <th>10000</th>\n      <td>5979.614019</td>\n      <td>3243.671894</td>\n      <td>80.300808</td>\n      <td>20.121098</td>\n      <td>260.020018</td>\n      <td>36.319971</td>\n      <td>10.64086</td>\n      <td>15373.176813</td>\n    </tr>\n  </tbody>\n</table>\n</div>"
     },
     "metadata": {},
     "execution_count": 21
    }
   ],
   "source": [
    "df"
   ]
  },
  {
   "cell_type": "code",
   "execution_count": 22,
   "metadata": {},
   "outputs": [
    {
     "output_type": "execute_result",
     "data": {
      "text/plain": [
       "      bubblesort  bubblesort JIT   heapsort  heapsort JIT  heapsort PARALLEL  \\\n",
       "min     0.849247       32.083988   0.256062      1.650095         149.255991   \n",
       "max  5979.614019     3243.671894  80.300808    436.486721         260.020018   \n",
       "\n",
       "     quicksort  quicksort JIT  quicksort PARALLEL  \n",
       "min   0.149012       0.733852            9.073257  \n",
       "max  36.319971     749.490023        15373.176813  "
      ],
      "text/html": "<div>\n<style scoped>\n    .dataframe tbody tr th:only-of-type {\n        vertical-align: middle;\n    }\n\n    .dataframe tbody tr th {\n        vertical-align: top;\n    }\n\n    .dataframe thead th {\n        text-align: right;\n    }\n</style>\n<table border=\"1\" class=\"dataframe\">\n  <thead>\n    <tr style=\"text-align: right;\">\n      <th></th>\n      <th>bubblesort</th>\n      <th>bubblesort JIT</th>\n      <th>heapsort</th>\n      <th>heapsort JIT</th>\n      <th>heapsort PARALLEL</th>\n      <th>quicksort</th>\n      <th>quicksort JIT</th>\n      <th>quicksort PARALLEL</th>\n    </tr>\n  </thead>\n  <tbody>\n    <tr>\n      <th>min</th>\n      <td>0.849247</td>\n      <td>32.083988</td>\n      <td>0.256062</td>\n      <td>1.650095</td>\n      <td>149.255991</td>\n      <td>0.149012</td>\n      <td>0.733852</td>\n      <td>9.073257</td>\n    </tr>\n    <tr>\n      <th>max</th>\n      <td>5979.614019</td>\n      <td>3243.671894</td>\n      <td>80.300808</td>\n      <td>436.486721</td>\n      <td>260.020018</td>\n      <td>36.319971</td>\n      <td>749.490023</td>\n      <td>15373.176813</td>\n    </tr>\n  </tbody>\n</table>\n</div>"
     },
     "metadata": {},
     "execution_count": 22
    }
   ],
   "source": [
    "df.agg(['min', 'max'])\n"
   ]
  },
  {
   "cell_type": "code",
   "execution_count": 23,
   "metadata": {},
   "outputs": [
    {
     "output_type": "execute_result",
     "data": {
      "text/plain": [
       "        bubblesort bubblesort JIT   heapsort heapsort JIT heapsort PARALLEL  \\\n",
       "100       0.849247     308.116913   0.256062   436.486721        152.565956   \n",
       "1000     61.316729      32.083988    3.83091     1.650095        149.255991   \n",
       "10000  5979.614019    3243.671894  80.300808    20.121098        260.020018   \n",
       "\n",
       "       quicksort quicksort JIT quicksort PARALLEL min_value  \n",
       "100     0.149012    749.490023           9.073257  0.149012  \n",
       "1000    2.207994      0.733852          78.431129  0.733852  \n",
       "10000  36.319971      10.64086       15373.176813  10.64086  "
      ],
      "text/html": "<div>\n<style scoped>\n    .dataframe tbody tr th:only-of-type {\n        vertical-align: middle;\n    }\n\n    .dataframe tbody tr th {\n        vertical-align: top;\n    }\n\n    .dataframe thead th {\n        text-align: right;\n    }\n</style>\n<table border=\"1\" class=\"dataframe\">\n  <thead>\n    <tr style=\"text-align: right;\">\n      <th></th>\n      <th>bubblesort</th>\n      <th>bubblesort JIT</th>\n      <th>heapsort</th>\n      <th>heapsort JIT</th>\n      <th>heapsort PARALLEL</th>\n      <th>quicksort</th>\n      <th>quicksort JIT</th>\n      <th>quicksort PARALLEL</th>\n      <th>min_value</th>\n    </tr>\n  </thead>\n  <tbody>\n    <tr>\n      <th>100</th>\n      <td>0.849247</td>\n      <td>308.116913</td>\n      <td>0.256062</td>\n      <td>436.486721</td>\n      <td>152.565956</td>\n      <td>0.149012</td>\n      <td>749.490023</td>\n      <td>9.073257</td>\n      <td>0.149012</td>\n    </tr>\n    <tr>\n      <th>1000</th>\n      <td>61.316729</td>\n      <td>32.083988</td>\n      <td>3.83091</td>\n      <td>1.650095</td>\n      <td>149.255991</td>\n      <td>2.207994</td>\n      <td>0.733852</td>\n      <td>78.431129</td>\n      <td>0.733852</td>\n    </tr>\n    <tr>\n      <th>10000</th>\n      <td>5979.614019</td>\n      <td>3243.671894</td>\n      <td>80.300808</td>\n      <td>20.121098</td>\n      <td>260.020018</td>\n      <td>36.319971</td>\n      <td>10.64086</td>\n      <td>15373.176813</td>\n      <td>10.64086</td>\n    </tr>\n  </tbody>\n</table>\n</div>"
     },
     "metadata": {},
     "execution_count": 23
    }
   ],
   "source": [
    "df.assign(min_value=df.values.min(1))\n",
    "\n"
   ]
  },
  {
   "source": [
    "#### Как видно из результатов, лучше всего себя показал алгоритм  quicksort_jit"
   ],
   "cell_type": "markdown",
   "metadata": {}
  }
 ],
 "metadata": {
  "kernelspec": {
   "name": "python394jvsc74a57bd0aee8b7b246df8f9039afb4144a1f6fd8d2ca17a180786b69acc140d282b71a49",
   "display_name": "Python 3.9.4 64-bit"
  },
  "language_info": {
   "codemirror_mode": {
    "name": "ipython",
    "version": 3
   },
   "file_extension": ".py",
   "mimetype": "text/x-python",
   "name": "python",
   "nbconvert_exporter": "python",
   "pygments_lexer": "ipython3",
   "version": "3.9.4"
  },
  "metadata": {
   "interpreter": {
    "hash": "aee8b7b246df8f9039afb4144a1f6fd8d2ca17a180786b69acc140d282b71a49"
   }
  }
 },
 "nbformat": 4,
 "nbformat_minor": 4
}