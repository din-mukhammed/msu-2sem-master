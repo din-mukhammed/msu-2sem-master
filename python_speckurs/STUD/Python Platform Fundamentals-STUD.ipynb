{
 "cells": [
  {
   "cell_type": "markdown",
   "metadata": {
    "slideshow": {
     "slide_type": "slide"
    }
   },
   "source": [
    "<div><img src=\"Images/SKI_Header_1_Tr.png\" width=\"150%\"/></div>\n",
    "<p style=\"text-align: center; font-size: 36pt; font-weight: bold; color: rgb(0, 0, 190); padding: 20px; margin-top: 2%;\">СПЕЦКУРС</p>\n",
    "<p style=\"text-align: center; font-size: 36pt; font-weight: bold; color: rgb(0, 0, 190); padding: 40px; margin-top: -3%; line-height: 100%;\">Высокопроизводительные вычисления на платформе Python</p>\n",
    "<p style=\"text-align: left; font-size: 20pt; font-weight: bold; color: rgb(0, 0, 190); padding: 20px; margin-top: -2%; line-height: 10%;\">Преподаватель:</p>\n",
    "<p style=\"text-align: left; font-size: 20pt; font-weight: bold; color: rgb(0, 0, 190); padding: 18px; margin-top: -2%; line-height: 100%;\">&nbsp;&nbsp;&nbsp;&nbsp;&nbsp;&nbsp;&nbsp;&nbsp;&nbsp;Русол Андрей Владимирович, к.т.н., с.н.с. ГЕОХИ РАН</p>\n",
    "<p style=\"text-align: center; font-size: 16pt; font-weight: bold; color: rgb(0, 0, 190); padding: 20px; margin-top: 2%;\">Москва 2021</p>\n"
   ]
  },
  {
   "cell_type": "markdown",
   "metadata": {
    "slideshow": {
     "slide_type": "slide"
    }
   },
   "source": [
    "<p style=\"text-align: center; font-size: 36pt; font-weight: bold; color: rgb(0, 0, 190); padding: 40px; margin-top: 3%; line-height: 150%;\">Базовые сведения о платформе Python</p>\n",
    "<center><img src=\"Images/Pythonchik_2.png\" width=\"180\" /></center>\n",
    "\n"
   ]
  },
  {
   "cell_type": "markdown",
   "metadata": {
    "slideshow": {
     "slide_type": "slide"
    }
   },
   "source": [
    "<p style=\"text-align: center; font-size: 36pt; font-weight: bold; color: rgb(0, 0, 190); padding: 20px; margin-top: 2%;\">Почему Python ?</p>\n",
    "\n",
    "- Свободно распространяемый\n",
    "- Интерпретируемый\n",
    "- Объектно-ориентированный\n",
    "- Динамическая типизация и связывание\n",
    "- Встроенные высокоуровневые структуры данных\n",
    "- Обширное и развивающееся семейство пакетов расширения для применения в различных предметных областях\n",
    "- Имеет развитые средства визуализации научных данных (2D и 3D графика)\n",
    "- Имеет развитые средства работы с ОС и файловой системой\n",
    "- Может использоваться в режиме интерактивных вычислений\n",
    "- Может использоваться как платформа для создания гибких и расширяемых ППП\n",
    "- и т.д. . . .\n",
    "\n",
    "\n",
    "<center><img src=\"Images/growth_major_languages-1-1024x878.png\" width=90% /></center>\n"
   ]
  },
  {
   "cell_type": "markdown",
   "metadata": {
    "slideshow": {
     "slide_type": "slide"
    }
   },
   "source": [
    "##### <p style=\"text-align: center; font-size: 36pt; font-weight: bold; color: rgb(0, 0, 190); padding: 20px; margin-top: -1%;\">Дистрибутив Python Anaconda</p>\n",
    "\n",
    "В данном треке мы будем использовать дистрибутив Anaconda Python 3.7.х, имеющий следующие особенности \n",
    "\n",
    "- практически идентичный набор пакетов для Linux, Windows и MacOS\n",
    "- практически идентичный набор пакетов для 2.7.х и 3.х линеек Python\n",
    "- собственный репозиторий, содержащий более 1500 пакетов\n",
    "- собственная утилита установки пакетов conda \n",
    "\n",
    "Важно отметить, что наибольшее число прикладных пакетов для научных и инженерных вычислений реализовано для линейки  Python 2.7.х в ОС Linux x64. Имеющиеся реализации многих пакетов для линейки Python 3.х в ОС Windows и MacOS могут работать не корректно. \n"
   ]
  },
  {
   "cell_type": "markdown",
   "metadata": {
    "slideshow": {
     "slide_type": "slide"
    }
   },
   "source": [
    "<p style=\"text-align: center; font-size: 32pt; font-weight: bold; color: rgb(0, 0, 190); padding: 20px; margin-top: -1%;\">Установка Python Anaconda в ОС Linux</p>\n",
    "\n",
    "Текущей версией дистрибутива Anaconda Python 3.7.х является Anaconda3-2020.02 c Python 3.7.6.\n",
    "\n",
    "1. Скачиваем дистрибутив, например, \n",
    "    - для ОС Linux   : https://repo.anaconda.com/archive/Anaconda3-2019.03-Linux-x86_64.sh\n",
    "    - для ОС Windows : https://repo.anaconda.com/archive/Anaconda3-2019.03-Windows-x86_64.exe\n",
    "\n",
    "2. Открываем в терминале папку, в которую скачали дистрибутив, и вводим команду\n",
    "```bash\n",
    "bash Anaconda3-2020.02-Linux-x86_64.sh\n",
    "```\n",
    "\n",
    "3. Следуем указаниям установщика\n",
    "4. Последний пункт установки предполагает два варианта добавления команды экспорта пути к Anaconda\n",
    "    - автоматическое\n",
    "    - ручное\n",
    "    \n",
    "Если предполагается использовать несколько вариантов Anaconda, то надо отказаться от автоматического добавления команд в файл **.bashrc**. В последствии можно добавитть псевдонимы (alias) для загрузки путей к разным установкам Anaconda.  \n",
    "\n",
    "Для проверки установки запускаем терминал (при необходимости выполняем соответствующий alias) и вводим команду\n",
    "```bash\n",
    "python\n",
    "```\n",
    "Если установка прошла успешно то в терминале появится приглашение среды Python\n",
    "```bash\n",
    "Python 3.7.6 (default, Jan  8 2020, 19:59:22)\n",
    "[GCC 7.3.0] :: Anaconda, Inc. on linux\n",
    "Type \"help\", \"copyright\", \"credits\" or \"license\" for more information.\n",
    ">>>\n",
    "```\n",
    "\n",
    "Для просмотра списка установленных пакетов вводим команду\n",
    "```bash\n",
    "conda list\n",
    "```\n",
    "\n",
    "Для обеспечения возможности установки дополнительных пакетов спомощью устилиты **conda** на локальном (личном) компьютере может понадобиться добавить своего пользователя во владельцы папки, в которую установлен дистррибутив Anaconda.\n",
    "В терминале выполняем команду \n",
    "```bash\n",
    "sudo chown -R <пользователь> anaconda<N>\n",
    "```\n",
    "где <пользователь> - логин пользователя с правами **root**, <N> - номер ветки Python 2 или 3.\n",
    "При отсутствии прав **root** необходимо при выполнении утилиты **conda** добавлять ключ      \n",
    "**--user**.\n",
    "    \n",
    "Для дальнейшей работы нам необходимо установить пакеты\n",
    "- **mpi4py** - поддержка технологии MPI в Python \n",
    "- **h5py** - поддержка работы с форматом HDF5 в Python\n",
    "- **ipyparallel** - поддержка технологии параллельного программирования\n",
    "- **vitables** - просмотр файлом в формате HDF5\n",
    "\n",
    "И некоторые другие, для установки в терминале выполняем командуы\n",
    "```bash\n",
    "conda install -c conda-forge ipyparallel\n",
    "conda install -c conda-forge mpi4py \n",
    "conda install -c conda-forge dask \n",
    "conda install -c conda-forge cupy    \n",
    "conda install -c conda-forge plotnine \n",
    "conda install -c conda-forge plotly\n",
    "conda install -c conda-forge h5py \n",
    "conda install -c conda-forge vitables\n",
    "conda install -c conda-forge ipywidgets \n",
    "```\n",
    "Пакеты, которые не представлены в репозитории Anaconda, могут быть установлены командами\n",
    "```bash\n",
    "~/Anaconda3/bin/pip install dask-cudf\n",
    "~/Anaconda3/bin/pip install hope     \n",
    "```"
   ]
  },
  {
   "cell_type": "markdown",
   "metadata": {
    "slideshow": {
     "slide_type": "slide"
    }
   },
   "source": [
    "<p style=\"text-align: center; font-size: 36pt; font-weight: bold; color: rgb(0, 0, 190); padding: 20px; margin-top: -1%;\">Среды разработки для Python</p>\n",
    "\n",
    "\n",
    "Высокая популярность платформы Python приводит к тому, что для работы с ней существует большое количество IDE. И постоянно появляются новые (зачастую напсанные на самом Python).\n",
    "\n",
    "<img src=\"Images/pycharm_TROk.gif\" width=\"200\"/>\n",
    "\n",
    "Поддержка Windows, MacOS и Linux\n",
    "\n",
    "Сайт: https://www.jetbrains.com/pycharm/\n",
    "\n",
    "<img src=\"Images/pydev_TROk.png\" width=\"200\"/>\n",
    "\n",
    "Плагин Python для Eclipse. \n",
    "Поддерживается всеми известными операционными системами. \n",
    "\n",
    "Сайт: http://www.pydev.org/\n",
    "\n",
    "<img src=\"Images/geany_logo.png\" width=\"150\"/>\n",
    "\n",
    "Поддержка Linux, Windows и OSX.\n",
    "\n",
    "Сайт: https://www.geany.org/\n",
    "\n",
    "Обычно в дистрибутив **Anaconda** включаются среды разработки и интерактивных вычислений: **IDLE**, **Spyder** и **Jupyter**. \n",
    "\n",
    "\n",
    "    "
   ]
  },
  {
   "cell_type": "markdown",
   "metadata": {
    "slideshow": {
     "slide_type": "slide"
    }
   },
   "source": [
    "<img style=\"position: relative; display: inline; margin-top: -1%;\" src=\"Images/JupAnSpy.png\" width=\"92.5%\"/> \n",
    "\n",
    "\n"
   ]
  },
  {
   "cell_type": "markdown",
   "metadata": {
    "slideshow": {
     "slide_type": "slide"
    }
   },
   "source": [
    "<p style=\"text-align: center; font-size: 36pt; font-weight: bold; color: rgb(0, 0, 190); padding: 20px; margin-top: -1%;\">Основы Python</p>\n",
    "\n",
    "Использование языка программирования Python возможно несколькими способами, конкретный выбор зависит от решаемой задачи. \n",
    "\n",
    "- запуск интерпретатора Python в терминале и последовательное выполнение команд\n",
    "- запуск интерпретатора IPython в терминале и последовательное выполнение команд\n",
    "- сохранение последовательности команд в файле с расширением **.ру** и запуск в терминале командой\n",
    "``` bash\n",
    "python <имя файла>.ру\n",
    "```\n",
    "В случае использовании в тексте программы русских (и вообще не латинских) символов интерпретатор Python аварийно завершает работу. Для устранения этой проблемы первой строкой в файле с расширением **.ру** должна быть\n",
    "``` python\n",
    "# -*- coding: utf-8 -*-\n",
    "```\n",
    "- использование специализированных IDE\n",
    "- использование платформы **Jupyter**\n",
    "\n",
    "При использовании IDE общего назначения следует иметь ввиду, что интерпретатор **Python** использует пробелы в начале строк кода для выделения блоков и не распознает **Tab**. \n",
    "\n",
    "#### Использование интерпретатора Python\n",
    "\n",
    "После запуска интерпретатора **Python** пользователь получает возможность последовательного исполнения кода. Такой вариант позволяет использовать **Python** как калькулятор с возможностью создания и использования переменных.\n",
    "``` python\n",
    ">>> 3 + 1\n",
    "4\n",
    ">>> x = 15\n",
    ">>> x * 3\n",
    "45\n",
    "```\n",
    "#### Использование интерпретатора IPython\n",
    "\n",
    "Интерпретатор **IPython** является более развитой средой для использования **Python**, чем простой интерпретатор.\n",
    "Например, в нем присутствует функция автодополнения кода, т.е. достаточно ввести несколько первых символов и нажать клавишу **Tab**. Для запуска интерпретатора **IPython** необходимо в терминале выполнить команду \n",
    "\n",
    "```bash\n",
    "ipython\n",
    "```\n",
    "Выполнение предыдущих примеров в интерпретаторе **IPython**\n",
    "\n",
    "``` python\n",
    "Python 3.7.3 (default, Mar 27 2019, 22:31:02) \n",
    "Type 'copyright', 'credits' or 'license' for more information\n",
    "IPython 7.6.1 -- An enhanced Interactive Python. Type '?' for help.\n",
    "\n",
    "?         -> Introduction and overview of IPython's features.\n",
    "%quickref -> Quick reference.\n",
    "help      -> Python's own help system.\n",
    "object?   -> Details about 'object', use 'object??' for extra details.\n",
    "\n",
    "In [1]: 3 + 1\n",
    "Out[1]: 4\n",
    "\n",
    "In [2]: x = 15\n",
    "\n",
    "In [3]: x * 3\n",
    "Out[3]: 45\n",
    "``` \n",
    "\n",
    "Режим интерпретатора может использоваться только для небольших и не требующих повторного использования элементов кода.\n",
    "\n",
    "#### Элементы синтаксиса Python\n",
    "\n",
    "Исторически **Python** разрабатывался как язык обучения программированию, затем был развит в язык системного администрирования и т.д. Синтаксис языка **Python** имеет несколько отличий от других языков. Основным отличием является использование начальных пробелов в строках для ограничения блоков кода. \n",
    "\n",
    "Для создания однострочных коментариев исполльзуется символ **#**, а многострочных троекратно повторяющиеся кавычки **\"\"\"** в начале и конце коментария \n",
    "```python\n",
    "# это однострочный коментарий\n",
    "\n",
    "\"\"\"\n",
    "Это\n",
    "многострочный\n",
    "коментарий\n",
    "\"\"\"\n",
    "```\n",
    "\n",
    "При необходимости разрыва строки кода используется символ   **\\**\n",
    "\n",
    "```python\n",
    "x = 1 + 2 + 3 + 4 +\\\n",
    "    5 + 6 + 7 + 8\n",
    "```\n",
    "\n",
    "или заключение кода в скобки\n",
    "\n",
    "```python\n",
    "x = (1 + 2 + 3 + 4 +\n",
    "    5 + 6 + 7 + 8)\n",
    "```\n",
    "\n",
    "\n",
    "#### Типы данных Python\n",
    "\n",
    "- Числа:\n",
    "    - целые (int, long, bool)\n",
    "    - с плавающей точкой (float)\n",
    "    - комплексные (complex)\n",
    "- Последовательности:\n",
    "    - строка (str)\n",
    "    - кортеж (tuple)\n",
    "    - список (list)\n",
    "- Отображение: (dict)\n",
    "- Множество: (set)\n",
    "- Вызываемые объекты:\n",
    "    - функции (встроенные и пользовательские)\n",
    "    - функции-генераторы\n",
    "    - методы объектов\n",
    "    - классы\n",
    "    - модули\n",
    "- Файлы (file)\n",
    "- Вспомогательные типы (buffer, slice)\n",
    "- Специальные типы (None, NotImplementet)\n",
    "\n",
    "Тип любого объекта может быть определен встроенной функцией **type()**\n"
   ]
  },
  {
   "cell_type": "code",
   "execution_count": null,
   "metadata": {
    "slideshow": {
     "slide_type": "-"
    }
   },
   "outputs": [],
   "source": [
    "x = 1 + 2 + 3 + 4 +\\\n",
    "    5 + 6 + 7 + 8\n",
    "\n",
    "y = (1 + 2 + 3 + 4 +\n",
    "    5 + 6 + 7 + 8)\n",
    "\n",
    "print (\"x = {}\".format(x))\n",
    "print (\"y = {}\".format(y))"
   ]
  },
  {
   "cell_type": "markdown",
   "metadata": {
    "slideshow": {
     "slide_type": "-"
    }
   },
   "source": [
    "######  Переменные в Python - это указатели (рointer)\n",
    "\n",
    "Выполняя присвоение значения переменной х \n",
    "```python\n",
    "x = 4\n",
    "```\n",
    "мы по существу определяем указатель с соответствующим именем, указывающий на область содержащую соответствующее значение. Это приводит к тому, что нет необходимости декларирорвать тип переменных, а также требовать присвоения переменной данных одного типа.\n",
    " "
   ]
  },
  {
   "cell_type": "code",
   "execution_count": null,
   "metadata": {
    "slideshow": {
     "slide_type": "-"
    }
   },
   "outputs": [],
   "source": [
    "x = 1         # x имеет тип integer\n",
    "print (type(x))\n",
    "x = 'hello'   # x имеет тип string\n",
    "print (type(x))\n",
    "x = [1, 2, 3] # x имеет тип list\n",
    "print (type(x))\n"
   ]
  },
  {
   "cell_type": "markdown",
   "metadata": {
    "slideshow": {
     "slide_type": "-"
    }
   },
   "source": [
    "Если не учитывать особенности поведения переменных как указателей, то могут возникать проблемы при организации вычислений. Допустим у нас есть две переменные, указывающие на один объект, тогда изменение одной переменной может привести к изменнению и другой."
   ]
  },
  {
   "cell_type": "code",
   "execution_count": null,
   "metadata": {
    "slideshow": {
     "slide_type": "-"
    }
   },
   "outputs": [],
   "source": [
    "x = [1, 2, 3, 4]\n",
    "y = x\n",
    "print (y)"
   ]
  },
  {
   "cell_type": "code",
   "execution_count": null,
   "metadata": {
    "slideshow": {
     "slide_type": "-"
    }
   },
   "outputs": [],
   "source": [
    "x.append(5)\n",
    "print (x)\n",
    "print (y)"
   ]
  },
  {
   "cell_type": "code",
   "execution_count": null,
   "metadata": {
    "slideshow": {
     "slide_type": "-"
    }
   },
   "outputs": [],
   "source": [
    "y.remove(4)\n",
    "print (x)\n",
    "print (y)"
   ]
  },
  {
   "cell_type": "code",
   "execution_count": null,
   "metadata": {
    "ExecuteTime": {
     "end_time": "2021-02-19T15:41:52.349105Z",
     "start_time": "2021-02-19T15:41:52.328027Z"
    },
    "slideshow": {
     "slide_type": "-"
    }
   },
   "outputs": [],
   "source": [
    "x = 10\n",
    "print (x)\n",
    "print (y)"
   ]
  },
  {
   "cell_type": "markdown",
   "metadata": {
    "slideshow": {
     "slide_type": "subslide"
    }
   },
   "source": [
    "<p style=\"text-align: center; font-size: 36pt; font-weight: bold; color: rgb(0, 0, 190); padding: 20px; margin-top: -1%;\">Операторы в Python</p>\n",
    "\n",
    "###### Арифметические операции\n",
    "В **Python** реализованы семь основных двоичных арифметических операторов.\n",
    "Они приведены в следующей таблице:\n",
    "\n",
    "| Oператор     | Название       | Описание                                               |\n",
    "|--------------|----------------|--------------------------------------------------------|\n",
    "| ``a + b``    | Сложение       | Сумма ``a`` и ``b``                                    |\n",
    "| ``a - b``    | Вычитание      | Разность ``a`` и ``b``                                 |\n",
    "| ``a * b``    | Умножение      | Произведение ``a`` и ``b``                             |\n",
    "| ``a / b``    | Деление        | Частное от ``a`` и ``b``                               |\n",
    "| ``a // b``   | Целочисленное деление  | Частное от ``a`` и ``b``, отбрасывая дробную часть |\n",
    "| ``a % b``    | Деление по модулю       | Целочисленный остаток от деления ``a`` на ``b``     |\n",
    "| ``a ** b``   | Степень | Возведение ``a`` в степень ``b``                     |\n",
    "| ``-a``       | Смена знака       | Изменение знака числа ``a``                                  |\n",
    "\n",
    "Эти операторы могут быть использованы в выражениях и группироваться с помощью скобок.\n",
    "\n",
    "Важно отметить, что в **Python 2.7.х** целочисленное деление выполняет оператор **/**"
   ]
  },
  {
   "cell_type": "code",
   "execution_count": null,
   "metadata": {
    "slideshow": {
     "slide_type": "-"
    }
   },
   "outputs": [],
   "source": [
    "1/2"
   ]
  },
  {
   "cell_type": "code",
   "execution_count": null,
   "metadata": {
    "slideshow": {
     "slide_type": "-"
    }
   },
   "outputs": [],
   "source": [
    "5/2"
   ]
  },
  {
   "cell_type": "markdown",
   "metadata": {
    "slideshow": {
     "slide_type": "-"
    }
   },
   "source": [
    "В **Python 2.7.х** результаты были бы **0** и **2**, соответственно.\n",
    "Для устранения этой проблемы необходимо импортировать деление из специализированного пакета **__future__**\n",
    "```python\n",
    "from __future__ import division\n",
    "```\n",
    "После чего операторы деления будут работать так, как описано ранее.\n"
   ]
  },
  {
   "cell_type": "markdown",
   "metadata": {},
   "source": [
    "Начиная с версии **Python 3.5** в эту линейку добавлен оператор\n",
    "\n",
    "**a @ b**, представляющий матричное деление. "
   ]
  },
  {
   "cell_type": "markdown",
   "metadata": {
    "slideshow": {
     "slide_type": "subslide"
    }
   },
   "source": [
    "###### Операции присваивания\n",
    "Операции присваивания в **Python** реализованы оператором **=**.\n",
    "\n",
    "**Python** поддерживает сокращенную нотацию некоторых операций, аналогично языкам **С/С++**:\n",
    "\n",
    "``a += b`` \n",
    "\n",
    "``a -= b``\n",
    "\n",
    "``a *= b``\n",
    "\n",
    "``a /= b``\n",
    "\n",
    "``a //= b``\n",
    "\n",
    "``a %= b``\n",
    "\n",
    "``a **= b``\n",
    "\n",
    "``a &= b``\n",
    "\n",
    "<code>a &#124;= b</code> \n",
    "\n",
    "``a ^= b``\n",
    "\n",
    "``a <<= b``\n",
    "\n",
    "``a >>= b``\n",
    "\n",
    "###### Операции сравнения\n",
    "Еще одной важной операцией является операция сравнения значений переменных. Для их использования в **Python** реализованы стандартные операторы сравнения, возвращающие **Boolean** значения **``True``** and **``False``**.\n",
    "\n",
    "``a == b``  &nbsp;:&nbsp;  ``a`` равно ``b``              \n",
    "\n",
    "``a != b``  &nbsp;:&nbsp;  ``a`` НЕ равно ``b``             \n",
    "\n",
    "``a < b``  &nbsp;:&nbsp;  ``a`` меньше ``b``             \n",
    "\n",
    "``a > b``  &nbsp;:&nbsp;  ``a`` больше ``b``             \n",
    "\n",
    "``a <= b``  &nbsp;:&nbsp;  ``a`` меньше либо равно ``b`` \n",
    "\n",
    "``a >= b``  &nbsp;:&nbsp;  ``a`` больше либо равно ``b`` \n",
    "\n",
    "Эти операторы сравнения могут быть объединены с арифметическими и побитовыми операторами для построения практически неограниченного диапазона выражений сравнения."
   ]
  },
  {
   "cell_type": "code",
   "execution_count": null,
   "metadata": {
    "ExecuteTime": {
     "end_time": "2021-02-19T15:49:06.157623Z",
     "start_time": "2021-02-19T15:49:06.117556Z"
    },
    "slideshow": {
     "slide_type": "-"
    }
   },
   "outputs": [],
   "source": [
    "# 35 нечетное\n",
    "35 % 2 == 1"
   ]
  },
  {
   "cell_type": "code",
   "execution_count": null,
   "metadata": {
    "ExecuteTime": {
     "end_time": "2021-02-19T15:49:16.529581Z",
     "start_time": "2021-02-19T15:49:16.523908Z"
    },
    "slideshow": {
     "slide_type": "-"
    }
   },
   "outputs": [],
   "source": [
    "# 48 четное\n",
    "48 % 2 == 1"
   ]
  },
  {
   "cell_type": "code",
   "execution_count": null,
   "metadata": {
    "ExecuteTime": {
     "end_time": "2021-02-19T15:49:42.616006Z",
     "start_time": "2021-02-19T15:49:42.604423Z"
    },
    "slideshow": {
     "slide_type": "-"
    }
   },
   "outputs": [],
   "source": [
    "# a между 15 и 30\n",
    "a = 25\n",
    "15 < a < 30"
   ]
  },
  {
   "cell_type": "code",
   "execution_count": null,
   "metadata": {
    "ExecuteTime": {
     "end_time": "2021-02-19T15:50:29.881227Z",
     "start_time": "2021-02-19T15:50:29.873181Z"
    },
    "slideshow": {
     "slide_type": "-"
    }
   },
   "outputs": [],
   "source": [
    "x = 4\n",
    "(x < 6) and (x > 2)"
   ]
  },
  {
   "cell_type": "code",
   "execution_count": null,
   "metadata": {
    "ExecuteTime": {
     "end_time": "2021-02-19T15:50:38.175546Z",
     "start_time": "2021-02-19T15:50:38.167225Z"
    },
    "slideshow": {
     "slide_type": "-"
    }
   },
   "outputs": [],
   "source": [
    "(x > 10) or (x % 2 == 0)"
   ]
  },
  {
   "cell_type": "code",
   "execution_count": null,
   "metadata": {
    "ExecuteTime": {
     "end_time": "2021-02-19T15:50:52.047675Z",
     "start_time": "2021-02-19T15:50:52.041244Z"
    },
    "slideshow": {
     "slide_type": "-"
    }
   },
   "outputs": [],
   "source": [
    "not (x < 6)"
   ]
  },
  {
   "cell_type": "code",
   "execution_count": null,
   "metadata": {
    "slideshow": {
     "slide_type": "-"
    }
   },
   "outputs": [],
   "source": [
    "# (x > 1) xor (x < 10)\n",
    "(x > 1) != (x < 10)"
   ]
  },
  {
   "cell_type": "markdown",
   "metadata": {
    "slideshow": {
     "slide_type": "subslide"
    }
   },
   "source": [
    "###### Операции проверки идентичности и вхождения \n",
    "В **Python** реализован набор операторов для проверки идентичности объектов и проверки вхождения значений в структуры данных.\n",
    "\n",
    "| Оператор      | Описание                                      |\n",
    "|---------------|---------------------------------------------------|\n",
    "| ``a is b``    | **True** если ``a`` и ``b`` идентичны     |\n",
    "| ``a is not b``| **True** если ``a`` и ``b`` НЕ идентичны |\n",
    "| ``a in b``    | **True** если ``a`` входит в ``b``                |\n",
    "| ``a not in b``| **True** если ``a`` НЕ входит в ``b``            |\n"
   ]
  },
  {
   "cell_type": "code",
   "execution_count": null,
   "metadata": {
    "ExecuteTime": {
     "end_time": "2021-02-19T15:52:19.110276Z",
     "start_time": "2021-02-19T15:52:19.104568Z"
    },
    "slideshow": {
     "slide_type": "-"
    }
   },
   "outputs": [],
   "source": [
    "a = [1, 2, 3]\n",
    "b = [1, 2, 3]"
   ]
  },
  {
   "cell_type": "code",
   "execution_count": null,
   "metadata": {
    "ExecuteTime": {
     "end_time": "2021-02-19T15:52:26.559837Z",
     "start_time": "2021-02-19T15:52:26.546998Z"
    },
    "slideshow": {
     "slide_type": "-"
    }
   },
   "outputs": [],
   "source": [
    "a == b"
   ]
  },
  {
   "cell_type": "code",
   "execution_count": null,
   "metadata": {
    "ExecuteTime": {
     "end_time": "2021-02-19T15:52:38.263269Z",
     "start_time": "2021-02-19T15:52:38.255890Z"
    },
    "slideshow": {
     "slide_type": "-"
    }
   },
   "outputs": [],
   "source": [
    "a is b"
   ]
  },
  {
   "cell_type": "code",
   "execution_count": null,
   "metadata": {
    "ExecuteTime": {
     "end_time": "2021-02-19T15:52:41.944188Z",
     "start_time": "2021-02-19T15:52:41.936796Z"
    },
    "slideshow": {
     "slide_type": "-"
    }
   },
   "outputs": [],
   "source": [
    "a is not b"
   ]
  },
  {
   "cell_type": "code",
   "execution_count": null,
   "metadata": {
    "ExecuteTime": {
     "end_time": "2021-02-19T15:52:52.962997Z",
     "start_time": "2021-02-19T15:52:52.956321Z"
    },
    "slideshow": {
     "slide_type": "-"
    }
   },
   "outputs": [],
   "source": [
    "c = a\n",
    "a is c"
   ]
  },
  {
   "cell_type": "code",
   "execution_count": null,
   "metadata": {
    "ExecuteTime": {
     "end_time": "2021-02-19T15:53:22.559643Z",
     "start_time": "2021-02-19T15:53:22.553092Z"
    },
    "slideshow": {
     "slide_type": "-"
    }
   },
   "outputs": [],
   "source": [
    "1 in [1, 2, 3]"
   ]
  },
  {
   "cell_type": "code",
   "execution_count": null,
   "metadata": {
    "ExecuteTime": {
     "end_time": "2021-02-19T15:53:30.287398Z",
     "start_time": "2021-02-19T15:53:30.279387Z"
    },
    "slideshow": {
     "slide_type": "-"
    }
   },
   "outputs": [],
   "source": [
    "2 not in [1, 2, 3]"
   ]
  },
  {
   "cell_type": "markdown",
   "metadata": {
    "slideshow": {
     "slide_type": "subslide"
    }
   },
   "source": [
    "<p style=\"text-align: center; font-size: 28pt; font-weight: bold; color: rgb(0, 0, 190); padding: 20px; margin-top: 2%;\">Работа со встроенными типами данных в Python</p>\n",
    "\n",
    "###### Целые числа\n",
    "\n",
    "В языке **Python** реализованы два типа целых: <b>int</b> (целые числа) и <b>long</b> (целые произвольной точности) служащих объектами для представления целых чисел. Тип <b>int</b> соответствует типу <b>long</b> в компиляторе C. Набор операций над целыми числами — достаточно стандартный как по семантике, так и по обозначениям: <b>+, -, *, /, %</b>. \n",
    "\n",
    "Простое целое число типа <b>int</b> записывается в виде числа без десятичного разделителя (1, 2, 1000), а число типа <b>long</b> записывается в виде числа без десятичного разделителя с добавлением символа L (1L, 2L, 1000L).\n",
    "\n",
    "Значения типа **int** должны покрывать диапазон от <b>–2147483648</b> до <b>2147483647</b>, а точность целых произвольной точности зависит от объема доступной памяти.\n",
    "\n",
    "Представление целых чисел в **Python** на самом деле сложнее, чем целые числа в таких языках, как **C/С++**. В **C/С++** целые числа являются числами фиксированной точности и обычно переполняются в некотором диапазоне (часто около $2^{31}$ или $2^{63}$, в зависимости от системы). Целочисленные числа в **Python** имеют переменную точность, поэтому есть возможность выполнять вычисления, которые будут приводить к переполнению на других языках:"
   ]
  },
  {
   "cell_type": "code",
   "execution_count": null,
   "metadata": {
    "ExecuteTime": {
     "end_time": "2021-02-19T15:55:40.978676Z",
     "start_time": "2021-02-19T15:55:40.957538Z"
    },
    "slideshow": {
     "slide_type": "-"
    }
   },
   "outputs": [],
   "source": [
    "2 ** 200"
   ]
  },
  {
   "cell_type": "code",
   "execution_count": null,
   "metadata": {
    "ExecuteTime": {
     "end_time": "2021-02-19T15:55:46.360778Z",
     "start_time": "2021-02-19T15:55:46.353522Z"
    },
    "slideshow": {
     "slide_type": "-"
    }
   },
   "outputs": [],
   "source": [
    "2 ** 500"
   ]
  },
  {
   "cell_type": "code",
   "execution_count": null,
   "metadata": {
    "ExecuteTime": {
     "end_time": "2021-02-19T15:55:52.214257Z",
     "start_time": "2021-02-19T15:55:52.202614Z"
    },
    "slideshow": {
     "slide_type": "-"
    }
   },
   "outputs": [],
   "source": [
    "2 ** 2000"
   ]
  },
  {
   "cell_type": "code",
   "execution_count": null,
   "metadata": {
    "ExecuteTime": {
     "end_time": "2021-02-19T15:55:56.082914Z",
     "start_time": "2021-02-19T15:55:56.074898Z"
    }
   },
   "outputs": [],
   "source": [
    "2**8000"
   ]
  },
  {
   "cell_type": "code",
   "execution_count": null,
   "metadata": {
    "ExecuteTime": {
     "end_time": "2021-02-19T15:57:35.675977Z",
     "start_time": "2021-02-19T15:57:35.671223Z"
    }
   },
   "outputs": [],
   "source": [
    "import sys"
   ]
  },
  {
   "cell_type": "code",
   "execution_count": null,
   "metadata": {
    "ExecuteTime": {
     "end_time": "2021-02-19T15:58:34.921164Z",
     "start_time": "2021-02-19T15:58:34.914810Z"
    }
   },
   "outputs": [],
   "source": [
    "sys.float_info"
   ]
  },
  {
   "cell_type": "code",
   "execution_count": null,
   "metadata": {},
   "outputs": [],
   "source": []
  },
  {
   "cell_type": "markdown",
   "metadata": {
    "slideshow": {
     "slide_type": "subslide"
    }
   },
   "source": [
    "###### Числа с плавающей точкой\n",
    "\n",
    "Числа с плавающей точкой служат для хранения дробных величин и могут быть представлены как в стандартной форме с десятичной точкой, так и в экспоненциальной (научной) нотации. В языке **Python** тип **float** Соответствует C/C++–типу **double**. \n",
    "\n",
    "```python\n",
    "x = 0.000345\n",
    "\n",
    "y = 1.34E-7\n",
    "\n",
    "z = 2.76e12\n",
    "\n",
    "```\n",
    "Важно отметить, что точность арифметики с плавающей точкой ограничена, а это может привести к неустойчивости проверки на равенство. Избежать этого можно округляя значения до одинаковой точности перед проверкой."
   ]
  },
  {
   "cell_type": "code",
   "execution_count": null,
   "metadata": {
    "ExecuteTime": {
     "end_time": "2021-02-19T16:02:31.853625Z",
     "start_time": "2021-02-19T16:02:31.838136Z"
    },
    "slideshow": {
     "slide_type": "-"
    }
   },
   "outputs": [],
   "source": [
    "x = 0.000000075\n",
    "y = 7.5e-8\n",
    "print (x == y)"
   ]
  },
  {
   "cell_type": "code",
   "execution_count": null,
   "metadata": {
    "ExecuteTime": {
     "end_time": "2021-02-19T16:02:58.391110Z",
     "start_time": "2021-02-19T16:02:58.373450Z"
    },
    "slideshow": {
     "slide_type": "-"
    }
   },
   "outputs": [],
   "source": [
    "0.1 + 0.35 == 0.45"
   ]
  },
  {
   "cell_type": "code",
   "execution_count": null,
   "metadata": {
    "ExecuteTime": {
     "end_time": "2021-02-19T16:03:41.356679Z",
     "start_time": "2021-02-19T16:03:41.349934Z"
    },
    "slideshow": {
     "slide_type": "-"
    }
   },
   "outputs": [],
   "source": [
    "round(0.1 + 0.35, 3) == round(0.45, 3)"
   ]
  },
  {
   "cell_type": "markdown",
   "metadata": {
    "slideshow": {
     "slide_type": "-"
    }
   },
   "source": [
    "Почему это так? Это поведение, не уникально для **Python**, а связано с форматом фиксированной точности для хранения данных с плавающей точкой, который используется большинством платформ научных и инженерных вычислений. Все языки программирования при использовании чисел с плавающей точкой, сохраняют их в фиксированном количестве бит, и это приводит к тому, что числа представляются приблизительно. Это можно увидеть, напечатав три предыдущих значения с высокой точностью:"
   ]
  },
  {
   "cell_type": "code",
   "execution_count": null,
   "metadata": {
    "ExecuteTime": {
     "end_time": "2021-02-19T16:04:12.525446Z",
     "start_time": "2021-02-19T16:04:12.515417Z"
    },
    "slideshow": {
     "slide_type": "-"
    }
   },
   "outputs": [],
   "source": [
    "print(\"0.1 = {0:.17f}\".format(0.1))\n",
    "print(\"0.35 = {0:.17f}\".format(0.35))\n",
    "print(\"0.45 = {0:.17f}\".format(0.45))"
   ]
  },
  {
   "cell_type": "code",
   "execution_count": null,
   "metadata": {
    "ExecuteTime": {
     "end_time": "2021-02-19T16:04:41.447739Z",
     "start_time": "2021-02-19T16:04:41.441775Z"
    },
    "slideshow": {
     "slide_type": "-"
    }
   },
   "outputs": [],
   "source": [
    "print(\"0.1 = {0:.34f}\".format(0.1))\n",
    "print(\"0.35 = {0:.34f}\".format(0.35))\n",
    "print(\"0.45 = {0:.34f}\".format(0.45))"
   ]
  },
  {
   "cell_type": "code",
   "execution_count": null,
   "metadata": {
    "ExecuteTime": {
     "end_time": "2021-02-19T16:04:51.952500Z",
     "start_time": "2021-02-19T16:04:51.942901Z"
    },
    "slideshow": {
     "slide_type": "-"
    }
   },
   "outputs": [],
   "source": [
    "print(\"0.1 = {0:.68f}\".format(0.1))\n",
    "print(\"0.35 = {0:.68f}\".format(0.35))\n",
    "print(\"0.45 = {0:.68f}\".format(0.45))"
   ]
  },
  {
   "cell_type": "markdown",
   "metadata": {
    "slideshow": {
     "slide_type": "subslide"
    }
   },
   "source": [
    "###### Комплексные числа\n",
    "\n",
    "Комплексным числом называется выражение вида ***a + ib***, где ***a*** и ***b*** – любые действительные числа, ***i*** – специальное число, которое называется мнимой единицей. В **Python** для обозначения мнимой единицы используется символ ***j***."
   ]
  },
  {
   "cell_type": "code",
   "execution_count": null,
   "metadata": {
    "ExecuteTime": {
     "end_time": "2021-02-19T16:07:24.737559Z",
     "start_time": "2021-02-19T16:07:24.724521Z"
    },
    "slideshow": {
     "slide_type": "-"
    }
   },
   "outputs": [],
   "source": [
    "3.5 + 7.8j"
   ]
  },
  {
   "cell_type": "code",
   "execution_count": null,
   "metadata": {
    "ExecuteTime": {
     "end_time": "2021-02-19T16:07:49.299193Z",
     "start_time": "2021-02-19T16:07:49.278739Z"
    },
    "slideshow": {
     "slide_type": "-"
    }
   },
   "outputs": [],
   "source": [
    "complex(3.5,7.8)"
   ]
  },
  {
   "cell_type": "code",
   "execution_count": null,
   "metadata": {
    "ExecuteTime": {
     "end_time": "2021-02-19T16:07:58.136440Z",
     "start_time": "2021-02-19T16:07:58.126616Z"
    },
    "slideshow": {
     "slide_type": "-"
    }
   },
   "outputs": [],
   "source": [
    "a = 8 + 12j"
   ]
  },
  {
   "cell_type": "code",
   "execution_count": null,
   "metadata": {
    "ExecuteTime": {
     "end_time": "2021-02-19T16:08:11.832290Z",
     "start_time": "2021-02-19T16:08:11.824709Z"
    },
    "slideshow": {
     "slide_type": "-"
    }
   },
   "outputs": [],
   "source": [
    "a.imag"
   ]
  },
  {
   "cell_type": "code",
   "execution_count": null,
   "metadata": {
    "ExecuteTime": {
     "end_time": "2021-02-19T16:08:19.269571Z",
     "start_time": "2021-02-19T16:08:19.255824Z"
    },
    "slideshow": {
     "slide_type": "-"
    }
   },
   "outputs": [],
   "source": [
    "a.real"
   ]
  },
  {
   "cell_type": "code",
   "execution_count": null,
   "metadata": {
    "ExecuteTime": {
     "end_time": "2021-02-19T16:08:27.983356Z",
     "start_time": "2021-02-19T16:08:27.976007Z"
    },
    "slideshow": {
     "slide_type": "-"
    }
   },
   "outputs": [],
   "source": [
    "a.conjugate()"
   ]
  },
  {
   "cell_type": "code",
   "execution_count": null,
   "metadata": {
    "ExecuteTime": {
     "end_time": "2021-02-19T16:08:34.356812Z",
     "start_time": "2021-02-19T16:08:34.342093Z"
    },
    "slideshow": {
     "slide_type": "-"
    }
   },
   "outputs": [],
   "source": [
    "abs(a)"
   ]
  },
  {
   "cell_type": "code",
   "execution_count": null,
   "metadata": {
    "ExecuteTime": {
     "end_time": "2021-02-19T16:08:43.141479Z",
     "start_time": "2021-02-19T16:08:43.131550Z"
    },
    "slideshow": {
     "slide_type": "-"
    }
   },
   "outputs": [],
   "source": [
    "b = 3 + 6j"
   ]
  },
  {
   "cell_type": "code",
   "execution_count": null,
   "metadata": {
    "ExecuteTime": {
     "end_time": "2021-02-19T16:08:47.515771Z",
     "start_time": "2021-02-19T16:08:47.505766Z"
    },
    "slideshow": {
     "slide_type": "-"
    }
   },
   "outputs": [],
   "source": [
    "a + b"
   ]
  },
  {
   "cell_type": "code",
   "execution_count": null,
   "metadata": {
    "ExecuteTime": {
     "end_time": "2021-02-19T16:08:55.153869Z",
     "start_time": "2021-02-19T16:08:55.146620Z"
    },
    "slideshow": {
     "slide_type": "-"
    }
   },
   "outputs": [],
   "source": [
    "a - b"
   ]
  },
  {
   "cell_type": "code",
   "execution_count": null,
   "metadata": {
    "ExecuteTime": {
     "end_time": "2021-02-19T16:08:57.894901Z",
     "start_time": "2021-02-19T16:08:57.888037Z"
    },
    "slideshow": {
     "slide_type": "-"
    }
   },
   "outputs": [],
   "source": [
    "a * b"
   ]
  },
  {
   "cell_type": "markdown",
   "metadata": {
    "slideshow": {
     "slide_type": "subslide"
    }
   },
   "source": [
    "###### Строковые переменные\n",
    "\n",
    "В языке **Python** реализовано две разновидности типа строк: <b>string</b> и <b>unicode-string</b>. Фактически строка — это последовательность символов. Строки–константы можно задать в программе с помощью строковых литералов. Для литералов наравне используются как апострофы <b> ' </b>, так и обычные двойные кавычки <b> \" </b>. Для многострочных литералов можно использовать утроенные апострофы или утроенные кавычки. Управляющие последовательности внутри строковых литералов задаются обратной косой чертой <b> \\ </b>. Набор операций над строками включает <b>конкатенацию +</b>, <b>повтор *</b>, <b>форматирование %</b>. При использовании форматирования после символа <b>%</b> должен стоять модификатор формата:\n",
    "* %c – подстановка <b>char</b>;\n",
    "* %d или %i – подстановка <b>int</b>;\n",
    "    * %o – то же в восьмеричной системе;\n",
    "    * %x – то же в шестнадцатеричной системе;\n",
    "* %u – подстановка <b>unsigned</b>;\n",
    "* %f, %lf – подстановка <b>float</b>, <b>double</b> в обычной форме;\n",
    "* %e, %le – то же в экспоненциальной форме;\n",
    "* %g, %lg – то же в форме, занимающей меньше места;\n",
    "* %s – подстановка строки <b>char*</b>\n",
    "* %% – вывод символа <b>%</b> (не является модификатором формата, так как не приводит к чтению аргумента)\n",
    "Также строки имеют большое количество методов обработки, некоторые из которых приведены ниже.<br/>\n",
    "Пустая строка задается идущими подряд парами <b>''</b>, <b>\"\"</b> или <b>\"\"\"\"\"\"</b>."
   ]
  },
  {
   "cell_type": "code",
   "execution_count": null,
   "metadata": {
    "ExecuteTime": {
     "end_time": "2021-02-19T16:16:31.101541Z",
     "start_time": "2021-02-19T16:16:31.095803Z"
    },
    "slideshow": {
     "slide_type": "-"
    }
   },
   "outputs": [],
   "source": [
    "s1 = 'Привет'\n",
    "print (s1)"
   ]
  },
  {
   "cell_type": "code",
   "execution_count": null,
   "metadata": {
    "ExecuteTime": {
     "end_time": "2021-02-19T16:16:44.161652Z",
     "start_time": "2021-02-19T16:16:44.151322Z"
    },
    "slideshow": {
     "slide_type": "-"
    }
   },
   "outputs": [],
   "source": [
    "s2 = \"Мир\"\n",
    "print (s2)"
   ]
  },
  {
   "cell_type": "code",
   "execution_count": null,
   "metadata": {
    "slideshow": {
     "slide_type": "-"
    }
   },
   "outputs": [],
   "source": [
    "s3 = s1 + ', ' + s2 + \" %d года \" % 2020 + '!!!'\n",
    "print (s3)"
   ]
  },
  {
   "cell_type": "code",
   "execution_count": null,
   "metadata": {
    "ExecuteTime": {
     "end_time": "2021-02-19T16:13:20.632090Z",
     "start_time": "2021-02-19T16:13:20.624452Z"
    },
    "slideshow": {
     "slide_type": "-"
    }
   },
   "outputs": [],
   "source": [
    "x = 12.3987\n",
    "print (\"x = %d\" % x)"
   ]
  },
  {
   "cell_type": "code",
   "execution_count": null,
   "metadata": {
    "ExecuteTime": {
     "end_time": "2021-02-19T16:13:37.403128Z",
     "start_time": "2021-02-19T16:13:37.391971Z"
    },
    "slideshow": {
     "slide_type": "-"
    }
   },
   "outputs": [],
   "source": [
    "print (\"x = %f\" % x)"
   ]
  },
  {
   "cell_type": "code",
   "execution_count": null,
   "metadata": {
    "ExecuteTime": {
     "end_time": "2021-02-19T16:14:03.304567Z",
     "start_time": "2021-02-19T16:14:03.290638Z"
    },
    "slideshow": {
     "slide_type": "-"
    }
   },
   "outputs": [],
   "source": [
    "print (\"x = %3.12f\" % x)"
   ]
  },
  {
   "cell_type": "code",
   "execution_count": null,
   "metadata": {
    "ExecuteTime": {
     "end_time": "2021-02-19T16:14:22.032071Z",
     "start_time": "2021-02-19T16:14:22.025173Z"
    },
    "slideshow": {
     "slide_type": "-"
    }
   },
   "outputs": [],
   "source": [
    "print (\"x = %e\" % x)"
   ]
  },
  {
   "cell_type": "code",
   "execution_count": null,
   "metadata": {
    "ExecuteTime": {
     "end_time": "2021-02-19T16:14:26.855130Z",
     "start_time": "2021-02-19T16:14:26.849384Z"
    },
    "slideshow": {
     "slide_type": "-"
    }
   },
   "outputs": [],
   "source": [
    "print (\"x = %E\" % x)"
   ]
  },
  {
   "cell_type": "code",
   "execution_count": null,
   "metadata": {
    "ExecuteTime": {
     "end_time": "2021-02-19T16:14:49.512342Z",
     "start_time": "2021-02-19T16:14:49.499396Z"
    },
    "slideshow": {
     "slide_type": "-"
    }
   },
   "outputs": [],
   "source": [
    "print (\"x = %g\" % x)"
   ]
  },
  {
   "cell_type": "code",
   "execution_count": null,
   "metadata": {
    "ExecuteTime": {
     "end_time": "2021-02-19T16:16:52.111161Z",
     "start_time": "2021-02-19T16:16:52.099331Z"
    },
    "slideshow": {
     "slide_type": "-"
    }
   },
   "outputs": [],
   "source": [
    "print (s1 + \", %s %d %s\" % (s2, 2020, \" года !!!\")) "
   ]
  },
  {
   "cell_type": "markdown",
   "metadata": {
    "slideshow": {
     "slide_type": "-"
    }
   },
   "source": [
    "Более удобно, в практическом отношении, при формироании сложных строк вывода разнородной информации использование метода <b>.format</b> типа (класса) <b>string</b>."
   ]
  },
  {
   "cell_type": "code",
   "execution_count": null,
   "metadata": {
    "ExecuteTime": {
     "end_time": "2021-02-19T16:18:00.862187Z",
     "start_time": "2021-02-19T16:18:00.855008Z"
    },
    "slideshow": {
     "slide_type": "-"
    }
   },
   "outputs": [],
   "source": [
    "s4 = \"{}, {} {} года !!!\".format(s1, s2, 2020)\n",
    "print (s4)"
   ]
  },
  {
   "cell_type": "markdown",
   "metadata": {},
   "source": [
    "В **Python** ветки 3.Х.Х реализован механизм **f**-строк. "
   ]
  },
  {
   "cell_type": "code",
   "execution_count": null,
   "metadata": {
    "ExecuteTime": {
     "end_time": "2021-02-19T16:18:41.512558Z",
     "start_time": "2021-02-19T16:18:41.500150Z"
    }
   },
   "outputs": [],
   "source": [
    "x = 3\n",
    "print(f'Переменная х имеет значение {x} !!!')"
   ]
  },
  {
   "cell_type": "markdown",
   "metadata": {
    "slideshow": {
     "slide_type": "-"
    }
   },
   "source": [
    "Так как в языке **Python** строки - это последовательности символов, то со строками можно работать обращаясь к отдельным символам по индексам положения. Индексирование символьных последовательностей в **Python** начинается с нуля и нумеруются не только символы но и промежутки между ними (как явные так и мнимые)."
   ]
  },
  {
   "cell_type": "code",
   "execution_count": null,
   "metadata": {
    "ExecuteTime": {
     "end_time": "2021-02-19T16:20:53.950998Z",
     "start_time": "2021-02-19T16:20:53.932446Z"
    },
    "slideshow": {
     "slide_type": "-"
    }
   },
   "outputs": [],
   "source": [
    "print (s4)\n",
    "print (s4[:])\n",
    "print (s4[0:2])\n",
    "print (s4[2:4])\n",
    "print (s4[4:6])\n",
    "print (s4[6:8])\n",
    "print (s4[8:10])\n",
    "print (s4[10:12])"
   ]
  },
  {
   "cell_type": "code",
   "execution_count": null,
   "metadata": {
    "ExecuteTime": {
     "end_time": "2021-02-19T16:21:28.474822Z",
     "start_time": "2021-02-19T16:21:28.463966Z"
    },
    "slideshow": {
     "slide_type": "-"
    }
   },
   "outputs": [],
   "source": [
    "s5 = s4.split()"
   ]
  },
  {
   "cell_type": "code",
   "execution_count": null,
   "metadata": {
    "ExecuteTime": {
     "end_time": "2021-02-19T16:21:50.817855Z",
     "start_time": "2021-02-19T16:21:50.803294Z"
    },
    "slideshow": {
     "slide_type": "-"
    }
   },
   "outputs": [],
   "source": [
    "print (s5[0])\n",
    "print (s5[1])\n",
    "print (s5[2])\n",
    "print (s5[3])\n",
    "print (s5[4])"
   ]
  },
  {
   "cell_type": "code",
   "execution_count": null,
   "metadata": {
    "ExecuteTime": {
     "end_time": "2021-02-19T16:22:26.081406Z",
     "start_time": "2021-02-19T16:22:26.076549Z"
    },
    "slideshow": {
     "slide_type": "-"
    }
   },
   "outputs": [],
   "source": [
    "s5 = s4.split(',')"
   ]
  },
  {
   "cell_type": "code",
   "execution_count": null,
   "metadata": {
    "ExecuteTime": {
     "end_time": "2021-02-19T16:22:28.084985Z",
     "start_time": "2021-02-19T16:22:28.073542Z"
    },
    "slideshow": {
     "slide_type": "-"
    }
   },
   "outputs": [],
   "source": [
    "print (s5[0])\n",
    "print (s5[1])"
   ]
  },
  {
   "cell_type": "code",
   "execution_count": null,
   "metadata": {
    "slideshow": {
     "slide_type": "-"
    }
   },
   "outputs": [],
   "source": [
    "s5 = s4.split('р')"
   ]
  },
  {
   "cell_type": "code",
   "execution_count": null,
   "metadata": {
    "slideshow": {
     "slide_type": "-"
    }
   },
   "outputs": [],
   "source": [
    "print (s5[0])\n",
    "print (s5[1])\n",
    "print (s5[2])"
   ]
  },
  {
   "cell_type": "code",
   "execution_count": null,
   "metadata": {},
   "outputs": [],
   "source": [
    "s5 = s4.split('иве')"
   ]
  },
  {
   "cell_type": "code",
   "execution_count": null,
   "metadata": {},
   "outputs": [],
   "source": [
    "print (s5[0])\n",
    "print (s5[1])"
   ]
  },
  {
   "cell_type": "markdown",
   "metadata": {
    "slideshow": {
     "slide_type": "-"
    }
   },
   "source": [
    " Unicode-строки задаются с помощью префикса **u** перед кавычками самой строки."
   ]
  },
  {
   "cell_type": "code",
   "execution_count": null,
   "metadata": {
    "ExecuteTime": {
     "end_time": "2021-02-19T16:23:20.199482Z",
     "start_time": "2021-02-19T16:23:20.189737Z"
    },
    "slideshow": {
     "slide_type": "-"
    }
   },
   "outputs": [],
   "source": [
    "s6 = u\"Привет, Мир 2019 года !!!\"\n",
    "print (s6)"
   ]
  },
  {
   "cell_type": "code",
   "execution_count": null,
   "metadata": {
    "ExecuteTime": {
     "end_time": "2021-02-19T16:23:44.327924Z",
     "start_time": "2021-02-19T16:23:44.321607Z"
    },
    "slideshow": {
     "slide_type": "-"
    }
   },
   "outputs": [],
   "source": [
    "s7 = \"Привет, \\nМир 2019 года !!!\"\n",
    "print (s7)"
   ]
  },
  {
   "cell_type": "code",
   "execution_count": null,
   "metadata": {
    "ExecuteTime": {
     "end_time": "2021-02-19T16:24:13.352831Z",
     "start_time": "2021-02-19T16:24:13.341042Z"
    },
    "slideshow": {
     "slide_type": "-"
    }
   },
   "outputs": [],
   "source": [
    "s8 = \"\"\"Привет,  \n",
    "Мир 2019 года !!!\"\"\"\n",
    "print (s8)"
   ]
  },
  {
   "cell_type": "code",
   "execution_count": null,
   "metadata": {
    "ExecuteTime": {
     "end_time": "2021-02-19T16:24:34.583526Z",
     "start_time": "2021-02-19T16:24:34.577127Z"
    },
    "slideshow": {
     "slide_type": "-"
    }
   },
   "outputs": [],
   "source": [
    "s9 = \"\\\"Привет, \\nМир 2019 года !!!\\\"\"\n",
    "print (s9)"
   ]
  },
  {
   "cell_type": "markdown",
   "metadata": {
    "slideshow": {
     "slide_type": "subslide"
    }
   },
   "source": [
    "###### Переменные типа кортеж\n",
    "\n",
    "В языке **Python** для представления константной последовательности объектов (разнородных)  реализован тип **tuple** (кортеж). Литерал кортежа обычно записывается в круглых скобках и допускает обращение к элементам по индексу. Пустой кортеж задается парой **()**.\n"
   ]
  },
  {
   "cell_type": "code",
   "execution_count": null,
   "metadata": {
    "ExecuteTime": {
     "end_time": "2021-02-19T16:25:07.648750Z",
     "start_time": "2021-02-19T16:25:07.643325Z"
    },
    "slideshow": {
     "slide_type": "-"
    }
   },
   "outputs": [],
   "source": [
    "p = (1.235, 7.983, 12.165) # пример записи положения точки в трехмерном пространстве"
   ]
  },
  {
   "cell_type": "code",
   "execution_count": null,
   "metadata": {
    "ExecuteTime": {
     "end_time": "2021-02-19T16:25:19.388516Z",
     "start_time": "2021-02-19T16:25:19.370584Z"
    },
    "slideshow": {
     "slide_type": "-"
    }
   },
   "outputs": [],
   "source": [
    "print (p[0])\n",
    "print (p[1])\n",
    "print (p[2])"
   ]
  },
  {
   "cell_type": "code",
   "execution_count": null,
   "metadata": {
    "ExecuteTime": {
     "end_time": "2021-02-19T16:26:03.949025Z",
     "start_time": "2021-02-19T16:26:03.936961Z"
    },
    "slideshow": {
     "slide_type": "-"
    }
   },
   "outputs": [],
   "source": [
    "Names = (\"Андрей\", \"Дмитрий\", \"Иван\", \"Вера\", \"Надежда\", \"Любовь\")"
   ]
  },
  {
   "cell_type": "code",
   "execution_count": null,
   "metadata": {
    "ExecuteTime": {
     "end_time": "2021-02-19T16:26:46.552833Z",
     "start_time": "2021-02-19T16:26:46.544026Z"
    },
    "slideshow": {
     "slide_type": "-"
    }
   },
   "outputs": [],
   "source": [
    "for Name in Names:\n",
    "    print (Name)"
   ]
  },
  {
   "cell_type": "markdown",
   "metadata": {
    "slideshow": {
     "slide_type": "-"
    }
   },
   "source": [
    "Использовать синтаксис кортежей можно и в левой части оператора присваивания. В этом случае на основе вычисленных справа значений формируется кортеж и связывается один в один с именами в левой части."
   ]
  },
  {
   "cell_type": "code",
   "execution_count": null,
   "metadata": {
    "ExecuteTime": {
     "end_time": "2021-02-19T16:27:13.946940Z",
     "start_time": "2021-02-19T16:27:13.939282Z"
    },
    "slideshow": {
     "slide_type": "-"
    }
   },
   "outputs": [],
   "source": [
    "a = 100.0\n",
    "b = 300\n",
    "print (a, b)"
   ]
  },
  {
   "cell_type": "code",
   "execution_count": null,
   "metadata": {
    "ExecuteTime": {
     "end_time": "2021-02-19T16:27:31.235184Z",
     "start_time": "2021-02-19T16:27:31.228181Z"
    },
    "slideshow": {
     "slide_type": "-"
    }
   },
   "outputs": [],
   "source": [
    "a,b = b,a\n",
    "print (a, b)"
   ]
  },
  {
   "cell_type": "markdown",
   "metadata": {
    "slideshow": {
     "slide_type": "subslide"
    }
   },
   "source": [
    "###### Переменные типа список\n",
    "\n",
    "В \"чистом\" языке **Python** нет массивов с произвольным типом элемента. Вместо них используются списки <b>list</b>. Их можно задать с помощью литералов, записываемых в квадратных скобках, или посредством списковых включений. Пустой список задается идущими квадратными скобками <b>[]</b>. "
   ]
  },
  {
   "cell_type": "code",
   "execution_count": null,
   "metadata": {
    "ExecuteTime": {
     "end_time": "2021-02-19T16:27:54.129148Z",
     "start_time": "2021-02-19T16:27:54.121038Z"
    },
    "slideshow": {
     "slide_type": "-"
    }
   },
   "outputs": [],
   "source": [
    "lst1 = [1, 2, 3]\n",
    "print (lst1)"
   ]
  },
  {
   "cell_type": "code",
   "execution_count": null,
   "metadata": {
    "ExecuteTime": {
     "end_time": "2021-02-19T16:29:00.833577Z",
     "start_time": "2021-02-19T16:29:00.827159Z"
    },
    "slideshow": {
     "slide_type": "-"
    }
   },
   "outputs": [],
   "source": [
    "lst2 = [x**2 for x in range(21) if x % 2 == 0]\n",
    "print (lst2)"
   ]
  },
  {
   "cell_type": "markdown",
   "metadata": {
    "slideshow": {
     "slide_type": "-"
    }
   },
   "source": [
    "<center><b>Некоторые методы работы со списками</b></center>\n",
    "<table><tr align=\"left\"><th align=\"left\" valign=\"top\">Синтаксис</th><th align=\"left\" valign=\"top\">Семантика</th></tr><tr align=\"left\"><td align=\"left\" valign=\"top\" width=\"100\"><code>len(s)</code></td><td align=\"left\" valign=\"top\">Длина последовательности <code>s</code></td></tr><tr align=\"left\"><td align=\"left\" valign=\"top\"><code>x in s</code></td><td align=\"left\" valign=\"top\">Проверка принадлежности элемента последовательности. В новых версиях Python можно проверять принадлежность подстроки строке. Возвращает <code>True</code> или <code>False</code></td></tr><tr align=\"left\"><td align=\"left\" valign=\"top\"><code>x not in s</code></td><td align=\"left\" valign=\"top\"><code>= not x in s</code></td></tr><tr align=\"left\"><td align=\"left\" valign=\"top\"><code>s + s1</code></td><td align=\"left\" valign=\"top\">Конкатенация последовательностей</td></tr><tr align=\"left\"><td align=\"left\" valign=\"top\"><code>s*n</code> или <code>n*s</code></td><td align=\"left\" valign=\"top\">Последовательность из <code>n</code> раз повторенной <code>s</code>. Если <code>n &lt; 0</code>, возвращается пустая последовательность.</td></tr><tr align=\"left\"><td align=\"left\" valign=\"top\"><code>s[i]</code></td><td align=\"left\" valign=\"top\">Возвращает <code>i</code>–й элемент <code>s</code> или <code>len(s)+i</code>–й, если <code>i</code> &lt; 0</td></tr><tr align=\"left\"><td align=\"left\" valign=\"top\"><code>s[i:j:d]</code></td><td align=\"left\" valign=\"top\">Срез из последовательности <code>s</code> от <code>i</code> до <code>j</code> с шагом <code>d</code> будет рассматриваться ниже</td></tr><tr align=\"left\"><td align=\"left\" valign=\"top\"><code>min(s)</code></td><td align=\"left\" valign=\"top\">Наименьший элемент <code>s</code></td></tr><tr align=\"left\"><td align=\"left\" valign=\"top\"><code>max(s)</code></td><td align=\"left\" valign=\"top\">Наибольший элемент <code>s</code></td></tr></table>\n",
    "<center><b>Дополнительные конструкции для изменяемых последовательностей</b></center>\n",
    "<table><tr align=\"left\"><td align=\"left\" valign=\"top\"><code>s[i] = x</code></td><td align=\"left\" valign=\"top\"><code>i</code>–й элемент списка <code>s</code> заменяется на <code>x</code></td></tr><tr align=\"left\"><td align=\"left\" valign=\"top\"><code>s[i:j:d] = t</code></td><td align=\"left\" valign=\"top\">Срез от <code>i</code> до <code>j</code> (с шагом <code>d</code>) заменяется на (список) <code>t</code></td></tr><tr align=\"left\"><td align=\"left\" valign=\"top\"><code>del s[i:j:d]</code></td><td align=\"left\" valign=\"top\">Удаление элементов среза из последовательности</td></tr></table>\n",
    "<center><b>Ряд методов изменяемых последовательностей (например, списков)</b></center>\n",
    "<table><tr align=\"left\"><th align=\"left\" valign=\"top\">Метод</th><th align=\"left\" valign=\"top\">Описание</th></tr><tr align=\"left\"><td align=\"left\" valign=\"top\"><code>append(x)</code></td><td align=\"left\" valign=\"top\">Добавляет элемент в конец последовательности</td></tr><tr align=\"left\"><td align=\"left\" valign=\"top\"><code>count(x)</code></td><td align=\"left\" valign=\"top\">Считает количество элементов, равных <code>x</code></td></tr><tr align=\"left\"><td align=\"left\" valign=\"top\"><code>extend(s)</code></td><td align=\"left\" valign=\"top\">Добавляет к концу последовательности <code>последовательность</code> </td></tr><tr align=\"left\"><td align=\"left\" valign=\"top\"><code>index(x)</code></td><td align=\"left\" valign=\"top\">Возвращает наименьшее <code>i</code>, такое, что <code>s[i] == x</code>. Возбуждает исключение <code>ValueError</code>, если <code>x</code> не найден в <code>s</code></td></tr><tr align=\"left\"><td align=\"left\" valign=\"top\"><code>insert(i, x)</code></td><td align=\"left\" valign=\"top\">Вставляет элемент <code>x</code> в <code>i</code>–й промежуток</td></tr><tr align=\"left\"><td align=\"left\" valign=\"top\"><code>pop(i)</code></td><td align=\"left\" valign=\"top\">Возвращает <code>i</code>–й элемент, удаляя его из последовательности</td></tr><tr align=\"left\"><td align=\"left\" valign=\"top\"><code>reverse()</code></td><td align=\"left\" valign=\"top\">Меняет порядок элементов <code>s</code> на обратный</td></tr><tr align=\"left\"><td align=\"left\" valign=\"top\"><code>sort([cmpfunc])</code></td><td align=\"left\" valign=\"top\">Сортирует элементы <code>s</code>. Может быть указана своя функция сравнения <code>cmpfunc</code></td></tr></table>\n"
   ]
  },
  {
   "cell_type": "code",
   "execution_count": null,
   "metadata": {
    "slideshow": {
     "slide_type": "-"
    }
   },
   "outputs": [],
   "source": [
    "lst3 = [1, 2, 3, 4, 5, 6, 7, 8, 9, 10]\n",
    "print (lst3)"
   ]
  },
  {
   "cell_type": "code",
   "execution_count": null,
   "metadata": {
    "slideshow": {
     "slide_type": "-"
    }
   },
   "outputs": [],
   "source": [
    "print (lst3[0], lst3[3], lst3[-1], lst3[-3])"
   ]
  },
  {
   "cell_type": "code",
   "execution_count": null,
   "metadata": {
    "slideshow": {
     "slide_type": "-"
    }
   },
   "outputs": [],
   "source": [
    "lst3[3] = 100\n",
    "print (lst3)"
   ]
  },
  {
   "cell_type": "code",
   "execution_count": null,
   "metadata": {
    "slideshow": {
     "slide_type": "-"
    }
   },
   "outputs": [],
   "source": [
    "del lst3[3]\n",
    "print (lst3)"
   ]
  },
  {
   "cell_type": "markdown",
   "metadata": {
    "slideshow": {
     "slide_type": "-"
    }
   },
   "source": [
    "<br/>\n",
    "<center><b>Взятие элемента по индексу и срезы</b></center>\n",
    "<br/>\n",
    "Следует сказать несколько слов об индексировании последовательностей и выделении подпоследовательностей по индексам. Для получения отдельного элемента последовательности используются квадратные скобки, в которых стоит выражение, дающее индекс. Как уже отмечалось индексы последовательностей в **Python** начинаются с нуля. Отрицательные индексы служат для отсчета элементов с конца последовательности (<code>-1</code> — последний элемент). Работа со срезами требует особого внимания потому, что в **Python** при взятии среза последовательности принято нумеровать не элементы, а промежутки между ними. Перед нулевым (по индексу) элементом последовательности промежуток имеет номер 0, после него 1 и т.д.. Отрицательные значения отсчитывают промежутки с конца строки. Для записи срезов используется следующий синтаксис:\n",
    "<center><b>последовательность[нач:кон:шаг]</b></center><br>\n",
    "где <b>нач</b> — промежуток начала среза, <b>кон</b> — конца среза, <b>шаг</b> — шаг. По умолчанию <b>нач = 0</b>, <b>кон = len(последовательность)</b>, <b>шаг = 1</b>, если шаг не указан, второе двоеточие можно опустить."
   ]
  },
  {
   "cell_type": "code",
   "execution_count": null,
   "metadata": {
    "ExecuteTime": {
     "end_time": "2021-02-19T16:33:15.232088Z",
     "start_time": "2021-02-19T16:33:15.218619Z"
    },
    "slideshow": {
     "slide_type": "-"
    }
   },
   "outputs": [],
   "source": [
    "r1 = range(21)\n",
    "print (r1)"
   ]
  },
  {
   "cell_type": "code",
   "execution_count": null,
   "metadata": {
    "ExecuteTime": {
     "end_time": "2021-02-19T16:33:34.997085Z",
     "start_time": "2021-02-19T16:33:34.986083Z"
    },
    "slideshow": {
     "slide_type": "-"
    }
   },
   "outputs": [],
   "source": [
    "print (r1[0:6])\n",
    "print (r1[-6:len(r1)])\n",
    "print (r1[0:-1:2])"
   ]
  },
  {
   "cell_type": "code",
   "execution_count": null,
   "metadata": {
    "ExecuteTime": {
     "end_time": "2021-02-19T16:33:54.116552Z",
     "start_time": "2021-02-19T16:33:54.105379Z"
    },
    "slideshow": {
     "slide_type": "-"
    }
   },
   "outputs": [],
   "source": [
    "r1[0:0] = [-1, -1, -1]\n",
    "print (r1)"
   ]
  },
  {
   "cell_type": "code",
   "execution_count": null,
   "metadata": {
    "ExecuteTime": {
     "end_time": "2021-02-19T16:36:15.959340Z",
     "start_time": "2021-02-19T16:36:15.947154Z"
    }
   },
   "outputs": [],
   "source": [
    "r1 = list(r1)\n",
    "print (r1)"
   ]
  },
  {
   "cell_type": "code",
   "execution_count": null,
   "metadata": {
    "ExecuteTime": {
     "end_time": "2021-02-19T16:36:24.712568Z",
     "start_time": "2021-02-19T16:36:24.704337Z"
    }
   },
   "outputs": [],
   "source": [
    "r1[0:0] = [-1, -1, -1]\n",
    "print (r1)"
   ]
  },
  {
   "cell_type": "code",
   "execution_count": null,
   "metadata": {
    "slideshow": {
     "slide_type": "-"
    }
   },
   "outputs": [],
   "source": [
    "r1[len(r1):len(r1)] = [-1, -1, -1]\n",
    "print (r1)"
   ]
  },
  {
   "cell_type": "code",
   "execution_count": null,
   "metadata": {
    "slideshow": {
     "slide_type": "-"
    }
   },
   "outputs": [],
   "source": [
    "r1[6:8] = [-1, -1, -1]\n",
    "print (r1)"
   ]
  },
  {
   "cell_type": "markdown",
   "metadata": {
    "slideshow": {
     "slide_type": "subslide"
    }
   },
   "source": [
    "###### Переменные типа словарь \n",
    "\n",
    "Словарь <b>dict</b> — это изменчивая структура данных для хранения пар ключ–значение, где значение однозначно определяется ключом. В качестве ключа может выступать неизменчивый тип данных (число, строка, кортеж и т.п.). Порядок пар ключ–значение произволен. Пустой словарь задается идущими подряд фигурными скобками <b>{}</b>. \n"
   ]
  },
  {
   "cell_type": "code",
   "execution_count": null,
   "metadata": {
    "ExecuteTime": {
     "end_time": "2021-02-26T13:50:12.781571Z",
     "start_time": "2021-02-26T13:50:12.767772Z"
    },
    "slideshow": {
     "slide_type": "-"
    }
   },
   "outputs": [],
   "source": [
    "d = {1: 'one', 2: 'two', 3: 'three', 4: 'four'}\n",
    "print (d)"
   ]
  },
  {
   "cell_type": "code",
   "execution_count": null,
   "metadata": {
    "ExecuteTime": {
     "end_time": "2021-02-26T13:50:37.972148Z",
     "start_time": "2021-02-26T13:50:37.966160Z"
    },
    "slideshow": {
     "slide_type": "-"
    }
   },
   "outputs": [],
   "source": [
    "d[0] = 'zero'\n",
    "print (d)"
   ]
  },
  {
   "cell_type": "code",
   "execution_count": null,
   "metadata": {
    "ExecuteTime": {
     "end_time": "2021-02-26T13:50:52.150985Z",
     "start_time": "2021-02-26T13:50:51.296509Z"
    },
    "slideshow": {
     "slide_type": "-"
    }
   },
   "outputs": [],
   "source": [
    "print (d[2])\n",
    "print (d['two'])"
   ]
  },
  {
   "cell_type": "code",
   "execution_count": null,
   "metadata": {
    "ExecuteTime": {
     "end_time": "2021-02-26T13:53:12.729782Z",
     "start_time": "2021-02-26T13:53:12.722118Z"
    },
    "slideshow": {
     "slide_type": "-"
    }
   },
   "outputs": [],
   "source": [
    "print (d.items())\n",
    "print (d.keys())\n",
    "print (d.values())"
   ]
  },
  {
   "cell_type": "code",
   "execution_count": null,
   "metadata": {},
   "outputs": [],
   "source": []
  },
  {
   "cell_type": "code",
   "execution_count": null,
   "metadata": {
    "ExecuteTime": {
     "end_time": "2021-02-26T13:55:39.244603Z",
     "start_time": "2021-02-26T13:55:39.237897Z"
    },
    "slideshow": {
     "slide_type": "-"
    }
   },
   "outputs": [],
   "source": [
    "# цикл по всему словарю\n",
    "for key, val in d.items(): \n",
    "    print (key, val)\n"
   ]
  },
  {
   "cell_type": "code",
   "execution_count": null,
   "metadata": {
    "ExecuteTime": {
     "end_time": "2021-02-26T13:55:49.678163Z",
     "start_time": "2021-02-26T13:55:49.670489Z"
    },
    "slideshow": {
     "slide_type": "-"
    }
   },
   "outputs": [],
   "source": [
    "# цикл по значениям словаря\n",
    "for val in d.values(): \n",
    "    print (val)\n"
   ]
  },
  {
   "cell_type": "code",
   "execution_count": null,
   "metadata": {
    "ExecuteTime": {
     "end_time": "2021-02-26T13:56:21.824233Z",
     "start_time": "2021-02-26T13:56:21.811734Z"
    },
    "slideshow": {
     "slide_type": "-"
    }
   },
   "outputs": [],
   "source": [
    "# пополняется словарь из другого\n",
    "d5 = {5:'five'}\n",
    "d.update(d5)\n",
    "print (d)"
   ]
  },
  {
   "cell_type": "code",
   "execution_count": null,
   "metadata": {
    "ExecuteTime": {
     "end_time": "2021-02-26T13:57:06.000115Z",
     "start_time": "2021-02-26T13:57:05.995797Z"
    },
    "slideshow": {
     "slide_type": "-"
    }
   },
   "outputs": [],
   "source": [
    "# количество пар в словаре\n",
    "print (len(d)) "
   ]
  },
  {
   "cell_type": "code",
   "execution_count": null,
   "metadata": {
    "ExecuteTime": {
     "end_time": "2021-02-26T13:57:35.421908Z",
     "start_time": "2021-02-26T13:57:35.414351Z"
    },
    "slideshow": {
     "slide_type": "-"
    }
   },
   "outputs": [],
   "source": [
    "# удаляется пара ключ–значение с данным ключом\n",
    "del d[3]\n",
    "print (d)\n",
    "print (len(d)) "
   ]
  },
  {
   "cell_type": "code",
   "execution_count": null,
   "metadata": {},
   "outputs": [],
   "source": []
  },
  {
   "cell_type": "markdown",
   "metadata": {
    "slideshow": {
     "slide_type": "subslide"
    }
   },
   "source": [
    "###### Переменные типа boolean\n",
    "\n",
    "В языке **Python** реализовано подмножество целочисленного типа для обозначения логических величин. В это подмножество включены два значения: <b>True (истина)</b> и <b>False (ложь)</b> — это все, что принадлежит типу <b>bool</b>. В языке **Python** логическое значение несет каждый объект: нули, пустые строки и последовательности, специальный объект <b>None</b> и логический литерал <b>False</b> имеют значение «ложь», а прочие объекты значение «истина». Для обозначения истины обычно используется <b>1</b> или <b>True</b>. Операции сравнения: <b> < </b>, <b> > </b>, <b> == </b>, <b>!=</b>. Для задания составных условий служат операторы <b>or</b> и <b>and</b>. "
   ]
  },
  {
   "cell_type": "code",
   "execution_count": null,
   "metadata": {
    "ExecuteTime": {
     "end_time": "2021-02-26T14:00:49.674008Z",
     "start_time": "2021-02-26T14:00:49.664800Z"
    },
    "slideshow": {
     "slide_type": "-"
    }
   },
   "outputs": [],
   "source": [
    "result = (42 < 58)\n",
    "result"
   ]
  },
  {
   "cell_type": "code",
   "execution_count": null,
   "metadata": {
    "ExecuteTime": {
     "end_time": "2021-02-26T14:01:19.976131Z",
     "start_time": "2021-02-26T14:01:19.969409Z"
    },
    "slideshow": {
     "slide_type": "-"
    }
   },
   "outputs": [],
   "source": [
    "type(result)"
   ]
  },
  {
   "cell_type": "code",
   "execution_count": null,
   "metadata": {
    "ExecuteTime": {
     "end_time": "2021-02-26T14:01:50.902954Z",
     "start_time": "2021-02-26T14:01:50.884066Z"
    },
    "slideshow": {
     "slide_type": "-"
    }
   },
   "outputs": [],
   "source": [
    "print (bool(0))\n",
    "print (bool(2018))\n",
    "print (bool(0.0))\n",
    "print (bool(3.141592654))\n",
    "print (bool(\"\"))\n",
    "print (bool(\"A\"))\n",
    "print (bool([]))\n",
    "print (bool([20]))\n",
    "print (bool(()))\n",
    "print (bool((20)))\n",
    "print (bool({}))\n",
    "print (bool({\"tw\":20}))"
   ]
  },
  {
   "cell_type": "markdown",
   "metadata": {
    "slideshow": {
     "slide_type": "subslide"
    }
   },
   "source": [
    "###### Переменные типа файл\n",
    "\n",
    "Объекты типа <b>file</b> предназначены для работы с внешними данными. В простейшен случае файл - это текстовый документ на носителе данных. Помимо текстовых существуют различные форматы прямого доступа к данным в файлах. Как правило файловые объекты поддерживают методы: ***read(), readline(), readlines(), write(), writeline(), writelines(), seek(), tell(), close()*** и т.п.\n"
   ]
  },
  {
   "cell_type": "code",
   "execution_count": null,
   "metadata": {
    "ExecuteTime": {
     "end_time": "2021-02-26T14:12:22.215198Z",
     "start_time": "2021-02-26T14:12:22.208291Z"
    },
    "slideshow": {
     "slide_type": "-"
    }
   },
   "outputs": [],
   "source": [
    "f1 = open('WORK_SPACE/File1.out','w')\n",
    "Lines1 = []\n",
    "for i in range(21):\n",
    "    Lines1.append('Привет, Мир 2021 года !!!\\n')\n",
    "    \n",
    "f1.writelines(Lines1)\n",
    "f1.close()"
   ]
  },
  {
   "cell_type": "code",
   "execution_count": null,
   "metadata": {
    "ExecuteTime": {
     "end_time": "2021-02-26T14:15:13.861632Z",
     "start_time": "2021-02-26T14:15:13.855297Z"
    },
    "slideshow": {
     "slide_type": "-"
    }
   },
   "outputs": [],
   "source": [
    "f2 = open('WORK_SPACE/File1.out','r')\n",
    "Lines2 = []\n",
    "Lines2 = f2.readlines()\n",
    "f2.close()"
   ]
  },
  {
   "cell_type": "code",
   "execution_count": null,
   "metadata": {
    "ExecuteTime": {
     "end_time": "2021-02-26T14:16:14.282521Z",
     "start_time": "2021-02-26T14:16:14.268315Z"
    },
    "slideshow": {
     "slide_type": "-"
    }
   },
   "outputs": [],
   "source": [
    "for ln in Lines2[3:6]:\n",
    "    print (ln)"
   ]
  },
  {
   "cell_type": "markdown",
   "metadata": {
    "slideshow": {
     "slide_type": "subslide"
    }
   },
   "source": [
    "<p style=\"text-align: center; font-size: 28pt; font-weight: bold; color: rgb(0, 0, 190); padding: 20px; margin-top: -1%;\">Основные алгоритмические конструкции Python</p>\n",
    "\n",
    "Предполагается, что **Python** не первый язык прoграммирования и слушатели уже умеют программировать хотя бы на уровне школьной программы.  Поэтому далее будут приведены примеры алгоритмических конструкций **Python**, а не синтаксические диаграммы или формы.\n",
    "\n",
    "###### Операторы условия и выбора\n",
    "\n",
    "При написании более-менее сложных программ не удается обойтись простыми последовательными действиями и возникает необходимость обработки некоторых условий и организации ветвлений. Для обеспечения такой возможности в языке **Python** служит условный оператор или оператор выбора. Рассмотри некоторые конструкции оператора выбора на примерах.\n"
   ]
  },
  {
   "cell_type": "code",
   "execution_count": null,
   "metadata": {
    "ExecuteTime": {
     "end_time": "2021-02-26T14:18:29.804348Z",
     "start_time": "2021-02-26T14:18:29.798381Z"
    },
    "slideshow": {
     "slide_type": "-"
    }
   },
   "outputs": [],
   "source": [
    "a = 1\n",
    "b = 2\n",
    "if a == 1:\n",
    "    print (a)"
   ]
  },
  {
   "cell_type": "code",
   "execution_count": null,
   "metadata": {
    "ExecuteTime": {
     "end_time": "2021-02-26T14:18:45.541283Z",
     "start_time": "2021-02-26T14:18:45.533362Z"
    },
    "slideshow": {
     "slide_type": "-"
    }
   },
   "outputs": [],
   "source": [
    "a = 5\n",
    "if a == 1:\n",
    "    print (a)\n",
    "else:\n",
    "    print (b)"
   ]
  },
  {
   "cell_type": "code",
   "execution_count": null,
   "metadata": {
    "ExecuteTime": {
     "end_time": "2021-02-26T14:19:31.400607Z",
     "start_time": "2021-02-26T14:19:31.391156Z"
    },
    "slideshow": {
     "slide_type": "-"
    }
   },
   "outputs": [],
   "source": [
    "a = 5\n",
    "b = 3\n",
    "if a == 1:\n",
    "    print (a)\n",
    "elif b == 2:\n",
    "    print (b)\n",
    "else:\n",
    "    print (a+b)"
   ]
  },
  {
   "cell_type": "code",
   "execution_count": null,
   "metadata": {
    "ExecuteTime": {
     "end_time": "2021-02-26T14:19:53.308317Z",
     "start_time": "2021-02-26T14:19:53.298045Z"
    },
    "slideshow": {
     "slide_type": "-"
    }
   },
   "outputs": [],
   "source": [
    "a = 1\n",
    "b = 2\n",
    "if a == 1 and b == 2:\n",
    "    print (a - b)"
   ]
  },
  {
   "cell_type": "code",
   "execution_count": null,
   "metadata": {
    "ExecuteTime": {
     "end_time": "2021-02-26T14:19:56.523292Z",
     "start_time": "2021-02-26T14:19:56.516624Z"
    },
    "slideshow": {
     "slide_type": "-"
    }
   },
   "outputs": [],
   "source": [
    "a = 3\n",
    "b = 5\n",
    "if a == 1 or b == 5:\n",
    "    print (a + b)"
   ]
  },
  {
   "cell_type": "markdown",
   "metadata": {
    "slideshow": {
     "slide_type": "-"
    }
   },
   "source": [
    "###### Операторы цикла\n",
    "\n",
    "Ещё одной необходимой алгоритмической конструкцией является цикл. С помощью цикла можно описать повторяющиеся действия. В языке **Python** имеются два вида циклов: цикл <b>for</b> (ДЛЯ всех значений последовательности) и цикл <b>while</b> (ПОКА выполняется некоторое условие)."
   ]
  },
  {
   "cell_type": "code",
   "execution_count": null,
   "metadata": {
    "ExecuteTime": {
     "end_time": "2021-02-26T14:22:33.690058Z",
     "start_time": "2021-02-26T14:22:33.683792Z"
    },
    "slideshow": {
     "slide_type": "-"
    }
   },
   "outputs": [],
   "source": [
    "str1 = \"abcdefghijklmopqrstvuwxyz\"\n",
    "for ch in str1[:3]:\n",
    "    print (ch)"
   ]
  },
  {
   "cell_type": "code",
   "execution_count": null,
   "metadata": {
    "ExecuteTime": {
     "end_time": "2021-02-26T14:23:27.274159Z",
     "start_time": "2021-02-26T14:23:27.264364Z"
    },
    "slideshow": {
     "slide_type": "-"
    }
   },
   "outputs": [],
   "source": [
    "while str1 != \"\":\n",
    "    print (str1)\n",
    "    str1 = str1[1:-1]"
   ]
  },
  {
   "cell_type": "markdown",
   "metadata": {
    "slideshow": {
     "slide_type": "-"
    }
   },
   "source": [
    "Для большей гибкости при организации циклов применяются операторы <b>break</b> (прервать) и <b>continue</b> (продолжить). Первый позволяет прервать цикл, а второй — продолжить цикл, перейдя к следующей итерации (при выполнении условия цикла).\n",
    "\n",
    "###### Функции\n",
    "\n",
    "В языке **Python** организован механизм реализации собственных  функций программиста. Это возможно двумя способами: с помощью оператора определения функции <b>def</b> и прямо в выражениях с помощью оператора <b>lambda</b>. "
   ]
  },
  {
   "cell_type": "code",
   "execution_count": null,
   "metadata": {
    "ExecuteTime": {
     "end_time": "2021-02-26T14:26:32.494733Z",
     "start_time": "2021-02-26T14:26:32.489895Z"
    },
    "slideshow": {
     "slide_type": "-"
    }
   },
   "outputs": [],
   "source": [
    "def Privetsvie(Priv, Name='Андрей'):\n",
    "    print (\"{}, {} !!!\".format(Priv, Name))"
   ]
  },
  {
   "cell_type": "code",
   "execution_count": null,
   "metadata": {
    "ExecuteTime": {
     "end_time": "2021-02-26T14:26:41.888589Z",
     "start_time": "2021-02-26T14:26:41.881626Z"
    },
    "slideshow": {
     "slide_type": "-"
    }
   },
   "outputs": [],
   "source": [
    "Privetsvie('Здравствуй')"
   ]
  },
  {
   "cell_type": "code",
   "execution_count": null,
   "metadata": {
    "ExecuteTime": {
     "end_time": "2021-02-26T14:26:59.039882Z",
     "start_time": "2021-02-26T14:26:59.034319Z"
    },
    "slideshow": {
     "slide_type": "-"
    }
   },
   "outputs": [],
   "source": [
    "Privetsvie('Здравствуй','Дмитрий')"
   ]
  },
  {
   "cell_type": "code",
   "execution_count": null,
   "metadata": {
    "ExecuteTime": {
     "end_time": "2021-02-26T14:29:14.793647Z",
     "start_time": "2021-02-26T14:29:14.783519Z"
    }
   },
   "outputs": [],
   "source": [
    "Privetsvie('Дмитрий','Здравствуй')"
   ]
  },
  {
   "cell_type": "code",
   "execution_count": null,
   "metadata": {
    "ExecuteTime": {
     "end_time": "2021-02-26T14:29:35.298718Z",
     "start_time": "2021-02-26T14:29:35.292322Z"
    },
    "slideshow": {
     "slide_type": "-"
    }
   },
   "outputs": [],
   "source": [
    "Privetsvie(Priv='Привет', Name='Вася')"
   ]
  },
  {
   "cell_type": "code",
   "execution_count": null,
   "metadata": {
    "ExecuteTime": {
     "end_time": "2021-02-26T14:29:43.355307Z",
     "start_time": "2021-02-26T14:29:43.340022Z"
    },
    "scrolled": true,
    "slideshow": {
     "slide_type": "-"
    }
   },
   "outputs": [],
   "source": [
    "Privetsvie(Name='Вася', Priv='Привет')"
   ]
  },
  {
   "cell_type": "markdown",
   "metadata": {
    "slideshow": {
     "slide_type": "-"
    }
   },
   "source": [
    "Язык **Python** поддерживает интересный синтаксис, позволяющий определять небольшие однострочные функции на лету. Впревые реализованные в языке LISP, так называемые <b>lambda</b>-функции могут быть использованы везде, где требуется функция, не требующая многострочного определения."
   ]
  },
  {
   "cell_type": "code",
   "execution_count": null,
   "metadata": {
    "ExecuteTime": {
     "end_time": "2021-02-26T14:31:22.637522Z",
     "start_time": "2021-02-26T14:31:22.627551Z"
    },
    "slideshow": {
     "slide_type": "-"
    }
   },
   "outputs": [],
   "source": [
    "g = lambda x: x**2"
   ]
  },
  {
   "cell_type": "code",
   "execution_count": null,
   "metadata": {
    "ExecuteTime": {
     "end_time": "2021-02-26T14:31:30.465638Z",
     "start_time": "2021-02-26T14:31:30.459005Z"
    },
    "slideshow": {
     "slide_type": "-"
    }
   },
   "outputs": [],
   "source": [
    "g(9)"
   ]
  },
  {
   "cell_type": "markdown",
   "metadata": {
    "slideshow": {
     "slide_type": "-"
    }
   },
   "source": [
    "###### Ошибки и исключения\n",
    "\n",
    "Все программисты, вне зависимости от квалификации, время от времени совершают ошибки в программном коде.\n",
    "Основные ошибки могут быть сведены к следующим типам:\n",
    "\n",
    "- *Синтаксические ошибки* - ошибки вызванные не правильным написанием кода **Python**\n",
    "- *Oшибки времени исполнения* - ошибки, когда синтаксически верный код аварийно прерывает работу (возможно из-за действий пользователя или не верных данных)\n",
    "- *Семантические ошибки* - ошибки в логике построения программы, код исполняется и приводит к неожиданным результатам\n",
    "\n",
    "В языке **Python** есть встроенный механизм обработки ошибок и исключений."
   ]
  },
  {
   "cell_type": "code",
   "execution_count": null,
   "metadata": {
    "ExecuteTime": {
     "end_time": "2021-02-26T14:34:40.970967Z",
     "start_time": "2021-02-26T14:34:40.953351Z"
    },
    "slideshow": {
     "slide_type": "-"
    }
   },
   "outputs": [],
   "source": [
    "print(Q)"
   ]
  },
  {
   "cell_type": "code",
   "execution_count": null,
   "metadata": {
    "ExecuteTime": {
     "end_time": "2021-02-26T14:34:48.374156Z",
     "start_time": "2021-02-26T14:34:48.357980Z"
    },
    "slideshow": {
     "slide_type": "-"
    }
   },
   "outputs": [],
   "source": [
    "1 + 'abc'"
   ]
  },
  {
   "cell_type": "code",
   "execution_count": null,
   "metadata": {
    "ExecuteTime": {
     "end_time": "2021-02-26T14:34:56.428754Z",
     "start_time": "2021-02-26T14:34:56.408523Z"
    },
    "slideshow": {
     "slide_type": "-"
    }
   },
   "outputs": [],
   "source": [
    "2 / 0"
   ]
  },
  {
   "cell_type": "code",
   "execution_count": null,
   "metadata": {
    "ExecuteTime": {
     "end_time": "2021-02-26T14:35:06.369655Z",
     "start_time": "2021-02-26T14:35:06.338413Z"
    },
    "slideshow": {
     "slide_type": "-"
    }
   },
   "outputs": [],
   "source": [
    "L = [1, 2, 3]\n",
    "L[1000]"
   ]
  },
  {
   "cell_type": "markdown",
   "metadata": {
    "slideshow": {
     "slide_type": "-"
    }
   },
   "source": [
    "В каждом случае **Python** не просто указывает, что произошла ошибка, но генерирует исключение, которое включает в себя информацию о том, что точно пошло не так, а также точную строку кода, где произошла ошибка. \n",
    "\n",
    "###### Перехват исключений: ``try`` - ``except``"
   ]
  },
  {
   "cell_type": "code",
   "execution_count": null,
   "metadata": {
    "ExecuteTime": {
     "end_time": "2021-02-26T14:36:25.066074Z",
     "start_time": "2021-02-26T14:36:25.058261Z"
    },
    "slideshow": {
     "slide_type": "-"
    }
   },
   "outputs": [],
   "source": [
    "try:\n",
    "    print( \"Выполняется в первую очередь\")\n",
    "except:\n",
    "    print(\"Выполняется если возникла ошибка\")"
   ]
  },
  {
   "cell_type": "code",
   "execution_count": null,
   "metadata": {
    "ExecuteTime": {
     "end_time": "2021-02-26T14:38:39.923484Z",
     "start_time": "2021-02-26T14:38:39.918576Z"
    },
    "slideshow": {
     "slide_type": "-"
    }
   },
   "outputs": [],
   "source": [
    "try:\n",
    "    print(\"Выполлнить деление:\")\n",
    "    x = 1 / 0 # ZeroDivisionError\n",
    "except:\n",
    "    print(\"Что-то пошло не так !!!\")\n",
    "    \n"
   ]
  },
  {
   "cell_type": "markdown",
   "metadata": {
    "slideshow": {
     "slide_type": "subslide"
    }
   },
   "source": [
    "## Модули\n",
    "Различные расширения функциональности языка **Python**, а также отдельные части программного решения научно-технической задачи программиста, реулизуются с помощью механизма <b>модулей</b>. Модуль - это часть программного кода оформленная в виде отдельного <b>py</b>-файла.\n",
    "Подключение модулей может происходить несколькими способами:\n",
    "1. **import** <Имя Модуля>\n",
    "2. **import** <Имя Модуля> **as** <Сокращенное Имя Модуля>\n",
    "<br/><br/>\n",
    "Допустимо подключение отдельных функций из модуля:<br/><br/>\n",
    "3. **from** <Имя Модуля> **import** <Имя Функции>, <Имя Функции>, ...\n",
    "\n",
    "Создадим файл **PrimMod.py**, и добавим в него текст\n",
    "```python\n",
    "def NewPrint(str=\"Demo String\"):\n",
    "    print (str) \n",
    "    return 0    \n",
    "```\n"
   ]
  },
  {
   "cell_type": "code",
   "execution_count": null,
   "metadata": {
    "ExecuteTime": {
     "end_time": "2021-02-26T14:48:15.724991Z",
     "start_time": "2021-02-26T14:48:15.716836Z"
    }
   },
   "outputs": [],
   "source": [
    "%%writefile PrimMod.py\n",
    "def NewPrint(str=\"Demo String\"):\n",
    "    print (str)\n",
    "    return 0    "
   ]
  },
  {
   "cell_type": "code",
   "execution_count": null,
   "metadata": {
    "ExecuteTime": {
     "end_time": "2021-02-26T14:48:54.276620Z",
     "start_time": "2021-02-26T14:48:54.265619Z"
    },
    "slideshow": {
     "slide_type": "-"
    }
   },
   "outputs": [],
   "source": [
    "import PrimMod"
   ]
  },
  {
   "cell_type": "code",
   "execution_count": null,
   "metadata": {
    "ExecuteTime": {
     "end_time": "2021-02-26T14:49:15.498609Z",
     "start_time": "2021-02-26T14:49:15.485617Z"
    },
    "slideshow": {
     "slide_type": "-"
    }
   },
   "outputs": [],
   "source": [
    "NewPrint()"
   ]
  },
  {
   "cell_type": "code",
   "execution_count": null,
   "metadata": {
    "ExecuteTime": {
     "end_time": "2021-02-26T14:50:00.713585Z",
     "start_time": "2021-02-26T14:50:00.705752Z"
    }
   },
   "outputs": [],
   "source": [
    "PrimMod.NewPrint()"
   ]
  },
  {
   "cell_type": "code",
   "execution_count": null,
   "metadata": {
    "ExecuteTime": {
     "end_time": "2021-02-26T14:51:21.818416Z",
     "start_time": "2021-02-26T14:51:21.653774Z"
    }
   },
   "outputs": [],
   "source": [
    "NewPrint()"
   ]
  },
  {
   "cell_type": "code",
   "execution_count": null,
   "metadata": {
    "ExecuteTime": {
     "end_time": "2021-02-26T14:51:36.139664Z",
     "start_time": "2021-02-26T14:51:36.130887Z"
    },
    "slideshow": {
     "slide_type": "-"
    }
   },
   "outputs": [],
   "source": [
    "from PrimMod import NewPrint"
   ]
  },
  {
   "cell_type": "code",
   "execution_count": null,
   "metadata": {
    "ExecuteTime": {
     "end_time": "2021-02-26T14:51:41.071832Z",
     "start_time": "2021-02-26T14:51:41.037024Z"
    },
    "slideshow": {
     "slide_type": "-"
    }
   },
   "outputs": [],
   "source": [
    "NewPrint()"
   ]
  },
  {
   "cell_type": "markdown",
   "metadata": {
    "slideshow": {
     "slide_type": "-"
    }
   },
   "source": [
    "Существует допусттимая для интерпретатора языка **Python** конструкция:<br/> <br/> <center><b>from</b> <Имя Модуля> <b>import</b> *</center>  \n",
    "Формально это значит, что из модуля импортируется всё содержимое. Однако применять такую конструкцию необходимо с осторожностью, так как при таком импортировании из нескольких модулей возможно перекрытие объектов с одинаковыми именами, что может привести к ошибкам."
   ]
  },
  {
   "cell_type": "code",
   "execution_count": null,
   "metadata": {
    "ExecuteTime": {
     "end_time": "2021-02-26T14:53:05.428746Z",
     "start_time": "2021-02-26T14:53:05.419469Z"
    }
   },
   "outputs": [],
   "source": [
    "from PrimMod import *"
   ]
  },
  {
   "cell_type": "code",
   "execution_count": null,
   "metadata": {
    "ExecuteTime": {
     "end_time": "2021-02-26T14:53:08.934620Z",
     "start_time": "2021-02-26T14:53:08.912741Z"
    }
   },
   "outputs": [],
   "source": [
    "NewPrint()"
   ]
  },
  {
   "cell_type": "code",
   "execution_count": null,
   "metadata": {
    "ExecuteTime": {
     "end_time": "2021-02-26T14:56:04.346110Z",
     "start_time": "2021-02-26T14:56:04.340076Z"
    },
    "slideshow": {
     "slide_type": "-"
    }
   },
   "outputs": [],
   "source": [
    "import PrimMod as pm"
   ]
  },
  {
   "cell_type": "code",
   "execution_count": null,
   "metadata": {
    "ExecuteTime": {
     "end_time": "2021-02-26T14:56:11.272287Z",
     "start_time": "2021-02-26T14:56:11.264929Z"
    },
    "slideshow": {
     "slide_type": "-"
    }
   },
   "outputs": [],
   "source": [
    "pm.NewPrint()"
   ]
  },
  {
   "cell_type": "code",
   "execution_count": null,
   "metadata": {
    "ExecuteTime": {
     "end_time": "2021-02-26T14:56:15.993441Z",
     "start_time": "2021-02-26T14:56:15.984489Z"
    },
    "slideshow": {
     "slide_type": "-"
    }
   },
   "outputs": [],
   "source": [
    "pm.NewPrint(\"New String\")"
   ]
  },
  {
   "cell_type": "markdown",
   "metadata": {
    "slideshow": {
     "slide_type": "subslide"
    }
   },
   "source": [
    "## Итераторы\n",
    "\n",
    "Часто возникает  необходимость повторить последовательность действий, перебирая элементы набора данных. В **Python** для таких задач реализован механизм итераторов."
   ]
  },
  {
   "cell_type": "code",
   "execution_count": null,
   "metadata": {
    "ExecuteTime": {
     "end_time": "2021-02-26T14:58:48.337796Z",
     "start_time": "2021-02-26T14:58:48.333470Z"
    },
    "slideshow": {
     "slide_type": "-"
    }
   },
   "outputs": [],
   "source": [
    "I = iter([2, 4, 6])"
   ]
  },
  {
   "cell_type": "code",
   "execution_count": null,
   "metadata": {
    "ExecuteTime": {
     "end_time": "2021-02-26T14:58:49.692246Z",
     "start_time": "2021-02-26T14:58:49.560417Z"
    },
    "slideshow": {
     "slide_type": "-"
    }
   },
   "outputs": [],
   "source": [
    "print(next(I))\n",
    "print(next(I))\n",
    "print(next(I))\n",
    "print(next(I))"
   ]
  },
  {
   "cell_type": "code",
   "execution_count": null,
   "metadata": {
    "ExecuteTime": {
     "end_time": "2021-02-26T15:01:42.530673Z",
     "start_time": "2021-02-26T15:01:42.523648Z"
    },
    "slideshow": {
     "slide_type": "-"
    }
   },
   "outputs": [],
   "source": [
    "from itertools import count\n",
    "\n",
    "for i in count():\n",
    "    print (i)\n",
    "    if i >= 2:\n",
    "        break"
   ]
  },
  {
   "cell_type": "code",
   "execution_count": null,
   "metadata": {
    "ExecuteTime": {
     "end_time": "2021-02-26T15:02:43.016382Z",
     "start_time": "2021-02-26T15:02:43.002643Z"
    }
   },
   "outputs": [],
   "source": [
    "for i in count(start=10, step=2):\n",
    "    print (i)\n",
    "    if i >= 14:\n",
    "        break"
   ]
  },
  {
   "cell_type": "markdown",
   "metadata": {
    "slideshow": {
     "slide_type": "-"
    }
   },
   "source": [
    "###### итератор ``enumerate``\n",
    "Зачастую при обработке масситвов данных возникает необходимость получения не только элемента данных, но и его инджекса в массиве. Для таких случаев в **Python** реализована функция ``enumerate``"
   ]
  },
  {
   "cell_type": "code",
   "execution_count": null,
   "metadata": {
    "ExecuteTime": {
     "end_time": "2021-02-26T15:04:53.091303Z",
     "start_time": "2021-02-26T15:04:53.075954Z"
    },
    "slideshow": {
     "slide_type": "-"
    }
   },
   "outputs": [],
   "source": [
    "L = [2, 4, 6, 8, 10]\n",
    "for i, val in enumerate(L):\n",
    "    print (i, val)"
   ]
  },
  {
   "cell_type": "markdown",
   "metadata": {
    "slideshow": {
     "slide_type": "-"
    }
   },
   "source": [
    "###### итератор ``zip``\n",
    "\n",
    "При необходимости перебрать значения из нескольких, логически связанных, списков (массивов) можно использовать ``zip``-итератор, который совмещает итераторы отдельных списков:"
   ]
  },
  {
   "cell_type": "code",
   "execution_count": null,
   "metadata": {
    "ExecuteTime": {
     "end_time": "2021-02-26T15:06:28.157459Z",
     "start_time": "2021-02-26T15:06:28.145266Z"
    },
    "slideshow": {
     "slide_type": "-"
    }
   },
   "outputs": [],
   "source": [
    "L = [2, 4, 6, 8, 10]\n",
    "R = [3, 6, 9, 12, 15]\n",
    "for lval, rval in zip(L, R):\n",
    "    print (lval, rval)"
   ]
  },
  {
   "cell_type": "code",
   "execution_count": null,
   "metadata": {
    "ExecuteTime": {
     "end_time": "2021-02-26T15:08:05.811712Z",
     "start_time": "2021-02-26T15:08:05.797620Z"
    },
    "slideshow": {
     "slide_type": "-"
    }
   },
   "outputs": [],
   "source": [
    "L = [2, 4, 6, 8, 10]\n",
    "M = [8, 9, 20, 56, 78]\n",
    "R = [3, 6, 9, 12, 15]\n",
    "for lval, mval, rval in zip(L, M, R):\n",
    "    print (lval, mval, rval)"
   ]
  },
  {
   "cell_type": "markdown",
   "metadata": {
    "slideshow": {
     "slide_type": "-"
    }
   },
   "source": [
    "###### итераторы ``map`` и ``filter``\n",
    "\n",
    "Итератор `` map`` принимает функцию и применяет ее к значениям, которые перебирает итератор:"
   ]
  },
  {
   "cell_type": "code",
   "execution_count": null,
   "metadata": {
    "ExecuteTime": {
     "end_time": "2021-02-26T15:09:31.501874Z",
     "start_time": "2021-02-26T15:09:31.494794Z"
    },
    "slideshow": {
     "slide_type": "-"
    }
   },
   "outputs": [],
   "source": [
    "square = lambda x: x ** 2\n",
    "for val in map(square, range(5)):\n",
    "    print (val)"
   ]
  },
  {
   "cell_type": "markdown",
   "metadata": {
    "slideshow": {
     "slide_type": "-"
    }
   },
   "source": [
    "Итератор `` filter`` отличается от предыдущего тем, что обрабатывает только значения, для которых функция фильтра имеет значение ``True``:"
   ]
  },
  {
   "cell_type": "code",
   "execution_count": null,
   "metadata": {
    "ExecuteTime": {
     "end_time": "2021-02-26T15:11:33.031497Z",
     "start_time": "2021-02-26T15:11:33.021976Z"
    },
    "slideshow": {
     "slide_type": "-"
    }
   },
   "outputs": [],
   "source": [
    "is_even = lambda x: x % 2 == 0\n",
    "for val in filter(is_even, range(5)):\n",
    "    print (val)"
   ]
  },
  {
   "cell_type": "code",
   "execution_count": null,
   "metadata": {
    "ExecuteTime": {
     "end_time": "2021-02-26T15:13:12.346793Z",
     "start_time": "2021-02-26T15:13:12.326327Z"
    }
   },
   "outputs": [],
   "source": [
    "map(lambda x: x ** 2, range(10))"
   ]
  },
  {
   "cell_type": "code",
   "execution_count": null,
   "metadata": {
    "ExecuteTime": {
     "end_time": "2021-02-26T15:15:47.332710Z",
     "start_time": "2021-02-26T15:15:47.314726Z"
    },
    "slideshow": {
     "slide_type": "-"
    }
   },
   "outputs": [],
   "source": [
    "mapx = list(map(lambda x: x ** 2, range(10)))\n",
    "mapx"
   ]
  },
  {
   "cell_type": "code",
   "execution_count": null,
   "metadata": {
    "ExecuteTime": {
     "end_time": "2021-02-26T15:16:35.538710Z",
     "start_time": "2021-02-26T15:16:35.520345Z"
    }
   },
   "outputs": [],
   "source": [
    "for z in map(lambda x: x ** 2, range(10)):\n",
    "    print(z)"
   ]
  },
  {
   "cell_type": "markdown",
   "metadata": {
    "slideshow": {
     "slide_type": "-"
    }
   },
   "source": [
    "#### Пакет специализированных итераторов: ``itertools``\n",
    "\n",
    "Мы кратко рассмотрели итераторы ``range`` и ``itertools.count``.\n",
    "Модуль ``itertools`` содержит целый ряд полезных итераторов. Рекомендую внимательно изучить модуль, чтобы узнать, какие итераторы в нем доступны. В качестве завершающих примеров рассмотрим функции ``itertools.permutations``, которая выполняет итерацию по всем перестановкам последовательности; ``itertools.combinations``, которая выполняет итерацию по всем уникальным комбинациям значений в списке:"
   ]
  },
  {
   "cell_type": "code",
   "execution_count": null,
   "metadata": {
    "ExecuteTime": {
     "end_time": "2021-02-26T15:19:33.214488Z",
     "start_time": "2021-02-26T15:19:33.204930Z"
    },
    "slideshow": {
     "slide_type": "-"
    }
   },
   "outputs": [],
   "source": [
    "from itertools import permutations\n",
    "p = permutations(range(3))\n",
    "for itm in p:\n",
    "    print (itm)"
   ]
  },
  {
   "cell_type": "code",
   "execution_count": null,
   "metadata": {
    "ExecuteTime": {
     "end_time": "2021-02-26T15:20:16.183009Z",
     "start_time": "2021-02-26T15:20:16.168954Z"
    },
    "slideshow": {
     "slide_type": "-"
    }
   },
   "outputs": [],
   "source": [
    "from itertools import combinations\n",
    "c = combinations(range(4), 2)\n",
    "for itm in c:\n",
    "    print (itm)"
   ]
  },
  {
   "cell_type": "markdown",
   "metadata": {
    "slideshow": {
     "slide_type": "slide"
    }
   },
   "source": [
    "<p style=\"text-align: center; font-size: 28pt; font-weight: bold; color: rgb(0, 0, 190); padding: 20px; margin-top: -1%;\">Специализированные пакеты</p>\n",
    "\n",
    "Если необходимо использовать Python для научных вычислений или обработки больших объемов данных, есть несколько пакетов, которые сделают вашу жизнь намного проще. Наиболее важными из них являются\n",
    "\n",
    "- NumPy\n",
    "- SciPy\n",
    "- Matplotlib\n",
    "- Pandas\n",
    "- MPI4Py\n",
    "- ipyparallel\n",
    "- h5py"
   ]
  },
  {
   "cell_type": "markdown",
   "metadata": {
    "slideshow": {
     "slide_type": "subslide"
    }
   },
   "source": [
    "## Пакет NumPy: Numerical Python\n",
    "\n",
    "Пакет **NumPy** обеспечивает эффективный способ хранения и обработки многомерных плотных массивов в Python.\n",
    "Важными особенностями NumPy являются:\n",
    "\n",
    "- Он предоставляет структуру **`` ndarray``**, которая позволяет эффективно хранить и манипулировать векторами, матрицами и массивами с большими размерностями.\n",
    "- Он обеспечивает читаемый и эффективный синтаксис для работы с этими данными, от простой элементной арифметики до более сложных линейных алгебраических операций.\n",
    "\n",
    "В простейшем случае массивы **NumPy** очень похожи на списки **Python**.\n",
    "Например, вот массив, содержащий диапазон чисел от 1 до 9 (сравните сo встроенным **``range()``**):"
   ]
  },
  {
   "cell_type": "code",
   "execution_count": null,
   "metadata": {
    "ExecuteTime": {
     "end_time": "2021-02-26T15:30:30.111531Z",
     "start_time": "2021-02-26T15:30:30.104687Z"
    },
    "slideshow": {
     "slide_type": "-"
    }
   },
   "outputs": [],
   "source": [
    "import numpy as np\n",
    "\n",
    "x = np.arange(1, 10)\n",
    "print (x)"
   ]
  },
  {
   "cell_type": "code",
   "execution_count": null,
   "metadata": {
    "ExecuteTime": {
     "end_time": "2021-02-26T15:28:42.657725Z",
     "start_time": "2021-02-26T15:28:42.651717Z"
    },
    "slideshow": {
     "slide_type": "-"
    }
   },
   "outputs": [],
   "source": [
    "list(range(1, 10))"
   ]
  },
  {
   "cell_type": "markdown",
   "metadata": {
    "slideshow": {
     "slide_type": "-"
    }
   },
   "source": [
    "Массивы **NumPy** предлагают как эффективное хранение данных, так и эффективные элементарные операции с данными. Например, чтобы возвести в квадрат каждый элемент массива, мы можем напрямую применить оператор «\\*\\*» к массиву:\n",
    "\n",
    "Сравните это с гораздо более трудоемкой обработкой списка в стиле **Python** для достижения того же результата:"
   ]
  },
  {
   "cell_type": "code",
   "execution_count": null,
   "metadata": {
    "ExecuteTime": {
     "end_time": "2021-02-26T15:30:40.193172Z",
     "start_time": "2021-02-26T15:30:40.184453Z"
    },
    "slideshow": {
     "slide_type": "-"
    }
   },
   "outputs": [],
   "source": [
    "x ** 2"
   ]
  },
  {
   "cell_type": "code",
   "execution_count": null,
   "metadata": {
    "ExecuteTime": {
     "end_time": "2021-02-26T15:31:35.904368Z",
     "start_time": "2021-02-26T15:31:35.890489Z"
    },
    "slideshow": {
     "slide_type": "-"
    }
   },
   "outputs": [],
   "source": [
    "[val ** 2 for val in range(1, 10)]"
   ]
  },
  {
   "cell_type": "markdown",
   "metadata": {
    "slideshow": {
     "slide_type": "-"
    }
   },
   "source": [
    "В отличие от списков **Python**, которые ограничены одним измерением, массивы **NumPy** могут быть многомерными. Например, преобразуем наш массив **x** в массив **3x3**:"
   ]
  },
  {
   "cell_type": "code",
   "execution_count": null,
   "metadata": {
    "ExecuteTime": {
     "end_time": "2021-02-26T15:32:15.514901Z",
     "start_time": "2021-02-26T15:32:15.507474Z"
    },
    "slideshow": {
     "slide_type": "-"
    }
   },
   "outputs": [],
   "source": [
    "M = x.reshape((3, 3))\n",
    "M"
   ]
  },
  {
   "cell_type": "code",
   "execution_count": null,
   "metadata": {
    "ExecuteTime": {
     "end_time": "2021-02-26T15:32:43.889280Z",
     "start_time": "2021-02-26T15:32:43.881803Z"
    },
    "slideshow": {
     "slide_type": "-"
    }
   },
   "outputs": [],
   "source": [
    "M[1,0]"
   ]
  },
  {
   "cell_type": "code",
   "execution_count": null,
   "metadata": {
    "ExecuteTime": {
     "end_time": "2021-02-26T15:32:56.738675Z",
     "start_time": "2021-02-26T15:32:56.731842Z"
    },
    "slideshow": {
     "slide_type": "-"
    }
   },
   "outputs": [],
   "source": [
    "M[2,1]"
   ]
  },
  {
   "cell_type": "code",
   "execution_count": null,
   "metadata": {
    "ExecuteTime": {
     "end_time": "2021-02-26T15:32:57.867009Z",
     "start_time": "2021-02-26T15:32:57.859671Z"
    },
    "slideshow": {
     "slide_type": "-"
    }
   },
   "outputs": [],
   "source": [
    "M[0,2]"
   ]
  },
  {
   "cell_type": "code",
   "execution_count": null,
   "metadata": {
    "ExecuteTime": {
     "end_time": "2021-02-26T15:33:31.845128Z",
     "start_time": "2021-02-26T15:33:31.838873Z"
    },
    "slideshow": {
     "slide_type": "-"
    }
   },
   "outputs": [],
   "source": [
    "MM = [[1,2,3],[4,5,6],[7,8,9]]\n",
    "MM"
   ]
  },
  {
   "cell_type": "code",
   "execution_count": null,
   "metadata": {
    "ExecuteTime": {
     "end_time": "2021-02-26T15:33:49.684949Z",
     "start_time": "2021-02-26T15:33:49.648154Z"
    },
    "slideshow": {
     "slide_type": "-"
    }
   },
   "outputs": [],
   "source": [
    "MM[1,0]"
   ]
  },
  {
   "cell_type": "code",
   "execution_count": null,
   "metadata": {
    "ExecuteTime": {
     "end_time": "2021-02-26T15:34:21.873550Z",
     "start_time": "2021-02-26T15:34:21.865715Z"
    },
    "slideshow": {
     "slide_type": "-"
    }
   },
   "outputs": [],
   "source": [
    "MM[1][0]"
   ]
  },
  {
   "cell_type": "code",
   "execution_count": null,
   "metadata": {
    "ExecuteTime": {
     "end_time": "2021-02-26T15:34:24.961163Z",
     "start_time": "2021-02-26T15:34:24.953014Z"
    },
    "slideshow": {
     "slide_type": "-"
    }
   },
   "outputs": [],
   "source": [
    "MM[2][1]"
   ]
  },
  {
   "cell_type": "code",
   "execution_count": null,
   "metadata": {
    "ExecuteTime": {
     "end_time": "2021-02-26T15:34:28.693942Z",
     "start_time": "2021-02-26T15:34:28.688341Z"
    },
    "slideshow": {
     "slide_type": "-"
    }
   },
   "outputs": [],
   "source": [
    "MM[0][2]"
   ]
  },
  {
   "cell_type": "markdown",
   "metadata": {
    "slideshow": {
     "slide_type": "-"
    }
   },
   "source": [
    "Двумерный массив является представлением матрицы, а **NumPy** предоставляет, эффективные инструменты выполнения операций с матрицами. Например, транспонирование с помощью метода **``.T``**:\n",
    "\n",
    "или матричное произведение **``.dot``**:\n",
    "\n",
    "раздел **linalg** пакета **NumPy** содержит реализации более сложных операций линейной алгебры.\n",
    "Например, собственные числа матрицы:\n",
    "**.eigvals()**\n",
    "или вместе с собственными векторами:\n",
    "**.eig()**"
   ]
  },
  {
   "cell_type": "code",
   "execution_count": null,
   "metadata": {
    "ExecuteTime": {
     "end_time": "2021-02-26T15:35:23.494321Z",
     "start_time": "2021-02-26T15:35:23.487150Z"
    },
    "slideshow": {
     "slide_type": "-"
    }
   },
   "outputs": [],
   "source": [
    "M.T"
   ]
  },
  {
   "cell_type": "code",
   "execution_count": null,
   "metadata": {
    "ExecuteTime": {
     "end_time": "2021-02-26T15:35:36.563543Z",
     "start_time": "2021-02-26T15:35:36.553499Z"
    },
    "slideshow": {
     "slide_type": "-"
    }
   },
   "outputs": [],
   "source": [
    "np.dot(M, [5, 6, 7])"
   ]
  },
  {
   "cell_type": "code",
   "execution_count": null,
   "metadata": {
    "ExecuteTime": {
     "end_time": "2021-02-26T15:35:46.359622Z",
     "start_time": "2021-02-26T15:35:46.280639Z"
    },
    "slideshow": {
     "slide_type": "-"
    }
   },
   "outputs": [],
   "source": [
    "np.linalg.eigvals(M)"
   ]
  },
  {
   "cell_type": "code",
   "execution_count": null,
   "metadata": {
    "ExecuteTime": {
     "end_time": "2021-02-26T15:35:57.226363Z",
     "start_time": "2021-02-26T15:35:57.183214Z"
    },
    "slideshow": {
     "slide_type": "-"
    }
   },
   "outputs": [],
   "source": [
    "rez = np.linalg.eig(M)\n",
    "rez"
   ]
  },
  {
   "cell_type": "markdown",
   "metadata": {
    "slideshow": {
     "slide_type": "-"
    }
   },
   "source": [
    "проверим"
   ]
  },
  {
   "cell_type": "code",
   "execution_count": null,
   "metadata": {
    "ExecuteTime": {
     "end_time": "2021-02-26T15:37:40.466962Z",
     "start_time": "2021-02-26T15:37:40.432269Z"
    },
    "slideshow": {
     "slide_type": "-"
    }
   },
   "outputs": [],
   "source": [
    "np.dot(M,rez[1][:,0])"
   ]
  },
  {
   "cell_type": "code",
   "execution_count": null,
   "metadata": {
    "ExecuteTime": {
     "end_time": "2021-02-26T15:37:59.789176Z",
     "start_time": "2021-02-26T15:37:59.780965Z"
    },
    "slideshow": {
     "slide_type": "-"
    }
   },
   "outputs": [],
   "source": [
    "np.dot(rez[0][0],rez[1][:,0])"
   ]
  },
  {
   "cell_type": "markdown",
   "metadata": {
    "slideshow": {
     "slide_type": "-"
    }
   },
   "source": [
    "Саздадим двумерный целочмсленный массив размером **``5х5``** и преобразуем его в объект **NumPy ``matrix``**"
   ]
  },
  {
   "cell_type": "code",
   "execution_count": null,
   "metadata": {
    "ExecuteTime": {
     "end_time": "2021-02-26T15:39:50.926946Z",
     "start_time": "2021-02-26T15:39:50.918589Z"
    },
    "slideshow": {
     "slide_type": "-"
    }
   },
   "outputs": [],
   "source": [
    "A = np.random.randint(0, 100, (5, 5))\n",
    "A"
   ]
  },
  {
   "cell_type": "code",
   "execution_count": null,
   "metadata": {
    "ExecuteTime": {
     "end_time": "2021-02-26T15:39:59.843568Z",
     "start_time": "2021-02-26T15:39:59.834692Z"
    },
    "slideshow": {
     "slide_type": "-"
    }
   },
   "outputs": [],
   "source": [
    "A = np.matrix(A)\n",
    "A"
   ]
  },
  {
   "cell_type": "markdown",
   "metadata": {
    "slideshow": {
     "slide_type": "-"
    }
   },
   "source": [
    "Объект **NumPy ``matrix``** обладает набором методов, обеспечивающих решение основных задач линейной алгебры.\n",
    "Например, обращение матрицы:"
   ]
  },
  {
   "cell_type": "code",
   "execution_count": null,
   "metadata": {
    "ExecuteTime": {
     "end_time": "2021-02-26T15:40:24.061868Z",
     "start_time": "2021-02-26T15:40:23.922315Z"
    },
    "slideshow": {
     "slide_type": "-"
    }
   },
   "outputs": [],
   "source": [
    "A.I"
   ]
  },
  {
   "cell_type": "code",
   "execution_count": null,
   "metadata": {
    "ExecuteTime": {
     "end_time": "2021-02-26T15:42:46.247569Z",
     "start_time": "2021-02-26T15:42:46.216288Z"
    },
    "slideshow": {
     "slide_type": "-"
    }
   },
   "outputs": [],
   "source": [
    "np.allclose(np.dot(A.I,A), np.eye(5))"
   ]
  },
  {
   "cell_type": "code",
   "execution_count": null,
   "metadata": {
    "ExecuteTime": {
     "end_time": "2021-02-26T15:43:02.833725Z",
     "start_time": "2021-02-26T15:43:02.813832Z"
    }
   },
   "outputs": [],
   "source": [
    "np.dot(A.I,A)"
   ]
  },
  {
   "cell_type": "markdown",
   "metadata": {
    "slideshow": {
     "slide_type": "-"
    }
   },
   "source": [
    "Решение систем уравнений"
   ]
  },
  {
   "cell_type": "code",
   "execution_count": null,
   "metadata": {
    "ExecuteTime": {
     "end_time": "2021-02-26T15:46:23.889664Z",
     "start_time": "2021-02-26T15:46:23.876770Z"
    },
    "slideshow": {
     "slide_type": "-"
    }
   },
   "outputs": [],
   "source": [
    "V = np.matrix(np.random.randint(0, 100, (5, 1)))\n",
    "V"
   ]
  },
  {
   "cell_type": "code",
   "execution_count": null,
   "metadata": {
    "ExecuteTime": {
     "end_time": "2021-02-26T15:46:58.399025Z",
     "start_time": "2021-02-26T15:46:58.364936Z"
    },
    "slideshow": {
     "slide_type": "-"
    }
   },
   "outputs": [],
   "source": [
    "sol = np.linalg.solve(A,V)\n",
    "sol"
   ]
  },
  {
   "cell_type": "code",
   "execution_count": null,
   "metadata": {
    "ExecuteTime": {
     "end_time": "2021-02-26T15:47:07.079405Z",
     "start_time": "2021-02-26T15:47:07.071658Z"
    },
    "slideshow": {
     "slide_type": "-"
    }
   },
   "outputs": [],
   "source": [
    "np.dot(A,sol)"
   ]
  },
  {
   "cell_type": "markdown",
   "metadata": {
    "slideshow": {
     "slide_type": "subslide"
    }
   },
   "source": [
    "## Пакет SciPy: Scientific Python\n",
    "\n",
    "**SciPy** - это набор функций и методов для научных вычислений, основанных на работе с массивами **NumPy**. Пакет начинался как набор оболочек **Python** для хоршо разработанных **FORTRAN**-библиотек для численных вычислений, но со временем существенно развился. Пакет устроен как набор подмодулей, каждый из которых реализует некоторый класс численных алгоритмов. Вот некоторые из наиболее важных для вычислений и обработки данных:\n",
    "\n",
    "- `` scipy.fftpack``: быстрое преобразование Фурье\n",
    "- `` scipy.integrate``: численное интегрирование\n",
    "- `` scipy.interpolate``: численная интерполяция\n",
    "- `` scipy.linalg``: линейная алгебра\n",
    "- `` scipy.optimize``: численная оптимизация\n",
    "- `` scipy.sparse``: разреженные матрицы и линейная алгебра\n",
    "- `` scipy.stats``: процедуры статистического анализа\n",
    "\n",
    "Например, интерполирование гладкой кривой между некоторыми точками:"
   ]
  },
  {
   "cell_type": "code",
   "execution_count": 1,
   "metadata": {
    "ExecuteTime": {
     "end_time": "2021-02-26T16:03:35.517151Z",
     "start_time": "2021-02-26T16:03:31.952847Z"
    },
    "slideshow": {
     "slide_type": "-"
    }
   },
   "outputs": [
    {
     "data": {
      "image/png": "[encoded data removed]",
      "text/plain": [
       "<Figure size 1152x576 with 1 Axes>"
      ]
     },
     "metadata": {
      "needs_background": "light"
     },
     "output_type": "display_data"
    }
   ],
   "source": [
    "import numpy as np\n",
    "from scipy import interpolate\n",
    "from matplotlib import pyplot as plt\n",
    "%matplotlib inline\n",
    "\n",
    "# создаем 8-ми точечный массив между 0 и 10\n",
    "x = np.linspace(0, 10, 8)\n",
    "y = np.sin(x)\n",
    "\n",
    "# функция кубической интерполяции\n",
    "func = interpolate.interp1d(x, y, kind='cubic')\n",
    "\n",
    "# интерполируем массив для 1000 точек\n",
    "x_interp = np.linspace(0, 10, 1000)\n",
    "y_interp = func(x_interp)\n",
    "\n",
    "# строим график\n",
    "plt.figure(figsize=(16,8))  \n",
    "plt.plot(x, y, 'o')\n",
    "plt.plot(x_interp, y_interp)\n",
    "plt.grid(True)"
   ]
  },
  {
   "cell_type": "markdown",
   "metadata": {
    "slideshow": {
     "slide_type": "subslide"
    }
   },
   "source": [
    "## Пакет Matplotlib: визуализация научных данных\n",
    "\n",
    "**Matplotlib** - пакет для визуализации научных данных пришедший в **Python** из **MatLab**, некоторое время активно развивался, но постепенно уступает место другим пакетам визуализации (в основном web-орриентированным).\n",
    "Однако, **Matplotlib** содержит широкий набор инструментов визуализации и является достаточным для большинства задач.\n",
    "\n",
    "Пакет **Matplotlib** доступен из ***консоли***, ***скриптов*** или ***документов Jupyter*** после подключения любым из доступных в Python способов.\n",
    "\n",
    "Пакет **Matplotlib** представляет собой набор большого количества библиотек, функций и объектов, оранизованных в иерархические структуры. Пользователь контактирует с ним от \"верхних\" функций и объектов, при необходимости обращаясь к более глубоким иерархическим слоям. Одним из первых графических объектов с которым работает пользователь является **pyplot**. <br>\n",
    "В **Мatplotlib** рисунки  создаются последовательным вызовом команд: либо в интерактивном режиме, либо в ру-скрипте, либо в ячейках **Jupyter**. Графические элементы (точки, линии, фигуры и т.д.) наслаиваются одна на другую последовательно. При этом последующие перекрывают предыдущие, если они занимают общее участки на рисунке. В **Matplotlib** работает правило \"текущей области\" (\"current axes\"), которое означает, что все графические элементы наносятся на текущую область рисования. <br>\n",
    "Cамым главным объектом в **Matplotlib** является рисунок **figure**. Поэтому создание научной графики нужно начинать именно с создания рисунка. Создать рисунок в **Matplotlib** означает задать форму, размеры и свойства основы-холста (canvas), на котором будет создаваться будущий график. <br>\n",
    "Создать рисунок **figure** позволяет метод **pyplot.figure()**. После вызова любой графической команды, то есть функции, которая создаёт какой-либо графический объект всегда существует хотя бы одна область для рисования (по умолчанию прямоугольной формы). <br>\n",
    "Чтобы результат рисования, то есть текущее состояние рисунка, отразилось на экране, можно воспользоваться командой **pyplot.show()**. Будут показаны все рисунки **figures**, которые были созданы.\n"
   ]
  },
  {
   "cell_type": "code",
   "execution_count": 2,
   "metadata": {
    "ExecuteTime": {
     "end_time": "2021-02-26T16:05:59.081381Z",
     "start_time": "2021-02-26T16:05:55.558905Z"
    },
    "slideshow": {
     "slide_type": "-"
    }
   },
   "outputs": [
    {
     "name": "stderr",
     "output_type": "stream",
     "text": [
      "/home/pythonsim/anaconda3/lib/python3.7/site-packages/ipykernel_launcher.py:14: UserWarning: Setting the 'color' property will override the edgecolor or facecolor properties.\n",
      "  \n",
      "/home/pythonsim/anaconda3/lib/python3.7/site-packages/ipykernel_launcher.py:15: UserWarning: Setting the 'color' property will override the edgecolor or facecolor properties.\n",
      "  from ipykernel import kernelapp as app\n",
      "/home/pythonsim/anaconda3/lib/python3.7/site-packages/ipykernel_launcher.py:16: UserWarning: Setting the 'color' property will override the edgecolor or facecolor properties.\n",
      "  app.launch_new_instance()\n"
     ]
    },
    {
     "data": {
      "image/png": "[encoded data removed]",
      "text/plain": [
       "<Figure size 432x288 with 1 Axes>"
      ]
     },
     "metadata": {
      "needs_background": "light"
     },
     "output_type": "display_data"
    }
   ],
   "source": [
    "import numpy as np\n",
    "from matplotlib import pyplot as plt\n",
    "\n",
    "step = 0.1\n",
    "x = np.arange(0.0, 2*np.pi+step, step)\n",
    "y = np.cos(x) + np.cos(5*x)\n",
    "\n",
    "fig = plt.figure()\n",
    "plt.plot(x, y)\n",
    "\n",
    "plt.title(u'Graph of the function '+r'$y = cos(x) + cos(5 \\cdot x)$')\n",
    "plt.ylabel('Y label')\n",
    "plt.xlabel('X label ')\n",
    "plt.text(2.0, 1.0,  'This graph is \\n awesome', fontsize=18, bbox=dict(edgecolor='w', color='w'))\n",
    "plt.text(5, 0.0, 'Some X ticks', fontsize=12, bbox=dict(edgecolor='w', color='None'), rotation=90)\n",
    "plt.text(0.0, -1.0, 'Some Y ticks', fontsize=12, bbox=dict(edgecolor='w', color='w'))\n",
    "\n",
    "plt.grid(True)\n",
    "plt.savefig('Matplotlib_Fig_2.png', fmt='png', dpi=600)\n",
    "plt.show()"
   ]
  },
  {
   "cell_type": "markdown",
   "metadata": {},
   "source": [
    "Много примеров создания и оформления графиков в **Matplotlib** можно посмотреть в блоге **Павла Шабанова**\n",
    "\n",
    "https://github.com/whitehorn/Scientific_graphics_in_python\n"
   ]
  },
  {
   "cell_type": "markdown",
   "metadata": {
    "slideshow": {
     "slide_type": "subslide"
    }
   },
   "source": [
    "## Пакет Pandas: данные с маркировкой столбцов\n",
    "\n",
    "**Pandas** - более новый пакет, чем **NumPy**, построенный поверх его структур данных и методов их обработки. **Pandas** предлагает пользователю интерфейс для создания маркерованных многомерных данных в виде объекта **DataFrame**. Работа с **DataFrames** в **Pandas** выглядит примерно так:"
   ]
  },
  {
   "cell_type": "code",
   "execution_count": 1,
   "metadata": {
    "ExecuteTime": {
     "end_time": "2021-02-26T16:14:31.149712Z",
     "start_time": "2021-02-26T16:14:30.408510Z"
    },
    "slideshow": {
     "slide_type": "-"
    }
   },
   "outputs": [
    {
     "data": {
      "text/html": [
       "<div>\n",
       "<style scoped>\n",
       "    .dataframe tbody tr th:only-of-type {\n",
       "        vertical-align: middle;\n",
       "    }\n",
       "\n",
       "    .dataframe tbody tr th {\n",
       "        vertical-align: top;\n",
       "    }\n",
       "\n",
       "    .dataframe thead th {\n",
       "        text-align: right;\n",
       "    }\n",
       "</style>\n",
       "<table border=\"1\" class=\"dataframe\">\n",
       "  <thead>\n",
       "    <tr style=\"text-align: right;\">\n",
       "      <th></th>\n",
       "      <th>метка</th>\n",
       "      <th>значение</th>\n",
       "    </tr>\n",
       "  </thead>\n",
       "  <tbody>\n",
       "    <tr>\n",
       "      <th>0</th>\n",
       "      <td>A</td>\n",
       "      <td>1</td>\n",
       "    </tr>\n",
       "    <tr>\n",
       "      <th>1</th>\n",
       "      <td>B</td>\n",
       "      <td>2</td>\n",
       "    </tr>\n",
       "    <tr>\n",
       "      <th>2</th>\n",
       "      <td>C</td>\n",
       "      <td>3</td>\n",
       "    </tr>\n",
       "    <tr>\n",
       "      <th>3</th>\n",
       "      <td>A</td>\n",
       "      <td>4</td>\n",
       "    </tr>\n",
       "    <tr>\n",
       "      <th>4</th>\n",
       "      <td>B</td>\n",
       "      <td>5</td>\n",
       "    </tr>\n",
       "    <tr>\n",
       "      <th>5</th>\n",
       "      <td>C</td>\n",
       "      <td>6</td>\n",
       "    </tr>\n",
       "  </tbody>\n",
       "</table>\n",
       "</div>"
      ],
      "text/plain": [
       "  метка  значение\n",
       "0     A         1\n",
       "1     B         2\n",
       "2     C         3\n",
       "3     A         4\n",
       "4     B         5\n",
       "5     C         6"
      ]
     },
     "execution_count": 1,
     "metadata": {},
     "output_type": "execute_result"
    }
   ],
   "source": [
    "import pandas as pd\n",
    "df = pd.DataFrame({'метка': ['A', 'B', 'C', 'A', 'B', 'C'],\n",
    "                   'значение': [1, 2, 3, 4, 5, 6]})\n",
    "df"
   ]
  },
  {
   "cell_type": "markdown",
   "metadata": {
    "slideshow": {
     "slide_type": "-"
    }
   },
   "source": [
    "Сорхраним данные в формате **csv**, с разделителем **;**"
   ]
  },
  {
   "cell_type": "code",
   "execution_count": 2,
   "metadata": {
    "ExecuteTime": {
     "end_time": "2021-02-26T16:17:02.513918Z",
     "start_time": "2021-02-26T16:17:02.491324Z"
    },
    "slideshow": {
     "slide_type": "-"
    }
   },
   "outputs": [],
   "source": [
    "df.to_csv('WORK_SPACE/DF_1.csv', sep=';')"
   ]
  },
  {
   "cell_type": "code",
   "execution_count": 3,
   "metadata": {
    "ExecuteTime": {
     "end_time": "2021-02-26T16:20:54.974347Z",
     "start_time": "2021-02-26T16:20:54.966797Z"
    },
    "slideshow": {
     "slide_type": "-"
    }
   },
   "outputs": [
    {
     "data": {
      "text/plain": [
       "0    A\n",
       "1    B\n",
       "2    C\n",
       "3    A\n",
       "4    B\n",
       "5    C\n",
       "Name: метка, dtype: object"
      ]
     },
     "execution_count": 3,
     "metadata": {},
     "output_type": "execute_result"
    }
   ],
   "source": [
    "df['метка']"
   ]
  },
  {
   "cell_type": "code",
   "execution_count": 4,
   "metadata": {
    "ExecuteTime": {
     "end_time": "2021-02-26T16:21:30.788875Z",
     "start_time": "2021-02-26T16:21:30.611206Z"
    }
   },
   "outputs": [
    {
     "data": {
      "text/html": [
       "<div>\n",
       "<style scoped>\n",
       "    .dataframe tbody tr th:only-of-type {\n",
       "        vertical-align: middle;\n",
       "    }\n",
       "\n",
       "    .dataframe tbody tr th {\n",
       "        vertical-align: top;\n",
       "    }\n",
       "\n",
       "    .dataframe thead th {\n",
       "        text-align: right;\n",
       "    }\n",
       "</style>\n",
       "<table border=\"1\" class=\"dataframe\">\n",
       "  <thead>\n",
       "    <tr style=\"text-align: right;\">\n",
       "      <th></th>\n",
       "      <th>значение</th>\n",
       "    </tr>\n",
       "    <tr>\n",
       "      <th>метка</th>\n",
       "      <th></th>\n",
       "    </tr>\n",
       "  </thead>\n",
       "  <tbody>\n",
       "    <tr>\n",
       "      <th>A</th>\n",
       "      <td>5</td>\n",
       "    </tr>\n",
       "    <tr>\n",
       "      <th>B</th>\n",
       "      <td>7</td>\n",
       "    </tr>\n",
       "    <tr>\n",
       "      <th>C</th>\n",
       "      <td>9</td>\n",
       "    </tr>\n",
       "  </tbody>\n",
       "</table>\n",
       "</div>"
      ],
      "text/plain": [
       "       значение\n",
       "метка          \n",
       "A             5\n",
       "B             7\n",
       "C             9"
      ]
     },
     "execution_count": 4,
     "metadata": {},
     "output_type": "execute_result"
    }
   ],
   "source": [
    "df.groupby('метка').sum()"
   ]
  },
  {
   "cell_type": "code",
   "execution_count": 5,
   "metadata": {
    "ExecuteTime": {
     "end_time": "2021-02-26T16:21:59.150922Z",
     "start_time": "2021-02-26T16:21:59.139754Z"
    }
   },
   "outputs": [
    {
     "data": {
      "text/plain": [
       "21"
      ]
     },
     "execution_count": 5,
     "metadata": {},
     "output_type": "execute_result"
    }
   ],
   "source": [
    "df['значение'].sum()"
   ]
  },
  {
   "cell_type": "markdown",
   "metadata": {
    "slideshow": {
     "slide_type": "subslide"
    }
   },
   "source": [
    "## Пакет MPI4Py: Реализация технологии MPI в Python\n",
    "\n",
    "Пакет **mpi4py** обеспечивает поддержку **MPI** для языка **Python**, позволяя программистам более эффективно использовать многопроцессорные вычислительные системы. **mpi4py** построен поверх спецификаций MPI-1/2 и предоставляет объектно-ориентированный интерфейс, который следует реализации связей **C++** с **MPI-2**. Пакет **mpi4py** поддедерживает практически весь набор\n",
    "\n",
    "Для иллюстрации работы с **mpi4py** просто импортируем **MPI**, создадим **``communicator``** и получим **``rank``** каждого процесса: "
   ]
  },
  {
   "cell_type": "code",
   "execution_count": 1,
   "metadata": {
    "ExecuteTime": {
     "end_time": "2021-03-05T13:42:45.654728Z",
     "start_time": "2021-03-05T13:42:45.640621Z"
    },
    "slideshow": {
     "slide_type": "-"
    }
   },
   "outputs": [
    {
     "name": "stdout",
     "output_type": "stream",
     "text": [
      "Writing MPI_Ex_1.py\n"
     ]
    }
   ],
   "source": [
    "%%writefile MPI_Ex_1.py\n",
    "from mpi4py import MPI\n",
    "\n",
    "comm = MPI.COMM_WORLD\n",
    "rank = comm.Get_rank()\n",
    "print ('My rank is {}\\n'.format(rank))"
   ]
  },
  {
   "cell_type": "markdown",
   "metadata": {
    "slideshow": {
     "slide_type": "-"
    }
   },
   "source": [
    "Сохраняем текст скрипта в файл **MPI_1.py**. Запускаем скрипт командой:\n",
    "```bash\n",
    "mpirun -n 4 python MPI_Ex_1.py\n",
    "```\n",
    "\n",
    "Пример с передачей данных"
   ]
  },
  {
   "cell_type": "code",
   "execution_count": 3,
   "metadata": {
    "ExecuteTime": {
     "end_time": "2021-03-05T13:46:47.737641Z",
     "start_time": "2021-03-05T13:46:46.666966Z"
    }
   },
   "outputs": [
    {
     "name": "stdout",
     "output_type": "stream",
     "text": [
      "My rank is 0\n",
      "\n",
      "My rank is 1\n",
      "\n",
      "My rank is 3\n",
      "\n",
      "My rank is 2\n",
      "\n"
     ]
    }
   ],
   "source": [
    "!mpirun -n 4 --oversubscribe python MPI_Ex_1.py"
   ]
  },
  {
   "cell_type": "code",
   "execution_count": 4,
   "metadata": {
    "ExecuteTime": {
     "end_time": "2021-03-05T13:49:29.313292Z",
     "start_time": "2021-03-05T13:49:29.302542Z"
    },
    "slideshow": {
     "slide_type": "-"
    }
   },
   "outputs": [
    {
     "name": "stdout",
     "output_type": "stream",
     "text": [
      "Writing MPI_Ex_2.py\n"
     ]
    }
   ],
   "source": [
    "%%writefile MPI_Ex_2.py\n",
    "import numpy as np\n",
    "from mpi4py import MPI\n",
    "\n",
    "data = np.array([1.0, 2.0, 3.0, 4.0])\n",
    "\n",
    "comm = MPI.COMM_WORLD\n",
    "rank = comm.Get_rank()\n",
    "\n",
    "if rank == 0:\n",
    "    comm.send(2 * data, dest=1, tag=11)\n",
    "    comm.send(3 * data, dest=2, tag=11)\n",
    "    comm.send(4 * data, dest=3, tag=11)\n",
    "elif rank in [1, 2, 3]:\n",
    "    data = comm.recv(source=0, tag=11)\n",
    "\n",
    "print (\"rank = {}  , data = {}\\n\".format(rank, data))\n",
    "    "
   ]
  },
  {
   "cell_type": "code",
   "execution_count": 5,
   "metadata": {
    "ExecuteTime": {
     "end_time": "2021-03-05T13:50:10.172813Z",
     "start_time": "2021-03-05T13:50:08.093029Z"
    }
   },
   "outputs": [
    {
     "name": "stdout",
     "output_type": "stream",
     "text": [
      "rank = 2  , data = [ 3.  6.  9. 12.]\n",
      "\n",
      "rank = 0  , data = [1. 2. 3. 4.]\n",
      "\n",
      "rank = 1  , data = [2. 4. 6. 8.]\n",
      "\n",
      "rank = 3  , data = [ 4.  8. 12. 16.]\n",
      "\n"
     ]
    }
   ],
   "source": [
    "!mpirun -n 4 --oversubscribe python MPI_Ex_2.py"
   ]
  },
  {
   "cell_type": "markdown",
   "metadata": {
    "slideshow": {
     "slide_type": "subslide"
    }
   },
   "source": [
    "## Пакет H5Py: Реализация работы с форматом HDF5 в Python\n",
    "\n",
    "Пакет **h5py** обеспечивает поддержку формата **HDF5** для языка **Python**, позволяя программистам записывать, читать и обраатывать данные приактически любого объема и структурной сложности. Файл **HDF5** (Hierarchical Data Format version 5) представляет собой контейнер для двух видов объектов: **наборы данных** (array-like), которые представляют собой коллекции массивов данных и **группы**, которые представляют собой контейнеры в виде директорий (folder-like), в которых хранятся наборы данных и другие группы. Самое главное, что следует помнить при использовании h5py: **Группы работают как словари, а наборы данных работают как массивы NumPy**.\n",
    "\n",
    "Для просмотра файлов в **HDF5**-формате, помимо уже упомянутого пакета **vitables**, существует несколько вариантов, например, **HDF5 Viewer** от **HDF Group** или **SilX Viewer** из пакета **ScIentific Library for eXperimentalists**. Для установки пакета **silx** необходимо в терминале выполнить команду \n",
    "```bash\n",
    "conda install -c conda-forge silx\n",
    "```\n",
    "После успешной установки пакета **silx**, просмотреть содержимое **HDF5**-файла можно, выполнив в терминале команду\n",
    "в терминале выполнить команду \n",
    "```bash\n",
    "silx view <имя файла>.hdf5\n",
    "```\n",
    "Для знакомства с пакетом **h5py** рассмотрим, как создается **hdf5**-файл. "
   ]
  },
  {
   "cell_type": "code",
   "execution_count": null,
   "metadata": {},
   "outputs": [],
   "source": [
    "vitables"
   ]
  },
  {
   "cell_type": "code",
   "execution_count": 6,
   "metadata": {
    "ExecuteTime": {
     "end_time": "2021-03-05T14:10:48.700232Z",
     "start_time": "2021-03-05T14:10:47.513863Z"
    },
    "slideshow": {
     "slide_type": "-"
    }
   },
   "outputs": [],
   "source": [
    "import h5py\n",
    "import numpy as np\n",
    "\n",
    "f = h5py.File(\"file_1.hdf5\", \"w\")\n",
    "dset = f.create_dataset(\"dataset_1\", (100,), dtype='float')\n",
    "f.close()"
   ]
  },
  {
   "cell_type": "code",
   "execution_count": 7,
   "metadata": {
    "ExecuteTime": {
     "end_time": "2021-03-05T14:20:06.345768Z",
     "start_time": "2021-03-05T14:20:06.334986Z"
    }
   },
   "outputs": [],
   "source": [
    "f = h5py.File('file_1.hdf5', 'r+')\n",
    "dset = f[\"dataset_1\"]\n",
    "arr = np.random.randn(10000)\n",
    "dset[0:6] = arr[100:106]\n",
    "f.close()"
   ]
  },
  {
   "cell_type": "code",
   "execution_count": 8,
   "metadata": {
    "ExecuteTime": {
     "end_time": "2021-03-05T14:24:49.992756Z",
     "start_time": "2021-03-05T14:24:49.968447Z"
    },
    "slideshow": {
     "slide_type": "-"
    }
   },
   "outputs": [],
   "source": [
    "f = h5py.File('file_1.hdf5', 'r+')\n",
    "grp = f.create_group(\"group_1\")\n",
    "dset2 = grp.create_dataset(\"dataset_2\", (50,), dtype='f')\n",
    "dset3 = f.create_dataset('group_2/dataset_3', (10,), dtype='i')\n",
    "f.close()"
   ]
  },
  {
   "cell_type": "code",
   "execution_count": null,
   "metadata": {
    "slideshow": {
     "slide_type": "-"
    }
   },
   "outputs": [],
   "source": []
  },
  {
   "cell_type": "markdown",
   "metadata": {
    "slideshow": {
     "slide_type": "-"
    }
   },
   "source": [
    "Пакет **h5py** предоставляет возможность сохранения **NumPy** массивов в **HDF5**-файл и обратного чтения из **HDF5**-файла в **NumPy** массив"
   ]
  },
  {
   "cell_type": "code",
   "execution_count": 9,
   "metadata": {
    "ExecuteTime": {
     "end_time": "2021-03-05T14:30:04.754608Z",
     "start_time": "2021-03-05T14:30:04.742677Z"
    },
    "slideshow": {
     "slide_type": "-"
    }
   },
   "outputs": [],
   "source": [
    "arr1 = np.random.random(size=(100,20))\n",
    "h5f = h5py.File('data.hdf5', 'w')\n",
    "h5f.create_dataset('dataset_1', data=arr1)\n",
    "h5f.close()"
   ]
  },
  {
   "cell_type": "code",
   "execution_count": 10,
   "metadata": {
    "ExecuteTime": {
     "end_time": "2021-03-05T14:33:48.023833Z",
     "start_time": "2021-03-05T14:33:48.010374Z"
    },
    "slideshow": {
     "slide_type": "-"
    }
   },
   "outputs": [],
   "source": [
    "h5f = h5py.File('data.hdf5', 'r')\n",
    "arr2 = h5f['dataset_1'][:]\n",
    "h5f.close()"
   ]
  },
  {
   "cell_type": "code",
   "execution_count": 11,
   "metadata": {
    "ExecuteTime": {
     "end_time": "2021-03-05T14:34:23.286718Z",
     "start_time": "2021-03-05T14:34:23.264114Z"
    },
    "slideshow": {
     "slide_type": "-"
    }
   },
   "outputs": [
    {
     "data": {
      "text/plain": [
       "True"
      ]
     },
     "execution_count": 11,
     "metadata": {},
     "output_type": "execute_result"
    }
   ],
   "source": [
    "np.allclose(arr1,arr2)"
   ]
  },
  {
   "cell_type": "markdown",
   "metadata": {
    "slideshow": {
     "slide_type": "slide"
    }
   },
   "source": [
    "<p style=\"text-align: center; font-size: 36pt; font-weight: bold; color: rgb(0, 0, 190); padding: 20px; margin-top: -2%;\">Задача N тел</p>\n",
    "\n",
    "Для иллюстрации применения платформы **Python** в области научных вычислений будем рассматривать **задачу N тел**. Данная задача возникает в разных областях науки, например, гравитационное моделирование эволюции шаровых звездных скоплений или динамика облака частиц в моделях плазмы.\n",
    "\n",
    "В дальнейшем мы будем изучать параллелизм через этой задачи. **Задача N тел** - это большая проблема для вычислительной физики, потому что аналитических решений не существует, кроме случаев, когда N = 2 или ограниченной задачи трех тел, когда N = 3. Численное моделирование - лучшее, что мы можем предложить. С вычислительной точки зрения **задачу N тел** можно разделить на две части одна, из которых, хорошо поддается параллельному вычислению, а другая - нет.\n",
    "\n",
    "**Задача N-тел** представляет собой обобщение классической задачи двух тел, которая описывается уравнениями движения для двух масс. В соответствии с законом тяготения Ньютона:\n",
    "$$\n",
    "\\frac{dp}{dt}=G \\frac{m_{1}m_{2}}{r^{2}}\n",
    "$$\n",
    "\n",
    "где $p$ - импульс, $t$ - время, $G$ - гравитационная постоянная, $m_{1}$ и $m_{2}$ - гравитирующие массы, а $r$ - расстояние между ними. Таким образом, сила, приложенная к $i$-й массе со стороны других $N-1$ тел, выглядит следующим образом:\n",
    "$$\n",
    "m_{i} \\frac{d^{2}x_{i}}{dt^{2}} = \\sum_{j=1,\\;j \\neq i}^N G \\frac{m_{i}m_{j} \\left( x_{j} - x_{i} \\right)}{\\begin{Vmatrix} x_{j} - x_{i} \\end{Vmatrix}^{3}}\n",
    "$$\n",
    "\n",
    "Для ускорения $a_{i}$ $i$-й частицы можно записать соотношение:\n",
    "$$\n",
    "a_{i} = \\sum_{j=1,\\;j \\neq i}^N G \\frac{m_{j} \\left( x_{j} - x_{i} \\right)}{\\begin{Vmatrix} x_{j} - x_{i} \\end{Vmatrix}^{3}}\n",
    "$$\n",
    "\n",
    "Это выражение для ускорения может быть использовано для записи стандартных дискретных уравнений движения, в которых индекс $s$ отнесем к шагу по времени:\n",
    "$$\n",
    "v^{s}_{i} = a^{s-1}_{i}\\Delta t + v^{s-1}_{i} \\\\\n",
    "$$\n",
    "$$\n",
    "x^{s}_{i} = a^{s-1}_{i}\\Delta t^2 + v^{s-1}_{i}\\Delta t + x^{s-1}_{i}\n",
    "$$\n",
    "где $\\Delta t = t_{s} - t_{s-1}$ - шаг по времени, $x_{i},\\;v_{i},\\;a_{i}$ - положение, скорость и ускорение $i$-й частицы. Имея начальное состояние $\\left\\{ x^{0},\\;v^{0},\\;a^{0} \\right\\}$ для всех N частиц, составаляющих моделируемый объект, мы можем рассчитать изменение состояние частиц во времени.  \n",
    "\n",
    "Теперь можно перейти к программной реализации решения **Задачи N-тел**. Рассмотрим простую последовательную реализацию численного моделирования поведения **N-тел**. "
   ]
  },
  {
   "cell_type": "markdown",
   "metadata": {},
   "source": [
    "# Как НЕ НАДО использовать Python\n",
    "\n",
    "Для измерения времени испольнения будем использовать возможности пакета **mpi4py**. Для начала реализуем алгоритм так, как **НЕ НАДО** использовать платформу **Python** для вычислительных задач\n",
    "\n",
    "- в качестве массивов будем использовать структуру данных **list**\n",
    "- обработку массивов будем проводить в явных циклах\n"
   ]
  },
  {
   "cell_type": "code",
   "execution_count": 1,
   "metadata": {
    "ExecuteTime": {
     "end_time": "2021-02-26T16:44:21.984369Z",
     "start_time": "2021-02-26T16:44:21.423797Z"
    },
    "slideshow": {
     "slide_type": "subslide"
    }
   },
   "outputs": [],
   "source": [
    "# импортируем необходимые пакеты и  функции\n",
    "from mpi4py import MPI\n",
    "import numpy as np\n",
    "import matplotlib as mpl\n",
    "from matplotlib import pyplot as plt\n",
    "from matplotlib import cm\n",
    "from PIL import Image\n",
    "import os, sys, glob\n",
    "%matplotlib inline"
   ]
  },
  {
   "cell_type": "code",
   "execution_count": 2,
   "metadata": {
    "ExecuteTime": {
     "end_time": "2021-02-26T16:44:22.976970Z",
     "start_time": "2021-02-26T16:44:22.971103Z"
    },
    "slideshow": {
     "slide_type": "-"
    }
   },
   "outputs": [],
   "source": [
    "# гравитационная постоянная м^3 кг^-1 с^-2\n",
    "G = 6.67408E-11 \n",
    "# размер области 2L x 2L x 2L\n",
    "L = 1E6\n",
    "# радиус частиц\n",
    "R = 5E3\n",
    "# плотность\n",
    "rho = 2.5E3\n",
    "# число частиц\n",
    "N = 100\n",
    "# Моделируемый отрезок времени\n",
    "T0 = 1.0E+6\n",
    "# Число шагов по времени\n",
    "NTSteps = 50000\n",
    "# Интервал между визуализациями данных\n",
    "VizStep = 1000\n",
    "# Шаг по времени\n",
    "dT = T0/NTSteps"
   ]
  },
  {
   "cell_type": "code",
   "execution_count": 3,
   "metadata": {
    "ExecuteTime": {
     "end_time": "2021-02-26T16:44:24.432603Z",
     "start_time": "2021-02-26T16:44:24.419702Z"
    },
    "slideshow": {
     "slide_type": "-"
    }
   },
   "outputs": [],
   "source": [
    "# функция для измерения времени выполнения\n",
    "def How_Long(func, args):\n",
    "    start = MPI.Wtime()\n",
    "    func(*args)\n",
    "    stop = MPI.Wtime()        \n",
    "    hrs = (stop - start)//(60*60)\n",
    "    mns = ((stop - start) - hrs*60*60)//60\n",
    "    scs = ((stop - start) - hrs*60*60 - mns*60)\n",
    "    print (\" {} hour {} min {} sec\\n\".format(hrs,mns,scs))\n",
    "    \n",
    "    return hrs, mns, scs, stop - start\n",
    "    "
   ]
  },
  {
   "cell_type": "code",
   "execution_count": 4,
   "metadata": {
    "ExecuteTime": {
     "end_time": "2021-02-26T16:44:28.008994Z",
     "start_time": "2021-02-26T16:44:27.992664Z"
    },
    "slideshow": {
     "slide_type": "-"
    }
   },
   "outputs": [],
   "source": [
    "def init_cond_lists(NP,crds,rds,mss,vls):\n",
    "    for i in range(NP):\n",
    "        crds.append([L - 2*L*np.random.random(),L - 2*L*np.random.random(),L - 2*L*np.random.random()])\n",
    "        rds.append(np.random.randint(100,R))\n",
    "        mss.append(rho*(4.0/3.0)*np.pi*rds[-1]**3)\n",
    "        vls.append([0,0,0])"
   ]
  },
  {
   "cell_type": "code",
   "execution_count": 5,
   "metadata": {
    "ExecuteTime": {
     "end_time": "2021-02-26T16:44:30.363152Z",
     "start_time": "2021-02-26T16:44:30.312869Z"
    }
   },
   "outputs": [],
   "source": [
    "def Viz(Crds, FileName):\n",
    "    mpl.rcParams['figure.figsize'] = (24.0, 8.0)\n",
    "    plt.subplots(ncols=3)\n",
    "    X = np.array(Crds)[:,0]\n",
    "    Y = np.array(Crds)[:,1]\n",
    "    Z = np.array(Crds)[:,2]\n",
    "    plt.subplot(131)\n",
    "    plt.title('View From X Axis')\n",
    "    plt.xlabel('Y')\n",
    "    plt.ylabel('Z')\n",
    "    plt.scatter(Y, Z, cmap=cm.hot)\n",
    "    plt.xlim([-L,L])\n",
    "    plt.ylim([-L,L])\n",
    "    plt.subplot(132)\n",
    "    plt.title('View From Y Axis')\n",
    "    plt.xlabel('X')\n",
    "    plt.ylabel('Z')\n",
    "    plt.scatter(X, Z, cmap=cm.hot)\n",
    "    plt.xlim([-L,L])\n",
    "    plt.ylim([-L,L])\n",
    "    plt.subplot(133)\n",
    "    plt.title('View From Z Axis')\n",
    "    plt.xlabel('X')\n",
    "    plt.ylabel('Y')    \n",
    "    plt.scatter(X, Y, cmap=cm.hot)\n",
    "    plt.xlim([-L,L])\n",
    "    plt.ylim([-L,L])\n",
    "    plt.savefig(FileName,dpi=300, bbox_inches='tight')\n",
    "    plt.close()\n"
   ]
  },
  {
   "cell_type": "code",
   "execution_count": 6,
   "metadata": {
    "ExecuteTime": {
     "end_time": "2021-02-26T16:44:36.314179Z",
     "start_time": "2021-02-26T16:44:36.295375Z"
    },
    "slideshow": {
     "slide_type": "-"
    }
   },
   "outputs": [],
   "source": [
    "def nbody(NP, NT, dt, crds, vls, mss):  \n",
    "    for step in range(1, NT + 1, 1):\n",
    "        for i in range(NP):\n",
    "            Ax = 0.0; Ay = 0.0; Az = 0.0\n",
    "            for j in range(NP):\n",
    "                if j != i:\n",
    "                    dx = crds[j][0] - crds[i][0]\n",
    "                    dy = crds[j][1] - crds[i][1]\n",
    "                    dz = crds[j][2] - crds[i][2]\n",
    "                    dr2 = dx * dx + dy * dy + dz * dz\n",
    "                    dr3 = dr2 * np.sqrt(dr2)\n",
    "                    Ax = Ax + mss[j] * dx / dr3\n",
    "                    Ay = Ay + mss[j] * dy / dr3\n",
    "                    Az = Az + mss[j] * dz / dr3\n",
    "                    \n",
    "            vls[i][0] = vls[i][0] + dt * G * Ax\n",
    "            vls[i][1] = vls[i][1] + dt * G * Ay\n",
    "            vls[i][2] = vls[i][2] + dt * G * Az\n",
    "                \n",
    "        for k in range(NP):\n",
    "            crds[k][0] = crds[k][0] + vls[k][0] * dt\n",
    "            crds[k][1] = crds[k][1] + vls[k][1] * dt\n",
    "            crds[k][2] = crds[k][2] + vls[k][2] * dt\n",
    "\n",
    "            \n",
    "        if step % VizStep == 0:\n",
    "            print (\"STEP: {}\".format(step))\n",
    "            fn = os.path.join(\"WORK_SPACE\",\"ResNBody_List\",\"%020d.png\" % step)\n",
    "            Viz(crds,fn)\n",
    "            fn = os.path.join(\"WORK_SPACE\",\"ResNBody_List\",\"%020d.csv\" % step)\n",
    "            np.savetxt(fn,np.array(crds), delimiter=';')\n",
    "            fn = os.path.join(\"WORK_SPACE\",\"ResNBody_List\",\"%020d_vls.csv\" % step)\n",
    "            np.savetxt(fn,np.array(vls), delimiter=';')\n",
    "            "
   ]
  },
  {
   "cell_type": "code",
   "execution_count": 9,
   "metadata": {
    "ExecuteTime": {
     "end_time": "2021-02-26T16:48:28.325784Z",
     "start_time": "2021-02-26T16:48:21.221315Z"
    },
    "slideshow": {
     "slide_type": "-"
    }
   },
   "outputs": [
    {
     "name": "stdout",
     "output_type": "stream",
     "text": [
      " 0.0 hour 0.0 min 0.001335401999995156 sec\n",
      "\n"
     ]
    }
   ],
   "source": [
    "# создаем структуры list для хранения данных\n",
    "coords = []\n",
    "rads = []\n",
    "mass = []\n",
    "vels = []\n",
    "\n",
    "# Генерация начального состояния системы\n",
    "How_Long(init_cond_lists,[N,coords,rads,mass,vels])\n",
    "fn = os.path.join(\"WORK_SPACE\",\"ResNBody_List\",\"%020d.png\" % 0)\n",
    "Viz(coords,fn)\n",
    "fn = os.path.join(\"WORK_SPACE\",\"ResNBody_List\",\"%020d.csv\" % 0)\n",
    "np.savetxt(fn,np.array(coords), delimiter=';')\n",
    "fn = os.path.join(\"WORK_SPACE\",\"ResNBody_List\",\"%020d_vls.csv\" % 0)\n",
    "np.savetxt(fn,np.array(vels), delimiter=';')\n",
    "\n",
    "coords_np, vels_np, mass_np, rads_np = np.array(coords), np.array(vels), np.array(mass), np.array(rads)\n",
    "\n",
    "np.savetxt('WORK_SPACE/coords.dat', coords_np)\n",
    "np.savetxt('WORK_SPACE/vels.dat', vels_np)\n",
    "np.savetxt('WORK_SPACE/mass.dat', mass_np)\n",
    "np.savetxt('WORK_SPACE/rads.dat', rads_np)"
   ]
  },
  {
   "cell_type": "code",
   "execution_count": 10,
   "metadata": {
    "ExecuteTime": {
     "end_time": "2021-02-26T17:43:23.452292Z",
     "start_time": "2021-02-26T16:48:40.619685Z"
    },
    "slideshow": {
     "slide_type": "-"
    }
   },
   "outputs": [
    {
     "name": "stdout",
     "output_type": "stream",
     "text": [
      "STEP: 1000\n",
      "STEP: 2000\n",
      "STEP: 3000\n",
      "STEP: 4000\n",
      "STEP: 5000\n",
      "STEP: 6000\n",
      "STEP: 7000\n",
      "STEP: 8000\n",
      "STEP: 9000\n",
      "STEP: 10000\n",
      "STEP: 11000\n",
      "STEP: 12000\n",
      "STEP: 13000\n",
      "STEP: 14000\n",
      "STEP: 15000\n",
      "STEP: 16000\n",
      "STEP: 17000\n",
      "STEP: 18000\n",
      "STEP: 19000\n",
      "STEP: 20000\n",
      "STEP: 21000\n",
      "STEP: 22000\n",
      "STEP: 23000\n",
      "STEP: 24000\n",
      "STEP: 25000\n",
      "STEP: 26000\n",
      "STEP: 27000\n",
      "STEP: 28000\n",
      "STEP: 29000\n",
      "STEP: 30000\n",
      "STEP: 31000\n",
      "STEP: 32000\n",
      "STEP: 33000\n",
      "STEP: 34000\n",
      "STEP: 35000\n",
      "STEP: 36000\n",
      "STEP: 37000\n",
      "STEP: 38000\n",
      "STEP: 39000\n",
      "STEP: 40000\n",
      "STEP: 41000\n",
      "STEP: 42000\n",
      "STEP: 43000\n",
      "STEP: 44000\n",
      "STEP: 45000\n",
      "STEP: 46000\n",
      "STEP: 47000\n",
      "STEP: 48000\n",
      "STEP: 49000\n",
      "STEP: 50000\n",
      " 0.0 hour 54.0 min 42.825328479999826 sec\n",
      "\n"
     ]
    },
    {
     "data": {
      "text/plain": [
       "(0.0, 54.0, 42.825328479999826, 3282.82532848)"
      ]
     },
     "execution_count": 10,
     "metadata": {},
     "output_type": "execute_result"
    }
   ],
   "source": [
    "# Моделирование динамики N-тел для NTSteps шагов по времени\n",
    "How_Long(nbody,[N, NTSteps, dT, coords, vels, mass])"
   ]
  },
  {
   "cell_type": "code",
   "execution_count": 11,
   "metadata": {
    "ExecuteTime": {
     "end_time": "2021-02-26T17:44:10.436964Z",
     "start_time": "2021-02-26T17:43:23.456184Z"
    }
   },
   "outputs": [],
   "source": [
    "fp_in =\"WORK_SPACE/ResNBody_List/*.png\"\n",
    "fp_out = 'WORK_SPACE/ResNBody_List/ResNBody_List.gif'\n",
    "\n",
    "img, *imgs = [Image.open(f) for f in sorted(glob.glob(fp_in))]\n",
    "img.save(fp=fp_out, format='GIF', append_images=imgs,\n",
    "         save_all=True, optimize=False, duration=200, loop=0)\n"
   ]
  },
  {
   "cell_type": "code",
   "execution_count": 12,
   "metadata": {
    "ExecuteTime": {
     "end_time": "2021-02-26T21:45:28.331891Z",
     "start_time": "2021-02-26T18:55:52.084011Z"
    },
    "slideshow": {
     "slide_type": "-"
    }
   },
   "outputs": [
    {
     "name": "stdout",
     "output_type": "stream",
     "text": [
      "Total WorkTime For 10 Particles: \n",
      " 0.0 hour 0.0 min 0.014519142000608554 sec\n",
      "\n",
      "Total WorkTime For 250 Particles: \n",
      " 0.0 hour 0.0 min 3.7073520260000805 sec\n",
      "\n",
      "Total WorkTime For 500 Particles: \n",
      " 0.0 hour 0.0 min 14.158800815000177 sec\n",
      "\n",
      "Total WorkTime For 750 Particles: \n",
      " 0.0 hour 0.0 min 32.188192609 sec\n",
      "\n",
      "Total WorkTime For 1000 Particles: \n",
      " 0.0 hour 0.0 min 57.97227068099983 sec\n",
      "\n",
      "Total WorkTime For 1250 Particles: \n",
      " 0.0 hour 1.0 min 33.05492461799986 sec\n",
      "\n",
      "Total WorkTime For 1500 Particles: \n",
      " 0.0 hour 2.0 min 8.54277846199966 sec\n",
      "\n",
      "Total WorkTime For 1750 Particles: \n",
      " 0.0 hour 2.0 min 52.582259224000154 sec\n",
      "\n",
      "Total WorkTime For 2000 Particles: \n",
      " 0.0 hour 3.0 min 44.51667918699968 sec\n",
      "\n",
      "Total WorkTime For 2250 Particles: \n",
      " 0.0 hour 4.0 min 44.64351980999891 sec\n",
      "\n",
      "Total WorkTime For 2500 Particles: \n",
      " 0.0 hour 5.0 min 49.554441637999844 sec\n",
      "\n",
      "Total WorkTime For 2750 Particles: \n",
      " 0.0 hour 7.0 min 5.441580569000507 sec\n",
      "\n",
      "Total WorkTime For 3000 Particles: \n",
      " 0.0 hour 8.0 min 25.22043156899963 sec\n",
      "\n",
      "Total WorkTime For 3250 Particles: \n",
      " 0.0 hour 10.0 min 7.559483091999937 sec\n",
      "\n",
      "Total WorkTime For 3500 Particles: \n",
      " 0.0 hour 11.0 min 34.52586306400008 sec\n",
      "\n",
      "Total WorkTime For 3750 Particles: \n",
      " 0.0 hour 13.0 min 21.93214040699968 sec\n",
      "\n",
      "Total WorkTime For 4000 Particles: \n",
      " 0.0 hour 15.0 min 6.955852099999902 sec\n",
      "\n",
      "Total WorkTime For 4250 Particles: \n",
      " 0.0 hour 17.0 min 0.24706103000062285 sec\n",
      "\n",
      "Total WorkTime For 4500 Particles: \n",
      " 0.0 hour 19.0 min 21.392516841999168 sec\n",
      "\n",
      "Total WorkTime For 4750 Particles: \n",
      " 0.0 hour 21.0 min 18.842303002002154 sec\n",
      "\n",
      "Total WorkTime For 5000 Particles: \n",
      " 0.0 hour 23.0 min 32.626678730001004 sec\n",
      "\n"
     ]
    }
   ],
   "source": [
    "# Исследование зависимости времени счсета от числа частиц\n",
    "Work_time = []\n",
    "NArr = np.arange(0,5250,250)\n",
    "NArr[0] = 10\n",
    "for n in NArr:\n",
    "    # создаем структуры list для хранения данных\n",
    "    coords = []\n",
    "    rads = []\n",
    "    mass = []\n",
    "    vels = []\n",
    "    # Генерация начального состояния системы\n",
    "    init_cond_lists(n,coords,rads,mass,vels)\n",
    "    print (\"Total WorkTime For {} Particles: \".format(n))\n",
    "    Work_time.append(How_Long(nbody,[n, 10, dT, coords, vels, mass]))\n",
    "    "
   ]
  },
  {
   "cell_type": "code",
   "execution_count": 13,
   "metadata": {
    "ExecuteTime": {
     "end_time": "2021-02-26T23:21:19.710326Z",
     "start_time": "2021-02-26T23:21:19.698480Z"
    },
    "slideshow": {
     "slide_type": "-"
    }
   },
   "outputs": [
    {
     "data": {
      "text/plain": [
       "10175.679648617002"
      ]
     },
     "execution_count": 13,
     "metadata": {},
     "output_type": "execute_result"
    }
   ],
   "source": [
    "WTArr = np.array(Work_time)\n",
    "WTArr[:,3].sum()"
   ]
  },
  {
   "cell_type": "code",
   "execution_count": 14,
   "metadata": {
    "ExecuteTime": {
     "end_time": "2021-02-26T23:21:21.330701Z",
     "start_time": "2021-02-26T23:21:21.323872Z"
    }
   },
   "outputs": [
    {
     "data": {
      "text/plain": [
       "0.014519142000608554"
      ]
     },
     "execution_count": 14,
     "metadata": {},
     "output_type": "execute_result"
    }
   ],
   "source": [
    "WTArr[:,3][0]"
   ]
  },
  {
   "cell_type": "code",
   "execution_count": 15,
   "metadata": {
    "ExecuteTime": {
     "end_time": "2021-02-26T23:21:22.309586Z",
     "start_time": "2021-02-26T23:21:22.304313Z"
    }
   },
   "outputs": [
    {
     "data": {
      "text/plain": [
       "1412.626678730001"
      ]
     },
     "execution_count": 15,
     "metadata": {},
     "output_type": "execute_result"
    }
   ],
   "source": [
    "WTArr[:,3][-1]"
   ]
  },
  {
   "cell_type": "code",
   "execution_count": 16,
   "metadata": {
    "ExecuteTime": {
     "end_time": "2021-02-26T23:21:23.100139Z",
     "start_time": "2021-02-26T23:21:23.093427Z"
    },
    "slideshow": {
     "slide_type": "-"
    }
   },
   "outputs": [
    {
     "data": {
      "text/plain": [
       "97294.09"
      ]
     },
     "execution_count": 16,
     "metadata": {},
     "output_type": "execute_result"
    }
   ],
   "source": [
    "np.round(WTArr[:,3][-1]/WTArr[:,3][0], decimals=2)"
   ]
  },
  {
   "cell_type": "code",
   "execution_count": 17,
   "metadata": {
    "ExecuteTime": {
     "end_time": "2021-02-26T23:21:26.538119Z",
     "start_time": "2021-02-26T23:21:26.530276Z"
    }
   },
   "outputs": [],
   "source": [
    "np.savetxt('WORK_SPACE/WorkTime_List.dat', WTArr)\n",
    "np.savetxt('WORK_SPACE/NParticles.dat', NArr)"
   ]
  },
  {
   "cell_type": "code",
   "execution_count": 18,
   "metadata": {
    "ExecuteTime": {
     "end_time": "2021-02-26T23:21:37.620966Z",
     "start_time": "2021-02-26T23:21:30.793579Z"
    },
    "slideshow": {
     "slide_type": "-"
    }
   },
   "outputs": [
    {
     "data": {
      "text/plain": [
       "<Figure size 1728x576 with 0 Axes>"
      ]
     },
     "metadata": {},
     "output_type": "display_data"
    }
   ],
   "source": [
    "fig = plt.figure()\n",
    "mpl.rcParams['figure.figsize'] = (9.0, 6.0)\n",
    "ax_01 = plt.axes()\n",
    "line_01, = ax_01.plot(NArr[:np.size(WTArr[:,3])],WTArr[:,3],'-o', color='r', markersize=5, label=u\"list как массив\")\n",
    "ax_01.grid(color = 'b')\n",
    "ax_01.legend(borderaxespad=0.5)\n",
    "plt.title(u'Зависимость времени счета от числа частиц \\n' + r'$\\frac{t_{max}}{t_{min}} = $' + ' {} \\n'.format(np.round(WTArr[:,3].max()/WTArr[:,3].min(), decimals=2)))\n",
    "ax_01.set_xlabel(u'Число частиц')\n",
    "ax_01.set_ylabel(u'Время счета, сек')\n",
    "plt.savefig(\"WORK_SPACE/ResNBody_List/Time_NBody_List.png\",dpi=300, bbox_inches='tight')\n",
    "plt.clf()\n"
   ]
  },
  {
   "cell_type": "markdown",
   "metadata": {},
   "source": [
    "<img src=\"WORK_SPACE/ResNBody_List/Time_NBody_List.png\" width=\"92.5%\"/> \n"
   ]
  },
  {
   "cell_type": "markdown",
   "metadata": {
    "slideshow": {
     "slide_type": "-"
    }
   },
   "source": []
  },
  {
   "cell_type": "code",
   "execution_count": null,
   "metadata": {},
   "outputs": [],
   "source": []
  }
 ],
 "metadata": {
  "celltoolbar": "Slideshow",
  "kernelspec": {
   "display_name": "Python 3",
   "language": "python",
   "name": "python3"
  },
  "language_info": {
   "codemirror_mode": {
    "name": "ipython",
    "version": 3
   },
   "file_extension": ".py",
   "mimetype": "text/x-python",
   "name": "python",
   "nbconvert_exporter": "python",
   "pygments_lexer": "ipython3",
   "version": "3.7.3"
  },
  "latex_envs": {
   "LaTeX_envs_menu_present": true,
   "autoclose": false,
   "autocomplete": true,
   "bibliofile": "biblio.bib",
   "cite_by": "apalike",
   "current_citInitial": 1,
   "eqLabelWithNumbers": true,
   "eqNumInitial": 1,
   "hotkeys": {
    "equation": "Ctrl-E",
    "itemize": "Ctrl-I"
   },
   "labels_anchors": false,
   "latex_user_defs": false,
   "report_style_numbering": false,
   "user_envs_cfg": false
  },
  "livereveal": {
   "autolaunch": false,
   "height": 800,
   "scroll": true,
   "theme": "sky",
   "width": 1200
  },
  "varInspector": {
   "cols": {
    "lenName": 16,
    "lenType": 16,
    "lenVar": 40
   },
   "kernels_config": {
    "python": {
     "delete_cmd_postfix": "",
     "delete_cmd_prefix": "del ",
     "library": "var_list.py",
     "varRefreshCmd": "print(var_dic_list())"
    },
    "r": {
     "delete_cmd_postfix": ") ",
     "delete_cmd_prefix": "rm(",
     "library": "var_list.r",
     "varRefreshCmd": "cat(var_dic_list()) "
    }
   },
   "position": {
    "height": "144.517px",
    "left": "1173.17px",
    "right": "20px",
    "top": "120px",
    "width": "350px"
   },
   "types_to_exclude": [
    "module",
    "function",
    "builtin_function_or_method",
    "instance",
    "_Feature"
   ],
   "window_display": false
  }
 },
 "nbformat": 4,
 "nbformat_minor": 2
}
