{
 "cells": [
  {
   "cell_type": "markdown",
   "metadata": {
    "slideshow": {
     "slide_type": "slide"
    }
   },
   "source": [
    "<div><img src=\"Images/SKI_Header_1_Tr.png\" width=\"150%\"/></div>\n",
    "<p style=\"text-align: center; font-size: 36pt; font-weight: bold; color: rgb(0, 0, 190); padding: 20px; margin-top: 2%;\">СПЕЦКУРС</p>\n",
    "<p style=\"text-align: center; font-size: 36pt; font-weight: bold; color: rgb(0, 0, 190); padding: 40px; margin-top: -3%; line-height: 100%;\">Высокопроизводительные вычисления на платформе Python</p>\n",
    "<p style=\"text-align: left; font-size: 20pt; font-weight: bold; color: rgb(0, 0, 190); padding: 20px; margin-top: -2%; line-height: 10%;\">Преподаватель:</p>\n",
    "<p style=\"text-align: left; font-size: 20pt; font-weight: bold; color: rgb(0, 0, 190); padding: 18px; margin-top: -2%; line-height: 100%;\">&nbsp;&nbsp;&nbsp;&nbsp;&nbsp;&nbsp;&nbsp;&nbsp;&nbsp;Русол Андрей Владимирович, к.т.н., с.н.с. ГЕОХИ РАН</p>\n",
    "<p style=\"text-align: center; font-size: 16pt; font-weight: bold; color: rgb(0, 0, 190); padding: 20px; margin-top: 2%;\">Москва 2021</p>\n"
   ]
  },
  {
   "cell_type": "markdown",
   "metadata": {
    "slideshow": {
     "slide_type": "slide"
    }
   },
   "source": [
    "<p style=\"text-align: center; font-size: 28pt; font-weight: bold; color: rgb(0, 0, 190); padding: 40px; margin-top: -1%; line-height: 150%;\">Решение вычислительных задач на платформе Python: пакеты NumPy, SciPy, SymPy и др.</p>\n",
    "\n",
    "\n",
    "\n",
    "\n",
    "\n",
    "\n",
    "\n",
    "\n",
    "\n"
   ]
  },
  {
   "cell_type": "markdown",
   "metadata": {
    "slideshow": {
     "slide_type": "slide"
    }
   },
   "source": [
    "<p style=\"text-align: center; font-size: 64pt; font-weight: bold; color: rgb(0, 0, 190); padding: 20px; margin-top: 1%;\">Пакет NumPy</p>\n",
    "<p style=\"text-align: center; font-size: 1pt; font-weight: bold; color: rgb(0, 0, 1); padding: 20px; margin-top: -2%;\">&nbsp;&nbsp;&nbsp;&nbsp;&nbsp;&nbsp;&nbsp;&nbsp;&nbsp;&nbsp;&nbsp;&nbsp;&nbsp;&nbsp;&nbsp;&nbsp;&nbsp;</p>\n",
    "<p style=\"text-align: center; font-size: 72pt; font-weight: bold; color: rgb(0, 0, 190); padding: 20px; margin-top: -14%;\">\n",
    "<center>\n",
    "<img src=\"Images/numpy_logo_Tr.png\" width=\"640\" />\n",
    "</center>\n",
    "</p>"
   ]
  },
  {
   "cell_type": "markdown",
   "metadata": {
    "slideshow": {
     "slide_type": "subslide"
    }
   },
   "source": [
    "В пакете **NumPy** определяется новый **N-мерный** тип данных - **ndarray**-массив, упорядоченный набор данных для хранения данных одного типа с одним или несколькими индексами (один индекс – вектор, два – матрица). Основной функционал для работы с **ndarray**-массивами:\n",
    "\n",
    "- Создание массивов\n",
    "- Разрезание и склеивание массивов\n",
    "- Покомпонентные опреции с массивами\n",
    "- Редукция\n",
    "- Максимумы, минимумы и сортировка\n",
    "- Матрицы\n",
    "- Файловый ввод/вывод\n",
    "- и др. . . .\n"
   ]
  },
  {
   "cell_type": "markdown",
   "metadata": {
    "slideshow": {
     "slide_type": "subslide"
    }
   },
   "source": [
    "<p style=\"text-align: center; font-size: 26pt; font-weight: bold; color: rgb(0, 0, 190); padding: 2px; margin-top: 0%;\">Основные типы данных для ndarray</p>\n",
    "\n",
    "| Тип Данных     |  Описание                          |\n",
    "|----------------|------------------------------------|\n",
    "| ``bool``       |  Логический                        |\n",
    "| ``uint8``      |  Целые без знака от 0 до 255       |\n",
    "| ``uint16``     |  -   от 0 до 65535                 |\n",
    "| ``uint32``     |  -   от 0 до $2^{32} - 1$          |\n",
    "| ``uint64``     |  -   от 0 до $2^{64} - 1$          |\n",
    "| ``int8``       |  Целые со знаком от -128 до 127    |\n",
    "| ``int16``      |  -   от $-2^{31}$ до $2^{31} - 1$  |\n",
    "| ``int32``      |  -   от $-2^{63}$ до $2^{63} - 1$  |\n",
    "| ``int64``      |  -                                 |\n",
    "| ``float16``    |  Действительные                    |\n",
    "| ``float32``    |  -                                 |\n",
    "| ``float64``    |  -                                 |\n",
    "| ``float128``   |  -                                 |\n",
    "| ``complex64``  |  Комплексные                       |\n",
    "| ``complex128`` |  -                                 |\n",
    "| ``complex256`` |  -                                 |\n",
    "\n",
    "Действительные типы, и основанные на них комплексные, отличаются количеством бит для хранения мантисы и экспоненты"
   ]
  },
  {
   "cell_type": "markdown",
   "metadata": {
    "slideshow": {
     "slide_type": "subslide"
    }
   },
   "source": [
    "<p style=\"text-align: center; font-size: 24pt; font-weight: bold; color: rgb(0, 0, 190); padding: 20px; margin-top: -1%;\">СПОСОБЫ СОЗДАНИЯ МАССИВОВ В NumPy</p>\n",
    "\n",
    "#### Явное задание компонентов\n",
    "\n",
    "``` python\n",
    "import numpy\n",
    "numpy.array(< список компонентов > [, < тип данных>])\n",
    "```"
   ]
  },
  {
   "cell_type": "code",
   "execution_count": null,
   "metadata": {
    "slideshow": {
     "slide_type": "-"
    }
   },
   "outputs": [],
   "source": [
    "import numpy as np"
   ]
  },
  {
   "cell_type": "code",
   "execution_count": null,
   "metadata": {},
   "outputs": [],
   "source": [
    "np.iinfo(np.int64)"
   ]
  },
  {
   "cell_type": "code",
   "execution_count": null,
   "metadata": {},
   "outputs": [],
   "source": [
    "np.finfo(np.complex256)"
   ]
  },
  {
   "cell_type": "markdown",
   "metadata": {},
   "source": [
    "Сравним производительность **list** и **ndarray** "
   ]
  },
  {
   "cell_type": "code",
   "execution_count": null,
   "metadata": {
    "ExecuteTime": {
     "end_time": "2021-03-05T15:35:26.269689Z",
     "start_time": "2021-03-05T15:35:25.973695Z"
    }
   },
   "outputs": [],
   "source": [
    "import numpy as np\n",
    "\n",
    "# Создаем массив с 10^8 элементов\n",
    "arr = np.arange(1e6)\n",
    "# Конвертируем его в list\n",
    "larr = arr.tolist()"
   ]
  },
  {
   "cell_type": "code",
   "execution_count": null,
   "metadata": {
    "ExecuteTime": {
     "end_time": "2021-03-05T15:35:31.105817Z",
     "start_time": "2021-03-05T15:35:31.098464Z"
    }
   },
   "outputs": [],
   "source": [
    "# Функция умножения каждого элемента в list на константу\n",
    "def list_times(alist, scalar):\n",
    "    for i, val in enumerate(alist):\n",
    "        alist[i] = val * scalar\n",
    "    return alist"
   ]
  },
  {
   "cell_type": "code",
   "execution_count": null,
   "metadata": {
    "ExecuteTime": {
     "end_time": "2021-03-05T15:35:32.476452Z",
     "start_time": "2021-03-05T15:35:32.472018Z"
    }
   },
   "outputs": [],
   "source": [
    "scalar = 23.98"
   ]
  },
  {
   "cell_type": "code",
   "execution_count": null,
   "metadata": {
    "ExecuteTime": {
     "end_time": "2021-03-05T15:35:46.792580Z",
     "start_time": "2021-03-05T15:35:33.642050Z"
    }
   },
   "outputs": [],
   "source": [
    "%timeit list_times(larr,scalar)"
   ]
  },
  {
   "cell_type": "code",
   "execution_count": null,
   "metadata": {
    "ExecuteTime": {
     "end_time": "2021-03-05T15:35:56.790009Z",
     "start_time": "2021-03-05T15:35:55.217591Z"
    }
   },
   "outputs": [],
   "source": [
    "%timeit scalar * arr"
   ]
  },
  {
   "cell_type": "code",
   "execution_count": null,
   "metadata": {
    "ExecuteTime": {
     "end_time": "2021-03-05T15:37:12.494760Z",
     "start_time": "2021-03-05T15:37:12.260004Z"
    }
   },
   "outputs": [],
   "source": [
    "import numpy as np"
   ]
  },
  {
   "cell_type": "code",
   "execution_count": null,
   "metadata": {
    "ExecuteTime": {
     "end_time": "2021-03-05T15:37:14.449075Z",
     "start_time": "2021-03-05T15:37:14.437531Z"
    },
    "slideshow": {
     "slide_type": "-"
    }
   },
   "outputs": [],
   "source": [
    "arr1 = np.array([1,5,10,100])\n",
    "print (arr1)\n",
    "print (arr1.nbytes)\n",
    "print (arr1.dtype.itemsize)"
   ]
  },
  {
   "cell_type": "code",
   "execution_count": null,
   "metadata": {
    "ExecuteTime": {
     "end_time": "2021-03-05T15:38:02.712246Z",
     "start_time": "2021-03-05T15:38:02.703902Z"
    },
    "slideshow": {
     "slide_type": "-"
    }
   },
   "outputs": [],
   "source": [
    "arr1 = np.array([1,5,10,100], dtype='int8')\n",
    "print (arr1.nbytes)\n",
    "print (arr1.dtype.itemsize)"
   ]
  },
  {
   "cell_type": "code",
   "execution_count": null,
   "metadata": {
    "ExecuteTime": {
     "end_time": "2021-03-05T15:38:12.581358Z",
     "start_time": "2021-03-05T15:38:12.564981Z"
    },
    "slideshow": {
     "slide_type": "-"
    }
   },
   "outputs": [],
   "source": [
    "arr1 = np.array([1,5,10,100], dtype='int16')\n",
    "print (arr1.nbytes)\n",
    "print (arr1.dtype.itemsize)"
   ]
  },
  {
   "cell_type": "code",
   "execution_count": null,
   "metadata": {
    "ExecuteTime": {
     "end_time": "2021-03-05T15:38:14.361471Z",
     "start_time": "2021-03-05T15:38:14.351321Z"
    },
    "slideshow": {
     "slide_type": "-"
    }
   },
   "outputs": [],
   "source": [
    "arr1 = np.array([1,5,10,100], dtype='int32')\n",
    "print (arr1.nbytes)\n",
    "print (arr1.dtype.itemsize)"
   ]
  },
  {
   "cell_type": "code",
   "execution_count": null,
   "metadata": {
    "ExecuteTime": {
     "end_time": "2021-03-05T15:38:20.027592Z",
     "start_time": "2021-03-05T15:38:20.012849Z"
    },
    "slideshow": {
     "slide_type": "-"
    }
   },
   "outputs": [],
   "source": [
    "arr1 = np.array([1,5,10,100], dtype='int64')\n",
    "print (arr1.nbytes)\n",
    "print (arr1.dtype.itemsize)"
   ]
  },
  {
   "cell_type": "code",
   "execution_count": null,
   "metadata": {
    "ExecuteTime": {
     "end_time": "2021-03-05T15:38:34.261258Z",
     "start_time": "2021-03-05T15:38:34.248892Z"
    },
    "slideshow": {
     "slide_type": "-"
    }
   },
   "outputs": [],
   "source": [
    "arr1 = np.array([1,5,10,100], dtype='int')\n",
    "print (arr1.nbytes)\n",
    "print (arr1.dtype.itemsize)"
   ]
  },
  {
   "cell_type": "code",
   "execution_count": null,
   "metadata": {
    "ExecuteTime": {
     "end_time": "2021-03-05T15:38:35.515589Z",
     "start_time": "2021-03-05T15:38:35.496911Z"
    }
   },
   "outputs": [],
   "source": [
    "arr1 = np.array([1,5,10,100], dtype=int)\n",
    "print (arr1.nbytes)\n",
    "print (arr1.dtype.itemsize)"
   ]
  },
  {
   "cell_type": "code",
   "execution_count": null,
   "metadata": {
    "ExecuteTime": {
     "end_time": "2021-03-05T15:38:53.244307Z",
     "start_time": "2021-03-05T15:38:53.233110Z"
    },
    "slideshow": {
     "slide_type": "-"
    }
   },
   "outputs": [],
   "source": [
    "arr2 = np.array([1,5,10,100], dtype='float16')\n",
    "print (arr2)\n",
    "print (arr2.nbytes)\n",
    "print (arr2.dtype.itemsize)"
   ]
  },
  {
   "cell_type": "code",
   "execution_count": null,
   "metadata": {
    "ExecuteTime": {
     "end_time": "2021-03-05T15:39:04.084749Z",
     "start_time": "2021-03-05T15:39:04.077779Z"
    },
    "slideshow": {
     "slide_type": "-"
    }
   },
   "outputs": [],
   "source": [
    "arr2 = np.array([1,5,10,100], dtype='float32')\n",
    "print (arr2.nbytes)\n",
    "print (arr2.dtype.itemsize)"
   ]
  },
  {
   "cell_type": "code",
   "execution_count": null,
   "metadata": {
    "ExecuteTime": {
     "end_time": "2021-03-05T15:39:08.138332Z",
     "start_time": "2021-03-05T15:39:08.130196Z"
    },
    "slideshow": {
     "slide_type": "-"
    }
   },
   "outputs": [],
   "source": [
    "arr2 = np.array([1,5,10,100], dtype='float64')\n",
    "print (arr2.nbytes)\n",
    "print (arr2.dtype.itemsize)"
   ]
  },
  {
   "cell_type": "code",
   "execution_count": null,
   "metadata": {
    "ExecuteTime": {
     "end_time": "2021-03-05T15:39:11.456529Z",
     "start_time": "2021-03-05T15:39:11.446180Z"
    },
    "slideshow": {
     "slide_type": "-"
    }
   },
   "outputs": [],
   "source": [
    "arr2 = np.array([1,5,10,100], dtype='float128')\n",
    "print (arr2.nbytes)\n",
    "print (arr2.dtype.itemsize)"
   ]
  },
  {
   "cell_type": "code",
   "execution_count": null,
   "metadata": {
    "ExecuteTime": {
     "end_time": "2021-03-05T15:39:17.339158Z",
     "start_time": "2021-03-05T15:39:17.333007Z"
    },
    "slideshow": {
     "slide_type": "-"
    }
   },
   "outputs": [],
   "source": [
    "arr2 = np.array([1,5,10,100], dtype='float')\n",
    "print (arr2.nbytes)\n",
    "print (arr2.dtype.itemsize)"
   ]
  },
  {
   "cell_type": "code",
   "execution_count": null,
   "metadata": {
    "ExecuteTime": {
     "end_time": "2021-03-05T15:39:19.760811Z",
     "start_time": "2021-03-05T15:39:19.751505Z"
    },
    "slideshow": {
     "slide_type": "-"
    }
   },
   "outputs": [],
   "source": [
    "arr2 = np.array([1,5,10,100], dtype=float)\n",
    "print (arr2.nbytes)\n",
    "print (arr2.dtype.itemsize)"
   ]
  },
  {
   "cell_type": "code",
   "execution_count": null,
   "metadata": {
    "ExecuteTime": {
     "end_time": "2021-03-05T15:40:29.341046Z",
     "start_time": "2021-03-05T15:40:29.316578Z"
    },
    "slideshow": {
     "slide_type": "-"
    }
   },
   "outputs": [],
   "source": [
    "arr3 = np.array([1,5,10,100], dtype='complex64')\n",
    "print (arr3.nbytes)\n",
    "print (arr3.dtype.itemsize)\n",
    "arr3"
   ]
  },
  {
   "cell_type": "code",
   "execution_count": null,
   "metadata": {
    "ExecuteTime": {
     "end_time": "2021-03-05T15:40:35.526867Z",
     "start_time": "2021-03-05T15:40:35.514627Z"
    },
    "slideshow": {
     "slide_type": "-"
    }
   },
   "outputs": [],
   "source": [
    "arr3 = np.array([1,5,10,100], dtype='complex128')\n",
    "print (arr3.nbytes)\n",
    "print (arr3.dtype.itemsize)"
   ]
  },
  {
   "cell_type": "code",
   "execution_count": null,
   "metadata": {
    "ExecuteTime": {
     "end_time": "2021-03-05T15:40:41.672901Z",
     "start_time": "2021-03-05T15:40:41.656046Z"
    },
    "slideshow": {
     "slide_type": "-"
    }
   },
   "outputs": [],
   "source": [
    "arr3 = np.array([1,5,10,100], dtype='complex256')\n",
    "print (arr3.nbytes)\n",
    "print (arr3.dtype.itemsize)"
   ]
  },
  {
   "cell_type": "code",
   "execution_count": null,
   "metadata": {
    "ExecuteTime": {
     "end_time": "2021-03-05T15:40:49.773757Z",
     "start_time": "2021-03-05T15:40:49.753309Z"
    },
    "slideshow": {
     "slide_type": "-"
    }
   },
   "outputs": [],
   "source": [
    "arr3 = np.array([1,5,10,100], dtype='complex')\n",
    "print (arr3.nbytes)\n",
    "print (arr3.dtype.itemsize)"
   ]
  },
  {
   "cell_type": "code",
   "execution_count": null,
   "metadata": {
    "ExecuteTime": {
     "end_time": "2021-03-05T15:40:51.732871Z",
     "start_time": "2021-03-05T15:40:51.724271Z"
    },
    "slideshow": {
     "slide_type": "-"
    }
   },
   "outputs": [],
   "source": [
    "arr3 = np.array([1,5,10,100], dtype=complex)\n",
    "print (arr3.nbytes)\n",
    "print (arr3.dtype.itemsize)"
   ]
  },
  {
   "cell_type": "code",
   "execution_count": null,
   "metadata": {
    "ExecuteTime": {
     "end_time": "2021-03-05T15:41:25.605516Z",
     "start_time": "2021-03-05T15:41:25.598165Z"
    },
    "slideshow": {
     "slide_type": "-"
    }
   },
   "outputs": [],
   "source": [
    "arr1 = np.array([1,5,10,100], dtype='int32')\n",
    "arr2 = np.array([1,5,10,100], dtype='float64')\n",
    "arr3 = np.array([1,5,10,100], dtype='complex128')\n",
    "print (arr1.nbytes)\n",
    "print (arr1.dtype.itemsize)"
   ]
  },
  {
   "cell_type": "code",
   "execution_count": null,
   "metadata": {
    "ExecuteTime": {
     "end_time": "2021-03-05T15:41:41.851450Z",
     "start_time": "2021-03-05T15:41:41.840388Z"
    },
    "slideshow": {
     "slide_type": "-"
    }
   },
   "outputs": [],
   "source": [
    "arr4 = arr1 - arr2\n",
    "print (arr4.nbytes)\n",
    "print (arr4.dtype.itemsize)\n",
    "print (arr4.dtype)\n",
    "arr4"
   ]
  },
  {
   "cell_type": "code",
   "execution_count": null,
   "metadata": {
    "ExecuteTime": {
     "end_time": "2021-03-05T15:42:00.391256Z",
     "start_time": "2021-03-05T15:42:00.376242Z"
    }
   },
   "outputs": [],
   "source": [
    "arr5 = arr1 - arr3\n",
    "print (arr5.nbytes)\n",
    "print (arr5.dtype.itemsize)\n",
    "print (arr5.dtype)\n",
    "arr4"
   ]
  },
  {
   "cell_type": "markdown",
   "metadata": {
    "slideshow": {
     "slide_type": "-"
    }
   },
   "source": [
    "После создания массива определенного типа, его элементам не могут быть присвоены значения другого типа. Однако в случае численных данных **Python** производит изменение типов, если такое изменение возможно."
   ]
  },
  {
   "cell_type": "code",
   "execution_count": null,
   "metadata": {
    "ExecuteTime": {
     "end_time": "2021-03-05T15:43:19.500367Z",
     "start_time": "2021-03-05T15:43:19.165583Z"
    },
    "slideshow": {
     "slide_type": "-"
    }
   },
   "outputs": [],
   "source": [
    "arr1[0] = complex(1,25)"
   ]
  },
  {
   "cell_type": "code",
   "execution_count": null,
   "metadata": {
    "ExecuteTime": {
     "end_time": "2021-03-05T15:44:16.874214Z",
     "start_time": "2021-03-05T15:44:16.865475Z"
    },
    "slideshow": {
     "slide_type": "-"
    }
   },
   "outputs": [],
   "source": [
    "arr5[0] = 1\n",
    "arr5"
   ]
  },
  {
   "cell_type": "code",
   "execution_count": null,
   "metadata": {
    "ExecuteTime": {
     "end_time": "2021-03-05T15:46:45.616662Z",
     "start_time": "2021-03-05T15:46:45.611145Z"
    }
   },
   "outputs": [],
   "source": [
    "arr7 = np.array([1,2,3,4,5],dtype='int64') "
   ]
  },
  {
   "cell_type": "code",
   "execution_count": null,
   "metadata": {
    "ExecuteTime": {
     "end_time": "2021-03-05T15:47:31.099927Z",
     "start_time": "2021-03-05T15:47:31.094354Z"
    }
   },
   "outputs": [],
   "source": [
    "arr8 = np.array([1,2,3,4,5],dtype='float32') "
   ]
  },
  {
   "cell_type": "code",
   "execution_count": null,
   "metadata": {
    "ExecuteTime": {
     "end_time": "2021-03-05T15:48:18.038002Z",
     "start_time": "2021-03-05T15:48:18.031171Z"
    }
   },
   "outputs": [],
   "source": [
    "(arr7+arr8).dtype"
   ]
  },
  {
   "cell_type": "code",
   "execution_count": null,
   "metadata": {},
   "outputs": [],
   "source": []
  },
  {
   "cell_type": "markdown",
   "metadata": {
    "slideshow": {
     "slide_type": "-"
    }
   },
   "source": [
    "# Структурированные типы данных в массивах NumPy\n",
    "При обработке больших объемов данных может возникнуть необходимость создания массивов содержащих разнородные типы данных. Для этого можно создать структурированный тип данных для массивов.\n",
    "```python\n",
    "dtp = dtype([('title', str_, 400), ('pages', int32), ('plots', int32), ('weight', float32)])\n",
    "```"
   ]
  },
  {
   "cell_type": "code",
   "execution_count": null,
   "metadata": {
    "ExecuteTime": {
     "end_time": "2021-03-05T15:52:16.234784Z",
     "start_time": "2021-03-05T15:52:16.209416Z"
    },
    "slideshow": {
     "slide_type": "-"
    }
   },
   "outputs": [],
   "source": [
    "dtp = np.dtype([('title', np.str_, 400), ('pages', np.int32), ('plots', np.int32), ('weight', np.float32)])\n",
    "\n",
    "arr5 = np.array([('Lectures on Computational Physics', 1750, 475, 950), \n",
    "                 ('Сказки 1001 строки кода', 768, 256, 575)],dtype=dtp)\n",
    "type(arr5)"
   ]
  },
  {
   "cell_type": "code",
   "execution_count": null,
   "metadata": {
    "ExecuteTime": {
     "end_time": "2021-03-05T15:53:07.014113Z",
     "start_time": "2021-03-05T15:53:06.998203Z"
    },
    "slideshow": {
     "slide_type": "-"
    }
   },
   "outputs": [],
   "source": [
    "print (arr5[0])\n",
    "print (arr5[0][0])\n",
    "print (arr5[0][1])\n",
    "print (arr5[0][2])\n",
    "print (arr5[0][3])"
   ]
  },
  {
   "cell_type": "code",
   "execution_count": null,
   "metadata": {
    "ExecuteTime": {
     "end_time": "2021-03-05T15:53:19.468216Z",
     "start_time": "2021-03-05T15:53:19.456788Z"
    }
   },
   "outputs": [],
   "source": [
    "print (type(arr5[0]))\n",
    "print (type(arr5[0][0]))\n",
    "print (type(arr5[0][1]))\n",
    "print (type(arr5[0][2]))\n",
    "print (type(arr5[0][3]))"
   ]
  },
  {
   "cell_type": "markdown",
   "metadata": {
    "slideshow": {
     "slide_type": "subslide"
    }
   },
   "source": [
    "# Массивы специального вида\n",
    "\n",
    "```python\n",
    "import numpy\n",
    "numpy.zeros((<размерность>),[<тип данных>])\n",
    "numpy.ones((<размерность>),[<тип данных>])\n",
    "numpy.identity(<размер>,[<тип данных>])\n",
    "numpy.empty(<размер>,[<тип данных>])\n",
    "```\n",
    "- **``zeros``** - создает массив заданной размерности, заполненный нулями\n",
    "- **``ones``** - создает массив заданной размерности, заполненный единицами\n",
    "- **``identity``** - создает квадратную матрицу с единицами на главной диагонали\n",
    "- **``empty``** - создает \"пустой\" массив заданной размерности, просто выделяет память для хранения массива"
   ]
  },
  {
   "cell_type": "code",
   "execution_count": null,
   "metadata": {
    "ExecuteTime": {
     "end_time": "2021-03-05T15:55:03.681449Z",
     "start_time": "2021-03-05T15:55:03.677140Z"
    },
    "slideshow": {
     "slide_type": "-"
    }
   },
   "outputs": [],
   "source": [
    "import numpy as np"
   ]
  },
  {
   "cell_type": "code",
   "execution_count": null,
   "metadata": {
    "ExecuteTime": {
     "end_time": "2021-03-05T15:55:07.141703Z",
     "start_time": "2021-03-05T15:55:07.125310Z"
    },
    "slideshow": {
     "slide_type": "-"
    }
   },
   "outputs": [],
   "source": [
    "arr1 = np.zeros((10))\n",
    "arr1"
   ]
  },
  {
   "cell_type": "code",
   "execution_count": null,
   "metadata": {
    "ExecuteTime": {
     "end_time": "2021-03-05T15:55:16.566764Z",
     "start_time": "2021-03-05T15:55:16.549857Z"
    },
    "slideshow": {
     "slide_type": "-"
    }
   },
   "outputs": [],
   "source": [
    "arr2 = np.zeros((4,2), complex)\n",
    "arr2"
   ]
  },
  {
   "cell_type": "code",
   "execution_count": null,
   "metadata": {
    "ExecuteTime": {
     "end_time": "2021-03-05T15:55:28.425298Z",
     "start_time": "2021-03-05T15:55:28.415595Z"
    },
    "slideshow": {
     "slide_type": "-"
    }
   },
   "outputs": [],
   "source": [
    "arr2 = np.ones((5,4,3), float)\n",
    "arr2"
   ]
  },
  {
   "cell_type": "code",
   "execution_count": null,
   "metadata": {
    "ExecuteTime": {
     "end_time": "2021-03-05T15:55:53.694253Z",
     "start_time": "2021-03-05T15:55:53.680167Z"
    },
    "slideshow": {
     "slide_type": "-"
    }
   },
   "outputs": [],
   "source": [
    "arr3 = np.identity(7)\n",
    "arr3"
   ]
  },
  {
   "cell_type": "code",
   "execution_count": null,
   "metadata": {
    "ExecuteTime": {
     "end_time": "2021-03-05T15:56:03.192549Z",
     "start_time": "2021-03-05T15:56:03.184989Z"
    }
   },
   "outputs": [],
   "source": [
    "arr4 = np.empty((5,5))\n",
    "arr4"
   ]
  },
  {
   "cell_type": "markdown",
   "metadata": {
    "slideshow": {
     "slide_type": "-"
    }
   },
   "source": [
    "# Массивы диаппазонов\n",
    "\n",
    "```python\n",
    "numpy.arange(<от>,<до>,<шаг>,[<тип данных>])\n",
    "numpy.linspace(<первый>,<последний>,<размер>,[<тип данных>])\n",
    "numpy.logspace(<первый>,<последний>,<размер>,[<тип данных>])\n",
    "numpy.geomspace(<первый>,<последний>,<размер>,[<тип данных>])\n",
    "```\n",
    "- **``arange``** - создает **ndarray**-массив, заполненный значениями начиная с **<от>** и заканчивая **<до> - <шаг>** с шагом **<шаг>**\n",
    "- **``linspace``** - создает **ndarray**-массив, заполненный равномерно распределенными значениями начиная с **<первый>** и заканчивая **<последний>** с шагом **(<последний> - <первый>)/(<размер> - 1)**\n",
    "- **``logspace``** - создает **ndarray**-массив, заполненный значениями начиная с **<первый>** и заканчивая **<последний>**, распределенными по логарифмическому закону (по-умолчанию $log_{10}$)\n",
    "- **``geomspace``** - создает **ndarray**-массив, заполненный значениями начиная с **<первый>** и заканчивая **<последний>**, аналогично геометрической погрессии.\n"
   ]
  },
  {
   "cell_type": "code",
   "execution_count": null,
   "metadata": {
    "ExecuteTime": {
     "end_time": "2021-03-05T15:57:55.392897Z",
     "start_time": "2021-03-05T15:57:55.178524Z"
    },
    "slideshow": {
     "slide_type": "-"
    }
   },
   "outputs": [],
   "source": [
    "import numpy as np"
   ]
  },
  {
   "cell_type": "code",
   "execution_count": null,
   "metadata": {
    "ExecuteTime": {
     "end_time": "2021-03-05T15:57:55.489231Z",
     "start_time": "2021-03-05T15:57:55.479011Z"
    },
    "slideshow": {
     "slide_type": "-"
    }
   },
   "outputs": [],
   "source": [
    "arr1 = np.arange(10,1000,25)\n",
    "print (type(arr1))\n",
    "print (arr1)\n",
    "print (arr1.dtype)"
   ]
  },
  {
   "cell_type": "code",
   "execution_count": null,
   "metadata": {
    "slideshow": {
     "slide_type": "-"
    }
   },
   "outputs": [],
   "source": [
    "arr1 = np.arange(10,1000,25, dtype=float)\n",
    "print (type(arr1))\n",
    "print (arr1)\n",
    "print (arr1.dtype)"
   ]
  },
  {
   "cell_type": "code",
   "execution_count": null,
   "metadata": {
    "slideshow": {
     "slide_type": "-"
    }
   },
   "outputs": [],
   "source": [
    "arr1 = np.linspace(10,1000,25)\n",
    "print (type(arr1))\n",
    "print (arr1)\n",
    "print (arr1.dtype)"
   ]
  },
  {
   "cell_type": "code",
   "execution_count": null,
   "metadata": {
    "scrolled": true,
    "slideshow": {
     "slide_type": "-"
    }
   },
   "outputs": [],
   "source": [
    "arr1 = np.logspace(1,25,25)\n",
    "print (type(arr1))\n",
    "print (arr1)\n",
    "print (arr1.dtype)"
   ]
  },
  {
   "cell_type": "code",
   "execution_count": null,
   "metadata": {
    "scrolled": true,
    "slideshow": {
     "slide_type": "-"
    }
   },
   "outputs": [],
   "source": [
    "arr1 = np.geomspace(10,1000,25)\n",
    "print (type(arr1))\n",
    "print (arr1)\n",
    "print (arr1.dtype)"
   ]
  },
  {
   "cell_type": "code",
   "execution_count": null,
   "metadata": {},
   "outputs": [],
   "source": [
    "(arr1[1]/arr1[0])*arr1[1]"
   ]
  },
  {
   "cell_type": "markdown",
   "metadata": {
    "slideshow": {
     "slide_type": "-"
    }
   },
   "source": [
    "# Управление структурой массивов\n",
    "\n",
    "Фактически все массивы в **NumPy** имеют одномерную структуру. Структура данных **ndarray**, помимо самих данных, содержит информацию о его формальной структуре и средства для работы с ней.\n",
    "\n",
    "- **``ravel()``** - выполняет приведение многомерного **ndarray**-массива к одномерному\n",
    "- **``flatten()``** - делает то же самое, что и **ravel()**, но всегда выделяет новую область памяти для хранения\n",
    "- **``reshape()``** и **``shape``** - метод и свойство объекта **ndarray**-массив, предназначенные для работы со структурой (формой) массивов в **NumPy**\n",
    "- **``transpose()``** - транспонирование двумерного массива, как матрицу в линейной алгебре\n",
    "- **``resize()``** - работает также, как и **``reshape()``**, но изменяет непосредственно тот массив, на котором выполняется\n"
   ]
  },
  {
   "cell_type": "code",
   "execution_count": null,
   "metadata": {
    "ExecuteTime": {
     "end_time": "2021-03-05T16:01:12.821471Z",
     "start_time": "2021-03-05T16:01:12.812111Z"
    },
    "slideshow": {
     "slide_type": "-"
    }
   },
   "outputs": [],
   "source": [
    "import numpy as np\n",
    "arr1 = np.arange(0,1000,10)\n",
    "print (arr1)\n",
    "print (arr1.shape)"
   ]
  },
  {
   "cell_type": "code",
   "execution_count": null,
   "metadata": {
    "ExecuteTime": {
     "end_time": "2021-03-05T16:02:07.480135Z",
     "start_time": "2021-03-05T16:02:07.469436Z"
    },
    "slideshow": {
     "slide_type": "-"
    }
   },
   "outputs": [],
   "source": [
    "arr2 = arr1.reshape(10,10)\n",
    "print (arr2)\n",
    "print (arr2.shape)\n",
    "print (arr1)\n",
    "print (arr1.shape)"
   ]
  },
  {
   "cell_type": "code",
   "execution_count": null,
   "metadata": {
    "ExecuteTime": {
     "end_time": "2021-03-05T16:02:30.727067Z",
     "start_time": "2021-03-05T16:02:30.712337Z"
    },
    "slideshow": {
     "slide_type": "-"
    }
   },
   "outputs": [],
   "source": [
    "arr3 = arr1.resize(10,10)\n",
    "print (arr3)\n",
    "print (arr1)\n",
    "print (arr1.shape)"
   ]
  },
  {
   "cell_type": "code",
   "execution_count": null,
   "metadata": {
    "ExecuteTime": {
     "end_time": "2021-03-05T16:04:47.212573Z",
     "start_time": "2021-03-05T16:04:47.202226Z"
    },
    "slideshow": {
     "slide_type": "-"
    }
   },
   "outputs": [],
   "source": [
    "arr3 = arr1.ravel()\n",
    "print (arr3)\n",
    "print (arr3.shape)\n",
    "print (arr1)\n",
    "print (arr1.shape)"
   ]
  },
  {
   "cell_type": "code",
   "execution_count": null,
   "metadata": {
    "ExecuteTime": {
     "end_time": "2021-03-05T16:05:24.050305Z",
     "start_time": "2021-03-05T16:05:24.037192Z"
    }
   },
   "outputs": [],
   "source": [
    "arr3[0] = 9999\n",
    "print (arr3)\n",
    "print (arr3.shape)\n",
    "print (arr1)\n",
    "print (arr1.shape)"
   ]
  },
  {
   "cell_type": "code",
   "execution_count": null,
   "metadata": {
    "ExecuteTime": {
     "end_time": "2021-03-05T16:06:10.790099Z",
     "start_time": "2021-03-05T16:06:10.779230Z"
    },
    "slideshow": {
     "slide_type": "-"
    }
   },
   "outputs": [],
   "source": [
    "arr4 = arr1.flatten()\n",
    "print (arr4)\n",
    "print (arr4.shape)\n",
    "print (arr1)\n",
    "print (arr1.shape)"
   ]
  },
  {
   "cell_type": "code",
   "execution_count": null,
   "metadata": {
    "ExecuteTime": {
     "end_time": "2021-03-05T16:06:49.964505Z",
     "start_time": "2021-03-05T16:06:49.954242Z"
    }
   },
   "outputs": [],
   "source": [
    "arr4[0] = 999\n",
    "print (arr4)\n",
    "print (arr4.shape)\n",
    "print (arr1)\n",
    "print (arr1.shape)"
   ]
  },
  {
   "cell_type": "code",
   "execution_count": null,
   "metadata": {
    "ExecuteTime": {
     "end_time": "2021-03-05T16:07:23.115962Z",
     "start_time": "2021-03-05T16:07:23.108749Z"
    },
    "slideshow": {
     "slide_type": "-"
    }
   },
   "outputs": [],
   "source": [
    "arr5 = arr1.transpose()\n",
    "print (arr5)\n",
    "print (arr5.shape)"
   ]
  },
  {
   "cell_type": "code",
   "execution_count": null,
   "metadata": {
    "ExecuteTime": {
     "end_time": "2021-03-05T16:07:57.622228Z",
     "start_time": "2021-03-05T16:07:57.605186Z"
    },
    "slideshow": {
     "slide_type": "-"
    }
   },
   "outputs": [],
   "source": [
    "arr6 = np.resize(arr1,(100))\n",
    "print (arr6)\n",
    "print (arr6.shape)\n",
    "print (arr1)"
   ]
  },
  {
   "cell_type": "markdown",
   "metadata": {
    "slideshow": {
     "slide_type": "subslide"
    }
   },
   "source": [
    "# Работа с массивами в **NumPy**\n",
    "\n",
    "Для склеивания (сшивания) массивов в **NumPy** существуют специальные методы и функции\n",
    "```python\n",
    "hstack(<tuple>)\n",
    "vstack(<tuple>)\n",
    "dstack(<tuple>)\n",
    "```\n",
    "- **``hstack(<tuple>)``** - объединение масиивов из **``<tuple>``** по горизонтальной оси\n",
    "- **``vstack(<tuple>)``** - объединение масиивов из **``<tuple>``** по вертикальной оси\n",
    "- **``dstack(<tuple>)``** - объединение масиивов из **``<tuple>``** по оси в глубину"
   ]
  },
  {
   "cell_type": "code",
   "execution_count": null,
   "metadata": {
    "ExecuteTime": {
     "end_time": "2021-03-05T16:09:41.122123Z",
     "start_time": "2021-03-05T16:09:40.904627Z"
    },
    "slideshow": {
     "slide_type": "-"
    }
   },
   "outputs": [],
   "source": [
    "import numpy as np"
   ]
  },
  {
   "cell_type": "code",
   "execution_count": null,
   "metadata": {
    "ExecuteTime": {
     "end_time": "2021-03-05T16:10:06.548951Z",
     "start_time": "2021-03-05T16:10:06.532896Z"
    },
    "scrolled": true,
    "slideshow": {
     "slide_type": "-"
    }
   },
   "outputs": [],
   "source": [
    "a = np.array([[1,2,3],[4,5,6]])\n",
    "b = np.array([[10,20,30],[40,50,60]])\n",
    "c = np.array([[100,200],[400,500]])\n",
    "print (\"a = \",a); print (\"b = \",b); print (\"c = \",c)"
   ]
  },
  {
   "cell_type": "code",
   "execution_count": null,
   "metadata": {
    "ExecuteTime": {
     "end_time": "2021-03-05T16:10:57.659830Z",
     "start_time": "2021-03-05T16:10:57.651177Z"
    },
    "slideshow": {
     "slide_type": "-"
    }
   },
   "outputs": [],
   "source": [
    "d = np.vstack((a,b))\n",
    "print (d.size); print (d.shape); print (d);"
   ]
  },
  {
   "cell_type": "code",
   "execution_count": null,
   "metadata": {
    "ExecuteTime": {
     "end_time": "2021-03-05T16:11:33.333220Z",
     "start_time": "2021-03-05T16:11:33.323352Z"
    },
    "slideshow": {
     "slide_type": "-"
    }
   },
   "outputs": [],
   "source": [
    "e = np.hstack((a,b,c))\n",
    "print (e.size); print (e.shape); print (e);"
   ]
  },
  {
   "cell_type": "code",
   "execution_count": null,
   "metadata": {
    "ExecuteTime": {
     "end_time": "2021-03-05T16:11:56.380204Z",
     "start_time": "2021-03-05T16:11:56.370932Z"
    },
    "slideshow": {
     "slide_type": "-"
    }
   },
   "outputs": [],
   "source": [
    "e = np.dstack((a,b))\n",
    "print (e.size); print (e.shape); print (e);"
   ]
  },
  {
   "cell_type": "code",
   "execution_count": null,
   "metadata": {
    "ExecuteTime": {
     "end_time": "2021-03-05T16:12:58.565071Z",
     "start_time": "2021-03-05T16:12:58.534827Z"
    }
   },
   "outputs": [],
   "source": [
    "np.stack((a,b), axis=0)"
   ]
  },
  {
   "cell_type": "code",
   "execution_count": null,
   "metadata": {
    "ExecuteTime": {
     "end_time": "2021-03-05T16:13:42.583501Z",
     "start_time": "2021-03-05T16:13:42.576263Z"
    }
   },
   "outputs": [],
   "source": [
    "np.stack((a,b), axis=1)"
   ]
  },
  {
   "cell_type": "code",
   "execution_count": null,
   "metadata": {},
   "outputs": [],
   "source": [
    "np.delete()"
   ]
  },
  {
   "cell_type": "code",
   "execution_count": null,
   "metadata": {},
   "outputs": [],
   "source": [
    "np.insert()"
   ]
  },
  {
   "cell_type": "code",
   "execution_count": null,
   "metadata": {},
   "outputs": [],
   "source": [
    "np.append()"
   ]
  },
  {
   "cell_type": "code",
   "execution_count": null,
   "metadata": {},
   "outputs": [],
   "source": [
    "np.concatenate()"
   ]
  },
  {
   "cell_type": "code",
   "execution_count": null,
   "metadata": {},
   "outputs": [],
   "source": [
    "np.block()"
   ]
  },
  {
   "cell_type": "code",
   "execution_count": null,
   "metadata": {
    "ExecuteTime": {
     "end_time": "2021-03-05T16:14:55.371448Z",
     "start_time": "2021-03-05T16:14:55.349734Z"
    }
   },
   "outputs": [],
   "source": [
    "import numpy as np\n",
    "a = np.array([[1,2,3],[4,5,6],[10,20,30],[40,50,60],[100,200,300],[400,500,600]])\n",
    "b = a.flatten()\n",
    "print (\"a = \",a); print (\"b = \",b)"
   ]
  },
  {
   "cell_type": "code",
   "execution_count": null,
   "metadata": {
    "ExecuteTime": {
     "end_time": "2021-03-05T16:15:08.842303Z",
     "start_time": "2021-03-05T16:15:08.832976Z"
    }
   },
   "outputs": [],
   "source": [
    "np.delete(b,3)"
   ]
  },
  {
   "cell_type": "code",
   "execution_count": null,
   "metadata": {
    "ExecuteTime": {
     "end_time": "2021-03-05T16:15:40.390252Z",
     "start_time": "2021-03-05T16:15:40.378938Z"
    }
   },
   "outputs": [],
   "source": [
    "np.delete(a,3)"
   ]
  },
  {
   "cell_type": "code",
   "execution_count": null,
   "metadata": {
    "ExecuteTime": {
     "end_time": "2021-03-05T16:16:27.391091Z",
     "start_time": "2021-03-05T16:16:27.382024Z"
    }
   },
   "outputs": [],
   "source": [
    "np.delete(a,3,axis=0)"
   ]
  },
  {
   "cell_type": "code",
   "execution_count": null,
   "metadata": {
    "ExecuteTime": {
     "end_time": "2021-03-05T16:17:37.611384Z",
     "start_time": "2021-03-05T16:17:37.603568Z"
    }
   },
   "outputs": [],
   "source": [
    "np.delete(a,1,axis=1)"
   ]
  },
  {
   "cell_type": "code",
   "execution_count": null,
   "metadata": {
    "ExecuteTime": {
     "end_time": "2021-03-05T16:17:49.146080Z",
     "start_time": "2021-03-05T16:17:49.134076Z"
    }
   },
   "outputs": [],
   "source": [
    "np.delete(a,[0,1],axis=0)"
   ]
  },
  {
   "cell_type": "code",
   "execution_count": null,
   "metadata": {
    "ExecuteTime": {
     "end_time": "2021-03-05T16:18:20.523974Z",
     "start_time": "2021-03-05T16:18:20.510780Z"
    }
   },
   "outputs": [],
   "source": [
    "np.delete(a,[0,1],axis=1)"
   ]
  },
  {
   "cell_type": "code",
   "execution_count": null,
   "metadata": {
    "ExecuteTime": {
     "end_time": "2021-03-05T16:19:07.590969Z",
     "start_time": "2021-03-05T16:19:07.581955Z"
    }
   },
   "outputs": [],
   "source": [
    "mask = np.ones(len(b), dtype=bool)\n",
    "mask[[3,5,12]] = False\n",
    "mask"
   ]
  },
  {
   "cell_type": "code",
   "execution_count": null,
   "metadata": {
    "ExecuteTime": {
     "end_time": "2021-03-05T16:20:00.503097Z",
     "start_time": "2021-03-05T16:20:00.488454Z"
    }
   },
   "outputs": [],
   "source": [
    "b[mask]"
   ]
  },
  {
   "cell_type": "code",
   "execution_count": null,
   "metadata": {
    "ExecuteTime": {
     "end_time": "2021-03-05T16:20:31.611277Z",
     "start_time": "2021-03-05T16:20:31.602538Z"
    }
   },
   "outputs": [],
   "source": [
    "np.delete(b,[3,5,12])"
   ]
  },
  {
   "cell_type": "code",
   "execution_count": null,
   "metadata": {
    "ExecuteTime": {
     "end_time": "2021-03-05T16:20:47.631084Z",
     "start_time": "2021-03-05T16:20:47.617550Z"
    }
   },
   "outputs": [],
   "source": [
    "np.insert(b,0,99)"
   ]
  },
  {
   "cell_type": "code",
   "execution_count": null,
   "metadata": {
    "ExecuteTime": {
     "end_time": "2021-03-05T16:20:58.154888Z",
     "start_time": "2021-03-05T16:20:58.142384Z"
    }
   },
   "outputs": [],
   "source": [
    "np.insert(b,[0,6,11],99)"
   ]
  },
  {
   "cell_type": "code",
   "execution_count": null,
   "metadata": {
    "ExecuteTime": {
     "end_time": "2021-03-05T16:21:23.211990Z",
     "start_time": "2021-03-05T16:21:23.203570Z"
    }
   },
   "outputs": [],
   "source": [
    "np.insert(b,[0,6,11],[99,999,9999])"
   ]
  },
  {
   "cell_type": "code",
   "execution_count": null,
   "metadata": {
    "ExecuteTime": {
     "end_time": "2021-03-05T16:21:46.736948Z",
     "start_time": "2021-03-05T16:21:46.730209Z"
    }
   },
   "outputs": [],
   "source": [
    "np.insert(b,0,[99,999,9999])"
   ]
  },
  {
   "cell_type": "code",
   "execution_count": null,
   "metadata": {
    "ExecuteTime": {
     "end_time": "2021-03-05T16:22:28.121531Z",
     "start_time": "2021-03-05T16:22:28.108450Z"
    }
   },
   "outputs": [],
   "source": [
    "np.insert(a,0,[99,999,9999],axis=0)"
   ]
  },
  {
   "cell_type": "code",
   "execution_count": null,
   "metadata": {
    "ExecuteTime": {
     "end_time": "2021-03-05T16:22:59.123686Z",
     "start_time": "2021-03-05T16:22:59.112808Z"
    }
   },
   "outputs": [],
   "source": [
    "np.insert(a,2,[99,999,9999,9999,999,99],axis=1)"
   ]
  },
  {
   "cell_type": "code",
   "execution_count": null,
   "metadata": {
    "ExecuteTime": {
     "end_time": "2021-03-05T16:23:12.875697Z",
     "start_time": "2021-03-05T16:23:12.512544Z"
    }
   },
   "outputs": [],
   "source": [
    "np.insert(a,2,[99,999,9999,9999],axis=1)"
   ]
  },
  {
   "cell_type": "code",
   "execution_count": null,
   "metadata": {
    "ExecuteTime": {
     "end_time": "2021-03-05T16:23:48.391179Z",
     "start_time": "2021-03-05T16:23:48.348939Z"
    }
   },
   "outputs": [],
   "source": [
    "np.insert(a,2,[99,999],axis=0)"
   ]
  },
  {
   "cell_type": "code",
   "execution_count": null,
   "metadata": {},
   "outputs": [],
   "source": []
  },
  {
   "cell_type": "code",
   "execution_count": null,
   "metadata": {},
   "outputs": [],
   "source": []
  },
  {
   "cell_type": "code",
   "execution_count": null,
   "metadata": {},
   "outputs": [],
   "source": []
  },
  {
   "cell_type": "code",
   "execution_count": null,
   "metadata": {},
   "outputs": [],
   "source": [
    "print (\"a = \",a); print (\"b = \",b)"
   ]
  },
  {
   "cell_type": "code",
   "execution_count": null,
   "metadata": {},
   "outputs": [],
   "source": []
  },
  {
   "cell_type": "markdown",
   "metadata": {
    "slideshow": {
     "slide_type": "-"
    }
   },
   "source": [
    "Массивы одинаковой размерности поддерживают поэлементные операции. В случае несовпадающих размерностей массивов возможно возникновение ошибок разной степени сложности."
   ]
  },
  {
   "cell_type": "code",
   "execution_count": null,
   "metadata": {
    "ExecuteTime": {
     "end_time": "2021-03-05T16:29:44.382182Z",
     "start_time": "2021-03-05T16:29:44.135947Z"
    },
    "slideshow": {
     "slide_type": "-"
    }
   },
   "outputs": [],
   "source": [
    "#from __future__ import division\n",
    "import numpy as np\n",
    "a = np.array([[1,2,3],[4,5,6]])\n",
    "b = np.array([[10,20,30],[40,50,60]])\n",
    "c = a + b\n",
    "d = a - b\n",
    "e = a*b\n",
    "f = a/b\n",
    "print (\"a = \",a); print (\"b = \",b);\n",
    "print (\"c = \",c); print (\"d = \",d);\n",
    "print (\"e = \",e); print (\"f = \",f);"
   ]
  },
  {
   "cell_type": "markdown",
   "metadata": {
    "slideshow": {
     "slide_type": "-"
    }
   },
   "source": [
    "Покомпонентное сравнение массивов"
   ]
  },
  {
   "cell_type": "code",
   "execution_count": null,
   "metadata": {
    "ExecuteTime": {
     "end_time": "2021-03-05T16:31:13.623753Z",
     "start_time": "2021-03-05T16:31:13.389503Z"
    },
    "slideshow": {
     "slide_type": "-"
    }
   },
   "outputs": [],
   "source": [
    "import numpy as np\n",
    "a = np.arange(-10 ,11)\n",
    "b = -1*a\n",
    "c = np.maximum(a,b)\n",
    "d = np.minimum(a,b)\n",
    "e = np.maximum(a,5)\n",
    "f = a>b\n",
    "print (\" a = {} \".format(a)); print (\" b = {} \".format(b));\n",
    "print (\" c = {} \".format(c)); print (\" d = {} \".format(d));\n",
    "print (\" e = {} \".format(e)); print (\" f = {} \".format(f));"
   ]
  },
  {
   "cell_type": "code",
   "execution_count": null,
   "metadata": {
    "ExecuteTime": {
     "end_time": "2021-03-05T16:34:27.130260Z",
     "start_time": "2021-03-05T16:34:27.099224Z"
    },
    "slideshow": {
     "slide_type": "-"
    }
   },
   "outputs": [],
   "source": [
    "x = np.array([1,2,3,4])\n",
    "y = np.array([1,3,4,4])\n",
    "np.array_equal(x,y)"
   ]
  },
  {
   "cell_type": "code",
   "execution_count": null,
   "metadata": {
    "ExecuteTime": {
     "end_time": "2021-03-05T16:35:10.172713Z",
     "start_time": "2021-03-05T16:35:10.160832Z"
    },
    "slideshow": {
     "slide_type": "-"
    }
   },
   "outputs": [],
   "source": [
    "x = np.array([0, 1, 0, 0], dtype=bool)\n",
    "y = np.array([1, 1, 0, 1], dtype=bool)\n",
    "np.logical_or(x,y)"
   ]
  },
  {
   "cell_type": "code",
   "execution_count": null,
   "metadata": {
    "ExecuteTime": {
     "end_time": "2021-03-05T16:35:29.629409Z",
     "start_time": "2021-03-05T16:35:29.617754Z"
    },
    "slideshow": {
     "slide_type": "-"
    }
   },
   "outputs": [],
   "source": [
    "np.logical_and(x,y)"
   ]
  },
  {
   "cell_type": "code",
   "execution_count": null,
   "metadata": {
    "ExecuteTime": {
     "end_time": "2021-03-05T16:36:05.915525Z",
     "start_time": "2021-03-05T16:36:05.903253Z"
    },
    "slideshow": {
     "slide_type": "-"
    }
   },
   "outputs": [],
   "source": [
    "x = np.array([12,16,57,11])\n",
    "np.logical_or(x < 13, x > 50)"
   ]
  },
  {
   "cell_type": "markdown",
   "metadata": {},
   "source": []
  },
  {
   "cell_type": "markdown",
   "metadata": {
    "slideshow": {
     "slide_type": "-"
    }
   },
   "source": [
    "#### Редукция массивов в **NumPy**\n",
    "\n",
    "Редукция одномерных массивов:\n",
    "\n",
    "- **``<операция>.reduce(<массив>)``**\n",
    "- **``<операция>.accumulate(<массив>)``**\n",
    "\n",
    "где **``<операция>``** одна из следующих бинарных операций\n",
    "\n",
    "- **``add``**\n",
    "- **``multiply``** \n",
    "- **``divide``** \n",
    "- и др. . . ."
   ]
  },
  {
   "cell_type": "code",
   "execution_count": null,
   "metadata": {
    "ExecuteTime": {
     "end_time": "2021-03-12T13:42:14.717194Z",
     "start_time": "2021-03-12T13:42:14.708238Z"
    },
    "slideshow": {
     "slide_type": "-"
    }
   },
   "outputs": [],
   "source": [
    "import numpy as np"
   ]
  },
  {
   "cell_type": "code",
   "execution_count": null,
   "metadata": {
    "ExecuteTime": {
     "end_time": "2021-03-12T13:42:45.800339Z",
     "start_time": "2021-03-12T13:42:45.652628Z"
    },
    "slideshow": {
     "slide_type": "-"
    }
   },
   "outputs": [],
   "source": [
    "a = np.arange(1 ,11)\n",
    "b = np.add.reduce(a)\n",
    "c = np.add.accumulate(a)\n",
    "d = np.multiply.reduce(a)\n",
    "e = np.multiply.accumulate(a)\n",
    "print (\" a = {} \".format(a)); print (\" b = {} \".format(b));\n",
    "print (\" c = {} \".format(c)); print (\" d = {} \".format(d));\n",
    "print (\" e = {} \".format(e))"
   ]
  },
  {
   "cell_type": "markdown",
   "metadata": {
    "slideshow": {
     "slide_type": "-"
    }
   },
   "source": [
    "Редукция многомерных массивов:\n",
    "\n",
    "- **``<операция>.reduce(<массив>,<ось>)``**\n",
    "- **``<операция>.accumulate(<массив>,<ось>)``**\n",
    "\n",
    "Для многомерных массивов следует указать ось редукции (по умолчанию 0)."
   ]
  },
  {
   "cell_type": "code",
   "execution_count": null,
   "metadata": {
    "slideshow": {
     "slide_type": "-"
    }
   },
   "outputs": [],
   "source": [
    "import numpy as np"
   ]
  },
  {
   "cell_type": "code",
   "execution_count": null,
   "metadata": {
    "ExecuteTime": {
     "end_time": "2021-03-12T13:46:32.318437Z",
     "start_time": "2021-03-12T13:46:32.305023Z"
    },
    "slideshow": {
     "slide_type": "-"
    }
   },
   "outputs": [],
   "source": [
    "a = np.array([[1,2,3],[10,20,30],[100,200,300]])\n",
    "b = np.add.reduce(a,0)\n",
    "c = np.add.reduce(a,1)\n",
    "d = np.add.reduce(a)\n",
    "print (\" a = {} \".format(a)); print (\" b = {} \".format(b));\n",
    "print (\" c = {} \".format(c)); print (\" d = {} \".format(d))"
   ]
  },
  {
   "cell_type": "markdown",
   "metadata": {
    "slideshow": {
     "slide_type": "-"
    }
   },
   "source": [
    "Функции для определения максимальных и миниммальных\n",
    "элементов в массивах:\n",
    "\n",
    "\n",
    "$\\;\\;\\;$**``.max()``**$\\;\\;\\;$**``.max([<ось>])``** \n",
    "\n",
    "\n",
    "$\\;\\;\\;$**``.min()``**$\\;\\;\\;$**``.min([<ось>])``**\n",
    "\n",
    "\n",
    "Для многомерных массивов, при необходимости обработки по направлениям, следует указать ось."
   ]
  },
  {
   "cell_type": "code",
   "execution_count": null,
   "metadata": {
    "slideshow": {
     "slide_type": "-"
    }
   },
   "outputs": [],
   "source": [
    "import numpy as np"
   ]
  },
  {
   "cell_type": "code",
   "execution_count": null,
   "metadata": {
    "ExecuteTime": {
     "end_time": "2021-03-12T13:47:27.422861Z",
     "start_time": "2021-03-12T13:47:27.391061Z"
    },
    "slideshow": {
     "slide_type": "-"
    }
   },
   "outputs": [],
   "source": [
    "a = np.array ([1,2,3,4,5,6,7,8,9,10])\n",
    "b = np.array ([[1,2,3],[10,20,30],[100,200,300]])\n",
    "c = a.max()\n",
    "d = a.min()\n",
    "e = np.max(b,0)\n",
    "f = np.min(b,0)\n",
    "g = np.max(b,1)\n",
    "h = np.min(b,1)\n",
    "i = np.max(b)\n",
    "j = np.min(b)\n",
    "print (\" a = {} \".format(a)); print (\" b = {} \".format(b));\n",
    "print (\" c = {} \".format(c)); print (\" d = {} \".format(d));\n",
    "print (\" e = {} \".format(e)); print (\" f = {} \".format(f));\n",
    "print (\" g = {} \".format(g)); print (\" h = {} \".format(h));\n",
    "print (\" i = {} \".format(i)); print (\" j = {} \".format(j));"
   ]
  },
  {
   "cell_type": "markdown",
   "metadata": {
    "slideshow": {
     "slide_type": "-"
    }
   },
   "source": [
    "Уникальные элементы массива могут быть извлечены спомощью функции **``unique``**."
   ]
  },
  {
   "cell_type": "code",
   "execution_count": null,
   "metadata": {
    "ExecuteTime": {
     "end_time": "2021-03-12T13:50:26.372334Z",
     "start_time": "2021-03-12T13:50:26.110609Z"
    },
    "slideshow": {
     "slide_type": "-"
    }
   },
   "outputs": [],
   "source": [
    "import numpy as np"
   ]
  },
  {
   "cell_type": "code",
   "execution_count": null,
   "metadata": {
    "ExecuteTime": {
     "end_time": "2021-03-12T13:51:06.460662Z",
     "start_time": "2021-03-12T13:51:06.427955Z"
    },
    "slideshow": {
     "slide_type": "-"
    }
   },
   "outputs": [],
   "source": [
    "a = np.array([1, 1, 0, 4, 5, 0, 5, 5, 7, 25, 0, 97, 25, 0, 126, 234, 0, 97], float)\n",
    "a"
   ]
  },
  {
   "cell_type": "code",
   "execution_count": null,
   "metadata": {
    "ExecuteTime": {
     "end_time": "2021-03-12T13:51:54.006277Z",
     "start_time": "2021-03-12T13:51:53.991171Z"
    },
    "slideshow": {
     "slide_type": "-"
    }
   },
   "outputs": [],
   "source": [
    "b = np.unique(a)\n",
    "b"
   ]
  },
  {
   "cell_type": "code",
   "execution_count": null,
   "metadata": {},
   "outputs": [],
   "source": []
  },
  {
   "cell_type": "markdown",
   "metadata": {
    "slideshow": {
     "slide_type": "-"
    }
   },
   "source": [
    "Функция **``nonzero``** создает новый массив, содержащий индексы не нулевых элементов основного массива."
   ]
  },
  {
   "cell_type": "code",
   "execution_count": null,
   "metadata": {
    "ExecuteTime": {
     "end_time": "2021-03-12T13:53:23.118932Z",
     "start_time": "2021-03-12T13:53:23.103806Z"
    },
    "slideshow": {
     "slide_type": "-"
    }
   },
   "outputs": [],
   "source": [
    "d = a.nonzero()\n",
    "print (d)\n",
    "a[d]"
   ]
  },
  {
   "cell_type": "markdown",
   "metadata": {
    "slideshow": {
     "slide_type": "-"
    }
   },
   "source": [
    "Функция **``where``** создает новый массив используя булев фильтр для выбора межу элементами. Созданный массив содержит индексы элементов основного массива, удовлетворяющих условию выбора. "
   ]
  },
  {
   "cell_type": "code",
   "execution_count": null,
   "metadata": {
    "ExecuteTime": {
     "end_time": "2021-03-12T13:55:45.598554Z",
     "start_time": "2021-03-12T13:55:45.586570Z"
    },
    "slideshow": {
     "slide_type": "-"
    }
   },
   "outputs": [],
   "source": [
    "c = np.where(a < 27)\n",
    "print (c)\n",
    "a[c]"
   ]
  },
  {
   "cell_type": "code",
   "execution_count": null,
   "metadata": {},
   "outputs": [],
   "source": []
  },
  {
   "cell_type": "markdown",
   "metadata": {
    "slideshow": {
     "slide_type": "-"
    }
   },
   "source": [
    "В пакете ***NumPy*** реализованы и другие механизмы для выполнения выборок из массивов **``ndarray``**."
   ]
  },
  {
   "cell_type": "code",
   "execution_count": null,
   "metadata": {
    "ExecuteTime": {
     "end_time": "2021-03-12T13:58:22.481906Z",
     "start_time": "2021-03-12T13:58:22.473254Z"
    },
    "slideshow": {
     "slide_type": "-"
    }
   },
   "outputs": [],
   "source": [
    "idxs = (a >= 25)\n",
    "print (idxs)\n",
    "a[idxs]"
   ]
  },
  {
   "cell_type": "markdown",
   "metadata": {
    "slideshow": {
     "slide_type": "-"
    }
   },
   "source": [
    "Для создания более сложных выборок с составными условиями служат функции **``logical_and``**, **``logical_or``**, **``logical_xor``** и **``logical_not``**.  "
   ]
  },
  {
   "cell_type": "code",
   "execution_count": null,
   "metadata": {
    "ExecuteTime": {
     "end_time": "2021-03-12T13:59:38.370378Z",
     "start_time": "2021-03-12T13:59:38.349718Z"
    },
    "slideshow": {
     "slide_type": "-"
    }
   },
   "outputs": [],
   "source": [
    "e = np.logical_and(a >= 4, a < 50)\n",
    "print (e)\n",
    "a[e]"
   ]
  },
  {
   "cell_type": "code",
   "execution_count": null,
   "metadata": {
    "ExecuteTime": {
     "end_time": "2021-03-12T14:00:56.617309Z",
     "start_time": "2021-03-12T14:00:56.608413Z"
    },
    "slideshow": {
     "slide_type": "-"
    }
   },
   "outputs": [],
   "source": [
    "f = np.logical_and(np.logical_and(a >= 4, a < 50), a != 7)\n",
    "print (f)\n",
    "a[f]"
   ]
  },
  {
   "cell_type": "code",
   "execution_count": null,
   "metadata": {
    "ExecuteTime": {
     "end_time": "2021-03-12T14:01:30.882383Z",
     "start_time": "2021-03-12T14:01:30.867673Z"
    }
   },
   "outputs": [],
   "source": [
    "a[f] = 1000\n",
    "a"
   ]
  },
  {
   "cell_type": "markdown",
   "metadata": {},
   "source": [
    "# Пример работы с матрицами"
   ]
  },
  {
   "cell_type": "code",
   "execution_count": null,
   "metadata": {
    "ExecuteTime": {
     "end_time": "2021-03-12T14:06:00.118735Z",
     "start_time": "2021-03-12T14:05:59.975014Z"
    }
   },
   "outputs": [],
   "source": [
    "import numpy as np\n",
    "import matplotlib.pyplot as plt\n",
    "from mpl_toolkits.mplot3d import Axes3D\n",
    "from matplotlib import cm\n",
    "import matplotlib as mpl\n",
    "import sys\n",
    "%matplotlib inline\n",
    "import SK_NBody as LNB\n",
    "#%pylab inline"
   ]
  },
  {
   "cell_type": "code",
   "execution_count": null,
   "metadata": {
    "ExecuteTime": {
     "end_time": "2021-03-12T14:08:07.218511Z",
     "start_time": "2021-03-12T14:08:07.208850Z"
    }
   },
   "outputs": [],
   "source": [
    "# настройка отображения чисел и массивов\n",
    "np.set_printoptions(precision=5)\n",
    "np.set_printoptions(threshold=sys.maxsize, suppress=True)"
   ]
  },
  {
   "cell_type": "code",
   "execution_count": null,
   "metadata": {
    "ExecuteTime": {
     "end_time": "2021-03-12T14:10:47.352984Z",
     "start_time": "2021-03-12T14:10:47.290512Z"
    }
   },
   "outputs": [],
   "source": [
    "# Создаем две квадратные матрицы N x N\n",
    "N = 1000\n",
    "A = np.matrix(np.random.random((N,N)))\n",
    "B = np.matrix(np.random.random((N,N)))"
   ]
  },
  {
   "cell_type": "code",
   "execution_count": null,
   "metadata": {
    "ExecuteTime": {
     "end_time": "2021-03-12T14:10:57.483864Z",
     "start_time": "2021-03-12T14:10:57.471999Z"
    }
   },
   "outputs": [],
   "source": [
    "np.size(A)"
   ]
  },
  {
   "cell_type": "code",
   "execution_count": null,
   "metadata": {
    "ExecuteTime": {
     "end_time": "2021-03-12T14:11:45.451432Z",
     "start_time": "2021-03-12T14:11:45.099132Z"
    }
   },
   "outputs": [],
   "source": [
    "LNB.How_Long(np.dot,[A,B])"
   ]
  },
  {
   "cell_type": "code",
   "execution_count": null,
   "metadata": {
    "ExecuteTime": {
     "end_time": "2021-03-12T14:14:03.576668Z",
     "start_time": "2021-03-12T14:14:03.549000Z"
    }
   },
   "outputs": [],
   "source": [
    "Idxs = np.where((A > 0.49)&(A < 0.51))\n",
    "print (np.size(Idxs[0]), \" \", np.size(Idxs[1]))\n",
    "print (np.size(A[Idxs]))\n",
    "A[Idxs].shape"
   ]
  },
  {
   "cell_type": "code",
   "execution_count": null,
   "metadata": {
    "ExecuteTime": {
     "end_time": "2021-04-02T12:21:11.281215Z",
     "start_time": "2021-04-02T12:21:11.277393Z"
    }
   },
   "outputs": [],
   "source": [
    "#A"
   ]
  },
  {
   "cell_type": "code",
   "execution_count": null,
   "metadata": {
    "ExecuteTime": {
     "end_time": "2021-03-05T18:40:05.528294Z",
     "start_time": "2021-03-05T18:40:03.187783Z"
    }
   },
   "outputs": [],
   "source": [
    "fig, ax = plt.subplots(figsize=(20, 20))\n",
    "cns = ax.imshow(A)\n",
    "cbar = fig.colorbar(cns)"
   ]
  },
  {
   "cell_type": "code",
   "execution_count": null,
   "metadata": {
    "ExecuteTime": {
     "end_time": "2021-03-12T14:22:42.160273Z",
     "start_time": "2021-03-12T14:22:40.249678Z"
    }
   },
   "outputs": [],
   "source": [
    "D = np.zeros_like(A)\n",
    "fig, ax = plt.subplots(figsize=(20, 20))\n",
    "cns = ax.imshow(D)\n",
    "cbar = fig.colorbar(cns)"
   ]
  },
  {
   "cell_type": "code",
   "execution_count": null,
   "metadata": {
    "ExecuteTime": {
     "end_time": "2021-03-12T14:24:11.515657Z",
     "start_time": "2021-03-12T14:24:11.502136Z"
    }
   },
   "outputs": [],
   "source": [
    "D[Idxs[0],Idxs[1]] = A[Idxs[0],Idxs[1]] "
   ]
  },
  {
   "cell_type": "code",
   "execution_count": null,
   "metadata": {
    "ExecuteTime": {
     "end_time": "2021-03-12T14:24:14.151518Z",
     "start_time": "2021-03-12T14:24:12.628841Z"
    }
   },
   "outputs": [],
   "source": [
    "fig, ax = plt.subplots(figsize=(20, 20))\n",
    "cns = ax.imshow(D)\n",
    "cbar = fig.colorbar(cns)"
   ]
  },
  {
   "cell_type": "code",
   "execution_count": null,
   "metadata": {},
   "outputs": [],
   "source": []
  },
  {
   "cell_type": "code",
   "execution_count": null,
   "metadata": {},
   "outputs": [],
   "source": []
  },
  {
   "cell_type": "markdown",
   "metadata": {
    "slideshow": {
     "slide_type": "subslide"
    }
   },
   "source": [
    "### Линейная Алгебра\n",
    "\n",
    "Пакет **NumPy** предлагает ряд методов реализующих решение задач линейной алгебры.\n"
   ]
  },
  {
   "cell_type": "code",
   "execution_count": null,
   "metadata": {
    "ExecuteTime": {
     "end_time": "2021-03-19T10:58:16.544152Z",
     "start_time": "2021-03-19T10:58:15.301668Z"
    },
    "slideshow": {
     "slide_type": "-"
    }
   },
   "outputs": [],
   "source": [
    "import numpy as np\n",
    "import sys"
   ]
  },
  {
   "cell_type": "code",
   "execution_count": null,
   "metadata": {
    "ExecuteTime": {
     "end_time": "2021-03-19T10:58:47.051807Z",
     "start_time": "2021-03-19T10:58:47.046889Z"
    }
   },
   "outputs": [],
   "source": [
    "# настройка отображения чисел и массивов\n",
    "np.set_printoptions(precision=5)\n",
    "#np.set_printoptions(threshold=sys.maxsize, suppress=True)\n",
    "np.set_printoptions(threshold=100, suppress=True)"
   ]
  },
  {
   "cell_type": "code",
   "execution_count": null,
   "metadata": {
    "ExecuteTime": {
     "end_time": "2021-03-19T10:58:48.423488Z",
     "start_time": "2021-03-19T10:58:48.414090Z"
    },
    "slideshow": {
     "slide_type": "-"
    }
   },
   "outputs": [],
   "source": [
    "x1 = np.array( [[1,2,3], [1,2,3], [1,2,3]] )\n",
    "x2 = np.array( [[1,2,3], [1,2,3], [1,2,3]] )\n",
    "print (\"x1 = \", x1)\n",
    "print (\"x2 = \", x2)"
   ]
  },
  {
   "cell_type": "code",
   "execution_count": null,
   "metadata": {
    "ExecuteTime": {
     "end_time": "2021-03-19T10:58:49.680923Z",
     "start_time": "2021-03-19T10:58:49.674524Z"
    },
    "slideshow": {
     "slide_type": "-"
    }
   },
   "outputs": [],
   "source": [
    "# Произведение двумерных массивов\n",
    "print (x1*x2)"
   ]
  },
  {
   "cell_type": "markdown",
   "metadata": {
    "slideshow": {
     "slide_type": "-"
    }
   },
   "source": [
    "Произошло покомпонентное перемножение двемерных массивов. Для получения матричного произведения нужно преобразовать массивы в объекты **matrix**."
   ]
  },
  {
   "cell_type": "code",
   "execution_count": null,
   "metadata": {
    "ExecuteTime": {
     "end_time": "2021-03-19T10:59:00.402341Z",
     "start_time": "2021-03-19T10:59:00.393700Z"
    },
    "slideshow": {
     "slide_type": "-"
    }
   },
   "outputs": [],
   "source": [
    "x3 = np.matrix(x1)\n",
    "x4 = np.matrix(x2)\n",
    "print (\"x3 = \", x3)\n",
    "print (\"x4 = \", x4)"
   ]
  },
  {
   "cell_type": "code",
   "execution_count": null,
   "metadata": {
    "ExecuteTime": {
     "end_time": "2021-03-19T10:59:00.621865Z",
     "start_time": "2021-03-19T10:59:00.407080Z"
    },
    "slideshow": {
     "slide_type": "-"
    }
   },
   "outputs": [],
   "source": [
    "# Произведение двумерных матриц\n",
    "print (x3*x4)"
   ]
  },
  {
   "cell_type": "code",
   "execution_count": null,
   "metadata": {
    "ExecuteTime": {
     "end_time": "2021-03-19T10:59:00.823929Z",
     "start_time": "2021-03-19T10:59:00.625544Z"
    },
    "slideshow": {
     "slide_type": "-"
    }
   },
   "outputs": [],
   "source": [
    "np.matmul(x1,x2)"
   ]
  },
  {
   "cell_type": "code",
   "execution_count": null,
   "metadata": {
    "ExecuteTime": {
     "end_time": "2021-03-19T10:59:01.151753Z",
     "start_time": "2021-03-19T10:59:00.826853Z"
    },
    "slideshow": {
     "slide_type": "-"
    }
   },
   "outputs": [],
   "source": [
    "np.dot(x1,x2)"
   ]
  },
  {
   "cell_type": "code",
   "execution_count": null,
   "metadata": {
    "ExecuteTime": {
     "end_time": "2021-03-19T10:59:01.478012Z",
     "start_time": "2021-03-19T10:59:01.155811Z"
    },
    "slideshow": {
     "slide_type": "-"
    }
   },
   "outputs": [],
   "source": [
    "# создаем два вектора\n",
    "x5 = np.array([12, 73, 239])\n",
    "x6 = np.array([2, 45, 23])"
   ]
  },
  {
   "cell_type": "code",
   "execution_count": null,
   "metadata": {
    "ExecuteTime": {
     "end_time": "2021-03-19T10:59:01.798525Z",
     "start_time": "2021-03-19T10:59:01.480319Z"
    },
    "slideshow": {
     "slide_type": "-"
    }
   },
   "outputs": [],
   "source": [
    "# векторное произведение, которое дает перпендикуляр к плоскости содержащей вектора \n",
    "x7 = np.cross(x5,x6)\n",
    "x7"
   ]
  },
  {
   "cell_type": "code",
   "execution_count": null,
   "metadata": {
    "ExecuteTime": {
     "end_time": "2021-03-19T10:59:01.985655Z",
     "start_time": "2021-03-19T10:59:01.801201Z"
    },
    "slideshow": {
     "slide_type": "-"
    }
   },
   "outputs": [],
   "source": [
    "# скалярное произведение \n",
    "x8 = np.dot(x5,x7)\n",
    "x8"
   ]
  },
  {
   "cell_type": "code",
   "execution_count": null,
   "metadata": {
    "ExecuteTime": {
     "end_time": "2021-03-19T10:59:07.009930Z",
     "start_time": "2021-03-19T10:59:07.003032Z"
    },
    "slideshow": {
     "slide_type": "-"
    }
   },
   "outputs": [],
   "source": [
    "# скалярное произведение \n",
    "x9 = np.dot(x6,x7)\n",
    "x9"
   ]
  },
  {
   "cell_type": "code",
   "execution_count": null,
   "metadata": {
    "ExecuteTime": {
     "end_time": "2021-03-19T10:59:07.906158Z",
     "start_time": "2021-03-19T10:59:07.902788Z"
    },
    "slideshow": {
     "slide_type": "-"
    }
   },
   "outputs": [],
   "source": [
    "#from __future__ import division\n",
    "import numpy as np"
   ]
  },
  {
   "cell_type": "code",
   "execution_count": null,
   "metadata": {
    "ExecuteTime": {
     "end_time": "2021-03-19T10:59:10.384470Z",
     "start_time": "2021-03-19T10:59:10.284624Z"
    },
    "slideshow": {
     "slide_type": "-"
    }
   },
   "outputs": [],
   "source": [
    "a = np.matrix([[11,12 ,13],[0,22,23],[31,32,33]])\n",
    "b = a**(-1)\n",
    "c = b*a #np.round(b*a,2)\n",
    "d = np.matrix([[1],[15],[137]])\n",
    "e = b**(-1)*d\n",
    "f = b*e\n",
    "print (\" a = {} \".format(a)); print (\" b = {} \".format(b));\n",
    "print (\" c = {} \".format(c)); print (\" d = {} \".format(d));\n",
    "print (\" e = {} \".format(e)); print (\" f = {} \".format(f));"
   ]
  },
  {
   "cell_type": "code",
   "execution_count": null,
   "metadata": {
    "ExecuteTime": {
     "end_time": "2021-03-19T10:59:13.661132Z",
     "start_time": "2021-03-19T10:59:13.651038Z"
    },
    "slideshow": {
     "slide_type": "-"
    }
   },
   "outputs": [],
   "source": [
    "# Обратная матрица\n",
    "a_inv = np.linalg.inv(a)\n",
    "print (a_inv)\n",
    "a*a_inv"
   ]
  },
  {
   "cell_type": "code",
   "execution_count": null,
   "metadata": {
    "ExecuteTime": {
     "end_time": "2021-03-19T10:59:16.581225Z",
     "start_time": "2021-03-19T10:59:16.564088Z"
    },
    "slideshow": {
     "slide_type": "-"
    }
   },
   "outputs": [],
   "source": [
    "import numpy as np\n",
    "from numpy.linalg import multi_dot \n",
    "a = np.arange(12).reshape(4,3) \n",
    "b = np.arange(15).reshape(3,5) \n",
    "c = np.arange(25).reshape(5,5) \n",
    "d = np.arange(25,50).reshape(5,5) \n",
    "e = np.arange(50,75).reshape(5,5) \n",
    "print (\" a = {} \".format(a)); print (\" b = {} \".format(b));\n",
    "print (\" c = {} \".format(c)); print (\" d = {} \".format(d));\n",
    "print (\" e = {} \".format(e)); "
   ]
  },
  {
   "cell_type": "code",
   "execution_count": null,
   "metadata": {
    "ExecuteTime": {
     "end_time": "2021-03-19T10:59:20.613584Z",
     "start_time": "2021-03-19T10:59:20.605527Z"
    },
    "slideshow": {
     "slide_type": "-"
    }
   },
   "outputs": [],
   "source": [
    "multi_dot([a, b, c, d, e])"
   ]
  },
  {
   "cell_type": "code",
   "execution_count": null,
   "metadata": {
    "ExecuteTime": {
     "end_time": "2021-03-19T10:59:21.545462Z",
     "start_time": "2021-03-19T10:59:21.539246Z"
    },
    "slideshow": {
     "slide_type": "-"
    }
   },
   "outputs": [],
   "source": [
    "a.dot(b).dot(c).dot(d).dot(e)"
   ]
  },
  {
   "cell_type": "markdown",
   "metadata": {
    "slideshow": {
     "slide_type": "-"
    }
   },
   "source": [
    "Сравним время выполнения функции **``multi_dot``** и цепного применения функции **``dot``**"
   ]
  },
  {
   "cell_type": "code",
   "execution_count": null,
   "metadata": {
    "ExecuteTime": {
     "end_time": "2021-03-19T10:59:27.016789Z",
     "start_time": "2021-03-19T10:59:26.994511Z"
    }
   },
   "outputs": [],
   "source": [
    "a = np.arange(480000).reshape(800,600) \n",
    "b = np.arange(600000).reshape(600,1000) \n",
    "c = np.arange(1000000).reshape(1000,1000) \n",
    "d = np.arange(25000000,26000000).reshape(1000,1000) \n",
    "e = np.arange(50000000,51000000).reshape(1000,1000) "
   ]
  },
  {
   "cell_type": "code",
   "execution_count": null,
   "metadata": {
    "ExecuteTime": {
     "end_time": "2021-03-19T10:59:36.182888Z",
     "start_time": "2021-03-19T10:59:29.440098Z"
    }
   },
   "outputs": [],
   "source": [
    "%time multi_dot([a, b, c, d, e])"
   ]
  },
  {
   "cell_type": "code",
   "execution_count": null,
   "metadata": {
    "ExecuteTime": {
     "end_time": "2021-03-19T10:59:49.940545Z",
     "start_time": "2021-03-19T10:59:40.895472Z"
    }
   },
   "outputs": [],
   "source": [
    "%time a.dot(b).dot(c).dot(d).dot(e)"
   ]
  },
  {
   "cell_type": "code",
   "execution_count": null,
   "metadata": {
    "ExecuteTime": {
     "end_time": "2021-03-19T11:00:00.583992Z",
     "start_time": "2021-03-19T11:00:00.580440Z"
    },
    "slideshow": {
     "slide_type": "-"
    }
   },
   "outputs": [],
   "source": [
    "import numpy as np\n",
    "import time"
   ]
  },
  {
   "cell_type": "code",
   "execution_count": null,
   "metadata": {
    "ExecuteTime": {
     "end_time": "2021-03-19T11:01:27.265063Z",
     "start_time": "2021-03-19T11:00:02.076912Z"
    },
    "slideshow": {
     "slide_type": "-"
    }
   },
   "outputs": [],
   "source": [
    "a = np.arange(1200000).reshape(800,1500) \n",
    "b = np.arange(1500000).reshape(1500,1000) \n",
    "c = np.arange(2500000).reshape(1000,2500) \n",
    "d = np.arange(2500000,8750000).reshape(2500,2500)\n",
    "e = np.arange(8750000,15000000).reshape(2500,2500)\n",
    "start = time.time() \n",
    "np.linalg.multi_dot([a,b,c,d,e]) \n",
    "ft = time.time()-start \n",
    "print (u'Multi_dot выполналась ', time.time()-start,u' сек.') \n",
    "a.dot(b).dot(c).dot(d).dot(e) \n",
    "print (u'Цепное применение dot выполнялось ', time.time()-start-ft,u' сек.')"
   ]
  },
  {
   "cell_type": "code",
   "execution_count": null,
   "metadata": {
    "ExecuteTime": {
     "end_time": "2021-03-19T11:01:37.866303Z",
     "start_time": "2021-03-19T11:01:37.856135Z"
    },
    "slideshow": {
     "slide_type": "-"
    }
   },
   "outputs": [],
   "source": [
    "a = np.arange(9).reshape(3,3) \n",
    "b = np.arange(3) \n",
    "print (a)\n",
    "print (b)"
   ]
  },
  {
   "cell_type": "code",
   "execution_count": null,
   "metadata": {
    "ExecuteTime": {
     "end_time": "2021-03-19T11:01:39.056435Z",
     "start_time": "2021-03-19T11:01:39.047670Z"
    },
    "slideshow": {
     "slide_type": "-"
    }
   },
   "outputs": [],
   "source": [
    "# внутреннее (скалярное) произведение\n",
    "np.inner(a,b)"
   ]
  },
  {
   "cell_type": "code",
   "execution_count": null,
   "metadata": {
    "ExecuteTime": {
     "end_time": "2021-03-19T11:01:41.669082Z",
     "start_time": "2021-03-19T11:01:41.662119Z"
    },
    "slideshow": {
     "slide_type": "-"
    }
   },
   "outputs": [],
   "source": [
    "# внешнее произведение\n",
    "np.outer(a,b)"
   ]
  },
  {
   "cell_type": "code",
   "execution_count": null,
   "metadata": {},
   "outputs": [],
   "source": []
  },
  {
   "cell_type": "code",
   "execution_count": null,
   "metadata": {
    "ExecuteTime": {
     "end_time": "2021-03-19T11:01:54.045311Z",
     "start_time": "2021-03-19T11:01:54.037326Z"
    },
    "slideshow": {
     "slide_type": "-"
    }
   },
   "outputs": [],
   "source": [
    "# тензорное произведение\n",
    "a = np.arange(12).reshape(2,3,2) \n",
    "b = np.arange(48).reshape(3,2,8) \n",
    "c = np.tensordot(a,b, axes =([1,0],[0,1])) \n",
    "print (\" a = {} \".format(a)); print (\" b = {} \".format(b));\n",
    "print (\" c = {} \".format(c));"
   ]
  },
  {
   "cell_type": "markdown",
   "metadata": {
    "slideshow": {
     "slide_type": "-"
    }
   },
   "source": [
    "Вычисление нормы, детерминанта и следа"
   ]
  },
  {
   "cell_type": "code",
   "execution_count": null,
   "metadata": {
    "ExecuteTime": {
     "end_time": "2021-03-19T11:02:01.698083Z",
     "start_time": "2021-03-19T11:02:01.694550Z"
    },
    "slideshow": {
     "slide_type": "-"
    }
   },
   "outputs": [],
   "source": [
    "import numpy as np "
   ]
  },
  {
   "cell_type": "code",
   "execution_count": null,
   "metadata": {
    "ExecuteTime": {
     "end_time": "2021-03-19T11:02:02.037348Z",
     "start_time": "2021-03-19T11:02:01.912286Z"
    },
    "slideshow": {
     "slide_type": "-"
    }
   },
   "outputs": [],
   "source": [
    "x = np.array([2,5,9,0]) \n",
    "print (np.linalg.norm(x,ord=2))\n",
    "print (np.sqrt((x*x).sum()))"
   ]
  },
  {
   "cell_type": "code",
   "execution_count": null,
   "metadata": {
    "ExecuteTime": {
     "end_time": "2021-03-19T11:02:02.365572Z",
     "start_time": "2021-03-19T11:02:02.357273Z"
    },
    "slideshow": {
     "slide_type": "-"
    }
   },
   "outputs": [],
   "source": [
    "A = np.array([2,3,1,4]).reshape(2,2)\n",
    "A"
   ]
  },
  {
   "cell_type": "code",
   "execution_count": null,
   "metadata": {
    "ExecuteTime": {
     "end_time": "2021-03-12T15:20:38.041851Z",
     "start_time": "2021-03-12T15:20:38.026988Z"
    },
    "slideshow": {
     "slide_type": "-"
    }
   },
   "outputs": [],
   "source": [
    "# вычисляем определитель\n",
    "np.linalg.det(A)"
   ]
  },
  {
   "cell_type": "code",
   "execution_count": null,
   "metadata": {
    "ExecuteTime": {
     "end_time": "2021-03-12T15:21:26.558897Z",
     "start_time": "2021-03-12T15:21:26.541530Z"
    },
    "slideshow": {
     "slide_type": "-"
    }
   },
   "outputs": [],
   "source": [
    "# вычисляем след\n",
    "np.trace(A)"
   ]
  },
  {
   "cell_type": "markdown",
   "metadata": {
    "slideshow": {
     "slide_type": "-"
    }
   },
   "source": [
    "# Решение систем линейных уравнений"
   ]
  },
  {
   "cell_type": "code",
   "execution_count": null,
   "metadata": {
    "ExecuteTime": {
     "end_time": "2021-03-12T15:23:26.710739Z",
     "start_time": "2021-03-12T15:23:26.684222Z"
    },
    "slideshow": {
     "slide_type": "-"
    }
   },
   "outputs": [],
   "source": [
    "A = np.array([[2, 1, 2], [3, 2, 1], [0, 1, 1]]) \n",
    "B = np.array([8,3,4]) \n",
    "x = np.linalg.solve(A, B) \n",
    "x"
   ]
  },
  {
   "cell_type": "code",
   "execution_count": null,
   "metadata": {
    "ExecuteTime": {
     "end_time": "2021-03-12T15:24:49.601376Z",
     "start_time": "2021-03-12T15:24:49.200348Z"
    },
    "slideshow": {
     "slide_type": "-"
    }
   },
   "outputs": [],
   "source": [
    "y = np.linalg.lstsq(A, B) \n",
    "y[0]"
   ]
  },
  {
   "cell_type": "code",
   "execution_count": null,
   "metadata": {
    "ExecuteTime": {
     "end_time": "2021-03-12T15:25:10.093520Z",
     "start_time": "2021-03-12T15:25:10.081003Z"
    }
   },
   "outputs": [],
   "source": [
    "y"
   ]
  },
  {
   "cell_type": "markdown",
   "metadata": {
    "slideshow": {
     "slide_type": "subslide"
    }
   },
   "source": [
    "# Многочлены\n",
    "В пакете ***NumPy*** реализован набор специализироваанных функций и методов для работы с полиномами. \n",
    "\n",
    "Функция **``poly``** ищет коэффициенты многочлена с заданной последовательностью корней (кратные корни должны быть включены в последовательность столько раз, какова их кратность), возвращая коэффициенты многочлена, старший коэффициент которого равен единице. Также может быть задана квадратная матрица, и в этом случае возвращаются коэффициенты характеристического многочлена матрицы."
   ]
  },
  {
   "cell_type": "code",
   "execution_count": null,
   "metadata": {
    "ExecuteTime": {
     "end_time": "2021-03-12T15:34:26.009706Z",
     "start_time": "2021-03-12T15:34:25.997155Z"
    },
    "slideshow": {
     "slide_type": "-"
    }
   },
   "outputs": [],
   "source": [
    "roots_1 = [-1,2,2,34]\n",
    "poly_1 = np.poly(roots_1)\n",
    "poly_1"
   ]
  },
  {
   "cell_type": "markdown",
   "metadata": {
    "slideshow": {
     "slide_type": "-"
    }
   },
   "source": [
    "Полученный массив представляет полином\n",
    "$$\n",
    "1.0 \\cdot x^{4} - 37.0 \\cdot x^{3} + 102.0 \\cdot x^{2} + 4.0 \\cdot x - 136.0  \n",
    "$$"
   ]
  },
  {
   "cell_type": "markdown",
   "metadata": {
    "slideshow": {
     "slide_type": "-"
    }
   },
   "source": [
    "Функция **``roots``** ищет корни полинома по заданным коэффициентам."
   ]
  },
  {
   "cell_type": "code",
   "execution_count": null,
   "metadata": {
    "ExecuteTime": {
     "end_time": "2021-03-12T15:35:34.321666Z",
     "start_time": "2021-03-12T15:35:34.295543Z"
    },
    "slideshow": {
     "slide_type": "-"
    }
   },
   "outputs": [],
   "source": [
    "roots_2 = np.roots(poly_1)\n",
    "roots_2"
   ]
  },
  {
   "cell_type": "markdown",
   "metadata": {
    "slideshow": {
     "slide_type": "-"
    }
   },
   "source": [
    "Функция **``polyint``** производит интегрирование полинома с заданными коэффициентам. \n",
    "\n",
    "Проинтегрируем полином\n",
    "$$\n",
    "x^5 + x^4 + x^3 + x^2 + x + 1\n",
    "$$"
   ]
  },
  {
   "cell_type": "code",
   "execution_count": null,
   "metadata": {
    "ExecuteTime": {
     "end_time": "2021-03-12T15:36:58.686575Z",
     "start_time": "2021-03-12T15:36:58.677497Z"
    },
    "slideshow": {
     "slide_type": "-"
    }
   },
   "outputs": [],
   "source": [
    "poly_int_1 = np.polyint([1,1,1,1,1,1])\n",
    "poly_int_1"
   ]
  },
  {
   "cell_type": "markdown",
   "metadata": {
    "slideshow": {
     "slide_type": "-"
    }
   },
   "source": [
    "Получили полином\n",
    "$$\n",
    "\\frac{1}{6}x^6 + \\frac{1}{5}x^5 + \\frac{1}{4}x^4 + \\frac{1}{3}x^3 + \\frac{1}{2}x^2 + x + 1 + 0\n",
    "$$"
   ]
  },
  {
   "cell_type": "markdown",
   "metadata": {
    "slideshow": {
     "slide_type": "-"
    }
   },
   "source": [
    "Функция **``polyder``** производит дифференцирование полинома с заданными коэффициентам."
   ]
  },
  {
   "cell_type": "code",
   "execution_count": null,
   "metadata": {
    "ExecuteTime": {
     "end_time": "2021-03-12T15:38:08.134316Z",
     "start_time": "2021-03-12T15:38:08.125256Z"
    },
    "slideshow": {
     "slide_type": "-"
    }
   },
   "outputs": [],
   "source": [
    "poly_diff_1 = np.polyder(poly_int_1)\n",
    "poly_diff_1"
   ]
  },
  {
   "cell_type": "markdown",
   "metadata": {
    "slideshow": {
     "slide_type": "-"
    }
   },
   "source": [
    "Функции **``polyadd``**, **``polysub``**, **``polymul``** и **``polydiv``** позволяют проводить суммирование, вычитание, умножение и деление полиномов, соответственно. Функция **``polyval``** подставляет в многочлен заданное значение."
   ]
  },
  {
   "cell_type": "code",
   "execution_count": null,
   "metadata": {
    "ExecuteTime": {
     "end_time": "2021-03-12T15:39:14.919917Z",
     "start_time": "2021-03-12T15:39:14.912106Z"
    },
    "slideshow": {
     "slide_type": "-"
    }
   },
   "outputs": [],
   "source": [
    "res_1 = np.polyval(poly_1,5)\n",
    "res_1"
   ]
  },
  {
   "cell_type": "markdown",
   "metadata": {
    "slideshow": {
     "slide_type": "-"
    }
   },
   "source": [
    "Функция **``polyfit``** может быть использована для подбора интерполяционного многочлена заданного порядка для некоторого набора данных."
   ]
  },
  {
   "cell_type": "code",
   "execution_count": null,
   "metadata": {
    "ExecuteTime": {
     "end_time": "2021-03-12T15:41:45.168591Z",
     "start_time": "2021-03-12T15:41:45.162849Z"
    },
    "slideshow": {
     "slide_type": "-"
    }
   },
   "outputs": [],
   "source": [
    "import numpy as np\n",
    "import matplotlib.pyplot as plt"
   ]
  },
  {
   "cell_type": "code",
   "execution_count": null,
   "metadata": {
    "ExecuteTime": {
     "end_time": "2021-03-12T15:42:29.122946Z",
     "start_time": "2021-03-12T15:42:29.109773Z"
    },
    "slideshow": {
     "slide_type": "-"
    }
   },
   "outputs": [],
   "source": [
    "x = np.linspace(0, 100, 10)\n",
    "y =10*np.random.random(10)\n",
    "print (\"x = \",x)\n",
    "print (\"y = \",y)"
   ]
  },
  {
   "cell_type": "code",
   "execution_count": null,
   "metadata": {
    "ExecuteTime": {
     "end_time": "2021-03-12T15:43:12.342347Z",
     "start_time": "2021-03-12T15:43:12.286270Z"
    },
    "slideshow": {
     "slide_type": "-"
    }
   },
   "outputs": [],
   "source": [
    "pol2 = np.polyfit(x, y, 2)\n",
    "pol3 = np.polyfit(x, y, 3)\n",
    "pol4 = np.polyfit(x, y, 4)\n",
    "pol5 = np.polyfit(x, y, 5)\n",
    "pol6 = np.polyfit(x, y, 6)\n",
    "pol7 = np.polyfit(x, y, 7)\n",
    "pol8 = np.polyfit(x, y, 8)\n",
    "pol9 = np.polyfit(x, y, 9)\n",
    "pol10 = np.polyfit(x, y, 10)"
   ]
  },
  {
   "cell_type": "code",
   "execution_count": null,
   "metadata": {
    "ExecuteTime": {
     "end_time": "2021-03-12T15:46:08.198636Z",
     "start_time": "2021-03-12T15:46:08.185123Z"
    },
    "slideshow": {
     "slide_type": "-"
    }
   },
   "outputs": [],
   "source": [
    "y2 = np.polyval(pol2,x)\n",
    "y3 = np.polyval(pol3,x)\n",
    "y4 = np.polyval(pol4,x)\n",
    "y5 = np.polyval(pol5,x)\n",
    "y6 = np.polyval(pol6,x)\n",
    "y7 = np.polyval(pol7,x)\n",
    "y8 = np.polyval(pol8,x)\n",
    "y9 = np.polyval(pol9,x)\n",
    "y10 = np.polyval(pol10,x)"
   ]
  },
  {
   "cell_type": "code",
   "execution_count": null,
   "metadata": {
    "ExecuteTime": {
     "end_time": "2021-03-12T15:49:36.841884Z",
     "start_time": "2021-03-12T15:49:36.389706Z"
    },
    "slideshow": {
     "slide_type": "-"
    }
   },
   "outputs": [],
   "source": [
    "fig = plt.figure(0)\n",
    "plt.plot(x,y,'--o')\n",
    "#plt.plot(x,y2)\n",
    "#plt.plot(x,y3)\n",
    "#plt.plot(x,y4)\n",
    "#plt.plot(x,y5)\n",
    "#plt.plot(x,y6)\n",
    "#plt.plot(x,y7)\n",
    "#plt.plot(x,y8)\n",
    "#plt.plot(x,y9)\n",
    "#plt.plot(x,y10)"
   ]
  },
  {
   "cell_type": "code",
   "execution_count": null,
   "metadata": {
    "ExecuteTime": {
     "end_time": "2021-03-12T15:52:36.431295Z",
     "start_time": "2021-03-12T15:52:36.418223Z"
    }
   },
   "outputs": [],
   "source": [
    "x2 = np.linspace(0, 100, 100)\n",
    "y21 = np.polyval(pol2,x2)\n",
    "y31 = np.polyval(pol3,x2)\n",
    "y41 = np.polyval(pol4,x2)\n",
    "y51 = np.polyval(pol5,x2)\n",
    "y61 = np.polyval(pol6,x2)\n",
    "y71 = np.polyval(pol7,x2)\n",
    "y81 = np.polyval(pol8,x2)\n",
    "y91 = np.polyval(pol9,x2)\n",
    "y101 = np.polyval(pol10,x2)"
   ]
  },
  {
   "cell_type": "code",
   "execution_count": null,
   "metadata": {
    "ExecuteTime": {
     "end_time": "2021-03-12T15:54:35.203994Z",
     "start_time": "2021-03-12T15:54:34.749382Z"
    }
   },
   "outputs": [],
   "source": [
    "fig = plt.figure(0)\n",
    "#plt.plot(x,y,'--o')\n",
    "#plt.plot(x2,y21)\n",
    "#plt.plot(x2,y31)\n",
    "#plt.plot(x2,y41)\n",
    "#plt.plot(x2,y51)\n",
    "#plt.plot(x2,y61)\n",
    "#plt.plot(x2,y71)\n",
    "#plt.plot(x2,y81)\n",
    "plt.plot(x2,y91)\n",
    "#plt.plot(x2,y101)"
   ]
  },
  {
   "cell_type": "code",
   "execution_count": null,
   "metadata": {
    "ExecuteTime": {
     "end_time": "2021-03-12T15:50:03.683609Z",
     "start_time": "2021-03-12T15:50:03.670927Z"
    },
    "slideshow": {
     "slide_type": "-"
    }
   },
   "outputs": [],
   "source": [
    "y2-y"
   ]
  },
  {
   "cell_type": "code",
   "execution_count": null,
   "metadata": {
    "ExecuteTime": {
     "end_time": "2021-03-12T15:50:07.352498Z",
     "start_time": "2021-03-12T15:50:07.345442Z"
    },
    "slideshow": {
     "slide_type": "-"
    }
   },
   "outputs": [],
   "source": [
    "y3-y"
   ]
  },
  {
   "cell_type": "code",
   "execution_count": null,
   "metadata": {
    "ExecuteTime": {
     "end_time": "2021-03-12T15:50:11.675773Z",
     "start_time": "2021-03-12T15:50:11.668318Z"
    }
   },
   "outputs": [],
   "source": [
    "y4-y"
   ]
  },
  {
   "cell_type": "code",
   "execution_count": null,
   "metadata": {
    "ExecuteTime": {
     "end_time": "2021-03-12T15:50:15.288547Z",
     "start_time": "2021-03-12T15:50:15.281723Z"
    }
   },
   "outputs": [],
   "source": [
    "y5-y"
   ]
  },
  {
   "cell_type": "code",
   "execution_count": null,
   "metadata": {
    "ExecuteTime": {
     "end_time": "2021-03-12T15:50:18.971322Z",
     "start_time": "2021-03-12T15:50:18.959353Z"
    }
   },
   "outputs": [],
   "source": [
    "y6-y"
   ]
  },
  {
   "cell_type": "code",
   "execution_count": null,
   "metadata": {
    "ExecuteTime": {
     "end_time": "2021-03-12T15:50:21.351883Z",
     "start_time": "2021-03-12T15:50:21.343394Z"
    }
   },
   "outputs": [],
   "source": [
    "y7-y"
   ]
  },
  {
   "cell_type": "code",
   "execution_count": null,
   "metadata": {
    "ExecuteTime": {
     "end_time": "2021-03-12T15:50:23.019332Z",
     "start_time": "2021-03-12T15:50:23.011494Z"
    }
   },
   "outputs": [],
   "source": [
    "y8-y"
   ]
  },
  {
   "cell_type": "code",
   "execution_count": null,
   "metadata": {
    "ExecuteTime": {
     "end_time": "2021-03-12T15:50:28.702938Z",
     "start_time": "2021-03-12T15:50:28.694429Z"
    }
   },
   "outputs": [],
   "source": [
    "y9-y"
   ]
  },
  {
   "cell_type": "code",
   "execution_count": null,
   "metadata": {
    "ExecuteTime": {
     "end_time": "2021-03-12T15:50:55.113124Z",
     "start_time": "2021-03-12T15:50:55.094752Z"
    },
    "slideshow": {
     "slide_type": "-"
    }
   },
   "outputs": [],
   "source": [
    "y10-y"
   ]
  },
  {
   "cell_type": "markdown",
   "metadata": {
    "slideshow": {
     "slide_type": "subslide"
    }
   },
   "source": [
    "# Файловый вод/вывод в NumPy\n",
    "\n",
    "При сохранении **ndarray**-массива в файл с использованием специализированных функций пакета **NumPy**, массив сохраняется как одномерный.\n",
    "\n",
    "Бинарные файлы."
   ]
  },
  {
   "cell_type": "code",
   "execution_count": null,
   "metadata": {
    "ExecuteTime": {
     "end_time": "2021-03-12T15:56:18.060623Z",
     "start_time": "2021-03-12T15:56:18.049179Z"
    },
    "slideshow": {
     "slide_type": "-"
    }
   },
   "outputs": [],
   "source": [
    "import numpy as np"
   ]
  },
  {
   "cell_type": "code",
   "execution_count": null,
   "metadata": {
    "ExecuteTime": {
     "end_time": "2021-03-12T15:57:36.532236Z",
     "start_time": "2021-03-12T15:57:36.505903Z"
    },
    "slideshow": {
     "slide_type": "-"
    }
   },
   "outputs": [],
   "source": [
    "a = np.array([[11,12,13],[0,22,23],[31,32,33]])\n",
    "print (\" a = {} \".format (a));\n",
    "a.tofile( 'a.bin')\n",
    "b = np.fromfile('a.bin')\n",
    "print (\" b = {} \".format(b));"
   ]
  },
  {
   "cell_type": "code",
   "execution_count": null,
   "metadata": {
    "ExecuteTime": {
     "end_time": "2021-03-12T15:58:39.670168Z",
     "start_time": "2021-03-12T15:58:39.659331Z"
    },
    "slideshow": {
     "slide_type": "-"
    }
   },
   "outputs": [],
   "source": [
    "c = np.fromfile( 'a.bin', int)\n",
    "print (\" c = {} \".format(c));\n",
    "c.shape=(3 ,3)\n",
    "print (\" c = {} \".format(c));"
   ]
  },
  {
   "cell_type": "markdown",
   "metadata": {
    "slideshow": {
     "slide_type": "-"
    }
   },
   "source": [
    "Текстовые файлы допускают форматированный ввод/вывод\n",
    "\n",
    "**``.tofile(<имяфайла>,sep=<разделитель>)``** \n",
    "\n",
    "**``.fromfile(<имяфайла>,type =<тип>,sep=<разделитель>)``**\n",
    "\n"
   ]
  },
  {
   "cell_type": "code",
   "execution_count": null,
   "metadata": {
    "slideshow": {
     "slide_type": "-"
    }
   },
   "outputs": [],
   "source": [
    "import numpy as np"
   ]
  },
  {
   "cell_type": "code",
   "execution_count": null,
   "metadata": {
    "ExecuteTime": {
     "end_time": "2021-03-12T16:03:40.258015Z",
     "start_time": "2021-03-12T16:03:40.243471Z"
    },
    "slideshow": {
     "slide_type": "-"
    }
   },
   "outputs": [],
   "source": [
    "a = np.array([[11,12,13],[0,22,23],[31,32,33]])\n",
    "print (\" a = {} \".format(a));\n",
    "a.tofile( 'a.txt', sep = '\\t')\n",
    "b = np.fromfile( 'a.txt', int, sep='\\t')\n",
    "print (\" b = {} \".format(b));\n",
    "b.shape=(3,3)\n",
    "print (\" b = {} \".format(b));"
   ]
  },
  {
   "cell_type": "markdown",
   "metadata": {},
   "source": [
    "# Форматы хранения данных NumPy\n",
    "\n",
    "При работе с данными часто возникает необходимость читать данные, например из CSV-файла,  и создавать **NumPy**-объект типа **ndarray**. Чтение данных из CSV-файла на локальном, и тем более удаленном, диске является процедурой с большими накладными расходами. Для улучшения ситауции при необходимости многократного обмена данными с диском, в пакете **NumPy** реализован специальный формат хранения данных **npy**.\n",
    "\n",
    "Файл в формате **.npy** - это стандартный бинарный файл для хранения **одного** произвольного **NumPy**-массива на диске. Формат хранит всю необходимую информацию о типе данных и форме массива, необходимую для правильного восстановления массива (даже на другой архитектуре). "
   ]
  },
  {
   "cell_type": "code",
   "execution_count": null,
   "metadata": {
    "ExecuteTime": {
     "end_time": "2021-03-12T16:08:49.969287Z",
     "start_time": "2021-03-12T16:08:49.363780Z"
    }
   },
   "outputs": [],
   "source": [
    "# Обязательно перезапустить ядро\n",
    "import numpy as np\n",
    "import time\n",
    "import matplotlib.pyplot as plt\n"
   ]
  },
  {
   "cell_type": "code",
   "execution_count": null,
   "metadata": {
    "ExecuteTime": {
     "end_time": "2021-03-12T16:09:58.691441Z",
     "start_time": "2021-03-12T16:09:58.687527Z"
    }
   },
   "outputs": [],
   "source": [
    "# Число сэмплов\n",
    "n_samples=1000000"
   ]
  },
  {
   "cell_type": "code",
   "execution_count": null,
   "metadata": {
    "ExecuteTime": {
     "end_time": "2021-03-12T16:14:50.468657Z",
     "start_time": "2021-03-12T16:14:46.279738Z"
    }
   },
   "outputs": [],
   "source": [
    "# создание файла данных\n",
    "with open('Data/data.csv', 'w') as data:\n",
    "    for _ in range(n_samples):\n",
    "        data.write(str(10*np.random.random())+',')"
   ]
  },
  {
   "cell_type": "code",
   "execution_count": null,
   "metadata": {
    "ExecuteTime": {
     "end_time": "2021-03-12T16:18:44.188037Z",
     "start_time": "2021-03-12T16:18:42.465265Z"
    }
   },
   "outputs": [],
   "source": [
    "t1=time.time()\n",
    "array_direct = np.fromfile('Data/data.csv',dtype=float, count=-1,sep=',').reshape(1000,1000)\n",
    "t2=time.time()\n",
    "print(array_direct)\n",
    "print('\\nShape: ',array_direct.shape)\n",
    "print(f\"Time to read: {t2-t1} seconds.\")"
   ]
  },
  {
   "cell_type": "code",
   "execution_count": null,
   "metadata": {
    "ExecuteTime": {
     "end_time": "2021-03-12T16:22:18.886865Z",
     "start_time": "2021-03-12T16:22:17.812017Z"
    }
   },
   "outputs": [],
   "source": [
    "t1=time.time()\n",
    "with open('Data/data.csv','r') as data:\n",
    "    datastr=data.read()\n",
    "lst = datastr.split(',')\n",
    "lst.pop()\n",
    "array_lst=np.array(lst,dtype=float).reshape(1000,1000)\n",
    "t2=time.time()\n",
    "print(array_lst)\n",
    "print('\\nShape: ',array_lst.shape)\n",
    "print(f\"Time to read: {t2-t1} seconds.\")"
   ]
  },
  {
   "cell_type": "code",
   "execution_count": null,
   "metadata": {
    "ExecuteTime": {
     "end_time": "2021-03-12T16:23:33.377832Z",
     "start_time": "2021-03-12T16:23:33.351462Z"
    }
   },
   "outputs": [],
   "source": [
    "np.save('Data/data.npy',array_lst)"
   ]
  },
  {
   "cell_type": "code",
   "execution_count": null,
   "metadata": {
    "ExecuteTime": {
     "end_time": "2021-03-12T16:25:13.123062Z",
     "start_time": "2021-03-12T16:25:13.023591Z"
    }
   },
   "outputs": [],
   "source": [
    "t1=time.time()\n",
    "array_reloaded = np.load('Data/data.npy')\n",
    "t2=time.time()\n",
    "print(array_reloaded)\n",
    "print('\\nShape: ',array_reloaded.shape)\n",
    "print(f\"Time to load: {t2-t1} seconds.\")"
   ]
  },
  {
   "cell_type": "code",
   "execution_count": null,
   "metadata": {
    "ExecuteTime": {
     "end_time": "2021-03-12T16:26:52.180180Z",
     "start_time": "2021-03-12T16:26:52.154211Z"
    }
   },
   "outputs": [],
   "source": [
    "t1=time.time()\n",
    "array_reloaded = np.load('Data/data.npy').reshape(10000,100)\n",
    "t2=time.time()\n",
    "print(array_reloaded)\n",
    "print('\\nShape: ',array_reloaded.shape)\n",
    "print(f\"Time to load: {t2-t1} seconds.\")"
   ]
  },
  {
   "cell_type": "markdown",
   "metadata": {},
   "source": []
  },
  {
   "cell_type": "code",
   "execution_count": null,
   "metadata": {
    "ExecuteTime": {
     "end_time": "2021-03-12T16:32:12.613647Z",
     "start_time": "2021-03-12T16:28:24.601832Z"
    },
    "scrolled": false
   },
   "outputs": [],
   "source": [
    "n_samples=[100000*i for i in range(1,31)] \n",
    "time_lst_read=[]\n",
    "time_npy_read=[]\n",
    "step = 0\n",
    "for sample_size in n_samples:\n",
    "    step += 1\n",
    "    with open(f'Data/data_{step}.csv', 'w') as data:\n",
    "        for _ in range(sample_size):\n",
    "            data.write(str(10*np.random.random())+',')\n",
    "\n",
    "    t1=time.time()\n",
    "    with open(f'Data/data_{step}.csv','r') as data:\n",
    "        datastr=data.read()\n",
    "    lst = datastr.split(',')\n",
    "    lst.pop()\n",
    "    array_lst=np.array(lst,dtype=float)\n",
    "    t2=time.time()\n",
    "    time_lst_read.append(1000*(t2-t1))\n",
    "    print(\"Array shape:\",array_lst.shape)\n",
    "\n",
    "    np.save(f'Data/data_{step}.npy',array_lst)\n",
    "\n",
    "    t1=time.time()\n",
    "    array_reloaded = np.load(f'Data/data_{step}.npy')\n",
    "    t2=time.time()\n",
    "    time_npy_read.append(1000*(t2-t1))\n",
    "    print(\"Array shape:\",array_reloaded.shape)\n",
    "    \n",
    "    print(f\"Done for {sample_size} samples\\n\")"
   ]
  },
  {
   "cell_type": "code",
   "execution_count": null,
   "metadata": {
    "ExecuteTime": {
     "end_time": "2021-03-12T16:34:22.625537Z",
     "start_time": "2021-03-12T16:34:22.056120Z"
    }
   },
   "outputs": [],
   "source": [
    "plt.figure(figsize=(8,5))\n",
    "#plt.yscale('log')\n",
    "plt.scatter(n_samples,time_lst_read)\n",
    "plt.scatter(n_samples,time_npy_read)\n",
    "plt.legend(['Simple read from CSV','Read from .npy'])\n",
    "plt.ylim([0,25])\n",
    "plt.show()\n"
   ]
  },
  {
   "cell_type": "markdown",
   "metadata": {
    "slideshow": {
     "slide_type": "-"
    }
   },
   "source": [
    "В пакете ***NumPy*** представлены функции для сохранения нескольких массивов в один файл.\n",
    "Например, функция ***``savez``*** позволяет сохранить данные из разных массивов в один файл, с расширением ***.npz***, без сжатия."
   ]
  },
  {
   "cell_type": "code",
   "execution_count": null,
   "metadata": {
    "ExecuteTime": {
     "end_time": "2021-03-19T13:35:30.662760Z",
     "start_time": "2021-03-19T13:35:30.009672Z"
    },
    "slideshow": {
     "slide_type": "-"
    }
   },
   "outputs": [],
   "source": [
    "import numpy as np\n",
    "import matplotlib.pyplot as plt\n",
    "from mpl_toolkits.mplot3d import Axes3D\n",
    "%matplotlib notebook"
   ]
  },
  {
   "cell_type": "code",
   "execution_count": null,
   "metadata": {
    "ExecuteTime": {
     "end_time": "2021-03-19T13:37:27.421411Z",
     "start_time": "2021-03-19T13:37:23.102459Z"
    },
    "slideshow": {
     "slide_type": "-"
    }
   },
   "outputs": [],
   "source": [
    "# создаем массивы разбиения по координатам\n",
    "x = np.linspace(-6, 6, 120)\n",
    "y = np.linspace(-6, 6, 120)\n",
    "# саздаем объект meshgrid, содержащий узлы сетки в 2D области\n",
    "xgrid , ygrid = np.meshgrid(x, y)\n",
    "# создаем массив знчений заданной функции в узлах сетки\n",
    "zgrid = xgrid**2 - ygrid**2\n",
    "# создаем графический объект\n",
    "frame = plt.figure(figsize=(10,8))\n",
    "# формируем изображение\n",
    "axes = Axes3D(frame)\n",
    "axes.plot_surface(xgrid, ygrid, zgrid,\n",
    "cmap='hot', linewidth=0.5, rstride=1, cstride=1)\n",
    "axes.set_xlabel('$X$')\n",
    "axes.set_ylabel('$Y$')\n",
    "axes.set_zlabel('$Z$')\n",
    "axes.set_title('$F(X,Y)=X^2 - Y^2$')\n",
    "plt.show()"
   ]
  },
  {
   "cell_type": "code",
   "execution_count": null,
   "metadata": {
    "ExecuteTime": {
     "end_time": "2021-03-19T13:38:09.331181Z",
     "start_time": "2021-03-19T13:38:09.319116Z"
    },
    "slideshow": {
     "slide_type": "-"
    }
   },
   "outputs": [],
   "source": [
    "np.savez(\"Data/Data1.npz\",x=xgrid,y=ygrid,z=zgrid)"
   ]
  },
  {
   "cell_type": "code",
   "execution_count": null,
   "metadata": {
    "ExecuteTime": {
     "end_time": "2021-03-19T13:38:33.586642Z",
     "start_time": "2021-03-19T13:38:33.562093Z"
    }
   },
   "outputs": [],
   "source": [
    "x"
   ]
  },
  {
   "cell_type": "markdown",
   "metadata": {
    "slideshow": {
     "slide_type": "-"
    }
   },
   "source": [
    "Функция ***``savez_compressed``*** позволяет сохранить данные из разных массивов в один файл, с расширением ***.npz***, с сжатием, что позволяет существенно экогомить дисковое пространство."
   ]
  },
  {
   "cell_type": "code",
   "execution_count": null,
   "metadata": {
    "ExecuteTime": {
     "end_time": "2021-03-19T13:39:26.188844Z",
     "start_time": "2021-03-19T13:39:26.165600Z"
    },
    "slideshow": {
     "slide_type": "-"
    }
   },
   "outputs": [],
   "source": [
    "np.savez_compressed(\"Data/Data1_Compressed.npz\",x=xgrid,y=ygrid,z=zgrid)"
   ]
  },
  {
   "cell_type": "code",
   "execution_count": null,
   "metadata": {
    "ExecuteTime": {
     "end_time": "2021-03-19T13:40:58.441562Z",
     "start_time": "2021-03-19T13:40:58.434486Z"
    },
    "slideshow": {
     "slide_type": "-"
    }
   },
   "outputs": [],
   "source": [
    "# считываем данные из файла\n",
    "data1 = np.load(\"Data/Data1.npz\")"
   ]
  },
  {
   "cell_type": "code",
   "execution_count": null,
   "metadata": {
    "ExecuteTime": {
     "end_time": "2021-03-19T13:41:24.711241Z",
     "start_time": "2021-03-19T13:41:24.699424Z"
    },
    "slideshow": {
     "slide_type": "-"
    }
   },
   "outputs": [],
   "source": [
    "data1['x']"
   ]
  },
  {
   "cell_type": "code",
   "execution_count": null,
   "metadata": {
    "ExecuteTime": {
     "end_time": "2021-03-19T13:41:52.522917Z",
     "start_time": "2021-03-19T13:41:48.963411Z"
    },
    "slideshow": {
     "slide_type": "-"
    }
   },
   "outputs": [],
   "source": [
    "frame = plt.figure(figsize=(10,8))\n",
    "axes = Axes3D(frame)\n",
    "axes.plot_surface(data1['x'], data1['y'], data1['z'],\n",
    "cmap='hot' , linewidth=0.5, rstride=1, cstride=1)\n",
    "axes.set_xlabel('$X$')\n",
    "axes.set_ylabel('$Y$')\n",
    "axes.set_zlabel('$Z$')\n",
    "axes.set_title('$F(X,Y)=X^2 - Y^2$')\n",
    "plt.show()"
   ]
  },
  {
   "cell_type": "code",
   "execution_count": null,
   "metadata": {
    "ExecuteTime": {
     "end_time": "2021-03-19T13:45:32.854664Z",
     "start_time": "2021-03-19T13:45:32.848666Z"
    },
    "slideshow": {
     "slide_type": "-"
    }
   },
   "outputs": [],
   "source": [
    "data2 = np.load(\"Data/Data1_Compressed.npz\")"
   ]
  },
  {
   "cell_type": "code",
   "execution_count": null,
   "metadata": {
    "ExecuteTime": {
     "end_time": "2021-03-19T13:45:38.264386Z",
     "start_time": "2021-03-19T13:45:34.549176Z"
    },
    "slideshow": {
     "slide_type": "-"
    }
   },
   "outputs": [],
   "source": [
    "frame = plt.figure(figsize=(10,8))\n",
    "axes = Axes3D(frame)\n",
    "axes.plot_surface(data2['x'], data2['y'], data2['z'],\n",
    "cmap='hot' , linewidth=0.5, rstride=1, cstride=1)\n",
    "axes.set_xlabel('$X$')\n",
    "axes.set_ylabel('$Y$')\n",
    "axes.set_zlabel('$Z$')\n",
    "axes.set_title('$F(X,Y)=X^2 - Y^2$')\n",
    "plt.show()"
   ]
  },
  {
   "cell_type": "code",
   "execution_count": null,
   "metadata": {},
   "outputs": [],
   "source": []
  },
  {
   "cell_type": "markdown",
   "metadata": {},
   "source": [
    "<p style=\"text-align: center; font-size: 24pt; font-weight: bold; color: rgb(0, 0, 190); padding: 20px; margin-top: -1%;\">Задача N тел: использование пакета NumPy</p>\n",
    "\n",
    "Рассмотрим прграммную реализацию решения задачи **N-тел** средствами пакета **NumPy**. Как уже отмечалось, реализованные в пакете **NumPy** структуры данных позволяют проводить обработку массивов без явного описания циклов перебора индексов, что может приводить к ускорению процесса обработки данных. Для обеспечения возможности применения алгоритмов ко всему массиву данных, описывающих модельные частицы, желательно исключить проверки совпадения индексов. Для этого существует несколоько способов."
   ]
  },
  {
   "cell_type": "code",
   "execution_count": null,
   "metadata": {
    "ExecuteTime": {
     "end_time": "2021-03-19T14:04:56.387787Z",
     "start_time": "2021-03-19T14:04:56.131767Z"
    },
    "slideshow": {
     "slide_type": "subslide"
    }
   },
   "outputs": [],
   "source": [
    "# импортируем необходимые пакеты и  функции\n",
    "from mpi4py import MPI\n",
    "import numpy as np\n",
    "import matplotlib as mpl\n",
    "from matplotlib import pyplot as plt\n",
    "from matplotlib import cm\n",
    "import os, sys, glob\n",
    "from PIL import Image\n",
    "import h5py\n",
    "%matplotlib inline"
   ]
  },
  {
   "cell_type": "code",
   "execution_count": null,
   "metadata": {
    "ExecuteTime": {
     "end_time": "2021-03-19T14:04:57.655367Z",
     "start_time": "2021-03-19T14:04:57.641575Z"
    },
    "slideshow": {
     "slide_type": "-"
    }
   },
   "outputs": [],
   "source": [
    "# гравитационная постоянная м^3 кг^-1 с^-2\n",
    "G = 6.67408E-11 \n",
    "# размер области 2L x 2L x 2L\n",
    "L = 1E6\n",
    "# радиус частиц\n",
    "R = 5E3\n",
    "# плотность\n",
    "rho = 2.5E3\n",
    "# число частиц\n",
    "N = 100\n",
    "# Моделируемый отрезок времени\n",
    "T0 = 1E+6\n",
    "# Число шагов по времени\n",
    "NTSteps = 50000\n",
    "# Интервал между визуализациями данных\n",
    "VizStep = 1000\n",
    "# Шаг по времени\n",
    "dT = T0/NTSteps\n",
    "# размерность пространства\n",
    "D = 3"
   ]
  },
  {
   "cell_type": "code",
   "execution_count": null,
   "metadata": {
    "ExecuteTime": {
     "end_time": "2021-03-19T14:04:58.820860Z",
     "start_time": "2021-03-19T14:04:58.807550Z"
    },
    "slideshow": {
     "slide_type": "-"
    }
   },
   "outputs": [],
   "source": [
    "# функция для измерения времени выполнения\n",
    "def How_Long(func, args):\n",
    "    start = MPI.Wtime()\n",
    "    func(*args)\n",
    "    stop = MPI.Wtime()        \n",
    "    hrs = (stop - start)//(60*60)\n",
    "    mns = ((stop - start) - hrs*60*60)//60\n",
    "    scs = ((stop - start) - hrs*60*60 - mns*60)\n",
    "    print (\" {} hour {} min {} sec \\n \".format(hrs,mns,scs))\n",
    "    \n",
    "    return hrs, mns, scs, stop - start\n",
    "    "
   ]
  },
  {
   "cell_type": "code",
   "execution_count": null,
   "metadata": {
    "ExecuteTime": {
     "end_time": "2021-03-19T14:04:59.954013Z",
     "start_time": "2021-03-19T14:04:59.937095Z"
    },
    "slideshow": {
     "slide_type": "-"
    }
   },
   "outputs": [],
   "source": [
    "# Определение ускорения i-й частицы\n",
    "def a(i, x, G, m):\n",
    "    x_i = x[i]\n",
    "    x_j = np.delete(x, i,axis=0)\n",
    "    m_j = np.delete(m, i,axis=0)\n",
    "    diff = x_j - x_i\n",
    "    dr3 = np.sum(diff**2, axis=1)**1.5\n",
    "    magn = G * np.sum(diff * (m_j / dr3)[:,np.newaxis], axis=0)\n",
    "    return magn\n"
   ]
  },
  {
   "cell_type": "code",
   "execution_count": null,
   "metadata": {
    "ExecuteTime": {
     "end_time": "2021-03-19T14:05:01.060620Z",
     "start_time": "2021-03-19T14:05:01.044972Z"
    },
    "slideshow": {
     "slide_type": "-"
    }
   },
   "outputs": [],
   "source": [
    "# Вычисление нового положения и скоростей чистиц по уже известным и шагу по времени\n",
    "def timestep(x0, v0, G, m, dt):\n",
    "    N = len(x0)\n",
    "    x1 = np.empty(x0.shape, dtype=float)\n",
    "    v1 = np.empty(v0.shape, dtype=float)\n",
    "    for i in range(N):\n",
    "        a_i0 = a(i, x0, G, m)\n",
    "        v1[i] = a_i0 * dt + v0[i]\n",
    "        x1[i] = v1[i] * dt + x0[i]\n",
    "         \n",
    "    return x1, v1\n"
   ]
  },
  {
   "cell_type": "code",
   "execution_count": null,
   "metadata": {},
   "outputs": [],
   "source": []
  },
  {
   "cell_type": "code",
   "execution_count": null,
   "metadata": {
    "ExecuteTime": {
     "end_time": "2021-03-19T14:05:03.217798Z",
     "start_time": "2021-03-19T14:05:03.194783Z"
    }
   },
   "outputs": [],
   "source": [
    "def Viz(Crds):\n",
    "    mpl.rcParams['figure.figsize'] = (24.0, 8.0)\n",
    "    mpl.rcParams['figure.dpi'] = 300\n",
    "    #plt.figure(figsize=(24.0, 8.0)) \n",
    "    fig, _ = plt.subplots(ncols=3)\n",
    "    X = Crds[:,0]\n",
    "    Y = Crds[:,1]\n",
    "    Z = Crds[:,2]\n",
    "    plt.subplot(131)\n",
    "    plt.title('View From X Axis')\n",
    "    plt.xlabel('Y')\n",
    "    plt.ylabel('Z')\n",
    "    plt.scatter(Y, Z, cmap=cm.hot)\n",
    "    plt.xlim([-L,L])\n",
    "    plt.ylim([-L,L])\n",
    "    plt.subplot(132)\n",
    "    plt.title('View From Y Axis')\n",
    "    plt.xlabel('X')\n",
    "    plt.ylabel('Z')\n",
    "    plt.scatter(X, Z, cmap=cm.hot)\n",
    "    plt.xlim([-L,L])\n",
    "    plt.ylim([-L,L])\n",
    "    plt.subplot(133)\n",
    "    plt.title('View From Z Axis')\n",
    "    plt.xlabel('X')\n",
    "    plt.ylabel('Y')    \n",
    "    plt.scatter(X, Y, cmap=cm.hot)\n",
    "    plt.xlim([-L,L])\n",
    "    plt.ylim([-L,L])\n",
    "    fig.canvas.draw()\n",
    "    data = np.fromstring(fig.canvas.tostring_rgb(), dtype=np.uint8, sep='')\n",
    "    data = data.reshape(fig.canvas.get_width_height()[::-1] + (3,))    \n",
    "    plt.close()\n",
    "    return data"
   ]
  },
  {
   "cell_type": "code",
   "execution_count": null,
   "metadata": {
    "ExecuteTime": {
     "end_time": "2021-03-19T14:05:04.255847Z",
     "start_time": "2021-03-19T14:05:04.235928Z"
    }
   },
   "outputs": [],
   "source": [
    "def nbody_numpy(NT, dt, crds, vls, mss, rds):  \n",
    "\n",
    "    fn = os.path.join(\"WORK_SPACE\",\"ResNBody_NumPy\",\"NBody_NumPy.hdf5\")\n",
    "    f = h5py.File(fn, \"r+\")\n",
    "\n",
    "    for step in range(1, NT + 1, 1):\n",
    "        x, v = timestep(crds, vls, G, mss, dt)\n",
    "        if step % VizStep == 0:\n",
    "            print (\"STEP: {}\".format(step))\n",
    "            VizArr = Viz(crds)\n",
    "            f.create_group('Time_Step_{}'.format(step))\n",
    "            f.create_dataset(\"Time_Step_{}/positions\".format(step), data=x, dtype='float', \n",
    "                             compression=\"gzip\", compression_opts=9)\n",
    "            f.create_dataset(\"Time_Step_{}/velocities\".format(step), data=v, dtype='float', \n",
    "                             compression=\"gzip\", compression_opts=9)\n",
    "            f.create_dataset(\"Time_Step_{}/masses\".format(step), data=mss, dtype='float', \n",
    "                             compression=\"gzip\", compression_opts=9)\n",
    "            f.create_dataset(\"Time_Step_{}/radii\".format(step), data=rds, dtype='float', \n",
    "                             compression=\"gzip\", compression_opts=9)\n",
    "            f.create_dataset(\"Time_Step_{}/pic\".format(step), data=VizArr, dtype=np.uint8, \n",
    "                             compression=\"gzip\", compression_opts=9)\n",
    "                 \n",
    "\n",
    "        crds, vls = x[:], v[:]\n",
    "\n",
    "    f.close()\n",
    "    "
   ]
  },
  {
   "cell_type": "code",
   "execution_count": null,
   "metadata": {
    "ExecuteTime": {
     "end_time": "2021-03-19T14:05:05.282743Z",
     "start_time": "2021-03-19T14:05:05.272073Z"
    },
    "slideshow": {
     "slide_type": "-"
    }
   },
   "outputs": [],
   "source": [
    "# Генерация начального состояния системы частиц: N - число частиц, D - размерность пространства\n",
    "def initial_cond(N, D):\n",
    "    x0 = np.random.uniform(-L, L, (N, D))\n",
    "    v0 = np.zeros((N, D), dtype=float)\n",
    "    r0 = np.random.randint(100,R,(N)) \n",
    "    m = rho*(4.0/3.0)*np.pi*r0**3 \n",
    "    return x0, v0, m, r0    "
   ]
  },
  {
   "cell_type": "code",
   "execution_count": null,
   "metadata": {},
   "outputs": [],
   "source": []
  },
  {
   "cell_type": "code",
   "execution_count": null,
   "metadata": {
    "ExecuteTime": {
     "end_time": "2021-03-19T11:21:18.209309Z",
     "start_time": "2021-03-19T11:21:18.206409Z"
    }
   },
   "outputs": [],
   "source": [
    "# Генерация начального состояния системы\n",
    "# coords, vels, mass, rads = initial_cond(N, D)  "
   ]
  },
  {
   "cell_type": "code",
   "execution_count": null,
   "metadata": {
    "ExecuteTime": {
     "end_time": "2021-03-19T14:05:14.113702Z",
     "start_time": "2021-03-19T14:05:14.100065Z"
    }
   },
   "outputs": [],
   "source": [
    "# Чтение данных начального состояния системы \n",
    "coords = np.loadtxt(\"WORK_SPACE/coords.dat\")\n",
    "vels = np.loadtxt(\"WORK_SPACE/vels.dat\")\n",
    "mass = np.loadtxt(\"WORK_SPACE/mass.dat\")\n",
    "rads = np.loadtxt(\"WORK_SPACE/rads.dat\")"
   ]
  },
  {
   "cell_type": "code",
   "execution_count": null,
   "metadata": {},
   "outputs": [],
   "source": []
  },
  {
   "cell_type": "code",
   "execution_count": null,
   "metadata": {
    "ExecuteTime": {
     "end_time": "2021-03-19T14:08:57.727684Z",
     "start_time": "2021-03-19T14:08:53.829193Z"
    }
   },
   "outputs": [],
   "source": [
    "VizArr = Viz(coords)\n",
    "fn = os.path.join(\"WORK_SPACE\",\"ResNBody_NumPy\",\"NBody_NumPy.hdf5\")\n",
    "f = h5py.File(fn, \"w\")\n",
    "f.create_group('Model_Parameters')\n",
    "f.create_dataset(\"Model_Parameters/G\", data=G, dtype='float')\n",
    "f.create_dataset(\"Model_Parameters/L\", data=L, dtype='float')\n",
    "f.create_dataset(\"Model_Parameters/R\", data=R, dtype='float')\n",
    "f.create_dataset(\"Model_Parameters/rho\", data=rho, dtype='float')\n",
    "f.create_dataset(\"Model_Parameters/N\", data=N, dtype='int')\n",
    "f.create_dataset(\"Model_Parameters/T0\", data=T0, dtype='float')\n",
    "f.create_dataset(\"Model_Parameters/NTSteps\", data=NTSteps, dtype='int')\n",
    "f.create_dataset(\"Model_Parameters/dT\", data=dT, dtype='float')\n",
    "f.create_dataset(\"Model_Parameters/VizStep\", data=VizStep, dtype='int')\n",
    "f.create_dataset(\"Model_Parameters/D\", data=D, dtype='int')\n",
    "f.create_group('Time_Step_0')\n",
    "f.create_dataset(\"Time_Step_0/positions\", data=coords, dtype='float', compression=\"gzip\", compression_opts=9)\n",
    "f.create_dataset(\"Time_Step_0/velocities\", data=vels, dtype='float', compression=\"gzip\", compression_opts=9)\n",
    "f.create_dataset(\"Time_Step_0/masses\", data=mass, dtype='float', compression=\"gzip\", compression_opts=9)\n",
    "f.create_dataset(\"Time_Step_0/radii\", data=rads, dtype='float', compression=\"gzip\", compression_opts=9)\n",
    "f.create_dataset(\"Time_Step_0/pic\", data=VizArr, dtype=np.uint8, compression=\"gzip\", compression_opts=9)\n",
    "f.close()"
   ]
  },
  {
   "cell_type": "code",
   "execution_count": null,
   "metadata": {
    "ExecuteTime": {
     "end_time": "2021-03-19T14:15:38.191344Z",
     "start_time": "2021-03-19T14:15:11.109162Z"
    }
   },
   "outputs": [],
   "source": [
    "#fn = os.path.join(\"ResNBody_NumPy\",\"NBody_NumPy_ARC.hdf5\")\n",
    "fn1 = os.path.join(\"WORK_SPACE\",\"ResNBody_NumPy\",\"%020d.png\" % 0)\n",
    "f = h5py.File(fn, 'r+')\n",
    "arr = f[\"Time_Step_0/pic\"]\n",
    "plt.imshow(arr)\n",
    "plt.axis('off')\n",
    "plt.margins(0,0)\n",
    "plt.subplots_adjust(top = 1, bottom = 0, right = 1, left = 0, hspace = 0, wspace = 0)\n",
    "plt.savefig(fn1,dpi=300, bbox_inches='tight', pad_inches = 0)\n",
    "fn1 = os.path.join(\"WORK_SPACE\",\"ResNBody_NumPy\",\"%020d.csv\" % 0)\n",
    "np.savetxt(fn1,coords, delimiter=';')\n",
    "fn1 = os.path.join(\"WORK_SPACE\",\"ResNBody_NumPy\",\"%020d_vls.csv\" % 0)\n",
    "np.savetxt(fn1,np.array(vels), delimiter=';')\n",
    "f.close()"
   ]
  },
  {
   "cell_type": "code",
   "execution_count": null,
   "metadata": {
    "ExecuteTime": {
     "end_time": "2021-03-19T11:15:38.909145Z",
     "start_time": "2021-03-19T11:15:09.687726Z"
    }
   },
   "outputs": [],
   "source": []
  },
  {
   "cell_type": "code",
   "execution_count": null,
   "metadata": {
    "ExecuteTime": {
     "end_time": "2021-03-19T14:30:44.892185Z",
     "start_time": "2021-03-19T14:17:22.331495Z"
    }
   },
   "outputs": [],
   "source": [
    "# Моделирование динамики N-тел для NTSteps шагов по времени\n",
    "How_Long(nbody_numpy,[NTSteps, dT, coords, vels, mass, rads])"
   ]
  },
  {
   "cell_type": "code",
   "execution_count": null,
   "metadata": {
    "ExecuteTime": {
     "end_time": "2021-03-19T14:38:39.952063Z",
     "start_time": "2021-03-19T14:38:15.124393Z"
    }
   },
   "outputs": [],
   "source": [
    "#fn = os.path.join(\"ResNBody_NumPy\",\"NBody_NumPy_ARC.hdf5\")\n",
    "fn1 = os.path.join(\"WORK_SPACE\",\"ResNBody_NumPy\",\"%020d.png\" % 50000)\n",
    "f = h5py.File(fn, 'r+')\n",
    "arr = f[\"Time_Step_50000/pic\"]\n",
    "plt.imshow(arr)\n",
    "plt.axis('off')\n",
    "plt.margins(0,0)\n",
    "plt.subplots_adjust(top = 1, bottom = 0, right = 1, left = 0, hspace = 0, wspace = 0)\n",
    "plt.savefig(fn1,dpi=300, bbox_inches='tight', pad_inches = 0)\n",
    "f.close()"
   ]
  },
  {
   "cell_type": "code",
   "execution_count": null,
   "metadata": {
    "ExecuteTime": {
     "end_time": "2021-03-19T11:40:31.012271Z",
     "start_time": "2021-03-19T11:34:10.375103Z"
    },
    "slideshow": {
     "slide_type": "-"
    }
   },
   "outputs": [],
   "source": [
    "# Исследование зависимости времени счета от числа частиц\n",
    "Work_time_numpy = []\n",
    "NArr = np.arange(0,5250,250)\n",
    "NArr[0] = 10\n",
    "# Число шагов по времени\n",
    "NTSteps = 10\n",
    "\n",
    "for n in NArr:\n",
    "    # Генерация начального состояния системы\n",
    "    coords, vels, mass, rads = initial_cond(n, D)    \n",
    "    print (\"Total WorkTime For {} Particles: \".format(n))\n",
    "    Work_time_numpy.append(How_Long(nbody_numpy,[NTSteps, dT, coords, vels, mass, rads]))\n"
   ]
  },
  {
   "cell_type": "code",
   "execution_count": null,
   "metadata": {
    "ExecuteTime": {
     "end_time": "2021-03-19T14:40:37.922472Z",
     "start_time": "2021-03-19T14:40:37.911656Z"
    }
   },
   "outputs": [],
   "source": [
    "WTArr_list = np.loadtxt(\"WORK_SPACE/WorkTime_List.dat\")"
   ]
  },
  {
   "cell_type": "code",
   "execution_count": null,
   "metadata": {
    "ExecuteTime": {
     "end_time": "2021-03-19T11:40:41.105116Z",
     "start_time": "2021-03-19T11:40:41.098904Z"
    },
    "slideshow": {
     "slide_type": "-"
    }
   },
   "outputs": [],
   "source": [
    "WTArr_np = np.array(Work_time_numpy)\n",
    "WTArr_np[:,3].sum()"
   ]
  },
  {
   "cell_type": "code",
   "execution_count": null,
   "metadata": {
    "ExecuteTime": {
     "end_time": "2021-03-19T11:41:11.786103Z",
     "start_time": "2021-03-19T11:41:11.776835Z"
    },
    "slideshow": {
     "slide_type": "-"
    }
   },
   "outputs": [],
   "source": [
    "np.round(WTArr_np[:,3].max()/WTArr_np[:,3].min(), decimals=2)"
   ]
  },
  {
   "cell_type": "code",
   "execution_count": null,
   "metadata": {
    "ExecuteTime": {
     "end_time": "2021-03-19T11:45:23.429543Z",
     "start_time": "2021-03-19T11:45:15.961926Z"
    },
    "slideshow": {
     "slide_type": "-"
    }
   },
   "outputs": [],
   "source": [
    "fig = plt.figure()\n",
    "mpl.rcParams['figure.figsize'] = (9.0, 6.0)\n",
    "ax_01 = plt.axes()\n",
    "line_01, = ax_01.plot(NArr[:np.size(WTArr_np[:,3])],WTArr_np[:,3],'-*', color='g', markersize=5, label=u\"ndarray массив\")\n",
    "ax_01.grid(color = 'b')\n",
    "ax_01.legend(borderaxespad=0.5)\n",
    "plt.title(u'Зависимость времени счета от числа частиц \\n' + r'$\\frac{t_{max}}{t_{min}} = $' + ' {} \\n'.format(np.round(WTArr_np[:,3].max()/WTArr_np[:,3].min(), decimals=2)))\n",
    "ax_01.set_xlabel(u'Число частиц')\n",
    "ax_01.set_ylabel(u'Время счета, сек')\n",
    "plt.savefig(\"WORK_SPACE/ResNBody_NumPy/Time_NumPy.png\",dpi=600, bbox_inches='tight')\n",
    "plt.clf()"
   ]
  },
  {
   "cell_type": "markdown",
   "metadata": {},
   "source": [
    "<img style=\"position: relative; display: inline; margin-top: -2%;\" src=\"WORK_SPACE/ResNBody_NumPy/Time_NumPy.png\" width=\"92.5%\"/> \n"
   ]
  },
  {
   "cell_type": "code",
   "execution_count": null,
   "metadata": {
    "ExecuteTime": {
     "end_time": "2021-03-19T11:42:49.802638Z",
     "start_time": "2021-03-19T11:42:49.795044Z"
    },
    "slideshow": {
     "slide_type": "-"
    }
   },
   "outputs": [],
   "source": [
    "# Оценка отношения скорости счета List vs. NumPy\n",
    "np.round(WTArr_list[:,3].max()/WTArr_np[:,3].max(), decimals=2)"
   ]
  },
  {
   "cell_type": "markdown",
   "metadata": {
    "slideshow": {
     "slide_type": "-"
    }
   },
   "source": [
    "Таким образом, перейдя от использования структуры данных **list** и явных циклов к структурам данных и средствам работы с ними, предоставляемыми пакетом **NumPy**, мы получили выигрыш в десятки раз по времени исполнения."
   ]
  },
  {
   "cell_type": "code",
   "execution_count": null,
   "metadata": {
    "ExecuteTime": {
     "end_time": "2021-03-19T11:44:29.416868Z",
     "start_time": "2021-03-19T11:44:21.790553Z"
    }
   },
   "outputs": [],
   "source": [
    "fig = plt.figure()\n",
    "mpl.rcParams['figure.figsize'] = (9.0, 6.0)\n",
    "ax_01 = plt.axes()\n",
    "line_01, = ax_01.plot(NArr[:np.size(WTArr_list[:,3])],WTArr_list[:,3],'-o', color='r', markersize=5, label=u\"list как массив\")\n",
    "line_02, = ax_01.plot(NArr[:np.size(WTArr_np[:,3])],WTArr_np[:,3],'-*', color='g', markersize=5, label=u\"ndarray массив\")\n",
    "ax_01.grid(color = 'b')\n",
    "ax_01.legend(borderaxespad=0.5)\n",
    "plt.title(u'Зависимость времени счета от числа частиц \\n' + r'$\\frac{list_{max}}{ndarray_{max}} = $' + ' {} \\n'.format(np.round(WTArr_list[:,3].max()/WTArr_np[:,3].max(), decimals=2)))\n",
    "ax_01.set_xlabel(u'Число частиц')\n",
    "ax_01.set_ylabel(u'Время счета, сек')\n",
    "plt.savefig(\"WORK_SPACE/Time_NumPy_vs_List.png\",dpi=600, bbox_inches='tight')\n",
    "plt.clf()"
   ]
  },
  {
   "cell_type": "markdown",
   "metadata": {},
   "source": [
    "<img style=\"position: relative; display: inline; margin-top: -2%;\" src=\"WORK_SPACE/Time_NumPy_vs_List.png\" width=\"72.5%\"/> \n"
   ]
  },
  {
   "cell_type": "code",
   "execution_count": null,
   "metadata": {
    "ExecuteTime": {
     "end_time": "2021-03-19T11:46:33.035001Z",
     "start_time": "2021-03-19T11:46:33.025106Z"
    },
    "slideshow": {
     "slide_type": "-"
    }
   },
   "outputs": [],
   "source": [
    "n = NArr[-1]\n",
    "List_MAX = WTArr_list[-1][3]\n",
    "WTArr_list[-1]"
   ]
  },
  {
   "cell_type": "code",
   "execution_count": null,
   "metadata": {
    "ExecuteTime": {
     "end_time": "2021-03-19T12:28:12.827841Z",
     "start_time": "2021-03-19T11:46:34.517964Z"
    },
    "scrolled": false,
    "slideshow": {
     "slide_type": "-"
    }
   },
   "outputs": [],
   "source": [
    "curT = 0\n",
    "while curT <= List_MAX:\n",
    "    n += 1000\n",
    "    coords, vels, mass, rads = initial_cond(n, D)    \n",
    "    print (\"Total WorkTime For {} Particles: \".format(n))\n",
    "    Work_time_numpy.append(How_Long(nbody_numpy,[NTSteps, dT, coords, vels, mass, rads]))\n",
    "    curT = Work_time_numpy[-1][3]"
   ]
  },
  {
   "cell_type": "code",
   "execution_count": null,
   "metadata": {},
   "outputs": [],
   "source": []
  },
  {
   "cell_type": "markdown",
   "metadata": {
    "slideshow": {
     "slide_type": "slide"
    }
   },
   "source": [
    "<p style=\"text-align: center; font-size: 64pt; font-weight: bold; color: rgb(0, 0, 190); padding: 20px; margin-top: 1%;\">Пакет SciPy</p>\n",
    "<p style=\"text-align: center; font-size: 72pt; font-weight: bold; color: rgb(0, 0, 190); padding: 20px; margin-top: -2%;\">\n",
    "<center>\n",
    "<img src=\"Images/scipy_logo.png\" width=\"480\" />\n",
    "</center>\n",
    "</p>"
   ]
  },
  {
   "cell_type": "markdown",
   "metadata": {
    "slideshow": {
     "slide_type": "-"
    }
   },
   "source": [
    "Пакет ***SciPy*** предоставляет пользователю широкий набор функций, применяемых в различных областях численного моделрования и обработки данных. Как и многие другие пакеты платформы ***Python***, пакет ***SciPy*** организован в виде структуры разделов, содержащих функции сгруппированные по областям исследований: интегрирование, интерполирование, преобразования и анализа функций. К ниаболее употребляемым разделам пакета ***SciPy*** относятся:\n",
    "- математические и физические константы (scipy.constants)\n",
    "- специальные функции (scipy.special)\n",
    "- интегрирование (scipy.integrate)\n",
    "- оптимизация (scipy.optimize)\n",
    "- интерполяция (scipy.interpolate)\n",
    "- преобразование Фурье (scipy.fftpack)\n",
    "- обработка сигналов (scipy.signal)\n",
    "- линейная алгебра (scipy.linalg)\n",
    "- алгоритмы работы с многомерными структурами (scipy.spatial)\n",
    "- статистика (scipy.stats)\n",
    "- обработка изображений (scipy.ndimage)\n",
    "- работа с потоками ввода/вывода (scipy.io)\n",
    "- и др.\n",
    "\n",
    "Модули ***SciPy*** оптимизированы и протестированы. Следовательно, использование их весьма выгодно с точки зрения улучшения производительности научных исследований и инженерных работ. Пакет ***SciPy*** написан поверх пакета ***NumPy***, существенно расширяя его функциональность. \n"
   ]
  },
  {
   "cell_type": "markdown",
   "metadata": {
    "slideshow": {
     "slide_type": "subslide"
    }
   },
   "source": [
    "# Численное интегрирование\n",
    "\n",
    "В разделе **``scipy.integrate``** сгруппированны функции, реализующие наиболее употребимые численные алгоритмы, включая интегратор для обыкновенных дифференциальных уравнений; несколько методов интегрирования функций, заданных выражениями; интегрирование функций, заданных таблично.\n",
    "\n",
    "Интегрирование функций\n",
    "- **``quad``**: вычисление одинарных интегралов\n",
    "- **``dblquad``**: вычисление двойных интегралов\n",
    "- **``tplquad``**: вычисление тройных интегралов\n",
    "- **``nquad``**: вычисление n-кратных интегралов\n",
    "- **``fix_quad``**: вычисление интегралов с помощью квадратуры Гаусса n-го поорядка\n",
    "- **``quadrature``**: вычисление интегралов с помощью квадратуры Гаусса с заданной точностью\n",
    "- **``romberg``**: вычисление интегралов методом Ромберга\n",
    "- **``cumtrapz``**: вычисление интегралов, для функций заданныхтабдично, методом трапеций\n",
    "- **``simps``**: вычисление интегралов, для функций заданныхтабдично, методом Симпсона\n",
    "- **``romb``**: вычисление интегралов, для функций заданныхтабдично, методом Ромберга\n",
    "\n",
    "Интегрирование ОДУ и их систем\n",
    "- **``odeint``**: интегрирование систем ОДУ\n",
    "- **``ode``**: интегрирование ОДУ (алгоритмы VODE : Real-valued Variable-coefficient Ordinary Differential Equation solver и ZVODE : Complex-valued Variable-coefficient Ordinary Differential Equation solver) \n",
    "- **``complex_ode``**: интегрирование комплексных систем ОДУ\n",
    "- **``solve_bvp``**: решение граничных задач для систем ОДУ\n",
    "\n",
    "\n",
    "\n",
    "\n",
    "\n",
    "\n",
    "\n"
   ]
  },
  {
   "cell_type": "markdown",
   "metadata": {
    "slideshow": {
     "slide_type": "subslide"
    }
   },
   "source": [
    "## Функции **``quad``** и  **``dblquad``**\n",
    "\n",
    "Функция **``quad``** выполняет общее интегрирование функции одной переменной между двумя точками в диапазоне от плюс до минус бесконечности. Рассмотрим применение функции **``quad``** для вычисления интеграла от функции Бесселя первого рода на интервалле от 0 до 20. Функция Бесселя первого рода определена в разделе **``scipy.special``**. "
   ]
  },
  {
   "cell_type": "code",
   "execution_count": null,
   "metadata": {
    "ExecuteTime": {
     "end_time": "2021-03-19T15:03:14.410422Z",
     "start_time": "2021-03-19T15:03:14.004071Z"
    },
    "slideshow": {
     "slide_type": "-"
    }
   },
   "outputs": [],
   "source": [
    "import numpy as np\n",
    "from scipy import special\n",
    "from scipy import integrate"
   ]
  },
  {
   "cell_type": "code",
   "execution_count": null,
   "metadata": {
    "ExecuteTime": {
     "end_time": "2021-03-19T15:05:55.318429Z",
     "start_time": "2021-03-19T15:05:55.309626Z"
    },
    "slideshow": {
     "slide_type": "-"
    }
   },
   "outputs": [],
   "source": [
    "result = integrate.quad(lambda x: special.jv(4,x), 0, 20)\n",
    "print (result)"
   ]
  },
  {
   "cell_type": "markdown",
   "metadata": {
    "slideshow": {
     "slide_type": "-"
    }
   },
   "source": [
    "Другой пример итеграл Гаусса\n",
    "$$\n",
    " \\int\\limits^{\\infty}_{-\\infty} e^{-x^{2}} dx = \\sqrt \\pi \n",
    "$$"
   ]
  },
  {
   "cell_type": "code",
   "execution_count": null,
   "metadata": {
    "ExecuteTime": {
     "end_time": "2021-03-19T15:07:27.433228Z",
     "start_time": "2021-03-19T15:07:27.424560Z"
    },
    "slideshow": {
     "slide_type": "-"
    }
   },
   "outputs": [],
   "source": [
    "print (\"Интеграл Гаусса: \", integrate.quad(lambda x: np.exp(-x**2),-np.inf, np.inf))\n",
    "print (np.sqrt(np.pi))"
   ]
  },
  {
   "cell_type": "markdown",
   "metadata": {
    "slideshow": {
     "slide_type": "-"
    }
   },
   "source": [
    "В случаях, когда для интегрируемой функции требуются дополнительные параметры, такие как коэффициенты или показатели степени для переменных, то эти параметры могут передаваться как аргументы. Однако, это может замедлять вычисление интеграла."
   ]
  },
  {
   "cell_type": "code",
   "execution_count": null,
   "metadata": {
    "ExecuteTime": {
     "end_time": "2021-03-19T15:08:53.430426Z",
     "start_time": "2021-03-19T15:08:53.419303Z"
    },
    "slideshow": {
     "slide_type": "-"
    }
   },
   "outputs": [],
   "source": [
    "import numpy as np\n",
    "from scipy.integrate import quad"
   ]
  },
  {
   "cell_type": "code",
   "execution_count": null,
   "metadata": {
    "ExecuteTime": {
     "end_time": "2021-03-19T15:09:32.352648Z",
     "start_time": "2021-03-19T15:09:32.344611Z"
    },
    "slideshow": {
     "slide_type": "-"
    }
   },
   "outputs": [],
   "source": [
    "def integrand(x, a, b, c, n):\n",
    "    return a*x**n+b*x+c"
   ]
  },
  {
   "cell_type": "code",
   "execution_count": null,
   "metadata": {
    "ExecuteTime": {
     "end_time": "2021-03-19T15:10:21.339733Z",
     "start_time": "2021-03-19T15:10:21.326014Z"
    },
    "slideshow": {
     "slide_type": "-"
    }
   },
   "outputs": [],
   "source": [
    "a = 35\n",
    "b = 14\n",
    "c = 10\n",
    "n = 2\n",
    "result = quad(integrand, 0,np.inf, args=(a,b,c,n))\n",
    "print (result)"
   ]
  },
  {
   "cell_type": "markdown",
   "metadata": {
    "slideshow": {
     "slide_type": "-"
    }
   },
   "source": [
    "Вычисление двойного интеграла рассмотрим на примере\n",
    "$$\n",
    " \\iint\\limits_{\\Omega} \\left( 6xy^{2} - 12x^{2}y  \\right) dxdy\n",
    "$$\n",
    "Область $\\Omega$ - квадрат от 0 до 1 по x и от 2 до 3 по y.\n",
    "\n",
    "Ответ: 9\n"
   ]
  },
  {
   "cell_type": "code",
   "execution_count": null,
   "metadata": {
    "ExecuteTime": {
     "end_time": "2021-03-19T15:10:59.852193Z",
     "start_time": "2021-03-19T15:10:59.844942Z"
    },
    "slideshow": {
     "slide_type": "-"
    }
   },
   "outputs": [],
   "source": [
    "import numpy as np\n",
    "from scipy.integrate import quad, dblquad"
   ]
  },
  {
   "cell_type": "code",
   "execution_count": null,
   "metadata": {
    "ExecuteTime": {
     "end_time": "2021-03-19T15:13:09.476300Z",
     "start_time": "2021-03-19T15:13:09.465162Z"
    },
    "slideshow": {
     "slide_type": "-"
    }
   },
   "outputs": [],
   "source": [
    "def integrand1 (x, y):\n",
    "    return 6.0*x*y**2 - 12.0*x**2*y"
   ]
  },
  {
   "cell_type": "code",
   "execution_count": null,
   "metadata": {
    "ExecuteTime": {
     "end_time": "2021-03-19T15:13:10.904489Z",
     "start_time": "2021-03-19T15:13:10.876576Z"
    },
    "slideshow": {
     "slide_type": "-"
    }
   },
   "outputs": [],
   "source": [
    "result = dblquad(lambda x, y: integrand1(x, y), 2, 3, lambda x: 0, lambda x: 1)\n",
    "result"
   ]
  },
  {
   "cell_type": "markdown",
   "metadata": {
    "slideshow": {
     "slide_type": "-"
    }
   },
   "source": [
    "### Обыкновенные Дифференциальные Уравнения\n",
    "Входящие в состав пакета **``scipy.integrate``** функции **``ode``** и **``odeint``** предназначены для решения задачи Коши для одномерных обыкновенных дифференциальных уравнений первого порядка и их систем. Хотя функция **``ode``** более унивепсальна, функция **``odeint``** имеет более простой интерфейс и используется чаще."
   ]
  },
  {
   "cell_type": "markdown",
   "metadata": {
    "slideshow": {
     "slide_type": "-"
    }
   },
   "source": [
    "### Пример № 1 : Аттрактор Лоренца\n",
    "\n",
    "Аттрактор Лоренца - это первая динамическая система со странным аттрактором, предложенная в 1963 году американским метеорологом Э.Лоренцем в качестве модели турбулентности.\n",
    "$$\n",
    "\\frac{dx}{dt} = \\sigma \\left( x - y \\right) \\\\\n",
    "\\frac{dy}{dt} = - xz + \\mu x - y \\\\\n",
    "\\frac{dz}{dt} = xy - bz \n",
    "$$\n",
    "\n",
    "В модели Лоренца присутствуют три неизвестных функции x(t), y(t) и z(t), а также несколько параметров. Будем рассматривать как главный управляющий параметр - параметр $\\mu$. При плавном изменении этого параметра динамическая система будет менять тип своего аттрактора. При одних значениях параметра $\\mu$ система будет иметь устойчивую предельную точку, а при других значениях $\\mu$, больших некоторого бифуркационного значения $\\tilde \\mu$, система будет иметь решение c весьма замечательными свойствами. Система Лоренца замечательна тем, что предлагает модель ламинарно-турбулентного перехода при конвективных движениях жидкости. Если градиент температуры превышает некоторый порог, т.е. $\\mu$ увеличивается до сверхбифуркационного значения, то происходит переход от ламинарного движения жидкости к турбулентному. С точки зрения нелинейной динамики это означает переход от особой точки типа узла, к другому режиму, который называется ***странным аттрактором или аттрактором Лоренца***. В некотором смысле, аттрактор Лоренца является стохастическими автоколебаниями, поддерживаемыми в динамической системе за счет внешнего источника. В фазовом пространстве странный аттрактор имеет топологию клубка траекторий, в пределах которого можно выделить две области. В каждый момент времени решение находится в одной из этих областей, причем переход системы из одной области состояний системы в другую непредсказуем при всех значениях времени t. Замечательным свойством странных аттракторов, в частности аттрактора Лоренца, является чувствительность к начальным условиям.\n"
   ]
  },
  {
   "cell_type": "code",
   "execution_count": null,
   "metadata": {
    "ExecuteTime": {
     "end_time": "2021-03-19T15:20:21.548155Z",
     "start_time": "2021-03-19T15:20:20.689470Z"
    },
    "slideshow": {
     "slide_type": "-"
    }
   },
   "outputs": [],
   "source": [
    "import numpy as np\n",
    "import matplotlib.pyplot as plt\n",
    "from mpl_toolkits.mplot3d import Axes3D\n",
    "import numpy as np\n",
    "import matplotlib as mpl\n",
    "#mpl.use('AGG')\n",
    "from scipy.integrate import odeint\n",
    "%matplotlib notebook\n"
   ]
  },
  {
   "cell_type": "code",
   "execution_count": null,
   "metadata": {
    "ExecuteTime": {
     "end_time": "2021-03-19T15:22:02.378653Z",
     "start_time": "2021-03-19T15:22:02.366272Z"
    },
    "slideshow": {
     "slide_type": "-"
    }
   },
   "outputs": [],
   "source": [
    "def lorentz_deriv(xyz, t0, sigma=10., beta=8./3, rho=28.0):\n",
    "    return [sigma * (xyz[1] - xyz[0]), xyz[0] * (rho - xyz[2]) - xyz[1], xyz[0] * xyz[1] - beta * xyz[2]]\n"
   ]
  },
  {
   "cell_type": "code",
   "execution_count": null,
   "metadata": {
    "ExecuteTime": {
     "end_time": "2021-03-19T15:22:30.608594Z",
     "start_time": "2021-03-19T15:22:30.603274Z"
    },
    "slideshow": {
     "slide_type": "-"
    }
   },
   "outputs": [],
   "source": [
    "x = np.linspace(0, 20, 1000)"
   ]
  },
  {
   "cell_type": "code",
   "execution_count": null,
   "metadata": {},
   "outputs": [],
   "source": []
  },
  {
   "cell_type": "code",
   "execution_count": null,
   "metadata": {
    "ExecuteTime": {
     "end_time": "2021-03-19T15:25:58.534614Z",
     "start_time": "2021-03-19T15:25:42.264723Z"
    },
    "slideshow": {
     "slide_type": "-"
    }
   },
   "outputs": [],
   "source": [
    "times = np.linspace(0, 4, 1000) \n",
    "\n",
    "start_pts = 30. - 15.*np.random.random((20,3))  \n",
    "\n",
    "trajectories = []\n",
    "for start_pt in start_pts:\n",
    "    trajectory = odeint(lorentz_deriv, start_pt, times)\n",
    "    trajectories.append(trajectory)\n",
    "\n",
    "fig = plt.figure()\n",
    "mpl.rcParams['figure.figsize'] = (8.0, 6.0)\n",
    "ax = fig.gca(projection='3d')\n",
    "for trajectory in trajectories:\n",
    "    x, y, z = zip(*trajectory)\n",
    "    ax.plot(x, y, z)\n",
    "    \n",
    "plt.savefig(\"Lorenz.png\",dpi=1200, bbox_inches='tight')"
   ]
  },
  {
   "cell_type": "markdown",
   "metadata": {
    "slideshow": {
     "slide_type": "-"
    }
   },
   "source": [
    "### Пример № 2 : Осцилятор с вязким демпфированием при кинематическом возбуждении\n",
    "\n",
    "Классическое уравнение <b><i>свободных колебаний системы с вязким демпфированием</i></b><br/>\n",
    "<p style = \"font-size:14pt\">\n",
    "$$\n",
    "\\ddot{x} + 2n \\cdot \\dot{x} + p^{2} \\cdot x = 0\n",
    "$$\n",
    "</p>\n",
    "Преобразуем уравнение в систему, пригодную для решения с помощью функции <b>odeint</b> пакета <b>scipy.integrate</b> \n",
    "<p style = \"font-size:14pt\">\n",
    "$$\n",
    "\\frac{dx}{dt} = v \\\\\n",
    "\\frac{dv}{dt} = -2n \\cdot v - p^{2} \\cdot x\n",
    "$$\n",
    "</p>\n"
   ]
  },
  {
   "cell_type": "code",
   "execution_count": null,
   "metadata": {
    "ExecuteTime": {
     "end_time": "2021-03-19T15:32:19.793338Z",
     "start_time": "2021-03-19T15:32:19.785404Z"
    }
   },
   "outputs": [],
   "source": [
    "def osc(y,t):\n",
    "    x,v = y\n",
    "    return [v, -2*n*v - p**2*x]"
   ]
  },
  {
   "cell_type": "code",
   "execution_count": null,
   "metadata": {
    "ExecuteTime": {
     "end_time": "2021-03-19T15:32:20.767328Z",
     "start_time": "2021-03-19T15:32:20.753799Z"
    }
   },
   "outputs": [],
   "source": [
    "# Исходные Данные I\n",
    "m = 10\n",
    "C = 5000\n",
    "B = 60\n",
    "n = (B/m)/2.0\n",
    "p = np.sqrt(C/m)\n",
    "Pdmp = np.sqrt(np.abs(p**2 - n**2))\n",
    "x0 = 3\n",
    "v0 = 0\n",
    "t = np.linspace(0, 20, 10000) "
   ]
  },
  {
   "cell_type": "code",
   "execution_count": null,
   "metadata": {
    "ExecuteTime": {
     "end_time": "2021-03-19T15:34:06.632266Z",
     "start_time": "2021-03-19T15:34:06.584908Z"
    }
   },
   "outputs": [],
   "source": [
    "sol = odeint(osc, [x0,v0], t)\n",
    "x = sol[:,0]\n",
    "v = sol[:,1]"
   ]
  },
  {
   "cell_type": "code",
   "execution_count": null,
   "metadata": {
    "ExecuteTime": {
     "end_time": "2021-03-19T15:34:28.740934Z",
     "start_time": "2021-03-19T15:34:28.237605Z"
    }
   },
   "outputs": [],
   "source": [
    "plt.plot(t,x)"
   ]
  },
  {
   "cell_type": "code",
   "execution_count": null,
   "metadata": {
    "ExecuteTime": {
     "end_time": "2021-03-19T15:35:09.386521Z",
     "start_time": "2021-03-19T15:35:08.822776Z"
    }
   },
   "outputs": [],
   "source": [
    "plt.plot(t,v)"
   ]
  },
  {
   "cell_type": "code",
   "execution_count": null,
   "metadata": {
    "ExecuteTime": {
     "end_time": "2021-03-19T15:35:55.565723Z",
     "start_time": "2021-03-19T15:35:55.110296Z"
    }
   },
   "outputs": [],
   "source": [
    "plt.plot(x,v)"
   ]
  },
  {
   "cell_type": "code",
   "execution_count": null,
   "metadata": {
    "ExecuteTime": {
     "end_time": "2021-03-19T15:36:44.813680Z",
     "start_time": "2021-03-19T15:36:44.806994Z"
    }
   },
   "outputs": [],
   "source": [
    "# Исходные Данные II\n",
    "m = 10\n",
    "C = 5000\n",
    "B = 600\n",
    "n = (B/m)/2.0\n",
    "p = np.sqrt(C/m)\n"
   ]
  },
  {
   "cell_type": "code",
   "execution_count": null,
   "metadata": {
    "ExecuteTime": {
     "end_time": "2021-03-19T15:36:54.397686Z",
     "start_time": "2021-03-19T15:36:54.385578Z"
    }
   },
   "outputs": [],
   "source": [
    "sol = odeint(osc, [x0,v0], t)\n",
    "x = sol[:,0]\n",
    "v = sol[:,1]"
   ]
  },
  {
   "cell_type": "code",
   "execution_count": null,
   "metadata": {
    "ExecuteTime": {
     "end_time": "2021-03-19T15:36:59.918191Z",
     "start_time": "2021-03-19T15:36:59.376853Z"
    }
   },
   "outputs": [],
   "source": [
    "plt.plot(t,x)"
   ]
  },
  {
   "cell_type": "code",
   "execution_count": null,
   "metadata": {
    "ExecuteTime": {
     "end_time": "2021-03-19T15:37:32.909383Z",
     "start_time": "2021-03-19T15:37:32.355682Z"
    }
   },
   "outputs": [],
   "source": [
    "plt.plot(t,v)"
   ]
  },
  {
   "cell_type": "code",
   "execution_count": null,
   "metadata": {
    "ExecuteTime": {
     "end_time": "2021-03-19T15:37:48.731903Z",
     "start_time": "2021-03-19T15:37:48.131998Z"
    },
    "scrolled": false
   },
   "outputs": [],
   "source": [
    "plt.plot(x,v)"
   ]
  },
  {
   "cell_type": "code",
   "execution_count": null,
   "metadata": {
    "ExecuteTime": {
     "end_time": "2021-03-19T15:38:40.730262Z",
     "start_time": "2021-03-19T15:38:40.724191Z"
    }
   },
   "outputs": [],
   "source": [
    "# Исходные Данные III\n",
    "m = 10\n",
    "C = 5000\n",
    "B = 6\n",
    "n = (B/m)/2.0\n",
    "p = np.sqrt(C/m)\n"
   ]
  },
  {
   "cell_type": "code",
   "execution_count": null,
   "metadata": {
    "ExecuteTime": {
     "end_time": "2021-03-19T15:38:46.642112Z",
     "start_time": "2021-03-19T15:38:46.521873Z"
    }
   },
   "outputs": [],
   "source": [
    "sol = odeint(osc, [x0,v0], t)\n",
    "x = sol[:,0]\n",
    "v = sol[:,1]"
   ]
  },
  {
   "cell_type": "code",
   "execution_count": null,
   "metadata": {
    "ExecuteTime": {
     "end_time": "2021-03-19T15:38:49.549894Z",
     "start_time": "2021-03-19T15:38:49.000964Z"
    }
   },
   "outputs": [],
   "source": [
    "plt.plot(t,x)"
   ]
  },
  {
   "cell_type": "code",
   "execution_count": null,
   "metadata": {
    "ExecuteTime": {
     "end_time": "2021-03-19T15:39:14.739030Z",
     "start_time": "2021-03-19T15:39:14.122066Z"
    }
   },
   "outputs": [],
   "source": [
    "plt.plot(t,v)"
   ]
  },
  {
   "cell_type": "code",
   "execution_count": null,
   "metadata": {
    "ExecuteTime": {
     "end_time": "2021-03-19T15:39:19.507901Z",
     "start_time": "2021-03-19T15:39:18.911245Z"
    }
   },
   "outputs": [],
   "source": [
    "plt.plot(x,v)"
   ]
  },
  {
   "cell_type": "markdown",
   "metadata": {},
   "source": [
    "## Константы\n",
    "\n",
    "В разделе **``scipy.constants``** сгруппированны значения для множества констант, использующихся в математике, а также научных и инженерных вычислениях. Источником значений служит CODATA (англ. Committee on Data for Science and Technology — Комитет по данным для науки и техники) — междисциплинарный комитет Международного совета по науке, целью которого является сбор, критическая оценка, хранение и поиск данных важных для задач науки и техники.\n",
    "Для работы с этим разделом его необходимо импортировать\n",
    "```python\n",
    "from scipy import constants\n",
    "```\n"
   ]
  },
  {
   "cell_type": "code",
   "execution_count": null,
   "metadata": {
    "ExecuteTime": {
     "end_time": "2021-03-19T15:42:35.117106Z",
     "start_time": "2021-03-19T15:42:35.104034Z"
    }
   },
   "outputs": [],
   "source": [
    "from scipy import constants"
   ]
  },
  {
   "cell_type": "code",
   "execution_count": null,
   "metadata": {
    "ExecuteTime": {
     "end_time": "2021-03-19T15:42:36.633067Z",
     "start_time": "2021-03-19T15:42:36.626042Z"
    }
   },
   "outputs": [],
   "source": [
    "constants.physical_constants.keys()"
   ]
  },
  {
   "cell_type": "code",
   "execution_count": null,
   "metadata": {
    "ExecuteTime": {
     "end_time": "2021-03-19T15:42:41.957436Z",
     "start_time": "2021-03-19T15:42:41.949754Z"
    }
   },
   "outputs": [],
   "source": [
    "constants.physical_constants['Avogadro constant']"
   ]
  },
  {
   "cell_type": "code",
   "execution_count": null,
   "metadata": {
    "ExecuteTime": {
     "end_time": "2021-03-19T12:37:45.338913Z",
     "start_time": "2021-03-19T12:37:45.333222Z"
    }
   },
   "outputs": [],
   "source": [
    "constants.physical_constants['atomic unit of length']"
   ]
  },
  {
   "cell_type": "code",
   "execution_count": null,
   "metadata": {
    "ExecuteTime": {
     "end_time": "2021-03-19T12:37:46.009284Z",
     "start_time": "2021-03-19T12:37:46.001937Z"
    }
   },
   "outputs": [],
   "source": [
    "constants.value(u'elementary charge')"
   ]
  },
  {
   "cell_type": "code",
   "execution_count": null,
   "metadata": {
    "ExecuteTime": {
     "end_time": "2021-03-19T15:46:52.052047Z",
     "start_time": "2021-03-19T15:46:52.040922Z"
    }
   },
   "outputs": [],
   "source": [
    "constants.Stefan_Boltzmann"
   ]
  },
  {
   "cell_type": "code",
   "execution_count": null,
   "metadata": {
    "ExecuteTime": {
     "end_time": "2021-03-19T12:37:46.624228Z",
     "start_time": "2021-03-19T12:37:46.594774Z"
    }
   },
   "outputs": [],
   "source": [
    "constants.unit(u'atomic unit of length')"
   ]
  },
  {
   "cell_type": "code",
   "execution_count": null,
   "metadata": {},
   "outputs": [],
   "source": []
  },
  {
   "cell_type": "markdown",
   "metadata": {
    "slideshow": {
     "slide_type": "slide"
    }
   },
   "source": [
    "<p style=\"text-align: center; font-size: 64pt; font-weight: bold; color: rgb(0, 0, 190); padding: 20px; margin-top: 3%;\">Пакет</p>\n",
    "<p style=\"text-align: center; font-size: 72pt; font-weight: bold; color: rgb(0, 0, 190); padding: 20px; margin-top: -8%;\">\n",
    "<center>\n",
    "<img src=\"Images/SymPy_logo.png\" width=\"480\" />\n",
    "</center>\n",
    "</p>"
   ]
  },
  {
   "cell_type": "markdown",
   "metadata": {
    "collapsed": true
   },
   "source": [
    "$\\;\\;\\;\\;\\;$ В языке программирования <b>PYTHON</b> существует специализированный пакет <b>SymPy</b>, который служит для поведения символьных преобразований и вычислений. <b>SymPy</b> - это активно развивающаяся библиотека, целью которой является формирование полнофункциональной системой компьютерной алгебры (CAS). <b>SymPy</b> полностью написан на <b>PYTHON</b> и не требует сторонних библиотек CAS.\n",
    "<br/>\n",
    "$\\;\\;\\;\\;\\;$ Импортировать <b>SymPy</b> будем способом, который не рекомендовался ранее,<br/>\n",
    "<div align=\"center\"><b style=\"font-size:18px;\"><code>from sympy import * </code></b></div><br/>\n",
    "но использование такой формы импорта обеспечивает удобное для математического применения написание выражений. В связке с <b>SymPy</b> мы будем использова пакет <b>NumExpr</b>, который позволяет вычислять символьные выражения.\n",
    "<br/>\n"
   ]
  },
  {
   "cell_type": "code",
   "execution_count": null,
   "metadata": {
    "ExecuteTime": {
     "end_time": "2021-03-19T15:59:21.150172Z",
     "start_time": "2021-03-19T15:59:19.515051Z"
    }
   },
   "outputs": [],
   "source": [
    "from sympy import *\n",
    "import numexpr as ne\n",
    "import numpy as np\n",
    "import matplotlib.pyplot as plt\n",
    "init_printing()"
   ]
  },
  {
   "cell_type": "code",
   "execution_count": null,
   "metadata": {
    "ExecuteTime": {
     "end_time": "2021-03-19T16:00:21.496911Z",
     "start_time": "2021-03-19T16:00:21.487406Z"
    }
   },
   "outputs": [],
   "source": [
    "# Создание символьной переменной\n",
    "x = Symbol('x') \n",
    "om = Symbol('omega') "
   ]
  },
  {
   "cell_type": "code",
   "execution_count": null,
   "metadata": {
    "ExecuteTime": {
     "end_time": "2021-03-19T16:00:44.891828Z",
     "start_time": "2021-03-19T16:00:44.876607Z"
    }
   },
   "outputs": [],
   "source": [
    "f1=sin(om*x)"
   ]
  },
  {
   "cell_type": "code",
   "execution_count": null,
   "metadata": {
    "ExecuteTime": {
     "end_time": "2021-03-19T16:01:15.454466Z",
     "start_time": "2021-03-19T16:01:15.262176Z"
    }
   },
   "outputs": [],
   "source": [
    "f1"
   ]
  },
  {
   "cell_type": "code",
   "execution_count": null,
   "metadata": {
    "ExecuteTime": {
     "end_time": "2021-03-19T16:01:00.231696Z",
     "start_time": "2021-03-19T16:00:59.977172Z"
    }
   },
   "outputs": [],
   "source": [
    "diff(f1,x)"
   ]
  },
  {
   "cell_type": "code",
   "execution_count": null,
   "metadata": {
    "ExecuteTime": {
     "end_time": "2021-03-19T16:01:48.702385Z",
     "start_time": "2021-03-19T16:01:48.682444Z"
    }
   },
   "outputs": [],
   "source": [
    "# Другой способ создания символьной переменной\n",
    "from sympy.abc import y"
   ]
  },
  {
   "cell_type": "code",
   "execution_count": null,
   "metadata": {
    "ExecuteTime": {
     "end_time": "2021-03-19T16:01:57.916500Z",
     "start_time": "2021-03-19T16:01:57.717029Z"
    }
   },
   "outputs": [],
   "source": [
    "f2 = cos(y)\n",
    "f2"
   ]
  },
  {
   "cell_type": "code",
   "execution_count": null,
   "metadata": {
    "ExecuteTime": {
     "end_time": "2021-03-19T16:02:30.742528Z",
     "start_time": "2021-03-19T16:02:30.522683Z"
    }
   },
   "outputs": [],
   "source": [
    "diff(f2,y,y)"
   ]
  },
  {
   "cell_type": "code",
   "execution_count": null,
   "metadata": {
    "ExecuteTime": {
     "end_time": "2021-03-19T16:08:07.777188Z",
     "start_time": "2021-03-19T16:08:07.736773Z"
    }
   },
   "outputs": [],
   "source": [
    "# Создание уравнений\n",
    "eq1 = Eq(x**2 + 7*x - 93, 0)"
   ]
  },
  {
   "cell_type": "code",
   "execution_count": null,
   "metadata": {
    "ExecuteTime": {
     "end_time": "2021-03-19T16:08:09.336111Z",
     "start_time": "2021-03-19T16:08:09.142365Z"
    }
   },
   "outputs": [],
   "source": [
    "eq1"
   ]
  },
  {
   "cell_type": "code",
   "execution_count": null,
   "metadata": {
    "ExecuteTime": {
     "end_time": "2021-03-19T16:08:10.869987Z",
     "start_time": "2021-03-19T16:08:10.820706Z"
    }
   },
   "outputs": [],
   "source": [
    "sol1 = solve(eq1)\n",
    "print (sol1)"
   ]
  },
  {
   "cell_type": "code",
   "execution_count": null,
   "metadata": {
    "ExecuteTime": {
     "end_time": "2021-03-19T16:08:21.466017Z",
     "start_time": "2021-03-19T16:08:21.459382Z"
    }
   },
   "outputs": [],
   "source": [
    "type(sol1[0])"
   ]
  },
  {
   "cell_type": "code",
   "execution_count": null,
   "metadata": {
    "ExecuteTime": {
     "end_time": "2021-03-19T16:08:41.489489Z",
     "start_time": "2021-03-19T16:08:41.481611Z"
    }
   },
   "outputs": [],
   "source": [
    "x1 = ne.evaluate(str(sol1[1])); print (x1);"
   ]
  },
  {
   "cell_type": "code",
   "execution_count": null,
   "metadata": {
    "ExecuteTime": {
     "end_time": "2021-03-19T16:07:18.438514Z",
     "start_time": "2021-03-19T16:07:18.426813Z"
    }
   },
   "outputs": [],
   "source": [
    "type(x1)"
   ]
  },
  {
   "cell_type": "code",
   "execution_count": null,
   "metadata": {
    "ExecuteTime": {
     "end_time": "2021-03-19T16:08:56.656255Z",
     "start_time": "2021-03-19T16:08:56.642286Z"
    }
   },
   "outputs": [],
   "source": [
    "x2 = ne.evaluate(str(sol1[1])); print (x2);"
   ]
  },
  {
   "cell_type": "code",
   "execution_count": null,
   "metadata": {
    "ExecuteTime": {
     "end_time": "2021-03-19T16:09:10.028929Z",
     "start_time": "2021-03-19T16:09:09.848783Z"
    }
   },
   "outputs": [],
   "source": [
    "eq1"
   ]
  },
  {
   "cell_type": "code",
   "execution_count": null,
   "metadata": {
    "ExecuteTime": {
     "end_time": "2021-03-19T16:09:46.607154Z",
     "start_time": "2021-03-19T16:09:46.590671Z"
    }
   },
   "outputs": [],
   "source": [
    "eq1x1 = eq1.lhs.subs(x,x1)\n",
    "eq1x2 = eq1.lhs.subs(x,x2)"
   ]
  },
  {
   "cell_type": "code",
   "execution_count": null,
   "metadata": {
    "ExecuteTime": {
     "end_time": "2021-03-19T16:09:56.717773Z",
     "start_time": "2021-03-19T16:09:56.706530Z"
    }
   },
   "outputs": [],
   "source": [
    "print (np.round(ne.evaluate(str(eq1x1)),2))\n",
    "print (np.round(ne.evaluate(str(eq1x2)),2))"
   ]
  },
  {
   "cell_type": "markdown",
   "metadata": {},
   "source": [
    "$\\;\\;\\;\\;\\;$ Рассмотрим решение средствами <b>SymPy</b> системы линейных алгебраичесих уравнений.<br/>\n",
    "<p style = \"font-size:14pt\">\n",
    "$$\n",
    "\\begin{cases} \n",
    "5 \\cdot x + 8 \\cdot y - 19 \\cdot z & = & 237    \\\\\n",
    "-15 \\cdot x + 4 \\cdot y + 29 \\cdot z & = & 23    \\\\\n",
    "25 \\cdot x - 34 \\cdot y + 9 \\cdot z & = & 37    \\\\\n",
    "\\end{cases}\n",
    "$$</p>"
   ]
  },
  {
   "cell_type": "code",
   "execution_count": null,
   "metadata": {
    "ExecuteTime": {
     "end_time": "2021-03-19T16:12:04.703969Z",
     "start_time": "2021-03-19T16:12:02.844379Z"
    }
   },
   "outputs": [],
   "source": [
    "from sympy.abc import x,y,z\n",
    "from sympy import *\n",
    "import numexpr as ne\n",
    "import numpy as np\n",
    "import matplotlib.pyplot as plt\n",
    "init_printing()"
   ]
  },
  {
   "cell_type": "code",
   "execution_count": null,
   "metadata": {
    "ExecuteTime": {
     "end_time": "2021-03-19T16:12:29.222368Z",
     "start_time": "2021-03-19T16:12:29.142983Z"
    }
   },
   "outputs": [],
   "source": [
    "eq1 = Eq(5 * x + 8 * y - 19*z , 237)\n",
    "eq2 = Eq(-15 * x + 4 * y - 29*z , 23)\n",
    "eq3 = Eq(25 * x - 34 * y + 9*z , 37)"
   ]
  },
  {
   "cell_type": "code",
   "execution_count": null,
   "metadata": {
    "ExecuteTime": {
     "end_time": "2021-03-19T16:12:58.544830Z",
     "start_time": "2021-03-19T16:12:58.451734Z"
    }
   },
   "outputs": [],
   "source": [
    "sol2 = solve([eq1,eq2,eq3],[x,y,z])"
   ]
  },
  {
   "cell_type": "code",
   "execution_count": null,
   "metadata": {
    "ExecuteTime": {
     "end_time": "2021-03-19T16:13:03.085504Z",
     "start_time": "2021-03-19T16:13:02.876581Z"
    }
   },
   "outputs": [],
   "source": [
    "sol2"
   ]
  },
  {
   "cell_type": "code",
   "execution_count": null,
   "metadata": {
    "ExecuteTime": {
     "end_time": "2021-03-19T16:13:48.912345Z",
     "start_time": "2021-03-19T16:13:48.808271Z"
    }
   },
   "outputs": [],
   "source": [
    "for var in [x,y,z]:\n",
    "    eq1 = eq1.subs(var,sol2[var])\n",
    "    print (eq1)\n",
    "    \n",
    "for var in [x,y,z]:\n",
    "    eq2 = eq2.subs(var,sol2[var])\n",
    "    print (eq2)\n",
    "\n",
    "for var in [x,y,z]:\n",
    "    eq3 = eq3.subs(var,sol2[var])\n",
    "    print (eq3)    "
   ]
  },
  {
   "cell_type": "markdown",
   "metadata": {
    "collapsed": true,
    "slideshow": {
     "slide_type": "subslide"
    }
   },
   "source": [
    "<h1 align=\"center\" style=\"color:Blue\"><b style=\"font-size:36px\">Свободные колебания осциллятора с вязким демпфированием</b></h1><br/>\n",
    "$\\;\\;\\;\\;\\;$ Для описания модельных колебательных систем, обеспечивающего наилучшее приближение к моделируемым техническим системам, необходимо учитывать диссипацию энергии в системе. Это обеспечивается введением в модель не только <b>упругих</b>, но и <b>демпфирующих</b> сил, действующих на рассматриваемую систему. По своему происхождению демпфирующие силы могут быть разделены на следующие виды:<br/> \n",
    "* сухое трение скольжения;\n",
    "* смазанное трение скольжения;\n",
    "* вязкое сопротивление газа или жидкости;\n",
    "* электромагнитное демпфирование;\n",
    "* внутреннее трение в материалах;\n",
    "* и т.д.<br/> \n",
    "$\\;\\;\\;\\;\\;$ С точки зрения математического моделирования, наиболее простой и удобной является <b>вязкая демпфирующая сила</b> пропорциональная скорости движения системы. Поэтому измеряемые в экспериментах сложные демфирующие силы заменяются <b>эквивалентными вязкими демпфирующими силами</b>, обеспещивающими необходимый уровень диссипации колебательной энергии, т.е. за один цикл колебаний должно рассеиваться столько же энергии, сколько и при действии реальных сил сопротивления. Наиболее часто вязким демпфированием заменяют внутреннее трение в материалах, которое трудно поддается математической формализации.   \n",
    "$\\;\\;\\;\\;\\;$ В качестве примера системы с вязким демпфированием рассмотрим систему, состоящую из массы, пружины и вязкого демпфера (рис. 1).\n",
    "<img src=\"Images/MyRisOscSv.png\" width=\"200\" height=\"300\" align=\"center\"/><br/><div align=\"center\" style=\"color:Black\">Рис. 1. Колебательная система с вязким демпфированием</div><br/>\n",
    "$\\;\\;\\;\\;\\;$ Уравнение движения указаной системы имеет вид <br/>\n",
    "<p style = \"font-size:14pt\">\n",
    "$$\n",
    "\\;\\;\\;\\;\\;\\;\\;\\;\\;\\;\\;\\;\\;\\;\\;m \\cdot \\ddot{x} = - C \\cdot x - B \\cdot \\dot{x}\\;\\;\\;\\;\\;\\;\\;\\;\\;\\;\\;\\;\\;\\;\\;\\;\\;\\;\\;\\;\\;\\;\\;\\;\\;\\;\\;\\;\\;\\;\\text{(1)}\n",
    "$$</p>\n",
    "<br/>\n",
    "Деля уравнение (1) на $m$ и вводя обозначения <br/>\n",
    "<p style = \"font-size:14pt\">\n",
    "$$\n",
    " p^{2} = \\frac{C}{m}\\;\\;\\;\\;\\;\\;\\;\\;\\;\\;\\;\\;\\;\\;\\;\\;\\;\\;\\;\\;\\; 2n = \\frac{B}{m}\n",
    "$$</p>\n",
    "<br/>\n",
    "получим классическое уравнение <b><i>свободных колебаний системы с вязким демпфированием</i></b><br/>\n",
    "<p style = \"font-size:14pt\">\n",
    "$$\n",
    "\\;\\;\\;\\;\\;\\;\\;\\;\\;\\;\\;\\;\\;\\;\\; \\ddot{x} + 2n \\cdot \\dot{x} + p^{2} \\cdot x = 0\\;\\;\\;\\;\\;\\;\\;\\;\\;\\;\\;\\;\\;\\;\\;\\;\\;\\;\\;\\;\\;\\;\\;\\;\\;\\;\\;\\;\\;\\;\\text{(2)}\n",
    "$$</p>\n",
    "<br/>\n",
    "Реализуем это уравнение средствами <b>SymPy</b>."
   ]
  },
  {
   "cell_type": "code",
   "execution_count": null,
   "metadata": {
    "ExecuteTime": {
     "end_time": "2021-03-19T17:13:24.309391Z",
     "start_time": "2021-03-19T17:13:22.915383Z"
    }
   },
   "outputs": [],
   "source": [
    "from sympy import *\n",
    "import numexpr as ne\n",
    "import numpy as np\n",
    "import matplotlib.pyplot as plt\n",
    "init_printing()"
   ]
  },
  {
   "cell_type": "code",
   "execution_count": null,
   "metadata": {
    "ExecuteTime": {
     "end_time": "2021-03-19T17:13:25.383965Z",
     "start_time": "2021-03-19T17:13:25.375807Z"
    }
   },
   "outputs": [],
   "source": [
    "x = Function('x')\n",
    "n = Symbol('n')\n",
    "p = Symbol('p')\n",
    "t = Symbol('t')"
   ]
  },
  {
   "cell_type": "code",
   "execution_count": null,
   "metadata": {
    "ExecuteTime": {
     "end_time": "2021-03-19T17:13:26.537065Z",
     "start_time": "2021-03-19T17:13:26.331565Z"
    }
   },
   "outputs": [],
   "source": [
    "Ur2lhs = x(t).diff(t,t) + 2*n*x(t).diff(t) + p**2*x(t); Ur2lhs"
   ]
  },
  {
   "cell_type": "code",
   "execution_count": null,
   "metadata": {
    "ExecuteTime": {
     "end_time": "2021-03-19T17:13:27.305728Z",
     "start_time": "2021-03-19T17:13:27.143472Z"
    }
   },
   "outputs": [],
   "source": [
    "Ur2 = Eq(Ur2lhs,0); Ur2"
   ]
  },
  {
   "cell_type": "markdown",
   "metadata": {},
   "source": [
    "Решение уравнения (2) будем искать в виде <br/>\n",
    "<p style = \"font-size:14pt\">\n",
    "$$\n",
    "\\;\\;\\;\\;\\;\\;\\;\\;\\;\\;\\;\\;\\;\\;\\; x(t) = A \\cdot e^{r \\cdot t}\\;\\;\\;\\;\\;\\;\\;\\;\\;\\;\\;\\;\\;\\;\\;\\;\\;\\;\\;\\;\\;\\;\\;\\;\\text{(2')}\n",
    "$$</p>\n",
    "<br/>\n",
    "Постоянные $r$ и $A$ должны быть определены. Для определения постоянной $r$ подставим (2') в (2).\n",
    "Реализуем это соотношение средствами <b>SymPy</b>."
   ]
  },
  {
   "cell_type": "code",
   "execution_count": null,
   "metadata": {
    "ExecuteTime": {
     "end_time": "2021-03-19T17:13:29.710505Z",
     "start_time": "2021-03-19T17:13:29.528868Z"
    }
   },
   "outputs": [],
   "source": [
    "A = Symbol('A')\n",
    "r = Symbol('r')\n",
    "x=A*exp(r*t)\n",
    "Ur2lhs = x.diff(t,2) + 2*n*x.diff(t) + p**2*x\n",
    "Ur2lhs"
   ]
  },
  {
   "cell_type": "code",
   "execution_count": null,
   "metadata": {
    "ExecuteTime": {
     "end_time": "2021-03-19T17:13:29.979528Z",
     "start_time": "2021-03-19T17:13:29.784701Z"
    }
   },
   "outputs": [],
   "source": [
    "Ur3 = Eq(Ur2lhs,0)\n",
    "Ur3"
   ]
  },
  {
   "cell_type": "code",
   "execution_count": null,
   "metadata": {
    "ExecuteTime": {
     "end_time": "2021-03-19T17:13:30.664017Z",
     "start_time": "2021-03-19T17:13:30.345852Z"
    }
   },
   "outputs": [],
   "source": [
    "sol1 = solve(Ur3,r)\n",
    "sol1_1 = expand(sol1[0]) \n",
    "sol1_2 = expand(sol1[1]) \n",
    "print (sol1_1) \n",
    "print (sol1_2)"
   ]
  },
  {
   "cell_type": "markdown",
   "metadata": {
    "slideshow": {
     "slide_type": "subslide"
    }
   },
   "source": [
    "$\\;\\;\\;\\;\\;$ Введем дополнительный ппараметр $p_{dmp}^{2} = p^{2} - n^{2}$. Тогда при анализе выражений для искомой постоянной $r$ необходимо рассмотреть два случая:\n",
    "* $p_{dmp}^{2} > 0$ - величина $n^{2}$, описывающая демпфирование, меньше $p^{2}$;\n",
    "* $p_{dmp}^{2} < 0$ - величина $n^{2}$, описывающая демпфирование, больше $p^{2}$.<br/>\n",
    "<h1 align=\"center\" style=\"color:Blue\"><b style=\"font-size:24px\">Рассмотрим первый случай: $p_{dmp}^{2} > 0$</b></h1><br/>\n",
    "В этом случае решениями квадратного уравнения для $r$ являются два комплексных корня<br/>\n",
    "<p style = \"font-size:14pt\">\n",
    "$$\n",
    "r_{1} = -n + ip_{dmp}\\;\\;\\;\\;\\;\\;\\;\\;\\;\\;\\;\\;\\;\\;\\;\\;\\; r_{2} = -n - ip_{dmp}\n",
    "$$</p>"
   ]
  },
  {
   "cell_type": "code",
   "execution_count": null,
   "metadata": {
    "ExecuteTime": {
     "end_time": "2021-03-19T17:13:34.727039Z",
     "start_time": "2021-03-19T17:13:34.711120Z"
    }
   },
   "outputs": [],
   "source": [
    "from sympy import I\n",
    "r1 = Symbol('r1')\n",
    "r2 = Symbol('r2')\n",
    "Pdmp = Symbol('Pdmp')\n",
    "r1 = -n + Pdmp*I\n",
    "r2 = -n - Pdmp*I\n",
    "print (r1)\n",
    "print (r2)"
   ]
  },
  {
   "cell_type": "markdown",
   "metadata": {},
   "source": [
    "<h1 align=\"center\" style=\"color:Blue\"><b style=\"font-size:24px\">Некоторые важные свойства и формулы из комплексного исчисления</b></h1><br/>\n",
    "<p style = \"font-size:14pt\">\n",
    "$$\n",
    "I = -\\frac{1}{I}\\;\\;\\;\\;\\;\\;\\;\\;\\;\\;\\;\\;\\;\\;\\;\\;-I = \\frac{1}{I}\n",
    "$$</p>\n",
    "<h1 align=\"center\" style=\"color:Blue\"><b style=\"font-size:24px\">Формулы Эйлера</b></h1><br/>\n",
    "<p style = \"font-size:14pt\">\n",
    "$$\n",
    "cos(x) = \\frac{e^{ix}+e^{-ix}}{2} \\\\\n",
    "sin(x) = \\frac{e^{ix}-e^{-ix}}{2i}\n",
    "$$</p>\n",
    "<h1 align=\"center\" style=\"color:Blue\"><b style=\"font-size:24px\">Некоторые следствия из формул Эйлера</b></h1><br/>\n",
    "<p style = \"font-size:14pt\">\n",
    "$$\n",
    "e^{ix} = cos(x) + i \\cdot sin(x) \\\\\n",
    "e^{-ix} = cos(-x) + i \\cdot sin(-x) = cos(x) - i \\cdot sin(x) \n",
    "$$</p>\n"
   ]
  },
  {
   "cell_type": "code",
   "execution_count": null,
   "metadata": {
    "ExecuteTime": {
     "end_time": "2021-03-19T17:13:36.997484Z",
     "start_time": "2021-03-19T17:13:36.969652Z"
    }
   },
   "outputs": [],
   "source": [
    "x1_1 = Function('x1_1')\n",
    "x1_2 = Function('x1_2')\n",
    "\n",
    "x1_1 = x.subs(r,r1)\n",
    "print (x1_1)\n",
    "x1_2 = x.subs(r,r2)\n",
    "print (x1_2)\n"
   ]
  },
  {
   "cell_type": "code",
   "execution_count": null,
   "metadata": {
    "ExecuteTime": {
     "end_time": "2021-03-19T17:13:38.043309Z",
     "start_time": "2021-03-19T17:13:38.027217Z"
    }
   },
   "outputs": [],
   "source": [
    "A1 = Symbol('A1')\n",
    "A2 = Symbol('A2')\n",
    "\n",
    "x1_1 = x1_1.subs(A,A1/2)\n",
    "print (x1_1)\n",
    "x1_2 = x1_2.subs(A,A1/2)\n",
    "print (x1_2)"
   ]
  },
  {
   "cell_type": "code",
   "execution_count": null,
   "metadata": {
    "ExecuteTime": {
     "end_time": "2021-03-19T17:13:40.014050Z",
     "start_time": "2021-03-19T17:13:39.740990Z"
    }
   },
   "outputs": [],
   "source": [
    "x1 = collect(expand(simplify(x1_1 + x1_2),Trig=True),(A1/2*exp(-n*t)))\n",
    "x1"
   ]
  },
  {
   "cell_type": "code",
   "execution_count": null,
   "metadata": {
    "ExecuteTime": {
     "end_time": "2021-03-19T17:13:41.184648Z",
     "start_time": "2021-03-19T17:13:40.957844Z"
    }
   },
   "outputs": [],
   "source": [
    "simplify(exp(I*Pdmp*t)/2 + exp(-I*Pdmp*t)/2)"
   ]
  },
  {
   "cell_type": "code",
   "execution_count": null,
   "metadata": {
    "ExecuteTime": {
     "end_time": "2021-03-19T17:13:42.380730Z",
     "start_time": "2021-03-19T17:13:42.375488Z"
    }
   },
   "outputs": [],
   "source": [
    "x1 = A1*exp(-n*t)*cos(Pdmp*t)"
   ]
  },
  {
   "cell_type": "code",
   "execution_count": null,
   "metadata": {
    "ExecuteTime": {
     "end_time": "2021-03-19T17:13:43.451387Z",
     "start_time": "2021-03-19T17:13:43.429031Z"
    }
   },
   "outputs": [],
   "source": [
    "x1_1 = Function('x1_1')\n",
    "x1_2 = Function('x1_2')\n",
    "\n",
    "x1_1 = x.subs(r,r1)\n",
    "print (x1_1)\n",
    "x1_2 = x.subs(r,r2)\n",
    "print (x1_2)\n",
    "x1_1 = x1_1.subs('A',A2/(2*I))\n",
    "print (x1_1)\n",
    "x1_2 = x1_2.subs('A',A2/(2*I))\n",
    "print (x1_2)"
   ]
  },
  {
   "cell_type": "code",
   "execution_count": null,
   "metadata": {
    "ExecuteTime": {
     "end_time": "2021-03-19T17:13:44.989510Z",
     "start_time": "2021-03-19T17:13:44.679463Z"
    }
   },
   "outputs": [],
   "source": [
    "x2 = collect(expand(simplify(x1_1 - x1_2),Trig=True),(A2/(2*I)*exp(-n*t)))\n",
    "x2"
   ]
  },
  {
   "cell_type": "code",
   "execution_count": null,
   "metadata": {
    "ExecuteTime": {
     "end_time": "2021-03-19T17:14:05.426834Z",
     "start_time": "2021-03-19T17:14:05.238177Z"
    }
   },
   "outputs": [],
   "source": [
    "simplify(exp(I*Pdmp*t)/(2*I) - exp(-I*Pdmp*t)/(2*I))"
   ]
  },
  {
   "cell_type": "code",
   "execution_count": null,
   "metadata": {
    "ExecuteTime": {
     "end_time": "2021-03-19T17:14:09.229281Z",
     "start_time": "2021-03-19T17:14:09.086601Z"
    }
   },
   "outputs": [],
   "source": [
    "x2 = A2*exp(-n*t)*sin(Pdmp*t)\n",
    "x2"
   ]
  },
  {
   "cell_type": "markdown",
   "metadata": {},
   "source": [
    "Окончательно запишем решение в виде \n",
    "<p style = \"font-size:14pt\">\n",
    "$$ x = x_{1} +x_{2} = e^{-n \\cdot t} \\cdot \\left( A_{1} \\cdot cos(P_{dmp} \\cdot t) + A_{2} \\cdot sin(P_{dmp} \\cdot t) \\right)$$</p> .\n",
    "Константы $A_{1}$ и $A_{2}$ должны быть определяемы из начальных условий для каждой конкретной задачи. Множитель <p style = \"font-size:14pt\"> $$e^{-n \\cdot t}$$</p> говорит о том, что с течением времени амплитуда колебаний уменьшается и параметр <p style = \"font-size:14pt\">$$ n = \\sqrt{\\frac{B}{m}}$$</p> характеризует скорость затухания. \n"
   ]
  },
  {
   "cell_type": "code",
   "execution_count": null,
   "metadata": {
    "ExecuteTime": {
     "end_time": "2021-03-19T17:14:32.006674Z",
     "start_time": "2021-03-19T17:14:31.863633Z"
    }
   },
   "outputs": [],
   "source": [
    "x = collect(x1 + x2, exp(-n*t))\n",
    "x"
   ]
  },
  {
   "cell_type": "markdown",
   "metadata": {},
   "source": [
    "<h1 align=\"center\" style=\"color:Blue\"><b style=\"font-size:24px\">Пример</b></h1><br/>\n",
    "$\\;\\;\\;\\;\\;$ Пусть в начальный момент времени систему вывели из положения равновесия и отпустили без дополнительной скорости, т.е. начальные условия имеют вид \n",
    "<p style = \"font-size:14pt\">\n",
    "$$\n",
    "x(0) = x_{0}\\;\\;\\;\\;\\;\\;\\;\\;\\;\\;\\;\\;\\;\\;\\;\\;\\;\\;\\; \\dot{x}(0) = 0\n",
    "$$</p>"
   ]
  },
  {
   "cell_type": "code",
   "execution_count": null,
   "metadata": {
    "ExecuteTime": {
     "end_time": "2021-03-19T17:14:40.418849Z",
     "start_time": "2021-03-19T17:14:40.273519Z"
    }
   },
   "outputs": [],
   "source": [
    "x0 = Symbol('x0')\n",
    "NU1 = x.subs(t,0)\n",
    "NU1 = Eq(NU1,x0)\n",
    "NU1"
   ]
  },
  {
   "cell_type": "code",
   "execution_count": null,
   "metadata": {
    "ExecuteTime": {
     "end_time": "2021-03-19T17:14:51.618193Z",
     "start_time": "2021-03-19T17:14:51.444836Z"
    }
   },
   "outputs": [],
   "source": [
    "NU2 = x.diff(t)\n",
    "NU2\n"
   ]
  },
  {
   "cell_type": "code",
   "execution_count": null,
   "metadata": {
    "ExecuteTime": {
     "end_time": "2021-03-19T17:14:55.358288Z",
     "start_time": "2021-03-19T17:14:55.212057Z"
    }
   },
   "outputs": [],
   "source": [
    "NU2 = NU2.subs(t,0)\n",
    "NU2 = NU2.subs(A1,x0)\n",
    "NU2 = Eq(NU2,0)\n",
    "NU2 "
   ]
  },
  {
   "cell_type": "code",
   "execution_count": null,
   "metadata": {
    "ExecuteTime": {
     "end_time": "2021-03-19T17:14:57.298909Z",
     "start_time": "2021-03-19T17:14:57.268867Z"
    }
   },
   "outputs": [],
   "source": [
    "A1 = x0\n",
    "A2 = solve(NU2,A2)[0]\n",
    "print (A2)"
   ]
  },
  {
   "cell_type": "code",
   "execution_count": null,
   "metadata": {
    "ExecuteTime": {
     "end_time": "2021-03-19T17:14:58.656514Z",
     "start_time": "2021-03-19T17:14:58.505277Z"
    }
   },
   "outputs": [],
   "source": [
    "x = x.subs('A1',x0)\n",
    "x = x.subs('A2',n*x0/Pdmp)\n",
    "x"
   ]
  },
  {
   "cell_type": "markdown",
   "metadata": {},
   "source": [
    "Зададим конкретные параметры:<br/>\n",
    "$$\\\n",
    "m = 10 \\\\\n",
    "C = 2000 \\\\\n",
    "B = 60 \\\\\n",
    "x_{0} = 3\n",
    "$$"
   ]
  },
  {
   "cell_type": "code",
   "execution_count": null,
   "metadata": {
    "ExecuteTime": {
     "end_time": "2021-03-19T17:15:03.343730Z",
     "start_time": "2021-03-19T17:15:03.335010Z"
    }
   },
   "outputs": [],
   "source": [
    "# Исходные Данные\n",
    "m = 10\n",
    "C = 2000\n",
    "B = 60\n",
    "n = (B/m)/2.0\n",
    "p = np.sqrt(C/m)\n",
    "Pdmp = np.sqrt(np.abs(p**2 - n**2))\n",
    "x0 = 3"
   ]
  },
  {
   "cell_type": "code",
   "execution_count": null,
   "metadata": {
    "ExecuteTime": {
     "end_time": "2021-03-19T17:15:04.989858Z",
     "start_time": "2021-03-19T17:15:04.981851Z"
    }
   },
   "outputs": [],
   "source": [
    "print (n, p, Pdmp)"
   ]
  },
  {
   "cell_type": "code",
   "execution_count": null,
   "metadata": {
    "ExecuteTime": {
     "end_time": "2021-03-19T17:15:07.268952Z",
     "start_time": "2021-03-19T17:15:07.074610Z"
    }
   },
   "outputs": [],
   "source": [
    "x = x.subs('n',n)\n",
    "x = x.subs('Pdmp',Pdmp)\n",
    "x = x.subs('x0',x0)\n",
    "x"
   ]
  },
  {
   "cell_type": "code",
   "execution_count": null,
   "metadata": {
    "ExecuteTime": {
     "end_time": "2021-03-19T17:15:08.752708Z",
     "start_time": "2021-03-19T17:15:08.745868Z"
    }
   },
   "outputs": [],
   "source": [
    "def X(t):\n",
    "    rez = x.subs('t',t)\n",
    "    return rez"
   ]
  },
  {
   "cell_type": "code",
   "execution_count": null,
   "metadata": {
    "ExecuteTime": {
     "end_time": "2021-03-19T17:15:09.667021Z",
     "start_time": "2021-03-19T17:15:09.662809Z"
    }
   },
   "outputs": [],
   "source": [
    "T = np.linspace(0,20,1000)\n",
    "#print T"
   ]
  },
  {
   "cell_type": "code",
   "execution_count": null,
   "metadata": {
    "ExecuteTime": {
     "end_time": "2021-03-19T17:15:10.397515Z",
     "start_time": "2021-03-19T17:15:10.392929Z"
    }
   },
   "outputs": [],
   "source": [
    "X_v = np.vectorize(X)"
   ]
  },
  {
   "cell_type": "code",
   "execution_count": null,
   "metadata": {
    "ExecuteTime": {
     "end_time": "2021-03-19T17:15:14.222036Z",
     "start_time": "2021-03-19T17:15:11.191357Z"
    }
   },
   "outputs": [],
   "source": [
    "Y = X_v(T)"
   ]
  },
  {
   "cell_type": "code",
   "execution_count": null,
   "metadata": {
    "ExecuteTime": {
     "end_time": "2021-03-19T17:15:15.188159Z",
     "start_time": "2021-03-19T17:15:14.841129Z"
    }
   },
   "outputs": [],
   "source": [
    "plt.plot(T, Y )"
   ]
  },
  {
   "cell_type": "markdown",
   "metadata": {},
   "source": [
    "$\\;\\;\\;\\;\\;\\;\\;$ Таким образом мы получили соотношение описывающее колебания в системе с вязким демпфированием. Причем величина <br/>\n",
    "<p style = \"font-size:14pt\">\n",
    "$$\n",
    "p_{dmp} = \\sqrt{p^2 - n^2}\n",
    "$$</p>\n",
    "является <b><i>круговой частотой затухающих колебаний при демпфировании</i></b>, a соответствующий ей период равен<br/>\n",
    "<p style = \"font-size:14pt\">\n",
    "$$\n",
    "T_{dmp} = \\frac{2\\pi}{p_{dmp}} = \\frac{2\\pi}{p} \\frac{1}{\\sqrt{1 - \\frac{n^2}{p^2}}}\n",
    "$$</p>."
   ]
  },
  {
   "cell_type": "markdown",
   "metadata": {
    "slideshow": {
     "slide_type": "subslide"
    }
   },
   "source": [
    "<h1 align=\"center\" style=\"color:Blue\"><b style=\"font-size:24px\">Рассмотрим второй случай: $p_{dmp}^{2} < 0$</b></h1><br/>\n",
    "В этом случае решениями квадратного уравнения для $r$ являются два действительных корня <br/>\n",
    "<p style = \"font-size:14pt\">\n",
    "$$\n",
    "r_{1} = -n + \\sqrt{n^{2} - p^{2}}\\;\\;\\;\\;\\;\\;\\;\\;\\;\\;\\;\\;\\;\\;\\;\\;\\;\\;\\;\\;\\;\\;r_{2} = -n - \\sqrt{n^{2} - p^{2}}\n",
    "$$</p>"
   ]
  },
  {
   "cell_type": "code",
   "execution_count": null,
   "metadata": {},
   "outputs": [],
   "source": [
    "x = Function('x')\n",
    "n = Symbol('n')\n",
    "p = Symbol('p')\n",
    "r1 = Symbol('r1')\n",
    "r2 = Symbol('r2')\n",
    "A1 = Symbol('A1')\n",
    "A2 = Symbol('A2')\n",
    "\n",
    "r1 = -n + sqrt(n**2-p**2)\n",
    "r2 = -n - sqrt(n**2-p**2)\n",
    "print (r1)\n",
    "print (r2)"
   ]
  },
  {
   "cell_type": "markdown",
   "metadata": {},
   "source": [
    "$\\;\\;\\;\\;\\;\\;$ Общее решение имеет простой вид<br/>\n",
    "<p style = \"font-size:14pt\">\n",
    "$$\n",
    "x(t) = A_{1} \\cdot e^{r_{1} \\cdot t} + A_{2} \\cdot e^{r_{2} \\cdot t}\n",
    "$$</p>\n",
    "или\n",
    "<p style = \"font-size:14pt\">\n",
    "$$\n",
    "x(t) = A_{1} \\cdot e^{(-n + \\sqrt{n^{2} - p^{2}}) \\cdot t} + A_{2} \\cdot e^{(-n - \\sqrt{n^{2} - p^{2}}) \\cdot t}\n",
    "$$</p><br/>\n",
    "Константы $A_{1}$ и $A_{2}$ должны быть определяемы из начальных условий для каждой конкретной задачи."
   ]
  },
  {
   "cell_type": "code",
   "execution_count": null,
   "metadata": {},
   "outputs": [],
   "source": [
    "x=A1*exp(r1*t) + A2*exp(r2*t)\n",
    "x"
   ]
  },
  {
   "cell_type": "markdown",
   "metadata": {},
   "source": [
    "<h1 align=\"center\" style=\"color:Blue\"><b style=\"font-size:24px\">Пример</b></h1><br/>\n",
    "$\\;\\;\\;\\;\\;$ Пусть в начальный момент времени систему вывели из положения равновесия и отпустили без дополнительной скорости, т.е. начальные условия имеют вид \n",
    "<p style = \"font-size:14pt\">\n",
    "$$\n",
    "x(0) = x_{0}\\;\\;\\;\\;\\;\\;\\;\\;\\;\\;\\;\\;\\;\\;\\;\\;\\;\\;\\; \\dot{x}(0) = 0\n",
    "$$</p>"
   ]
  },
  {
   "cell_type": "code",
   "execution_count": null,
   "metadata": {},
   "outputs": [],
   "source": [
    "x0 = Symbol('x0')\n",
    "NU1 = x.subs(t,0)\n",
    "NU1 = Eq(NU1,x0)\n",
    "NU1"
   ]
  },
  {
   "cell_type": "code",
   "execution_count": null,
   "metadata": {},
   "outputs": [],
   "source": [
    "NU2p = x.diff(t)\n",
    "NU2p = NU2p.subs(t,0)\n",
    "NU2 = Eq(NU2p,0)\n",
    "NU2"
   ]
  },
  {
   "cell_type": "code",
   "execution_count": null,
   "metadata": {},
   "outputs": [],
   "source": [
    "sol2 = solve((NU1,NU2),(A1,A2))\n",
    "sol2"
   ]
  },
  {
   "cell_type": "code",
   "execution_count": null,
   "metadata": {},
   "outputs": [],
   "source": [
    "x = x.subs(A1,sol2[A1])\n",
    "x = x.subs(A2,sol2[A2])\n",
    "x = simplify(x)\n",
    "#print (x)\n",
    "print(latex(x))"
   ]
  },
  {
   "cell_type": "markdown",
   "metadata": {},
   "source": [
    "<p style = \"font-size:14pt\">\n",
    "$$\n",
    "\\frac{x_{0} \\left(\\left(- n + \\sqrt{n^{2} - p^{2}}\\right) e^{t \\left(n - \\sqrt{n^{2} - p^{2}}\\right)} + \\left(n + \\sqrt{n^{2} - p^{2}}\\right) e^{t \\left(n + \\sqrt{n^{2} - p^{2}}\\right)}\\right) e^{- 2 n t}}{2 \\sqrt{n^{2} - p^{2}}}\n",
    "$$</p>"
   ]
  },
  {
   "cell_type": "markdown",
   "metadata": {},
   "source": [
    "Зададим конкретные параметры:<br/>\n",
    "$$\\\n",
    "m = 10 \\\\\n",
    "C = 60 \\\\\n",
    "B = 100 \\\\\n",
    "x_{0} = 3\n",
    "$$"
   ]
  },
  {
   "cell_type": "code",
   "execution_count": null,
   "metadata": {},
   "outputs": [],
   "source": [
    "# Исходные Данные\n",
    "m = 10\n",
    "C = 60\n",
    "B = 100\n",
    "n = np.sqrt(B/m)\n",
    "p = np.sqrt(C/m)\n",
    "x0 = 3\n",
    "x = x.subs('x0',x0)\n",
    "x = x.subs('n',n)\n",
    "x = x.subs('p',p)\n",
    "x"
   ]
  },
  {
   "cell_type": "code",
   "execution_count": null,
   "metadata": {},
   "outputs": [],
   "source": [
    "T = np.linspace(0,20,10000)\n",
    "#T"
   ]
  },
  {
   "cell_type": "code",
   "execution_count": null,
   "metadata": {},
   "outputs": [],
   "source": [
    "def X2(t):\n",
    "    rez = x.subs('t',t)\n",
    "    return rez"
   ]
  },
  {
   "cell_type": "code",
   "execution_count": null,
   "metadata": {},
   "outputs": [],
   "source": [
    "X2_v = np.vectorize(X2)"
   ]
  },
  {
   "cell_type": "code",
   "execution_count": null,
   "metadata": {},
   "outputs": [],
   "source": [
    "Y2 = X2_v(T)"
   ]
  },
  {
   "cell_type": "code",
   "execution_count": null,
   "metadata": {},
   "outputs": [],
   "source": [
    "plt.plot(T,Y2)"
   ]
  },
  {
   "cell_type": "code",
   "execution_count": null,
   "metadata": {},
   "outputs": [],
   "source": []
  },
  {
   "cell_type": "markdown",
   "metadata": {},
   "source": [
    "# Пример применения быстрого преобразования Фурье\n",
    "\n",
    "Рассмотрим гармаонические колебания с частотой $\\; \\omega = 2 \\cdot pi \\cdot f \\;$, где $f$ - частота в Гц. И начальной фазой $\\; \\varphi = 0.0$\n",
    "\n",
    "Для суммы трех гармонических составляющих имеем\n",
    "$$\n",
    "    f(t) = cos \\left( \\omega_{1}t +\\varphi \\right) + sin \\left( \\omega_{2}t +\\varphi \\right) + cos \\left( \\omega_{3}t +\\varphi \\right)\n",
    "$$\n",
    "\n",
    "\n"
   ]
  },
  {
   "cell_type": "code",
   "execution_count": null,
   "metadata": {
    "ExecuteTime": {
     "end_time": "2021-03-26T13:38:59.515906Z",
     "start_time": "2021-03-26T13:38:53.998083Z"
    }
   },
   "outputs": [],
   "source": [
    "import numpy as np\n",
    "import scipy as sp\n",
    "from scipy import interpolate\n",
    "import pandas as pd\n",
    "import os, sys, glob\n",
    "import matplotlib.pyplot as plt\n",
    "from scipy.fftpack import *\n",
    "%matplotlib inline"
   ]
  },
  {
   "cell_type": "code",
   "execution_count": null,
   "metadata": {
    "ExecuteTime": {
     "end_time": "2021-03-26T13:39:00.910538Z",
     "start_time": "2021-03-26T13:39:00.650259Z"
    }
   },
   "outputs": [],
   "source": [
    "f = np.array([25, 500, 1000]) #Гц\n",
    "tn = 0\n",
    "tk = 100\n",
    "fs = 100*f.min()\n",
    "Np = (tk - tn)*fs\n",
    "t = np.linspace(tn, tk, Np)\n",
    "T = 1.0/f\n",
    "omega = 2*np.pi*f\n",
    "phi = 0.0\n",
    "func = np.cos(omega[0]*t + phi) + np.sin(omega[1]*t + phi) + np.cos(omega[2]*t + phi)\n",
    "func_1pr = np.diff(func,1)\n",
    "func_2pr = np.diff(func,2)"
   ]
  },
  {
   "cell_type": "code",
   "execution_count": null,
   "metadata": {
    "ExecuteTime": {
     "end_time": "2021-03-26T13:39:38.540987Z",
     "start_time": "2021-03-26T13:39:37.425779Z"
    }
   },
   "outputs": [],
   "source": [
    "# строим график\n",
    "plt.figure(figsize=(16,8))  \n",
    "plt.grid(True)\n",
    "plt.plot(t[:200],func[:200])"
   ]
  },
  {
   "cell_type": "code",
   "execution_count": null,
   "metadata": {
    "ExecuteTime": {
     "end_time": "2021-03-26T13:40:21.317770Z",
     "start_time": "2021-03-26T13:40:20.350504Z"
    }
   },
   "outputs": [],
   "source": [
    "# строим график\n",
    "plt.figure(figsize=(16,8))  \n",
    "plt.grid(True)\n",
    "plt.plot(t[:200],func_1pr[:200],'g')"
   ]
  },
  {
   "cell_type": "code",
   "execution_count": null,
   "metadata": {
    "ExecuteTime": {
     "end_time": "2021-03-26T13:40:36.481586Z",
     "start_time": "2021-03-26T13:40:35.630093Z"
    }
   },
   "outputs": [],
   "source": [
    "# строим график\n",
    "plt.figure(figsize=(16,8))  \n",
    "plt.grid(True)\n",
    "plt.plot(t[:200],func_2pr[:200],'r')"
   ]
  },
  {
   "cell_type": "code",
   "execution_count": null,
   "metadata": {
    "ExecuteTime": {
     "end_time": "2021-03-26T13:41:36.509901Z",
     "start_time": "2021-03-26T13:41:36.482007Z"
    }
   },
   "outputs": [],
   "source": [
    "# Стром масив преобразования Фурье от функции перемещений\n",
    "s = np.fft.rfft(func)"
   ]
  },
  {
   "cell_type": "code",
   "execution_count": null,
   "metadata": {
    "ExecuteTime": {
     "end_time": "2021-03-26T13:42:02.605402Z",
     "start_time": "2021-03-26T13:42:02.591139Z"
    }
   },
   "outputs": [],
   "source": [
    "# Стром масив модулей от преобразования Фурье\n",
    "ms = abs(s)"
   ]
  },
  {
   "cell_type": "code",
   "execution_count": null,
   "metadata": {
    "ExecuteTime": {
     "end_time": "2021-03-26T13:42:29.589055Z",
     "start_time": "2021-03-26T13:42:28.727273Z"
    }
   },
   "outputs": [],
   "source": [
    "# строим график\n",
    "N = 0\n",
    "K = len(ms)\n",
    "plt.figure(figsize=(16,8))  \n",
    "#plt.xticks(np.arange(s[N:K].imag.min(),s[N:K].imag.max(),1))\n",
    "plt.grid(True)\n",
    "plt.plot(ms[N:K])"
   ]
  },
  {
   "cell_type": "code",
   "execution_count": null,
   "metadata": {
    "ExecuteTime": {
     "end_time": "2021-03-26T13:45:32.164361Z",
     "start_time": "2021-03-26T13:45:32.150712Z"
    }
   },
   "outputs": [],
   "source": [
    "# Находим максимальный элемент массива\n",
    "# Первый участок от 1 до 10000\n",
    "N = 1\n",
    "K = 10000\n",
    "ms_max = ms[N:K].max()\n",
    "ms_max"
   ]
  },
  {
   "cell_type": "code",
   "execution_count": null,
   "metadata": {
    "ExecuteTime": {
     "end_time": "2021-03-26T13:46:04.782288Z",
     "start_time": "2021-03-26T13:46:04.775955Z"
    }
   },
   "outputs": [],
   "source": [
    "# Опредеяем индекс этого элемента в массиве значений преобразования Фурье\n",
    "k = np.where(ms==ms_max)[0][0]\n",
    "k"
   ]
  },
  {
   "cell_type": "code",
   "execution_count": null,
   "metadata": {
    "ExecuteTime": {
     "end_time": "2021-03-26T13:47:10.489245Z",
     "start_time": "2021-03-26T13:47:10.481052Z"
    }
   },
   "outputs": [],
   "source": [
    "# Зная fs - частотy точек на единицу времени и Np - число точек интерполяции, \n",
    "# можно приближенно определить основную (наименьшую) частоту колебаний системы в герцах\n",
    "F = np.round(k*fs/Np, decimals=4) # Гц\n",
    "F"
   ]
  },
  {
   "cell_type": "markdown",
   "metadata": {},
   "source": [
    "Получили 25.0 Гц, что совпадает с первой частотой из исходных данных."
   ]
  },
  {
   "cell_type": "code",
   "execution_count": null,
   "metadata": {
    "ExecuteTime": {
     "end_time": "2021-03-26T13:49:42.512708Z",
     "start_time": "2021-03-26T13:49:42.493737Z"
    }
   },
   "outputs": [],
   "source": [
    "# Находим максимальный элемент массива\n",
    "# Второйй участок от 40000 до 60000\n",
    "N = 40000\n",
    "K = 60000\n",
    "ms_max = ms[N:K].max()\n",
    "ms_max"
   ]
  },
  {
   "cell_type": "code",
   "execution_count": null,
   "metadata": {
    "ExecuteTime": {
     "end_time": "2021-03-26T13:49:58.770015Z",
     "start_time": "2021-03-26T13:49:58.761265Z"
    }
   },
   "outputs": [],
   "source": [
    "# Опредеяем индекс этого элемента в массиве значений преобразования Фурье\n",
    "k = np.where(ms==ms_max)[0][0]\n",
    "k"
   ]
  },
  {
   "cell_type": "code",
   "execution_count": null,
   "metadata": {
    "ExecuteTime": {
     "end_time": "2021-03-26T13:50:23.095794Z",
     "start_time": "2021-03-26T13:50:23.084147Z"
    }
   },
   "outputs": [],
   "source": [
    "# Зная fs - частота точек на единицу времени и Np - число точек интерполяции, \n",
    "# можно приближенно определить частоту колебаний системы в герцах\n",
    "F = np.round(k*fs/Np, decimals=4) # Гц\n",
    "F"
   ]
  },
  {
   "cell_type": "code",
   "execution_count": null,
   "metadata": {
    "ExecuteTime": {
     "end_time": "2021-03-26T13:50:43.522675Z",
     "start_time": "2021-03-26T13:50:43.513227Z"
    }
   },
   "outputs": [],
   "source": [
    "# Находим максимальный элемент массива\n",
    "# Второйй участок от 40000 до 60000\n",
    "N = 90000\n",
    "K = 110000\n",
    "ms_max = ms[N:K].max()\n",
    "ms_max"
   ]
  },
  {
   "cell_type": "code",
   "execution_count": null,
   "metadata": {
    "ExecuteTime": {
     "end_time": "2021-03-26T13:50:44.970501Z",
     "start_time": "2021-03-26T13:50:44.958291Z"
    }
   },
   "outputs": [],
   "source": [
    "# Опредеяем индекс этого элемента в массиве значений преобразования Фурье\n",
    "k = np.where(ms==ms_max)[0][0]\n",
    "k"
   ]
  },
  {
   "cell_type": "code",
   "execution_count": null,
   "metadata": {
    "ExecuteTime": {
     "end_time": "2021-03-26T13:50:49.468135Z",
     "start_time": "2021-03-26T13:50:49.460506Z"
    }
   },
   "outputs": [],
   "source": [
    "# Зная fs - частота точек на единицу времени и Np - число точек интерполяции, \n",
    "# можно приближенно определить частоту колебаний системы в герцах\n",
    "F = np.round(k*fs/Np, decimals=4) # Гц\n",
    "F"
   ]
  },
  {
   "cell_type": "code",
   "execution_count": null,
   "metadata": {
    "ExecuteTime": {
     "end_time": "2021-03-26T13:51:16.899317Z",
     "start_time": "2021-03-26T13:51:16.887921Z"
    }
   },
   "outputs": [],
   "source": [
    "from scipy import signal \n",
    "signal.find_peaks(ms) "
   ]
  },
  {
   "cell_type": "markdown",
   "metadata": {},
   "source": [
    "# Функция Вейерштрасса-Мандельброта\n",
    "\n",
    "В качестве примера фрактальной кривой рассмотрим функцию **Вейерштрасса-Мандельброта** \n",
    "\n",
    "\n",
    "$$\n",
    "    W(t) = \\sum\\limits_{n=-\\infty}^{+\\infty} \\frac{\\left(  1 - e^{ib^{n}t}  \\right)e^{i\\varphi_{n}}}{b^{(2 -D)n}}\n",
    "$$\n",
    "\n",
    "где прареметр $D$ принимает значения в диапазоне $1<D<2$, $\\varphi_{n}$ - произвольная фаза, причем разные фазы порождают разные функции (тривиалный случай - нулевая фаза), $b$ - параметр определяющий какая часть кривой видна.\n",
    "\n",
    "Косинусной фрактальной функцией **Вейерштрасса-Мандельброта** называют \n",
    "\n",
    "\n",
    "$$\n",
    "    С(t) = Re(W(t)) = \\sum\\limits_{n=-\\infty}^{+\\infty} \\frac{\\left(  1 - cos \\; b^{n}t \\right)}{b^{(2 -D)n}}\n",
    "$$\n",
    "\n",
    " "
   ]
  },
  {
   "cell_type": "code",
   "execution_count": null,
   "metadata": {
    "ExecuteTime": {
     "end_time": "2021-03-26T13:56:54.417841Z",
     "start_time": "2021-03-26T13:56:54.408142Z"
    }
   },
   "outputs": [],
   "source": [
    "def C(t,b=1.5,D=1.5,N=50):\n",
    "    n = np.arange(-N,N+1, dtype=float) \n",
    "    #print(n)\n",
    "    return ((1 - np.cos(t*b**n))/(b**((2 - D)*n))).sum() \n",
    "\n",
    "C_v = np.vectorize(C)"
   ]
  },
  {
   "cell_type": "code",
   "execution_count": null,
   "metadata": {
    "ExecuteTime": {
     "end_time": "2021-03-26T13:56:56.560829Z",
     "start_time": "2021-03-26T13:56:56.556560Z"
    }
   },
   "outputs": [],
   "source": [
    "t = np.linspace(0,100,10000)"
   ]
  },
  {
   "cell_type": "code",
   "execution_count": null,
   "metadata": {
    "ExecuteTime": {
     "end_time": "2021-03-26T13:57:04.882727Z",
     "start_time": "2021-03-26T13:57:04.224709Z"
    }
   },
   "outputs": [],
   "source": [
    "C_v(t)"
   ]
  },
  {
   "cell_type": "code",
   "execution_count": null,
   "metadata": {
    "ExecuteTime": {
     "end_time": "2021-03-26T14:00:59.721302Z",
     "start_time": "2021-03-26T14:00:58.505887Z"
    }
   },
   "outputs": [],
   "source": [
    "plt.plot(t,C_v(t,D=1.75))"
   ]
  },
  {
   "cell_type": "code",
   "execution_count": null,
   "metadata": {
    "ExecuteTime": {
     "end_time": "2021-03-26T14:01:59.275163Z",
     "start_time": "2021-03-26T14:01:58.471889Z"
    }
   },
   "outputs": [],
   "source": [
    "func = C_v(t,D=1.8)[1000:-1000]\n",
    "t2 = t[1000:-1000]"
   ]
  },
  {
   "cell_type": "code",
   "execution_count": null,
   "metadata": {
    "ExecuteTime": {
     "end_time": "2021-03-26T14:02:04.170675Z",
     "start_time": "2021-03-26T14:02:04.155294Z"
    }
   },
   "outputs": [],
   "source": [
    "func.size"
   ]
  },
  {
   "cell_type": "code",
   "execution_count": null,
   "metadata": {
    "ExecuteTime": {
     "end_time": "2021-03-26T14:02:27.728201Z",
     "start_time": "2021-03-26T14:02:27.171965Z"
    }
   },
   "outputs": [],
   "source": [
    "plt.plot(t2,func)"
   ]
  },
  {
   "cell_type": "code",
   "execution_count": null,
   "metadata": {
    "ExecuteTime": {
     "end_time": "2021-03-26T14:03:06.177687Z",
     "start_time": "2021-03-26T14:03:06.171520Z"
    }
   },
   "outputs": [],
   "source": [
    "# Стром масив преобразования Фурье от функции \n",
    "s = np.fft.rfft(func)"
   ]
  },
  {
   "cell_type": "code",
   "execution_count": null,
   "metadata": {
    "ExecuteTime": {
     "end_time": "2021-03-26T14:03:10.311766Z",
     "start_time": "2021-03-26T14:03:10.301904Z"
    }
   },
   "outputs": [],
   "source": [
    "# Стром масив модулей от преобразования Фурье\n",
    "ms = abs(s)"
   ]
  },
  {
   "cell_type": "code",
   "execution_count": null,
   "metadata": {
    "ExecuteTime": {
     "end_time": "2021-03-26T14:04:08.170773Z",
     "start_time": "2021-03-26T14:04:07.387739Z"
    }
   },
   "outputs": [],
   "source": [
    "# строим график\n",
    "N = 10\n",
    "K = -10\n",
    "plt.figure(figsize=(16,8))  \n",
    "plt.grid(True)\n",
    "plt.plot(ms[N:K])\n"
   ]
  },
  {
   "cell_type": "code",
   "execution_count": null,
   "metadata": {
    "ExecuteTime": {
     "end_time": "2021-03-26T14:04:49.462766Z",
     "start_time": "2021-03-26T14:04:49.451176Z"
    }
   },
   "outputs": [],
   "source": [
    "signal.find_peaks(ms) "
   ]
  },
  {
   "cell_type": "markdown",
   "metadata": {},
   "source": [
    "# Необходимо установить пакет Plotly"
   ]
  },
  {
   "cell_type": "code",
   "execution_count": null,
   "metadata": {},
   "outputs": [],
   "source": []
  },
  {
   "cell_type": "code",
   "execution_count": null,
   "metadata": {
    "ExecuteTime": {
     "end_time": "2021-03-26T10:12:31.963308Z",
     "start_time": "2021-03-26T10:12:31.956538Z"
    }
   },
   "outputs": [],
   "source": [
    "#%run -m pip install plotly "
   ]
  },
  {
   "cell_type": "code",
   "execution_count": null,
   "metadata": {
    "ExecuteTime": {
     "end_time": "2021-03-26T14:10:32.483924Z",
     "start_time": "2021-03-26T14:10:32.042218Z"
    }
   },
   "outputs": [],
   "source": [
    "import numpy as np\n",
    "from scipy.integrate import odeint\n",
    "import plotly.graph_objects as go\n"
   ]
  },
  {
   "cell_type": "markdown",
   "metadata": {},
   "source": [
    "# Аттрактор Лоренца № 1"
   ]
  },
  {
   "cell_type": "code",
   "execution_count": null,
   "metadata": {
    "ExecuteTime": {
     "end_time": "2021-03-26T14:11:49.030970Z",
     "start_time": "2021-03-26T14:11:49.017063Z"
    }
   },
   "outputs": [],
   "source": [
    "# Система уравнений:\n",
    "def Lorenz_1(XYZ, t, alpha, beta, xi, delta):\n",
    "    x, y, z = XYZ\n",
    "    x_dt = -alpha*x + y*y - z*z + alpha*xi\n",
    "    y_dt = x*(y - beta*z) + delta\n",
    "    z_dt = -z + x*(beta*y + z)\n",
    "    return x_dt, y_dt, z_dt\n"
   ]
  },
  {
   "cell_type": "code",
   "execution_count": null,
   "metadata": {
    "ExecuteTime": {
     "end_time": "2021-03-26T14:13:17.209478Z",
     "start_time": "2021-03-26T14:13:17.201656Z"
    }
   },
   "outputs": [],
   "source": [
    "# Параметры системы и начальные условия:\n",
    "alpha = 0.1\n",
    "beta = 4\n",
    "xi = 14\n",
    "delta = 0.08\n",
    "\n",
    "x_0, y_0, z_0 = 0, 1, 0\n",
    "\n",
    "# Максимальное время и общее количество\n",
    "# временных точек:\n",
    "tmax, n = 100, 50000\n"
   ]
  },
  {
   "cell_type": "code",
   "execution_count": null,
   "metadata": {
    "ExecuteTime": {
     "end_time": "2021-03-26T14:14:46.262544Z",
     "start_time": "2021-03-26T14:14:45.929488Z"
    }
   },
   "outputs": [],
   "source": [
    "# Интегрируем систему уравнений\n",
    "t = np.linspace(0, tmax, n)\n",
    "f = odeint(Lorenz_1, (x_0, y_0, z_0), t, args=(alpha, beta, xi, delta))\n",
    "\n",
    "X, Y, Z = f.T\n",
    "X1, Y1, Z1 = f.T\n"
   ]
  },
  {
   "cell_type": "code",
   "execution_count": null,
   "metadata": {
    "ExecuteTime": {
     "end_time": "2021-03-26T14:21:52.666746Z",
     "start_time": "2021-03-26T14:21:52.655706Z"
    }
   },
   "outputs": [],
   "source": [
    "# Массив, отвечающий за изменение цвета:\n",
    "c = np.linspace(0, 1, n)\n",
    "\n",
    "# Готовим данные для отрисовки:\n",
    "DATA = go.Scatter3d(x=X, y=Y, z=Z,\n",
    "                    line=dict(color= c,\n",
    "                              width=3,\n",
    "                              # Выбираем цветовую палитру:\n",
    "                              # Greys,YlGnBu,Greens,YlOrRd,Bluered,RdBu,\n",
    "                              # Reds,Blues,Picnic,Rainbow,Portland,Jet,\n",
    "                              # Hot,Blackbody,Earth,Electric,Viridis,Cividis.\n",
    "                              colorscale=\"Rainbow\"),\n",
    "                    #  Рисуем только линии:\n",
    "                    mode='lines')\n"
   ]
  },
  {
   "cell_type": "code",
   "execution_count": null,
   "metadata": {
    "ExecuteTime": {
     "end_time": "2021-03-26T14:21:57.242070Z",
     "start_time": "2021-03-26T14:21:55.154446Z"
    }
   },
   "outputs": [],
   "source": [
    "fig = go.Figure(data=DATA)    \n",
    "\n",
    "# Задаем параметры отрисовки:\n",
    "fig.update_layout(width=1000, height=1000,\n",
    "                  margin=dict(r=10, l=10, b=10, t=10),\n",
    "                  # Устанавливаем цвет фона:\n",
    "                  paper_bgcolor='rgb(255,255,255)',\n",
    "                  scene=dict(camera=dict(up=dict(x=0, y=0, z=1),\n",
    "                                         eye=dict(x=0, y=1, z=1)),\n",
    "                             # Устанавливаем пропорциональное\n",
    "                             # соотношение осей друг к другу:\n",
    "                             aspectratio = dict(x=1, y=1, z=1),\n",
    "                             # Отображаем, как указано в \"aspectratio\"\n",
    "                             aspectmode = 'manual',\n",
    "                             # Скрываем оси:\n",
    "                             xaxis=dict(visible=False),\n",
    "                             yaxis=dict(visible=False),\n",
    "                             zaxis=dict(visible=False)\n",
    "                            )\n",
    "                 )\n",
    "\n",
    "\n",
    "fig.show()"
   ]
  },
  {
   "cell_type": "markdown",
   "metadata": {},
   "source": [
    "# Аттрактор Лоренца № 2"
   ]
  },
  {
   "cell_type": "code",
   "execution_count": null,
   "metadata": {
    "ExecuteTime": {
     "end_time": "2021-03-26T14:26:30.664167Z",
     "start_time": "2021-03-26T14:26:27.857373Z"
    }
   },
   "outputs": [],
   "source": [
    "# Система уравнений:\n",
    "def Lorenz_2(XYZ, t, alpha, beta, xi, delta):\n",
    "    x, y, z = XYZ\n",
    "    x_dt = -alpha*x + y**2 -z**2 + alpha*xi\n",
    "    y_dt = x*(y - beta*z) + delta\n",
    "    z_dt = -z + x*(beta*y + z)\n",
    "    return x_dt, y_dt, z_dt\n",
    "\n",
    "# Параметры системы и начальные условия:\n",
    "alpha = 0.9\n",
    "beta = 5\n",
    "xi = 9.9\n",
    "delta = 1\n",
    "\n",
    "x_0, y_0, z_0 = 5, 5, 5\n",
    "\n",
    "# Максимальное время и общее количество\n",
    "# временных точек:\n",
    "tmax, n = 50, 50000\n",
    "\n",
    "# Интегрируем систему уравнений в каждой точке\n",
    "# временного интервала t:\n",
    "t = np.linspace(0, tmax, n)\n",
    "f = odeint(Lorenz_2, (x_0, y_0, z_0), t,\n",
    "           args=(alpha, beta, xi, delta))\n",
    "\n",
    "X, Y, Z = f.T\n",
    "X2, Y2, Z2 = f.T\n",
    "\n",
    "# Массив, отвечающий за изменение цвета:\n",
    "c = np.linspace(0, 1, n)\n",
    "\n",
    "# Готовим данные для отрисовки:\n",
    "DATA = go.Scatter3d(x=X, y=Y, z=Z,\n",
    "                    line=dict(color= c,\n",
    "                              width=3,\n",
    "                              # Выбираем цветовую палитру:\n",
    "                              # Greys,YlGnBu,Greens,YlOrRd,Bluered,RdBu,\n",
    "                              # Reds,Blues,Picnic,Rainbow,Portland,Jet,\n",
    "                              # Hot,Blackbody,Earth,Electric,Viridis,Cividis.\n",
    "                              colorscale=\"Cividis\"),\n",
    "                    #  Рисуем только линии:\n",
    "                    mode='lines')\n",
    "\n",
    "fig = go.Figure(data=DATA)    \n",
    "\n",
    "# Задаем параметры отрисовки:\n",
    "fig.update_layout(width=1000, height=1000,\n",
    "                  margin=dict(r=10, l=10, b=10, t=10),\n",
    "                  # Устанавливаем цвет фона:\n",
    "                  paper_bgcolor='rgb(255,255,255)',\n",
    "                  scene=dict(camera=dict(up=dict(x=0, y=0, z=1),\n",
    "                                         eye=dict(x=0, y=1, z=1)),\n",
    "                             # Устанавливаем пропорциональное\n",
    "                             # соотношение осей друг к другу:\n",
    "                             aspectratio = dict(x=1, y=1, z=1),\n",
    "                             # Отображаем, как указано в \"aspectratio\"\n",
    "                             aspectmode = 'manual',\n",
    "                             # Скрываем оси:\n",
    "                             xaxis=dict(visible=False),\n",
    "                             yaxis=dict(visible=False),\n",
    "                             zaxis=dict(visible=False)\n",
    "                            )\n",
    "                 )\n",
    "\n",
    "\n",
    "fig.show()\n"
   ]
  },
  {
   "cell_type": "markdown",
   "metadata": {},
   "source": [
    "# Аттрактор Дикуан Ли"
   ]
  },
  {
   "cell_type": "code",
   "execution_count": null,
   "metadata": {
    "ExecuteTime": {
     "end_time": "2021-03-26T14:29:24.720598Z",
     "start_time": "2021-03-26T14:29:21.129285Z"
    }
   },
   "outputs": [],
   "source": [
    "# Система уравнений:\n",
    "def DequanLi(XYZ, t, alpha, beta, delta, epsilon, rho, xi):\n",
    "    x, y, z = XYZ\n",
    "    x_dt = alpha*(y - x) + delta*x*z\n",
    "    y_dt = rho*x + xi*y -x*z\n",
    "    z_dt = beta*z + x*y  - epsilon*x*x\n",
    "    return x_dt, y_dt, z_dt\n",
    "\n",
    "# Параметры системы и начальные условия:\n",
    "alpha = 40\n",
    "beta = 1.833\n",
    "delta = 0.16\n",
    "epsilon = 0.65\n",
    "rho = 55\n",
    "xi = 20\n",
    "\n",
    "x_0, y_0, z_0 = 0.01, 0, 0\n",
    "\n",
    "# Максимальное время и общее количество\n",
    "# временных точек:\n",
    "tmax, n = 50, 40000\n",
    "\n",
    "# Интегрируем систему уравнений в каждой точке\n",
    "# временного интервала t:\n",
    "t = np.linspace(0, tmax, n)\n",
    "f = odeint(DequanLi, (x_0, y_0, z_0), t,\n",
    "           args=(alpha, beta, delta, epsilon, rho, xi))\n",
    "\n",
    "X, Y, Z = f.T\n",
    "X3, Y3, Z3 = f.T\n",
    "\n",
    "# Массив, отвечающий за изменение цвета:\n",
    "c = np.linspace(0, 1, n)\n",
    "\n",
    "# Готовим данные для отрисовки:\n",
    "DATA = go.Scatter3d(x=X, y=Y, z=Z,\n",
    "                    line=dict(color= c,\n",
    "                              width=3,\n",
    "                              # Выбираем цветовую палитру:\n",
    "                              # Greys,YlGnBu,Greens,YlOrRd,Bluered,RdBu,\n",
    "                              # Reds,Blues,Picnic,Rainbow,Portland,Jet,\n",
    "                              # Hot,Blackbody,Earth,Electric,Viridis,Cividis.\n",
    "                              colorscale=\"Cividis\"),\n",
    "                    #  Рисуем только линии:\n",
    "                    mode='lines')\n",
    "\n",
    "fig = go.Figure(data=DATA)    \n",
    "\n",
    "# Задаем параметры отрисовки:\n",
    "fig.update_layout(width=1000, height=1000,\n",
    "                  margin=dict(r=10, l=10, b=10, t=10),\n",
    "                  # Устанавливаем цвет фона:\n",
    "                  paper_bgcolor='rgb(255,255,255)',\n",
    "                  scene=dict(camera=dict(up=dict(x=0, y=0, z=1),\n",
    "                                         eye=dict(x=0, y=1, z=1)),\n",
    "                             # Устанавливаем пропорциональное\n",
    "                             # соотношение осей друг к другу:\n",
    "                             aspectratio = dict(x=1, y=1, z=1),\n",
    "                             # Отображаем, как указано в \"aspectratio\"\n",
    "                             aspectmode = 'manual',\n",
    "                             # Скрываем оси:\n",
    "                             xaxis=dict(visible=False),\n",
    "                             yaxis=dict(visible=False),\n",
    "                             zaxis=dict(visible=False)\n",
    "                            )\n",
    "                 )\n",
    "\n",
    "fig.show()\n"
   ]
  },
  {
   "cell_type": "markdown",
   "metadata": {},
   "source": [
    "# Аттрактор Three-Scroll Unified Chaotic System (TSUCS1)"
   ]
  },
  {
   "cell_type": "code",
   "execution_count": null,
   "metadata": {
    "ExecuteTime": {
     "end_time": "2021-03-26T14:32:35.524922Z",
     "start_time": "2021-03-26T14:32:32.762147Z"
    }
   },
   "outputs": [],
   "source": [
    "# Система уравнений:\n",
    "def TSUCS1(XYZ, t, alpha, beta, delta, epsilon, xi):\n",
    "    x, y, z = XYZ\n",
    "    x_dt = alpha*(y - x) + delta*x*z\n",
    "    y_dt = xi*y - x*z\n",
    "    z_dt = beta*z + x*y  - epsilon*x*x\n",
    "    return x_dt, y_dt, z_dt\n",
    "\n",
    "# Параметры системы и начальные условия:\n",
    "alpha = 40\n",
    "beta = 0.833\n",
    "delta = 0.5\n",
    "epsilon = 0.65\n",
    "xi = 20\n",
    "\n",
    "x_0, y_0, z_0 = 0.01, 0, 0\n",
    "\n",
    "# Максимальное время и общее количество\n",
    "# временных точек:\n",
    "tmax, n = 70, 50000\n",
    "\n",
    "# Интегрируем систему уравнений в каждой точке\n",
    "# временного интервала t:\n",
    "t = np.linspace(0, tmax, n)\n",
    "f = odeint(TSUCS1, (x_0, y_0, z_0), t,\n",
    "           args=(alpha, beta, delta, epsilon, xi))\n",
    "\n",
    "X, Y, Z = f.T\n",
    "X4, Y4, Z4 = f.T\n",
    "\n",
    "# Массив, отвечающий за изменение цвета:\n",
    "c = np.linspace(0, 1, n)\n",
    "\n",
    "# Готовим данные для отрисовки:\n",
    "DATA = go.Scatter3d(x=X, y=Y, z=Z,\n",
    "                    line=dict(color= c,\n",
    "                              width=3,\n",
    "                              # Выбираем цветовую палитру:\n",
    "                              # Greys,YlGnBu,Greens,YlOrRd,Bluered,RdBu,\n",
    "                              # Reds,Blues,Picnic,Rainbow,Portland,Jet,\n",
    "                              # Hot,Blackbody,Earth,Electric,Viridis,Cividis.\n",
    "                              colorscale=\"Cividis\"),\n",
    "                    #  Рисуем только линии:\n",
    "                    mode='lines')\n",
    "\n",
    "fig = go.Figure(data=DATA)    \n",
    "\n",
    "# Задаем параметры отрисовки:\n",
    "fig.update_layout(width=1000, height=1000,\n",
    "                  margin=dict(r=10, l=10, b=10, t=10),\n",
    "                  # Устанавливаем цвет фона:\n",
    "                  paper_bgcolor='rgb(255,255,255)',\n",
    "                  scene=dict(camera=dict(up=dict(x=0, y=0, z=1),\n",
    "                                         eye=dict(x=0, y=1, z=1)),\n",
    "                             # Устанавливаем пропорциональное\n",
    "                             # соотношение осей друг к другу:\n",
    "                             aspectratio = dict(x=1, y=1, z=1),\n",
    "                             # Отображаем, как указано в \"aspectratio\"\n",
    "                             aspectmode = 'manual',\n",
    "                             # Скрываем оси:\n",
    "                             xaxis=dict(visible=False),\n",
    "                             yaxis=dict(visible=False),\n",
    "                             zaxis=dict(visible=False)\n",
    "                            )\n",
    "                 )\n",
    "\n",
    "\n",
    "fig.show()\n"
   ]
  },
  {
   "cell_type": "markdown",
   "metadata": {},
   "source": [
    "# Анимация\n",
    "К сожалению, работает не вполне корректно."
   ]
  },
  {
   "cell_type": "code",
   "execution_count": null,
   "metadata": {
    "ExecuteTime": {
     "end_time": "2021-03-26T14:40:15.531027Z",
     "start_time": "2021-03-26T14:40:06.903482Z"
    },
    "scrolled": false
   },
   "outputs": [],
   "source": [
    "import time\n",
    "\n",
    "X, Y, Z = X2, Y2, Z2\n",
    "\n",
    "N = len(X)\n",
    "xx = X[0:N:25]\n",
    "yy = Y[0:N:25]\n",
    "zz = Z[0:N:25]\n",
    "\n",
    "# Create figure\n",
    "fig = go.Figure(\n",
    "    data=[go.Scatter3d(x=X, y=X, z=Z,\n",
    "                     mode=\"lines\",\n",
    "                     line=dict(width=2, color=\"blue\")),\n",
    "          go.Scatter3d(x=X, y=Y, z=Z,\n",
    "                     mode=\"lines\",\n",
    "                     line=dict(width=2, color=\"blue\"))],\n",
    "    layout=go.Layout(\n",
    "        updatemenus=[dict(type=\"buttons\",\n",
    "                          buttons=[dict(label=\"Play\",\n",
    "                                        method=\"animate\",\n",
    "                                        args=[None, {\"frame\": {\"duration\": 0, \"redraw\": True},\n",
    "                                                     \"mode\": \"immediate\",\n",
    "                                                     \"fromcurrent\": True}]),\n",
    "                                   dict(label=\"Pause\",\n",
    "                                        method=\"animate\",\n",
    "                                        args=[None, {\"frame\": {\"duration\": 0, \"redraw\": False},\n",
    "                                              \"mode\": \"immediate\",\n",
    "                                              \"transition\": {\"duration\": 0}}])\n",
    "                                  ])\n",
    "                    ]),\n",
    "    frames=[go.Frame(\n",
    "        data=[go.Scatter3d(\n",
    "            x=[xx[k]],\n",
    "            y=[yy[k]],\n",
    "            z=[zz[k]],\n",
    "            mode=\"markers\",\n",
    "            marker=dict(color=\"green\", size=4))])\n",
    "\n",
    "        for k in range(xx.shape[0])]\n",
    ")\n",
    "\n",
    "fig.show()"
   ]
  },
  {
   "cell_type": "code",
   "execution_count": null,
   "metadata": {},
   "outputs": [],
   "source": []
  }
 ],
 "metadata": {
  "celltoolbar": "Slideshow",
  "kernelspec": {
   "display_name": "Python 3",
   "language": "python",
   "name": "python3"
  },
  "language_info": {
   "codemirror_mode": {
    "name": "ipython",
    "version": 3
   },
   "file_extension": ".py",
   "mimetype": "text/x-python",
   "name": "python",
   "nbconvert_exporter": "python",
   "pygments_lexer": "ipython3",
   "version": "3.7.3"
  },
  "latex_envs": {
   "LaTeX_envs_menu_present": true,
   "autoclose": false,
   "autocomplete": true,
   "bibliofile": "biblio.bib",
   "cite_by": "apalike",
   "current_citInitial": 1,
   "eqLabelWithNumbers": true,
   "eqNumInitial": 1,
   "hotkeys": {
    "equation": "Ctrl-E",
    "itemize": "Ctrl-I"
   },
   "labels_anchors": false,
   "latex_user_defs": false,
   "report_style_numbering": false,
   "user_envs_cfg": false
  },
  "livereveal": {
   "autolaunch": false,
   "height": 800,
   "scroll": true,
   "theme": "sky",
   "width": 1200
  }
 },
 "nbformat": 4,
 "nbformat_minor": 2
}
